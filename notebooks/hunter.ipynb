{
 "cells": [
  {
   "cell_type": "code",
   "execution_count": 1,
   "id": "afb84949-46db-48bb-8332-3f22f66836d4",
   "metadata": {},
   "outputs": [],
   "source": [
    "import hunter.actions"
   ]
  },
  {
   "cell_type": "code",
   "execution_count": 20,
   "id": "030b0d7f-1834-4824-9b9f-426c3726ac56",
   "metadata": {},
   "outputs": [],
   "source": [
    "class Transcript(hunter.actions.ColorStreamAction):\n",
    "    def __init__(self):\n",
    "        self._operands = {}\n",
    "        \n",
    "    def __call__(self, event):\n",
    "        if event.kind == \"call\":\n",
    "            print(event.locals)\n",
    "            print(dir(event.code))\n",
    "\n",
    "        if event.kind == \"return\":\n",
    "            print(event)\n",
    "\n",
    "def add(a, b):\n",
    "    return a + b"
   ]
  },
  {
   "cell_type": "code",
   "execution_count": 21,
   "id": "9be5b9ed-8c10-4607-8b53-f24ce5c70b1b",
   "metadata": {},
   "outputs": [
    {
     "name": "stderr",
     "output_type": "stream",
     "text": [
      "[...]1l4n/T/ipykernel_67183/486523029.py:13    call      => add(a=2, b=3)\n",
      "[...]1l4n/T/ipykernel_67183/486523029.py:14    line         return a + b\n",
      "[...]1l4n/T/ipykernel_67183/486523029.py:14    return    <= add: 5\n"
     ]
    }
   ],
   "source": [
    "with hunter.trace(function=\"add\", action=hunter.CallPrinter):\n",
    "    add(2, 3)"
   ]
  },
  {
   "cell_type": "code",
   "execution_count": 22,
   "id": "f364f664-2cc9-4492-9431-4a031c0fa0b9",
   "metadata": {},
   "outputs": [
    {
     "name": "stdout",
     "output_type": "stream",
     "text": [
      "{'a': 2, 'b': 3}\n",
      "['__class__', '__delattr__', '__dir__', '__doc__', '__eq__', '__format__', '__ge__', '__getattribute__', '__getstate__', '__gt__', '__hash__', '__init__', '__init_subclass__', '__le__', '__lt__', '__ne__', '__new__', '__reduce__', '__reduce_ex__', '__repr__', '__setattr__', '__sizeof__', '__str__', '__subclasshook__', '_co_code_adaptive', '_varname_from_oparg', 'co_argcount', 'co_cellvars', 'co_code', 'co_consts', 'co_exceptiontable', 'co_filename', 'co_firstlineno', 'co_flags', 'co_freevars', 'co_kwonlyargcount', 'co_lines', 'co_linetable', 'co_lnotab', 'co_name', 'co_names', 'co_nlocals', 'co_positions', 'co_posonlyargcount', 'co_qualname', 'co_stacksize', 'co_varnames', 'replace']\n",
      "<Event kind='return' function='add' module='__main__' filename='/var/folders/tl/h2xygzzn1154jzjn_n01x860001l4n/T/ipykernel_67183/486523029.py' lineno=14>\n"
     ]
    }
   ],
   "source": [
    "with hunter.trace(function=\"add\", action=Transcript()):\n",
    "    add(2, 3)"
   ]
  },
  {
   "cell_type": "code",
   "execution_count": null,
   "id": "8c857b29-4aa8-4ac7-9373-70fd1c7d4a98",
   "metadata": {},
   "outputs": [],
   "source": []
  }
 ],
 "metadata": {
  "kernelspec": {
   "display_name": "Python 3 (ipykernel)",
   "language": "python",
   "name": "python3"
  },
  "language_info": {
   "codemirror_mode": {
    "name": "ipython",
    "version": 3
   },
   "file_extension": ".py",
   "mimetype": "text/x-python",
   "name": "python",
   "nbconvert_exporter": "python",
   "pygments_lexer": "ipython3",
   "version": "3.11.4"
  }
 },
 "nbformat": 4,
 "nbformat_minor": 5
}
