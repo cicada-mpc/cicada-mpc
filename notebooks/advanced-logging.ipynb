{
 "cells": [
  {
   "cell_type": "code",
   "execution_count": 1,
   "id": "f32892c8-6004-464c-8200-51ce983ef526",
   "metadata": {
    "editable": true,
    "slideshow": {
     "slide_type": ""
    },
    "tags": []
   },
   "outputs": [
    {
     "name": "stderr",
     "output_type": "stream",
     "text": [
      "DEBUG:cicada.communicator.socket.transcript:Comm world player 0 --> player 0 BROADCAST 3\n",
      "DEBUG:cicada.communicator.socket.transcript:Comm world player 0 --> player 1 BROADCAST 3\n",
      "DEBUG:cicada.communicator.socket.transcript:Comm world player 0 <-- player 0 BROADCAST 3\n",
      "DEBUG:cicada.communicator.socket.transcript:Comm world player 1 <-- player 0 BROADCAST 3\n",
      "DEBUG:cicada.communicator.socket.transcript:Comm world player 0 --> player 2 BROADCAST 3\n",
      "DEBUG:cicada.communicator.socket.transcript:Comm world player 2 <-- player 0 BROADCAST 3\n"
     ]
    }
   ],
   "source": [
    "import logging\n",
    "\n",
    "from cicada.communicator.socket import SocketCommunicator, getLogger\n",
    "\n",
    "logging.basicConfig(level=logging.DEBUG)\n",
    "logging.getLogger(\"cicada.communicator.socket.transcript\").setLevel(logging.DEBUG)\n",
    "\n",
    "def main(communicator):\n",
    "    value = communicator.broadcast(src=0, value=3)\n",
    "\n",
    "SocketCommunicator.run(fn=main, world_size=3);"
   ]
  },
  {
   "cell_type": "code",
   "execution_count": 2,
   "id": "0650c012-c607-4ace-992e-c4d3a66c3ea2",
   "metadata": {
    "scrolled": true
   },
   "outputs": [
    {
     "name": "stdout",
     "output_type": "stream",
     "text": [
      "<--\"\"\n",
      "   Level DEBUG\n",
      "   Handler Stream <ipykernel.iostream.OutStream object at 0x103b2a740>\n",
      "     Formatter fmt='%(levelname)s:%(name)s:%(message)s' datefmt=None\n",
      "   |\n",
      "   o<--\"Comm\"\n",
      "   |   Level NOTSET so inherits level DEBUG\n",
      "   |\n",
      "   o   \"IPKernelApp\"\n",
      "   |   Level DEBUG\n",
      "   |   Propagate OFF\n",
      "   |   Handler Stream <_io.TextIOWrapper name=57 encoding='UTF-8'>\n",
      "   |     Level WARNING\n",
      "   |     Formatter <traitlets.config.application.LevelFormatter object at 0x103b3ff50>\n",
      "   |\n",
      "   o<--\"asyncio\"\n",
      "   |   Level NOTSET so inherits level DEBUG\n",
      "   |\n",
      "   o<--[cicada]\n",
      "   |   |\n",
      "   |   o<--\"cicada.communicator\"\n",
      "   |       Level WARNING\n",
      "   |       |\n",
      "   |       o<--\"cicada.communicator.socket\"\n",
      "   |           Level NOTSET so inherits level WARNING\n",
      "   |           |\n",
      "   |           o<--\"cicada.communicator.socket.transcript\"\n",
      "   |               Level DEBUG\n",
      "   |\n",
      "   o<--[concurrent]\n",
      "   |   |\n",
      "   |   o<--\"concurrent.futures\"\n",
      "   |       Level NOTSET so inherits level DEBUG\n",
      "   |\n",
      "   o<--[ipykernel]\n",
      "   |   |\n",
      "   |   o<--\"ipykernel.comm\"\n",
      "   |       Level NOTSET so inherits level DEBUG\n",
      "   |\n",
      "   o<--\"parso\"\n",
      "   |   Level WARNING\n",
      "   |   |\n",
      "   |   o<--\"parso.cache\"\n",
      "   |   |   Level NOTSET so inherits level WARNING\n",
      "   |   |\n",
      "   |   o<--[parso.python]\n",
      "   |       |\n",
      "   |       o<--\"parso.python.diff\"\n",
      "   |           Level NOTSET so inherits level WARNING\n",
      "   |\n",
      "   o<--[pkg_resources]\n",
      "   |   |\n",
      "   |   o<--[pkg_resources.extern]\n",
      "   |       |\n",
      "   |       o<--[pkg_resources.extern.packaging]\n",
      "   |           |\n",
      "   |           o<--\"pkg_resources.extern.packaging.tags\"\n",
      "   |               Level NOTSET so inherits level DEBUG\n",
      "   |\n",
      "   o<--[prompt_toolkit]\n",
      "   |   |\n",
      "   |   o<--\"prompt_toolkit.buffer\"\n",
      "   |       Level NOTSET so inherits level DEBUG\n",
      "   |\n",
      "   o<--[stack_data]\n",
      "   |   |\n",
      "   |   o<--\"stack_data.serializing\"\n",
      "   |       Level NOTSET so inherits level DEBUG\n",
      "   |\n",
      "   o<--\"tornado\"\n",
      "       Level NOTSET so inherits level DEBUG\n",
      "       Handler Stream <_io.TextIOWrapper name='<stderr>' mode='w' encoding='utf-8'>\n",
      "         Formatter fmt='%(levelname)s:%(name)s:%(message)s' datefmt=None\n",
      "       |\n",
      "       o<--\"tornado.access\"\n",
      "       |   Level NOTSET so inherits level DEBUG\n",
      "       |\n",
      "       o<--\"tornado.application\"\n",
      "       |   Level NOTSET so inherits level DEBUG\n",
      "       |\n",
      "       o<--\"tornado.general\"\n",
      "           Level NOTSET so inherits level DEBUG\n"
     ]
    }
   ],
   "source": [
    "import logging_tree\n",
    "logging_tree.printout()"
   ]
  }
 ],
 "metadata": {
  "kernelspec": {
   "display_name": "Python 3 (ipykernel)",
   "language": "python",
   "name": "python3"
  },
  "language_info": {
   "codemirror_mode": {
    "name": "ipython",
    "version": 3
   },
   "file_extension": ".py",
   "mimetype": "text/x-python",
   "name": "python",
   "nbconvert_exporter": "python",
   "pygments_lexer": "ipython3",
   "version": "3.11.4"
  }
 },
 "nbformat": 4,
 "nbformat_minor": 5
}
