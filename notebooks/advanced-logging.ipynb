{
 "cells": [
  {
   "cell_type": "code",
   "execution_count": 1,
   "id": "f32892c8-6004-464c-8200-51ce983ef526",
   "metadata": {
    "editable": true,
    "slideshow": {
     "slide_type": ""
    },
    "tags": []
   },
   "outputs": [
    {
     "name": "stderr",
     "output_type": "stream",
     "text": [
      "2023-09-06 12:17:02,428 player 1 --> 2 PRSZ 307028357620554983\n",
      "2023-09-06 12:17:02,428 player 0 --> 1 PRSZ 3409234157118374611\n",
      "2023-09-06 12:17:02,428 player 2 --> 0 PRSZ 6020001932681427856\n",
      "2023-09-06 12:17:02,430 player 1 <-- 0 PRSZ 3409234157118374611\n",
      "2023-09-06 12:17:02,430 player 2 <-- 1 PRSZ 307028357620554983\n",
      "2023-09-06 12:17:02,431 player 0 <-- 2 PRSZ 6020001932681427856\n",
      "2023-09-06 12:17:02,432 player 1 --> 0 GATHER 13707342758231923243\n",
      "2023-09-06 12:17:02,432 player 2 --> 0 GATHER 848362194938180865\n",
      "2023-09-06 12:17:02,433 player 0 --> 0 GATHER 3891039120539775129\n",
      "2023-09-06 12:17:02,434 player 1 --> 1 GATHER 13707342758231923243\n",
      "2023-09-06 12:17:02,434 player 0 <-- 1 GATHER 13707342758231923243\n",
      "2023-09-06 12:17:02,434 player 2 --> 1 GATHER 848362194938180865\n",
      "2023-09-06 12:17:02,435 player 1 <-- 1 GATHER 13707342758231923243\n",
      "2023-09-06 12:17:02,435 player 0 <-- 0 GATHER 3891039120539775129\n",
      "2023-09-06 12:17:02,435 player 2 --> 2 GATHER 848362194938180865\n",
      "2023-09-06 12:17:02,436 player 1 <-- 2 GATHER 848362194938180865\n",
      "2023-09-06 12:17:02,437 player 0 <-- 2 GATHER 848362194938180865\n",
      "2023-09-06 12:17:02,437 player 2 <-- 2 GATHER 848362194938180865\n",
      "2023-09-06 12:17:02,438 player 0 --> 1 GATHER 3891039120539775129\n",
      "2023-09-06 12:17:02,439 player 0 --> 2 GATHER 3891039120539775129\n",
      "2023-09-06 12:17:02,439 player 1 <-- 0 GATHER 3891039120539775129\n",
      "2023-09-06 12:17:02,440 player 2 <-- 0 GATHER 3891039120539775129\n",
      "2023-09-06 12:17:02,440 player 1 --> 2 GATHER 13707342758231923243\n",
      "2023-09-06 12:17:02,442 player 2 <-- 1 GATHER 13707342758231923243\n"
     ]
    }
   ],
   "source": [
    "import logging\n",
    "\n",
    "import numpy\n",
    "\n",
    "from cicada.additive import AdditiveProtocolSuite\n",
    "from cicada.communicator import SocketCommunicator\n",
    "from cicada.logging import Logger\n",
    "\n",
    "logging.basicConfig(level=logging.DEBUG, format=\"{asctime} player {rank} {arrow} {other} {tag} {payload}\", style=\"{\")\n",
    "logging.getLogger(\"cicada.communicator.socket.transcript\").setLevel(logging.DEBUG)\n",
    "\n",
    "def main(communicator):\n",
    "    log = Logger(logging.getLogger(), communicator)\n",
    "    protocol = AdditiveProtocolSuite(communicator)\n",
    "    a_share = protocol.share(src=0, secret=numpy.array(2), shape=())\n",
    "    b_share = protocol.share(src=1, secret=numpy.array(3), shape=())\n",
    "    c_share = protocol.add(a_share, b_share)\n",
    "    c = protocol.reveal(c_share)\n",
    "    \n",
    "SocketCommunicator.run(fn=main, world_size=3);"
   ]
  }
 ],
 "metadata": {
  "kernelspec": {
   "display_name": "Python 3 (ipykernel)",
   "language": "python",
   "name": "python3"
  },
  "language_info": {
   "codemirror_mode": {
    "name": "ipython",
    "version": 3
   },
   "file_extension": ".py",
   "mimetype": "text/x-python",
   "name": "python",
   "nbconvert_exporter": "python",
   "pygments_lexer": "ipython3",
   "version": "3.11.4"
  }
 },
 "nbformat": 4,
 "nbformat_minor": 5
}
