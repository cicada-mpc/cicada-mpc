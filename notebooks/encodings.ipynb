{
 "cells": [
  {
   "cell_type": "code",
   "execution_count": 1,
   "id": "1b4bc2be",
   "metadata": {},
   "outputs": [],
   "source": [
    "import numpy\n",
    "\n",
    "import cicada.arithmetic\n",
    "import cicada.encoding"
   ]
  },
  {
   "cell_type": "code",
   "execution_count": 2,
   "id": "44d51989",
   "metadata": {},
   "outputs": [
    {
     "data": {
      "text/plain": [
       "cicada.encoding.fixedpoint.FixedPoint(precision=16)"
      ]
     },
     "execution_count": 2,
     "metadata": {},
     "output_type": "execute_result"
    }
   ],
   "source": [
    "encoding = cicada.encoding.FixedPoint()\n",
    "encoding"
   ]
  },
  {
   "cell_type": "code",
   "execution_count": 3,
   "id": "21f36a37",
   "metadata": {},
   "outputs": [
    {
     "data": {
      "text/plain": [
       "cicada.arithmetic.Field(order=18446744073709551557)"
      ]
     },
     "execution_count": 3,
     "metadata": {},
     "output_type": "execute_result"
    }
   ],
   "source": [
    "field = cicada.arithmetic.Field()\n",
    "field"
   ]
  },
  {
   "cell_type": "code",
   "execution_count": 4,
   "id": "3d1a17ed",
   "metadata": {},
   "outputs": [
    {
     "data": {
      "text/plain": [
       "array(65536, dtype=object)"
      ]
     },
     "execution_count": 4,
     "metadata": {},
     "output_type": "execute_result"
    }
   ],
   "source": [
    "encoding.encode(1, field)"
   ]
  },
  {
   "cell_type": "code",
   "execution_count": 5,
   "id": "8a16973b",
   "metadata": {},
   "outputs": [
    {
     "data": {
      "text/plain": [
       "array([65536, 131072], dtype=object)"
      ]
     },
     "execution_count": 5,
     "metadata": {},
     "output_type": "execute_result"
    }
   ],
   "source": [
    "encoding.encode([1, 2], field)"
   ]
  },
  {
   "cell_type": "code",
   "execution_count": 6,
   "id": "d317f4f2",
   "metadata": {},
   "outputs": [
    {
     "data": {
      "text/plain": [
       "array([[65536, 131072],\n",
       "       [196608, 262144]], dtype=object)"
      ]
     },
     "execution_count": 6,
     "metadata": {},
     "output_type": "execute_result"
    }
   ],
   "source": [
    "encoding.encode([[1, 2], [3, 4]], field)"
   ]
  },
  {
   "cell_type": "code",
   "execution_count": 7,
   "id": "d2036761",
   "metadata": {},
   "outputs": [
    {
     "data": {
      "text/plain": [
       "array(32768, dtype=object)"
      ]
     },
     "execution_count": 7,
     "metadata": {},
     "output_type": "execute_result"
    }
   ],
   "source": [
    "encoding.encode(0.5, field)"
   ]
  },
  {
   "cell_type": "code",
   "execution_count": 8,
   "id": "3b941aa9",
   "metadata": {},
   "outputs": [
    {
     "data": {
      "text/plain": [
       "array(18446744073709486021, dtype=object)"
      ]
     },
     "execution_count": 8,
     "metadata": {},
     "output_type": "execute_result"
    }
   ],
   "source": [
    "encoding.encode(-1, field)"
   ]
  },
  {
   "cell_type": "code",
   "execution_count": 9,
   "id": "0cb87457",
   "metadata": {},
   "outputs": [
    {
     "name": "stdout",
     "output_type": "stream",
     "text": [
      "Values to be encoded are too large for representation in the field.\n"
     ]
    }
   ],
   "source": [
    "try:\n",
    "    encoding.encode(2**63, field)\n",
    "except Exception as e:\n",
    "    print(e)"
   ]
  },
  {
   "cell_type": "code",
   "execution_count": 10,
   "id": "c9f38436",
   "metadata": {},
   "outputs": [
    {
     "name": "stdout",
     "output_type": "stream",
     "text": [
      "Values to be encoded are too large for representation in the field.\n"
     ]
    }
   ],
   "source": [
    "try:\n",
    "    encoding.encode(-2**63, field)\n",
    "except Exception as e:\n",
    "    print(e)"
   ]
  },
  {
   "cell_type": "code",
   "execution_count": 11,
   "id": "caae3174",
   "metadata": {},
   "outputs": [
    {
     "data": {
      "text/plain": [
       "1.0"
      ]
     },
     "execution_count": 11,
     "metadata": {},
     "output_type": "execute_result"
    }
   ],
   "source": [
    "a = encoding.encode(1, field)\n",
    "encoding.decode(a, field)"
   ]
  },
  {
   "cell_type": "code",
   "execution_count": 12,
   "id": "abd80004",
   "metadata": {},
   "outputs": [
    {
     "data": {
      "text/plain": [
       "array([1.5, 2. ])"
      ]
     },
     "execution_count": 12,
     "metadata": {},
     "output_type": "execute_result"
    }
   ],
   "source": [
    "a = encoding.encode([1.5, 2], field)\n",
    "encoding.decode(a, field)"
   ]
  },
  {
   "cell_type": "code",
   "execution_count": 13,
   "id": "2804a09c",
   "metadata": {},
   "outputs": [
    {
     "data": {
      "text/plain": [
       "-1.5"
      ]
     },
     "execution_count": 13,
     "metadata": {},
     "output_type": "execute_result"
    }
   ],
   "source": [
    "a = encoding.encode(-1.5, field)\n",
    "encoding.decode(a, field)"
   ]
  }
 ],
 "metadata": {
  "kernelspec": {
   "display_name": "Python 3 (ipykernel)",
   "language": "python",
   "name": "python3"
  },
  "language_info": {
   "codemirror_mode": {
    "name": "ipython",
    "version": 3
   },
   "file_extension": ".py",
   "mimetype": "text/x-python",
   "name": "python",
   "nbconvert_exporter": "python",
   "pygments_lexer": "ipython3",
   "version": "3.11.3"
  }
 },
 "nbformat": 4,
 "nbformat_minor": 5
}
