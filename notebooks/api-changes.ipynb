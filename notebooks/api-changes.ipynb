{
 "cells": [
  {
   "cell_type": "markdown",
   "id": "93d5eab2",
   "metadata": {},
   "source": [
    "### Scheme-Specific Operations\n",
    "\n",
    "```diff\n",
    "+ def reshare(share)\n",
    "+ def reveal(share, *, dst=None, encoding=None)\n",
    "+ def share(*, src, secret, shape, encoding=None)\n",
    "```\n",
    "\n",
    "### Encoding-Agnostic Operations\n",
    "\n",
    "```diff\n",
    "+ def absolute(operand)\n",
    "+ def bit_compose(operand)\n",
    "+ def bit_decompose(operand, *, bits=None)\n",
    "+ def equal(lhs, rhs)\n",
    "+ def field_add(lhs, rhs)\n",
    "+ def field_dot(lhs, rhs)\n",
    "+ def field_multiply(lhs, rhs)\n",
    "+ def field_power(lhs, rhs)\n",
    "+ def field_subtract(lhs, rhs)\n",
    "+ def field_uniform(*, shape=None, generator=None)\n",
    "+ def less(lhs, rhs)\n",
    "+ def less_zero(operand)\n",
    "+ def logical_and(lhs, rhs)\n",
    "+ def logical_not(operand)\n",
    "+ def logical_or(lhs, rhs)\n",
    "+ def logical_xor(lhs, rhs)\n",
    "+ def maximum(lhs, rhs)\n",
    "+ def minimum(lhs, rhs)\n",
    "+ def multiplicative_inverse(operand)\n",
    "+ def negative(operand)\n",
    "+ def random_bitwise_secret(*, bits, src=None, generator=None, shape=None)\n",
    "+ def relu(operand)\n",
    "+ def right_shift(operand, *, bits, src=None, generator=None)\n",
    "+ def sum(operand)\n",
    "```\n",
    "\n",
    "### Encoding-Specific Operations\n",
    "\n",
    "```diff\n",
    "+ def add(lhs, rhs, *, encoding=None)\n",
    "+ def divide(lhs, rhs, *, encoding=None)\n",
    "+ def dot(lhs, rhs, *, encoding=None)\n",
    "+ def floor(operand, *, encoding=None)\n",
    "+ def multiply(lhs, rhs, *, encoding=None)\n",
    "+ def power(lhs, rhs, *, encoding=None)\n",
    "+ def subtract(lhs, rhs, *, encoding=None)\n",
    "+ def zigmoid(operand, *, encoding=None)\n",
    "```\n",
    "\n",
    "Note: \"Encoding-Agnostic\" is synonymous with \"Field Arithmetic\"."
   ]
  }
 ],
 "metadata": {
  "kernelspec": {
   "display_name": "Python 3 (ipykernel)",
   "language": "python",
   "name": "python3"
  },
  "language_info": {
   "codemirror_mode": {
    "name": "ipython",
    "version": 3
   },
   "file_extension": ".py",
   "mimetype": "text/x-python",
   "name": "python",
   "nbconvert_exporter": "python",
   "pygments_lexer": "ipython3",
   "version": "3.11.4"
  }
 },
 "nbformat": 4,
 "nbformat_minor": 5
}
