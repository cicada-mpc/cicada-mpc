{
 "cells": [
  {
   "cell_type": "markdown",
   "id": "93d5eab2",
   "metadata": {},
   "source": [
    "### Scheme-Specific Operations\n",
    "\n",
    "```diff\n",
    "+ def reshare(share)\n",
    "+ def reveal(share, dst=None, encoding=None)\n",
    "+ def share(src, secret, shape, encoding=None)\n",
    "```\n",
    "\n",
    "### Scheme-Specific Field Arithmetic Operations\n",
    "\n",
    "```diff\n",
    "+ def field_add(lhs, rhs)\n",
    "- def field_divide(lhs, rhs)\n",
    "+ def field_multiply(lhs, rhs)\n",
    "+ def field_subtract(lhs, rhs)\n",
    "- def random_bitwise_secret(bits, src=None, generator=None, shape=None)\n",
    "+ def right_shift(operand, bits, src=None, generator=None)\n",
    "```\n",
    "\n",
    "### Scheme-Agnostic Field Arithmetic Operations\n",
    "\n",
    "```diff\n",
    "- def field_dot\n",
    "- def field_equal\n",
    "- def logical_and\n",
    "+ def logical_or\n",
    "+ def logical_not\n",
    "+ def logical_xor\n",
    "```\n",
    "\n",
    "### Scheme-Agnostic, Encoding-Specific Operations\n",
    "\n",
    "```diff\n",
    "- def add(lhs, rhs, encoding=None)\n",
    "+ def multiply(lhs, rhs, encoding=None)\n",
    "- def subtract(lhs, rhs, encoding=None)\n",
    "- def divide (field_divide + right_shift)\n",
    "- def dot (field_dot + right_shift)\n",
    "- def floor\n",
    "- def zigmoid\n",
    "- def less?\n",
    "- def less_than_zero?\n",
    "- def min?\n",
    "- def max?\n",
    "```\n",
    "\n",
    "Note: \"Field Arithmetic\" is synonymous with \"Encoding-Agnostic\""
   ]
  }
 ],
 "metadata": {
  "kernelspec": {
   "display_name": "Python 3 (ipykernel)",
   "language": "python",
   "name": "python3"
  },
  "language_info": {
   "codemirror_mode": {
    "name": "ipython",
    "version": 3
   },
   "file_extension": ".py",
   "mimetype": "text/x-python",
   "name": "python",
   "nbconvert_exporter": "python",
   "pygments_lexer": "ipython3",
   "version": "3.11.3"
  }
 },
 "nbformat": 4,
 "nbformat_minor": 5
}
