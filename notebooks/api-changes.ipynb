{
 "cells": [
  {
   "cell_type": "markdown",
   "id": "93d5eab2",
   "metadata": {},
   "source": [
    "### Scheme-Specific Operations\n",
    "\n",
    "* def reshare(share)\n",
    "```\n",
    "def reveal(share, dst=None, encoding=None)\n",
    "def share(src, secret, shape, encoding=None)\n",
    "```\n",
    "\n",
    "### Scheme-Specific Field Arithmetic Operations\n",
    "\n",
    "def field_add(lhs, rhs)\n",
    "def field_divide(lhs, rhs) # Formerly untruncated_divide()\n",
    "def field_multiply(lhs, rhs) # Formerly untruncated_multiply()\n",
    "def field_subtract(lhs, rhs)\n",
    "def right_shift(operand, bits, src=None, generator=None) # Formerly truncate()\n",
    "\n",
    "### Scheme-Agnostic Field Arithmetic Operations\n",
    "\n",
    "* field_dot\n",
    "* field_equal\n",
    "* logical_and\n",
    "* logical_or\n",
    "* logical_not\n",
    "* logical_xor\n",
    "\n",
    "### Scheme-Agnostic, Encoding-Specific Operations\n",
    "\n",
    "* multiply (field_multiply + right_shift)\n",
    "* divide (field_divide + right_shift)\n",
    "* dot (field_dot + right_shift)\n",
    "* floor\n",
    "* zigmoid\n",
    "* less?\n",
    "* less_than_zero?\n",
    "* min?\n",
    "* max?\n",
    "\n",
    "\n",
    "Note: \"Field Arithmetic\" is synonymous with \"Encoding-Agnostic\""
   ]
  },
  {
   "cell_type": "code",
   "execution_count": null,
   "id": "3d2df2cf",
   "metadata": {},
   "outputs": [],
   "source": []
  }
 ],
 "metadata": {
  "kernelspec": {
   "display_name": "Python 3 (ipykernel)",
   "language": "python",
   "name": "python3"
  },
  "language_info": {
   "codemirror_mode": {
    "name": "ipython",
    "version": 3
   },
   "file_extension": ".py",
   "mimetype": "text/x-python",
   "name": "python",
   "nbconvert_exporter": "python",
   "pygments_lexer": "ipython3",
   "version": "3.11.3"
  }
 },
 "nbformat": 4,
 "nbformat_minor": 5
}
