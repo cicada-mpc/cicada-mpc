{
 "cells": [
  {
   "cell_type": "markdown",
   "metadata": {},
   "source": [
    "# Padé appproximation"
   ]
  },
  {
   "cell_type": "code",
   "execution_count": 1,
   "metadata": {},
   "outputs": [
    {
     "name": "stderr",
     "output_type": "stream",
     "text": [
      "INFO:root:Player 0 values: 1\n",
      "INFO:root:Player 1 values: 1\n",
      "INFO:root:Player 2 values: 1\n",
      "INFO:root:Player 0 tay_tanh(1): 0.7615814208984375 vs tanh(1): 0.7615941559557649\n",
      "INFO:root:Player 1 tay_tanh(1): 0.7615814208984375 vs tanh(1): 0.7615941559557649\n",
      "INFO:root:Player 2 tay_tanh(1): 0.7615814208984375 vs tanh(1): 0.7615941559557649\n",
      "  0%|                                                                                            | 0/20 [00:00<?, ?it/s]\n",
      "\n",
      "\n",
      "WARNING:cicada.communicator.socket:Comm world player 0 failed: ValueError('share must be an instance of AdditiveArrayShare.')\n",
      "WARNING:cicada.communicator.socket:Comm world player 1 failed: ValueError('share must be an instance of AdditiveArrayShare.')\n",
      "WARNING:cicada.communicator.socket:Comm world player 2 failed: ValueError('share must be an instance of AdditiveArrayShare.')\n",
      "ERROR:cicada.communicator.socket:********************************************************************************\n",
      "ERROR:cicada.communicator.socket:Comm world player 0 traceback:\n",
      "ERROR:cicada.communicator.socket:Traceback (most recent call last):\n",
      "  File \"/home/kgoss/git/cicada-mpc/cicada/communicator/socket/__init__.py\", line 784, in launch\n",
      "    result = fn(communicator, *args, **kwargs)\n",
      "  File \"/tmp/ipykernel_4124/3865692939.py\", line 27, in main\n",
      "    cic_tay_tanh = protocol.reveal(protocol.pade_approx(numpy.tanh, protocol.share(src=0, secret=numpy.array(i), shape=()), degree=10))\n",
      "  File \"/home/kgoss/git/cicada-mpc/cicada/additive.py\", line 1483, in reveal\n",
      "    raise ValueError(\"share must be an instance of AdditiveArrayShare.\") # pragma: no cover\n",
      "ValueError: share must be an instance of AdditiveArrayShare.\n",
      "\n",
      "ERROR:cicada.communicator.socket:********************************************************************************\n",
      "ERROR:cicada.communicator.socket:Comm world player 1 traceback:\n",
      "ERROR:cicada.communicator.socket:Traceback (most recent call last):\n",
      "  File \"/home/kgoss/git/cicada-mpc/cicada/communicator/socket/__init__.py\", line 784, in launch\n",
      "    result = fn(communicator, *args, **kwargs)\n",
      "  File \"/tmp/ipykernel_4124/3865692939.py\", line 27, in main\n",
      "    cic_tay_tanh = protocol.reveal(protocol.pade_approx(numpy.tanh, protocol.share(src=0, secret=numpy.array(i), shape=()), degree=10))\n",
      "  File \"/home/kgoss/git/cicada-mpc/cicada/additive.py\", line 1483, in reveal\n",
      "    raise ValueError(\"share must be an instance of AdditiveArrayShare.\") # pragma: no cover\n",
      "ValueError: share must be an instance of AdditiveArrayShare.\n",
      "\n",
      "ERROR:cicada.communicator.socket:********************************************************************************\n",
      "ERROR:cicada.communicator.socket:Comm world player 2 traceback:\n",
      "ERROR:cicada.communicator.socket:Traceback (most recent call last):\n",
      "  File \"/home/kgoss/git/cicada-mpc/cicada/communicator/socket/__init__.py\", line 784, in launch\n",
      "    result = fn(communicator, *args, **kwargs)\n",
      "  File \"/tmp/ipykernel_4124/3865692939.py\", line 27, in main\n",
      "    cic_tay_tanh = protocol.reveal(protocol.pade_approx(numpy.tanh, protocol.share(src=0, secret=numpy.array(i), shape=()), degree=10))\n",
      "  File \"/home/kgoss/git/cicada-mpc/cicada/additive.py\", line 1483, in reveal\n",
      "    raise ValueError(\"share must be an instance of AdditiveArrayShare.\") # pragma: no cover\n",
      "ValueError: share must be an instance of AdditiveArrayShare.\n",
      "\n"
     ]
    }
   ],
   "source": [
    "import logging\n",
    "\n",
    "import numpy\n",
    "\n",
    "import cicada\n",
    "from cicada.additive import AdditiveProtocolSuite\n",
    "from cicada.communicator import SocketCommunicator\n",
    "\n",
    "from statistics import mean, stdev\n",
    "from tqdm import *\n",
    "\n",
    "logging.basicConfig(level=logging.INFO)\n",
    "\n",
    "def main(communicator):\n",
    "    log = cicada.Logger(logging.getLogger(), communicator)\n",
    "    protocol = AdditiveProtocolSuite(communicator)\n",
    "\n",
    "    values = numpy.array(1)\n",
    "    log.info(f\"Player {communicator.rank} values: {values}\")\n",
    "\n",
    "    values_share = protocol.share(src=0, secret=values, shape=())\n",
    "    tay_tanh_share = protocol.taylor_approx(numpy.tanh, values_share)\n",
    "    tay_tanh = protocol.reveal(tay_tanh_share)\n",
    "    log.info(f\"Player {communicator.rank} tay_tanh({values}): {tay_tanh} vs tanh({values}): {numpy.tanh(values)}\")\n",
    "    err_percent_list = []\n",
    "    for i in tqdm(numpy.arange(-1, 1, .1)):\n",
    "        cic_tay_tanh = protocol.reveal(protocol.pade_approx(numpy.tanh, protocol.share(src=0, secret=numpy.array(i), shape=()), degree=10))\n",
    "        legit_tanh = numpy.tanh(i)\n",
    "        err_percent_list.append(abs(legit_tanh-cic_tay_tanh))\n",
    "\n",
    "    \n",
    "    if communicator.rank ==1:\n",
    "        print(mean(err_percent_list), stdev(err_percent_list))\n",
    "\n",
    "SocketCommunicator.run(world_size=3, fn=main);"
   ]
  },
  {
   "cell_type": "code",
   "execution_count": null,
   "metadata": {},
   "outputs": [],
   "source": []
  }
 ],
 "metadata": {
  "kernelspec": {
   "display_name": "Python 3 (ipykernel)",
   "language": "python",
   "name": "python3"
  },
  "language_info": {
   "codemirror_mode": {
    "name": "ipython",
    "version": 3
   },
   "file_extension": ".py",
   "mimetype": "text/x-python",
   "name": "python",
   "nbconvert_exporter": "python",
   "pygments_lexer": "ipython3",
   "version": "3.10.4"
  }
 },
 "nbformat": 4,
 "nbformat_minor": 2
}
