{
 "cells": [
  {
   "cell_type": "markdown",
   "metadata": {},
   "source": [
    "# Taylor appproximation"
   ]
  },
  {
   "cell_type": "code",
   "execution_count": 3,
   "metadata": {},
   "outputs": [
    {
     "name": "stderr",
     "output_type": "stream",
     "text": [
      "INFO:root:Player 0 values: 1\n",
      "INFO:root:Player 1 values: 1\n",
      "INFO:root:Player 2 values: 1\n",
      "INFO:root:Player 0 tay_tanh(1): 0.7615814208984375 vs tanh(1): 0.7615941559557649\n",
      "INFO:root:Player 1 tay_tanh(1): 0.7615814208984375 vs tanh(1): 0.7615941559557649\n",
      "INFO:root:Player 2 tay_tanh(1): 0.7615814208984375 vs tanh(1): 0.7615941559557649\n",
      "100%|█████████████████████████████████████████████████████████████████████████████████| 100/100 [00:17<00:00,  5.77it/s]\n",
      "\n",
      "\n"
     ]
    },
    {
     "name": "stdout",
     "output_type": "stream",
     "text": [
      "192700.13701113572 402054.00249001564\n"
     ]
    }
   ],
   "source": [
    "import logging\n",
    "\n",
    "import numpy\n",
    "\n",
    "import cicada\n",
    "from cicada.additive import AdditiveProtocolSuite\n",
    "from cicada.communicator import SocketCommunicator\n",
    "\n",
    "from statistics import mean, stdev\n",
    "from tqdm import *\n",
    "\n",
    "logging.basicConfig(level=logging.INFO)\n",
    "\n",
    "def main(communicator):\n",
    "    log = cicada.Logger(logging.getLogger(), communicator)\n",
    "    protocol = AdditiveProtocolSuite(communicator)\n",
    "\n",
    "    values = numpy.array(1)\n",
    "    log.info(f\"Player {communicator.rank} values: {values}\")\n",
    "\n",
    "    values_share = protocol.share(src=0, secret=values, shape=())\n",
    "    tay_tanh_share = protocol.taylor_approx(numpy.tanh, values_share)\n",
    "    tay_tanh = protocol.reveal(tay_tanh_share)\n",
    "    log.info(f\"Player {communicator.rank} tay_tanh({values}): {tay_tanh} vs tanh({values}): {numpy.tanh(values)}\")\n",
    "    abs_err_list = []\n",
    "    for i in tqdm(numpy.arange(-5, 5, .1)):\n",
    "        cic_tay_tanh = protocol.reveal(protocol.taylor_approx(numpy.tanh, protocol.share(src=0, secret=numpy.array(i), shape=()), degree=10))\n",
    "        legit_tanh = numpy.tanh(i)\n",
    "        abs_err_list.append(abs(legit_tanh-cic_tay_tanh))\n",
    "\n",
    "    \n",
    "    if communicator.rank ==1:\n",
    "        print(mean(abs_err_list), stdev(abs_err_list))\n",
    "\n",
    "SocketCommunicator.run(world_size=3, fn=main);"
   ]
  },
  {
   "cell_type": "code",
   "execution_count": null,
   "metadata": {},
   "outputs": [],
   "source": []
  }
 ],
 "metadata": {
  "kernelspec": {
   "display_name": "Python 3 (ipykernel)",
   "language": "python",
   "name": "python3"
  },
  "language_info": {
   "codemirror_mode": {
    "name": "ipython",
    "version": 3
   },
   "file_extension": ".py",
   "mimetype": "text/x-python",
   "name": "python",
   "nbconvert_exporter": "python",
   "pygments_lexer": "ipython3",
   "version": "3.10.4"
  }
 },
 "nbformat": 4,
 "nbformat_minor": 2
}
