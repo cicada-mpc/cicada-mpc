{
 "cells": [
  {
   "cell_type": "markdown",
   "id": "0933db87",
   "metadata": {},
   "source": [
    "**Transports**\n",
    "\n",
    "* TCP\n",
    "* Unix Domain\n",
    "* TCP + TLS\n",
    "* Unix + TLS?\n",
    "\n",
    "**Factories**\n",
    "\n",
    "|Factory              |Purpose                                                            |\n",
    "|:--------------------|:------------------------------------------------------------------|\n",
    "|connect.listen(address, sslcontext)     |Bind a socket to an address, listening for connections.            |\n",
    "|connect.direct(listen_socket, addresses, sslcontext)     |Make connections given a listening socket and every player address.|\n",
    "|connect.rendezvous(listen_socket, root_address, sslcontext) |Make connections given a listening socket and the root address.    |\n",
    "|SocketCommunicator.run() | Use IPC and connect.direct() to run players on local host.    |\n",
    "|SocketCommunicator.shrink() | Use existing connections and connect.rendezvous() to create a new communicator.|\n",
    "|SocketCommunicator.split() | Use existing connections and connect.rendezvous() to create new communicators.|\n",
    "| cicada run | Use environment variables to initialize connect.listen() + connect.rendezvous() |\n",
    "| cicada start | Use environment variables to initialize connect.listen() + connect.rendezvous() |"
   ]
  },
  {
   "cell_type": "code",
   "execution_count": null,
   "id": "0c6ad073",
   "metadata": {},
   "outputs": [],
   "source": []
  }
 ],
 "metadata": {
  "kernelspec": {
   "display_name": "Python 3 (ipykernel)",
   "language": "python",
   "name": "python3"
  },
  "language_info": {
   "codemirror_mode": {
    "name": "ipython",
    "version": 3
   },
   "file_extension": ".py",
   "mimetype": "text/x-python",
   "name": "python",
   "nbconvert_exporter": "python",
   "pygments_lexer": "ipython3",
   "version": "3.8.10"
  }
 },
 "nbformat": 4,
 "nbformat_minor": 5
}
