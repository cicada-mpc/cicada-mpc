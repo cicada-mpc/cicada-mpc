{
 "cells": [
  {
   "cell_type": "code",
   "execution_count": 1,
   "id": "f472bb71-8852-42cc-86cb-6f20cb64fe58",
   "metadata": {
    "editable": true,
    "slideshow": {
     "slide_type": ""
    },
    "tags": []
   },
   "outputs": [],
   "source": [
    "import logging\n",
    "\n",
    "import numpy\n",
    "\n",
    "from cicada import transcript\n",
    "from cicada.arithmetic import field"
   ]
  },
  {
   "cell_type": "code",
   "execution_count": 2,
   "id": "932cf01d-a45f-42c3-af3a-a428c44e1312",
   "metadata": {},
   "outputs": [
    {
     "name": "stderr",
     "output_type": "stream",
     "text": [
      "cicada.transcript.assert_equal(cicada.arithmetic.field(order=127).ones(shape=3), numpy.array([1, 1, 1], dtype='object'))\n",
      "bg = numpy.random.PCG64()\n",
      "bg.state = {'bit_generator': 'PCG64', 'state': {'state': 3110400654694539912723698677021134952, 'inc': 2627829065645458385012291873148098333}, 'has_uint32': 0, 'uinteger': 0}\n",
      "cicada.transcript.assert_equal(cicada.arithmetic.field(order=127).uniform(size=3, generator=numpy.random.Generator(bg)), numpy.array([3, 83, 11], dtype='object'))\n",
      "\n",
      "lhs = numpy.array([1, 1, 1], dtype='object')\n",
      "lhs += numpy.array([3, 83, 11], dtype='object')\n",
      "cicada.transcript.assert_equal(lhs, numpy.array([4, 84, 12], dtype='object'))\n",
      "\n"
     ]
    },
    {
     "name": "stdout",
     "output_type": "stream",
     "text": [
      "cicada.transcript.record\n",
      "cicada.transcript.code_handler\n",
      "cicada.transcript.Formatter.__init__\n",
      "cicada.transcript.Formatter.__init__\n",
      "cicada.transcript.code_handler\n",
      "cicada.transcript.set_handler\n",
      "cicada.transcript.set_handler\n",
      "cicada.arithmetic.field\n",
      "cicada.arithmetic.field.<locals>.FieldMeta.__new__\n",
      "cicada.arithmetic.field.<locals>.FieldMeta.__new__\n",
      "cicada.arithmetic.field\n",
      "cicada.arithmetic.field.<locals>.FieldMeta.ones\n",
      "cicada.arithmetic.field.<locals>.FieldMeta.ones\n",
      "cicada.arithmetic.field.<locals>.FieldMeta.uniform\n",
      "cicada.arithmetic.field.<locals>.FieldMeta.bytes\n",
      "cicada.arithmetic.field.<locals>.FieldMeta.bits\n",
      "cicada.arithmetic.field.<locals>.FieldMeta.bits\n",
      "cicada.arithmetic.field.<locals>.FieldMeta.bytes\n",
      "cicada.arithmetic.field.<locals>.FieldMeta.bytes\n",
      "cicada.arithmetic.field.<locals>.FieldMeta.bits\n",
      "cicada.arithmetic.field.<locals>.FieldMeta.bits\n",
      "cicada.arithmetic.field.<locals>.FieldMeta.bytes\n",
      "cicada.arithmetic.field.<locals>.FieldMeta.bytes\n",
      "cicada.arithmetic.field.<locals>.FieldMeta.bits\n",
      "cicada.arithmetic.field.<locals>.FieldMeta.bits\n",
      "cicada.arithmetic.field.<locals>.FieldMeta.bytes\n",
      "cicada.arithmetic.field.<locals>.__new__\n",
      "cicada.arithmetic.field.<locals>.__new__\n",
      "cicada.arithmetic.field.<locals>.FieldMeta.uniform\n",
      "cicada.arithmetic.field.<locals>.__iadd__\n",
      "cicada.arithmetic.field.<locals>.__iadd__\n",
      "{'self': FieldArray([1, 1, 1], order=127), 'other': FieldArray([3, 83, 11], order=127)}\n",
      "{'self': FieldArray([4, 84, 12], order=127), 'other': FieldArray([3, 83, 11], order=127), 'array': array([4, 84, 12], dtype=object)}\n"
     ]
    }
   ],
   "source": [
    "with transcript.record():\n",
    "    transcript.set_handler(logging.getLogger(), transcript.code_handler())\n",
    "    \n",
    "    f = field(order=127)\n",
    "    a = f.ones(3)\n",
    "    b = f.uniform(size=3, generator=numpy.random.default_rng())\n",
    "    a += b"
   ]
  },
  {
   "cell_type": "raw",
   "id": "6cadc8a7-1953-4935-aa22-4d5036459785",
   "metadata": {},
   "source": [
    "from cicada.additive import AdditiveProtocolSuite\n",
    "from cicada.communicator import SocketCommunicator\n",
    "from cicada.encoding import FixedPoint\n",
    "\n",
    "def main(communicator):\n",
    "    transcript.log(\"Setup additive sharing\")\n",
    "    protocol = AdditiveProtocolSuite(communicator, order=127, encoding=FixedPoint(precision=2))\n",
    "    transcript.log(\"Share some secrets\")\n",
    "    a_share = protocol.share(src=0, secret=numpy.array(2), shape=())\n",
    "    b_share = protocol.share(src=1, secret=numpy.array(3), shape=())\n",
    "    transcript.log(\"Add some secrets\")\n",
    "    c_share = protocol.add(a_share, b_share)\n",
    "    transcript.log(\"Reveal the results\")\n",
    "    c = protocol.reveal(c_share)\n",
    "\n",
    "with transcript.record():\n",
    "    SocketCommunicator.run(fn=main, world_size=2);"
   ]
  },
  {
   "cell_type": "raw",
   "id": "24796cd4-dd93-4a71-896b-08cb5abfcb36",
   "metadata": {},
   "source": [
    "def main(communicator):\n",
    "    transcript.set_handler(logging.getLogger(), transcript.netmsg_handler())\n",
    "    \n",
    "    transcript.log(\"Setup additive sharing\")\n",
    "    protocol = AdditiveProtocolSuite(communicator, order=127, encoding=FixedPoint(precision=2))\n",
    "    transcript.log(\"Share some secrets\")\n",
    "    a_share = protocol.share(src=0, secret=numpy.array(2), shape=())\n",
    "    b_share = protocol.share(src=1, secret=numpy.array(3), shape=())\n",
    "    transcript.log(\"Add some secrets\")\n",
    "    c_share = protocol.add(a_share, b_share)\n",
    "    transcript.log(\"Reveal the results\")\n",
    "    c = protocol.reveal(c_share)\n",
    "\n",
    "with transcript.record():\n",
    "    SocketCommunicator.run(fn=main, world_size=2);"
   ]
  }
 ],
 "metadata": {
  "celltoolbar": "Raw Cell Format",
  "kernelspec": {
   "display_name": "Python 3 (ipykernel)",
   "language": "python",
   "name": "python3"
  },
  "language_info": {
   "codemirror_mode": {
    "name": "ipython",
    "version": 3
   },
   "file_extension": ".py",
   "mimetype": "text/x-python",
   "name": "python",
   "nbconvert_exporter": "python",
   "pygments_lexer": "ipython3",
   "version": "3.12.2"
  }
 },
 "nbformat": 4,
 "nbformat_minor": 5
}
