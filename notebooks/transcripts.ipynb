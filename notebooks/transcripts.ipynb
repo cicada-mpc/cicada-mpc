{
 "cells": [
  {
   "cell_type": "code",
   "execution_count": 1,
   "id": "f472bb71-8852-42cc-86cb-6f20cb64fe58",
   "metadata": {
    "editable": true,
    "slideshow": {
     "slide_type": ""
    },
    "tags": []
   },
   "outputs": [],
   "source": [
    "import logging\n",
    "\n",
    "import numpy\n",
    "\n",
    "from cicada import transcript\n",
    "from cicada.arithmetic import Field"
   ]
  },
  {
   "cell_type": "code",
   "execution_count": 2,
   "id": "932cf01d-a45f-42c3-af3a-a428c44e1312",
   "metadata": {},
   "outputs": [
    {
     "name": "stderr",
     "output_type": "stream",
     "text": [
      "cicada.transcript.assert_equal(cicada.arithmetic.Field(order=127).ones(shape=3), numpy.array([1, 1, 1], dtype=object))\n",
      "bg = numpy.random.PCG64()\n",
      "bg.state = {'bit_generator': 'PCG64', 'state': {'state': 88805302054355216233154397747606998133, 'inc': 273519481568979284389875895496234343711}, 'has_uint32': 0, 'uinteger': 0}\n",
      "cicada.transcript.assert_equal(cicada.arithmetic.Field(order=127).uniform(size=3, generator=numpy.random.Generator(bg)), numpy.array([149, 142, 225], dtype=object))\n",
      "lhs = numpy.array([1, 1, 1], dtype=object)\n",
      "cicada.arithmetic.Field(order=127).inplace_add(lhs=lhs, rhs=numpy.array([149, 142, 225], dtype=object))\n",
      "cicada.transcript.assert_equal(lhs, numpy.array([23, 16, 99], dtype=object))\n"
     ]
    }
   ],
   "source": [
    "with transcript.record():\n",
    "    transcript.set_handler(logging.getLogger(), transcript.code_handler())\n",
    "    \n",
    "    f = Field(order=127)\n",
    "    a = f.ones(3)\n",
    "    b = f.uniform(size=3, generator=numpy.random.default_rng())\n",
    "    f.inplace_add(a, b)"
   ]
  },
  {
   "cell_type": "code",
   "execution_count": 3,
   "id": "1c006822-e471-4c09-a867-24018b91c9d1",
   "metadata": {},
   "outputs": [
    {
     "name": "stderr",
     "output_type": "stream",
     "text": [
      "# Player 1: Setup additive sharing\n",
      "# Player 0: Setup additive sharing\n",
      "# Player 1: Share some secrets\n",
      "# Player 0: Share some secrets\n",
      "bg = numpy.random.PCG64()\n",
      "bg = numpy.random.PCG64()\n",
      "bg.state = {'bit_generator': 'PCG64', 'state': {'state': 329900914738071519479702908717079448344, 'inc': 155367840184836092189066130057971594069}, 'has_uint32': 0, 'uinteger': 0}\n",
      "bg.state = {'bit_generator': 'PCG64', 'state': {'state': 100673059414612779622537062608723047634, 'inc': 158771522073355783319438860632892046061}, 'has_uint32': 0, 'uinteger': 0}\n",
      "cicada.transcript.assert_equal(cicada.arithmetic.Field(order=127).uniform(size=(), generator=numpy.random.Generator(bg)), numpy.array(10, dtype=object))\n",
      "cicada.transcript.assert_equal(cicada.arithmetic.Field(order=127).uniform(size=(), generator=numpy.random.Generator(bg)), numpy.array(204, dtype=object))\n",
      "bg = numpy.random.PCG64()\n",
      "bg = numpy.random.PCG64()\n",
      "bg.state = {'bit_generator': 'PCG64', 'state': {'state': 329900914738071519479702908717079448344, 'inc': 155367840184836092189066130057971594069}, 'has_uint32': 0, 'uinteger': 0}\n",
      "bg.state = {'bit_generator': 'PCG64', 'state': {'state': 100673059414612779622537062608723047634, 'inc': 158771522073355783319438860632892046061}, 'has_uint32': 0, 'uinteger': 0}\n",
      "cicada.transcript.assert_equal(cicada.arithmetic.Field(order=127).uniform(size=(), generator=numpy.random.Generator(bg)), numpy.array(10, dtype=object))\n",
      "cicada.transcript.assert_equal(cicada.arithmetic.Field(order=127).uniform(size=(), generator=numpy.random.Generator(bg)), numpy.array(204, dtype=object))\n",
      "cicada.transcript.assert_equal(cicada.arithmetic.Field(order=127).inplace_subtract(lhs=numpy.array(10, dtype=object), rhs=numpy.array(204, dtype=object)), None)\n",
      "cicada.transcript.assert_equal(cicada.arithmetic.Field(order=127).inplace_subtract(lhs=numpy.array(204, dtype=object), rhs=numpy.array(10, dtype=object)), None)\n",
      "cicada.transcript.assert_equal(<cicada.przs.PRZSProtocol object at 0x125862f30>.__call__(shape=()), numpy.array(60, dtype=object))\n",
      "cicada.transcript.assert_equal(<cicada.przs.PRZSProtocol object at 0x125862f30>.__call__(shape=()), numpy.array(67, dtype=object))\n",
      "cicada.transcript.assert_equal(cicada.arithmetic.Field(order=127).__call__(object=numpy.array(8, dtype=object)), numpy.array(8, dtype=object))\n",
      "cicada.transcript.assert_equal(<cicada.additive.AdditiveProtocolSuite object at 0x105f06f30>.share(src=0, secret=numpy.array(2, dtype=int64), shape=(), encoding=None), cicada.additive.AdditiveArrayShare(storage=67))\n",
      "cicada.transcript.assert_equal(cicada.encoding.FixedPoint(precision=2).encode(array=numpy.array(2, dtype=int64), field=cicada.arithmetic.Field(order=127)), numpy.array(8, dtype=object))\n",
      "bg = numpy.random.PCG64()\n",
      "lhs = numpy.array(60, dtype=object)\n",
      "bg.state = {'bit_generator': 'PCG64', 'state': {'state': 7620383944802003376474688678906741639, 'inc': 158771522073355783319438860632892046061}, 'has_uint32': 1, 'uinteger': 2623401185}\n",
      "cicada.transcript.assert_equal(cicada.arithmetic.Field(order=127).uniform(size=(), generator=numpy.random.Generator(bg)), numpy.array(225, dtype=object))\n",
      "cicada.arithmetic.Field(order=127).inplace_add(lhs=lhs, rhs=numpy.array(8, dtype=object))\n",
      "bg = numpy.random.PCG64()\n",
      "cicada.transcript.assert_equal(lhs, numpy.array(68, dtype=object))\n",
      "bg.state = {'bit_generator': 'PCG64', 'state': {'state': 172950839157794495315238337932718129357, 'inc': 155367840184836092189066130057971594069}, 'has_uint32': 1, 'uinteger': 2401164630}\n",
      "cicada.transcript.assert_equal(<cicada.additive.AdditiveProtocolSuite object at 0x105f06f30>.share(src=0, secret=numpy.array(2, dtype=int64), shape=(), encoding=None), cicada.additive.AdditiveArrayShare(storage=68))\n",
      "cicada.transcript.assert_equal(cicada.arithmetic.Field(order=127).uniform(size=(), generator=numpy.random.Generator(bg)), numpy.array(86, dtype=object))\n",
      "bg = numpy.random.PCG64()\n",
      "cicada.transcript.assert_equal(cicada.arithmetic.Field(order=127).inplace_subtract(lhs=numpy.array(225, dtype=object), rhs=numpy.array(86, dtype=object)), None)\n",
      "bg.state = {'bit_generator': 'PCG64', 'state': {'state': 172950839157794495315238337932718129357, 'inc': 155367840184836092189066130057971594069}, 'has_uint32': 1, 'uinteger': 2401164630}\n",
      "cicada.transcript.assert_equal(<cicada.przs.PRZSProtocol object at 0x125862f30>.__call__(shape=()), numpy.array(12, dtype=object))\n",
      "cicada.transcript.assert_equal(cicada.arithmetic.Field(order=127).uniform(size=(), generator=numpy.random.Generator(bg)), numpy.array(86, dtype=object))\n",
      "cicada.transcript.assert_equal(cicada.arithmetic.Field(order=127).__call__(object=numpy.array(12, dtype=object)), numpy.array(12, dtype=object))\n",
      "bg = numpy.random.PCG64()\n",
      "cicada.transcript.assert_equal(cicada.encoding.FixedPoint(precision=2).encode(array=numpy.array(3, dtype=int64), field=cicada.arithmetic.Field(order=127)), numpy.array(12, dtype=object))\n",
      "bg.state = {'bit_generator': 'PCG64', 'state': {'state': 7620383944802003376474688678906741639, 'inc': 158771522073355783319438860632892046061}, 'has_uint32': 1, 'uinteger': 2623401185}\n",
      "lhs = numpy.array(12, dtype=object)\n",
      "cicada.transcript.assert_equal(cicada.arithmetic.Field(order=127).uniform(size=(), generator=numpy.random.Generator(bg)), numpy.array(225, dtype=object))\n",
      "cicada.arithmetic.Field(order=127).inplace_add(lhs=lhs, rhs=numpy.array(12, dtype=object))\n",
      "cicada.transcript.assert_equal(cicada.arithmetic.Field(order=127).inplace_subtract(lhs=numpy.array(86, dtype=object), rhs=numpy.array(225, dtype=object)), None)\n",
      "cicada.transcript.assert_equal(lhs, numpy.array(24, dtype=object))\n",
      "cicada.transcript.assert_equal(<cicada.przs.PRZSProtocol object at 0x125862f30>.__call__(shape=()), numpy.array(115, dtype=object))\n",
      "cicada.transcript.assert_equal(<cicada.additive.AdditiveProtocolSuite object at 0x105f06f30>.share(src=1, secret=numpy.array(3, dtype=int64), shape=(), encoding=None), cicada.additive.AdditiveArrayShare(storage=24))\n",
      "cicada.transcript.assert_equal(<cicada.additive.AdditiveProtocolSuite object at 0x105f06f30>.share(src=1, secret=numpy.array(3, dtype=int64), shape=(), encoding=None), cicada.additive.AdditiveArrayShare(storage=115))\n",
      "# Player 0: Add some secrets\n",
      "# Player 1: Add some secrets\n",
      "cicada.transcript.assert_equal(cicada.arithmetic.Field(order=127).add(lhs=numpy.array(68, dtype=object), rhs=numpy.array(115, dtype=object)), numpy.array(56, dtype=object))\n",
      "cicada.transcript.assert_equal(cicada.arithmetic.Field(order=127).add(lhs=numpy.array(67, dtype=object), rhs=numpy.array(24, dtype=object)), numpy.array(91, dtype=object))\n",
      "cicada.transcript.assert_equal(<cicada.additive.AdditiveProtocolSuite object at 0x105f06f30>.field_add(lhs=cicada.additive.AdditiveArrayShare(storage=67), rhs=cicada.additive.AdditiveArrayShare(storage=24)), cicada.additive.AdditiveArrayShare(storage=91))\n",
      "cicada.transcript.assert_equal(<cicada.additive.AdditiveProtocolSuite object at 0x105f06f30>.field_add(lhs=cicada.additive.AdditiveArrayShare(storage=68), rhs=cicada.additive.AdditiveArrayShare(storage=115)), cicada.additive.AdditiveArrayShare(storage=56))\n",
      "cicada.transcript.assert_equal(<cicada.additive.AdditiveProtocolSuite object at 0x105f06f30>.add(lhs=cicada.additive.AdditiveArrayShare(storage=68), rhs=cicada.additive.AdditiveArrayShare(storage=115), encoding=None), cicada.additive.AdditiveArrayShare(storage=56))\n",
      "cicada.transcript.assert_equal(<cicada.additive.AdditiveProtocolSuite object at 0x105f06f30>.add(lhs=cicada.additive.AdditiveArrayShare(storage=67), rhs=cicada.additive.AdditiveArrayShare(storage=24), encoding=None), cicada.additive.AdditiveArrayShare(storage=91))\n",
      "# Player 1: Reveal the results\n",
      "# Player 0: Reveal the results\n",
      "lhs = numpy.array(56, dtype=object)\n",
      "cicada.arithmetic.Field(order=127).inplace_add(lhs=lhs, rhs=numpy.array(91, dtype=object))\n",
      "cicada.transcript.assert_equal(lhs, numpy.array(20, dtype=object))\n",
      "cicada.transcript.assert_equal(cicada.encoding.FixedPoint(precision=2).decode(array=numpy.array(20, dtype=object), field=cicada.arithmetic.Field(order=127)), numpy.array(5.0, dtype=float64))\n",
      "lhs = numpy.array(56, dtype=object)\n",
      "cicada.transcript.assert_equal(<cicada.additive.AdditiveProtocolSuite object at 0x105f06f30>.reveal(share=cicada.additive.AdditiveArrayShare(storage=56), dst=None, encoding=None), numpy.array(5.0, dtype=float64))\n",
      "cicada.arithmetic.Field(order=127).inplace_add(lhs=lhs, rhs=numpy.array(91, dtype=object))\n",
      "cicada.transcript.assert_equal(lhs, numpy.array(20, dtype=object))\n",
      "cicada.transcript.assert_equal(cicada.encoding.FixedPoint(precision=2).decode(array=numpy.array(20, dtype=object), field=cicada.arithmetic.Field(order=127)), numpy.array(5.0, dtype=float64))\n",
      "cicada.transcript.assert_equal(<cicada.additive.AdditiveProtocolSuite object at 0x105f06f30>.reveal(share=cicada.additive.AdditiveArrayShare(storage=91), dst=None, encoding=None), numpy.array(5.0, dtype=float64))\n"
     ]
    }
   ],
   "source": [
    "from cicada.additive import AdditiveProtocolSuite\n",
    "from cicada.communicator import SocketCommunicator\n",
    "from cicada.encoding import FixedPoint\n",
    "\n",
    "def main(communicator):\n",
    "    transcript.log(\"Setup additive sharing\")\n",
    "    protocol = AdditiveProtocolSuite(communicator, order=127, encoding=FixedPoint(precision=2))\n",
    "    transcript.log(\"Share some secrets\")\n",
    "    a_share = protocol.share(src=0, secret=numpy.array(2), shape=())\n",
    "    b_share = protocol.share(src=1, secret=numpy.array(3), shape=())\n",
    "    transcript.log(\"Add some secrets\")\n",
    "    c_share = protocol.add(a_share, b_share)\n",
    "    transcript.log(\"Reveal the results\")\n",
    "    c = protocol.reveal(c_share)\n",
    "\n",
    "with transcript.record():\n",
    "    SocketCommunicator.run(fn=main, world_size=2);"
   ]
  },
  {
   "cell_type": "code",
   "execution_count": 4,
   "id": "e2b08270-b925-4532-bc34-a95be138face",
   "metadata": {},
   "outputs": [
    {
     "name": "stderr",
     "output_type": "stream",
     "text": [
      "Player 0: Setup additive sharing\n",
      "Player 1: Setup additive sharing\n",
      "Player 1: --> 0 PRZS 307003437199772683\n",
      "Player 0: --> 1 PRZS 7239575226077358250\n",
      "Player 1: <-- 0 PRZS 7239575226077358250\n",
      "Player 0: <-- 1 PRZS 307003437199772683\n",
      "Player 1: Share some secrets\n",
      "Player 0: Share some secrets\n",
      "Player 1: Add some secrets\n",
      "Player 0: Add some secrets\n",
      "Player 0: Reveal the results\n",
      "Player 1: Reveal the results\n",
      "Player 0: --> 0 GATHER 22\n",
      "Player 1: --> 0 GATHER 125\n",
      "Player 0: <-- 0 GATHER 22\n",
      "Player 1: --> 1 GATHER 125\n",
      "Player 0: <-- 1 GATHER 125\n",
      "Player 1: <-- 1 GATHER 125\n",
      "Player 0: --> 1 GATHER 22\n",
      "Player 1: <-- 0 GATHER 22\n"
     ]
    }
   ],
   "source": [
    "def main(communicator):\n",
    "    transcript.set_handler(logging.getLogger(), transcript.netmsg_handler())\n",
    "    \n",
    "    transcript.log(\"Setup additive sharing\")\n",
    "    protocol = AdditiveProtocolSuite(communicator, order=127, encoding=FixedPoint(precision=2))\n",
    "    transcript.log(\"Share some secrets\")\n",
    "    a_share = protocol.share(src=0, secret=numpy.array(2), shape=())\n",
    "    b_share = protocol.share(src=1, secret=numpy.array(3), shape=())\n",
    "    transcript.log(\"Add some secrets\")\n",
    "    c_share = protocol.add(a_share, b_share)\n",
    "    transcript.log(\"Reveal the results\")\n",
    "    c = protocol.reveal(c_share)\n",
    "\n",
    "with transcript.record():\n",
    "    SocketCommunicator.run(fn=main, world_size=2);"
   ]
  }
 ],
 "metadata": {
  "celltoolbar": "Raw Cell Format",
  "kernelspec": {
   "display_name": "Python 3 (ipykernel)",
   "language": "python",
   "name": "python3"
  },
  "language_info": {
   "codemirror_mode": {
    "name": "ipython",
    "version": 3
   },
   "file_extension": ".py",
   "mimetype": "text/x-python",
   "name": "python",
   "nbconvert_exporter": "python",
   "pygments_lexer": "ipython3",
   "version": "3.12.2"
  }
 },
 "nbformat": 4,
 "nbformat_minor": 5
}
