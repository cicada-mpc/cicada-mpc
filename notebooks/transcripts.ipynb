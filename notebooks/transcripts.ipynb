{
 "cells": [
  {
   "cell_type": "code",
   "execution_count": 1,
   "id": "f472bb71-8852-42cc-86cb-6f20cb64fe58",
   "metadata": {
    "editable": true,
    "slideshow": {
     "slide_type": ""
    },
    "tags": []
   },
   "outputs": [],
   "source": [
    "import logging\n",
    "\n",
    "import numpy\n",
    "\n",
    "from cicada import transcript\n",
    "from cicada.arithmetic import Field"
   ]
  },
  {
   "cell_type": "code",
   "execution_count": 2,
   "id": "932cf01d-a45f-42c3-af3a-a428c44e1312",
   "metadata": {},
   "outputs": [
    {
     "name": "stderr",
     "output_type": "stream",
     "text": [
      "cicada.transcript.assert_equal(cicada.arithmetic.Field(order=127).ones(shape=3), numpy.array([1, 1, 1], dtype=object))\n",
      "bg = numpy.random.PCG64()\n",
      "bg.state = {'bit_generator': 'PCG64', 'state': {'state': 88221332507650812248170653863690438510, 'inc': 273288545369419187234729099315440117963}, 'has_uint32': 0, 'uinteger': 0}\n",
      "cicada.transcript.assert_equal(cicada.arithmetic.Field(order=127).uniform(size=3, generator=numpy.random.Generator(bg)), numpy.array([117, 165, 104], dtype=object))\n",
      "lhs = numpy.array([1, 1, 1], dtype=object)\n",
      "cicada.arithmetic.Field(order=127).inplace_add(lhs=lhs, rhs=numpy.array([117, 165, 104], dtype=object))\n",
      "cicada.transcript.assert_equal(lhs, numpy.array([118, 39, 105], dtype=object))\n"
     ]
    }
   ],
   "source": [
    "with transcript.record():\n",
    "    transcript.set_handler(logging.getLogger(), transcript.code_handler())\n",
    "    \n",
    "    f = Field(order=127)\n",
    "    a = f.ones(3)\n",
    "    b = f.uniform(size=3, generator=numpy.random.default_rng())\n",
    "    f.inplace_add(a, b)"
   ]
  },
  {
   "cell_type": "code",
   "execution_count": 3,
   "id": "1c006822-e471-4c09-a867-24018b91c9d1",
   "metadata": {},
   "outputs": [
    {
     "name": "stderr",
     "output_type": "stream",
     "text": [
      "# Setup additive sharing\n",
      "# Setup additive sharing\n",
      "# Message: 0 --> 1 PRZS 1685451292360842857\n",
      "# Message: 1 --> 0 PRZS 3238122161416225759\n",
      "# Message: 0 <-- 1 PRZS 3238122161416225759\n",
      "# Message: 1 <-- 0 PRZS 1685451292360842857\n",
      "# Share some secrets\n",
      "# Share some secrets\n",
      "bg = numpy.random.PCG64()\n",
      "bg = numpy.random.PCG64()\n",
      "bg.state = {'bit_generator': 'PCG64', 'state': {'state': 247816158205751470819384481245865091408, 'inc': 108008629069543606498375294281344085539}, 'has_uint32': 0, 'uinteger': 0}\n",
      "bg.state = {'bit_generator': 'PCG64', 'state': {'state': 287884143178907621758436062634405776912, 'inc': 189683155270138228097256489891966366777}, 'has_uint32': 0, 'uinteger': 0}\n",
      "cicada.transcript.assert_equal(cicada.arithmetic.Field(order=127).uniform(size=(), generator=numpy.random.Generator(bg)), numpy.array(53, dtype=object))\n",
      "cicada.transcript.assert_equal(cicada.arithmetic.Field(order=127).uniform(size=(), generator=numpy.random.Generator(bg)), numpy.array(26, dtype=object))\n",
      "bg = numpy.random.PCG64()\n",
      "bg = numpy.random.PCG64()\n",
      "bg.state = {'bit_generator': 'PCG64', 'state': {'state': 287884143178907621758436062634405776912, 'inc': 189683155270138228097256489891966366777}, 'has_uint32': 0, 'uinteger': 0}\n",
      "bg.state = {'bit_generator': 'PCG64', 'state': {'state': 247816158205751470819384481245865091408, 'inc': 108008629069543606498375294281344085539}, 'has_uint32': 0, 'uinteger': 0}\n",
      "cicada.transcript.assert_equal(cicada.arithmetic.Field(order=127).uniform(size=(), generator=numpy.random.Generator(bg)), numpy.array(26, dtype=object))\n",
      "cicada.transcript.assert_equal(cicada.arithmetic.Field(order=127).uniform(size=(), generator=numpy.random.Generator(bg)), numpy.array(53, dtype=object))\n",
      "cicada.transcript.assert_equal(cicada.arithmetic.Field(order=127).inplace_subtract(lhs=numpy.array(53, dtype=object), rhs=numpy.array(26, dtype=object)), None)\n",
      "cicada.transcript.assert_equal(cicada.arithmetic.Field(order=127).inplace_subtract(lhs=numpy.array(26, dtype=object), rhs=numpy.array(53, dtype=object)), None)\n",
      "cicada.transcript.assert_equal(<cicada.przs.PRZSProtocol object at 0x1043fb2c0>.__call__(shape=()), numpy.array(27, dtype=object))\n",
      "cicada.transcript.assert_equal(<cicada.przs.PRZSProtocol object at 0x1043fb2c0>.__call__(shape=()), numpy.array(100, dtype=object))\n",
      "cicada.transcript.assert_equal(cicada.arithmetic.Field(order=127).__call__(object=numpy.array(8, dtype=object)), numpy.array(8, dtype=object))\n",
      "cicada.transcript.assert_equal(<cicada.additive.AdditiveProtocolSuite object at 0x1043fbb90>.share(src=0, secret=numpy.array(2, dtype=int64), shape=(), encoding=None), cicada.additive.AdditiveArrayShare(storage=100))\n",
      "cicada.transcript.assert_equal(cicada.encoding.FixedPoint(precision=2).encode(array=numpy.array(2, dtype=int64), field=cicada.arithmetic.Field(order=127)), numpy.array(8, dtype=object))\n",
      "bg = numpy.random.PCG64()\n",
      "lhs = numpy.array(27, dtype=object)\n",
      "bg.state = {'bit_generator': 'PCG64', 'state': {'state': 134967607944826084059386493734078652041, 'inc': 189683155270138228097256489891966366777}, 'has_uint32': 1, 'uinteger': 4043358123}\n",
      "cicada.arithmetic.Field(order=127).inplace_add(lhs=lhs, rhs=numpy.array(8, dtype=object))\n",
      "cicada.transcript.assert_equal(cicada.arithmetic.Field(order=127).uniform(size=(), generator=numpy.random.Generator(bg)), numpy.array(171, dtype=object))\n",
      "cicada.transcript.assert_equal(lhs, numpy.array(35, dtype=object))\n",
      "bg = numpy.random.PCG64()\n",
      "cicada.transcript.assert_equal(<cicada.additive.AdditiveProtocolSuite object at 0x104428f80>.share(src=0, secret=numpy.array(2, dtype=int64), shape=(), encoding=None), cicada.additive.AdditiveArrayShare(storage=35))\n",
      "bg.state = {'bit_generator': 'PCG64', 'state': {'state': 318849508467742826383924386181437999283, 'inc': 108008629069543606498375294281344085539}, 'has_uint32': 1, 'uinteger': 3939600005}\n",
      "bg = numpy.random.PCG64()\n",
      "cicada.transcript.assert_equal(cicada.arithmetic.Field(order=127).uniform(size=(), generator=numpy.random.Generator(bg)), numpy.array(133, dtype=object))\n",
      "bg.state = {'bit_generator': 'PCG64', 'state': {'state': 318849508467742826383924386181437999283, 'inc': 108008629069543606498375294281344085539}, 'has_uint32': 1, 'uinteger': 3939600005}\n",
      "cicada.transcript.assert_equal(cicada.arithmetic.Field(order=127).inplace_subtract(lhs=numpy.array(171, dtype=object), rhs=numpy.array(133, dtype=object)), None)\n",
      "cicada.transcript.assert_equal(cicada.arithmetic.Field(order=127).uniform(size=(), generator=numpy.random.Generator(bg)), numpy.array(133, dtype=object))\n",
      "cicada.transcript.assert_equal(<cicada.przs.PRZSProtocol object at 0x1043fb2c0>.__call__(shape=()), numpy.array(38, dtype=object))\n",
      "bg = numpy.random.PCG64()\n",
      "cicada.transcript.assert_equal(cicada.arithmetic.Field(order=127).__call__(object=numpy.array(12, dtype=object)), numpy.array(12, dtype=object))\n",
      "bg.state = {'bit_generator': 'PCG64', 'state': {'state': 134967607944826084059386493734078652041, 'inc': 189683155270138228097256489891966366777}, 'has_uint32': 1, 'uinteger': 4043358123}\n",
      "cicada.transcript.assert_equal(cicada.encoding.FixedPoint(precision=2).encode(array=numpy.array(3, dtype=int64), field=cicada.arithmetic.Field(order=127)), numpy.array(12, dtype=object))\n",
      "cicada.transcript.assert_equal(cicada.arithmetic.Field(order=127).uniform(size=(), generator=numpy.random.Generator(bg)), numpy.array(171, dtype=object))\n",
      "lhs = numpy.array(38, dtype=object)\n",
      "cicada.transcript.assert_equal(cicada.arithmetic.Field(order=127).inplace_subtract(lhs=numpy.array(133, dtype=object), rhs=numpy.array(171, dtype=object)), None)\n",
      "cicada.arithmetic.Field(order=127).inplace_add(lhs=lhs, rhs=numpy.array(12, dtype=object))\n",
      "cicada.transcript.assert_equal(<cicada.przs.PRZSProtocol object at 0x1043fb2c0>.__call__(shape=()), numpy.array(89, dtype=object))\n",
      "cicada.transcript.assert_equal(lhs, numpy.array(50, dtype=object))\n",
      "cicada.transcript.assert_equal(<cicada.additive.AdditiveProtocolSuite object at 0x104428f80>.share(src=1, secret=numpy.array(3, dtype=int64), shape=(), encoding=None), cicada.additive.AdditiveArrayShare(storage=89))\n",
      "cicada.transcript.assert_equal(<cicada.additive.AdditiveProtocolSuite object at 0x1043fbb90>.share(src=1, secret=numpy.array(3, dtype=int64), shape=(), encoding=None), cicada.additive.AdditiveArrayShare(storage=50))\n",
      "# Add some secrets\n",
      "# Add some secrets\n",
      "cicada.transcript.assert_equal(cicada.arithmetic.Field(order=127).add(lhs=numpy.array(35, dtype=object), rhs=numpy.array(89, dtype=object)), numpy.array(124, dtype=object))\n",
      "cicada.transcript.assert_equal(cicada.arithmetic.Field(order=127).add(lhs=numpy.array(100, dtype=object), rhs=numpy.array(50, dtype=object)), numpy.array(23, dtype=object))\n",
      "cicada.transcript.assert_equal(<cicada.additive.AdditiveProtocolSuite object at 0x104428f80>.field_add(lhs=cicada.additive.AdditiveArrayShare(storage=35), rhs=cicada.additive.AdditiveArrayShare(storage=89)), cicada.additive.AdditiveArrayShare(storage=124))\n",
      "cicada.transcript.assert_equal(<cicada.additive.AdditiveProtocolSuite object at 0x1043fbb90>.field_add(lhs=cicada.additive.AdditiveArrayShare(storage=100), rhs=cicada.additive.AdditiveArrayShare(storage=50)), cicada.additive.AdditiveArrayShare(storage=23))\n",
      "cicada.transcript.assert_equal(<cicada.additive.AdditiveProtocolSuite object at 0x104428f80>.add(lhs=cicada.additive.AdditiveArrayShare(storage=35), rhs=cicada.additive.AdditiveArrayShare(storage=89), encoding=None), cicada.additive.AdditiveArrayShare(storage=124))\n",
      "cicada.transcript.assert_equal(<cicada.additive.AdditiveProtocolSuite object at 0x1043fbb90>.add(lhs=cicada.additive.AdditiveArrayShare(storage=100), rhs=cicada.additive.AdditiveArrayShare(storage=50), encoding=None), cicada.additive.AdditiveArrayShare(storage=23))\n",
      "# Reveal the results\n",
      "# Reveal the results\n",
      "# Message: 0 --> 0 GATHER 124\n",
      "# Message: 1 --> 0 GATHER 23\n",
      "# Message: 0 <-- 0 GATHER 124\n",
      "# Message: 1 --> 1 GATHER 23\n",
      "# Message: 0 <-- 1 GATHER 23\n",
      "# Message: 1 <-- 1 GATHER 23\n",
      "lhs = numpy.array(124, dtype=object)\n",
      "cicada.arithmetic.Field(order=127).inplace_add(lhs=lhs, rhs=numpy.array(23, dtype=object))\n",
      "cicada.transcript.assert_equal(lhs, numpy.array(20, dtype=object))\n",
      "# Message: 0 --> 1 GATHER 124\n",
      "cicada.transcript.assert_equal(cicada.encoding.FixedPoint(precision=2).decode(array=numpy.array(20, dtype=object), field=cicada.arithmetic.Field(order=127)), numpy.array(5.0, dtype=float64))\n",
      "# Message: 1 <-- 0 GATHER 124\n",
      "cicada.transcript.assert_equal(<cicada.additive.AdditiveProtocolSuite object at 0x104428f80>.reveal(share=cicada.additive.AdditiveArrayShare(storage=124), dst=None, encoding=None), numpy.array(5.0, dtype=float64))\n",
      "lhs = numpy.array(124, dtype=object)\n",
      "cicada.arithmetic.Field(order=127).inplace_add(lhs=lhs, rhs=numpy.array(23, dtype=object))\n",
      "cicada.transcript.assert_equal(lhs, numpy.array(20, dtype=object))\n",
      "cicada.transcript.assert_equal(cicada.encoding.FixedPoint(precision=2).decode(array=numpy.array(20, dtype=object), field=cicada.arithmetic.Field(order=127)), numpy.array(5.0, dtype=float64))\n",
      "cicada.transcript.assert_equal(<cicada.additive.AdditiveProtocolSuite object at 0x1043fbb90>.reveal(share=cicada.additive.AdditiveArrayShare(storage=23), dst=None, encoding=None), numpy.array(5.0, dtype=float64))\n"
     ]
    }
   ],
   "source": [
    "from cicada.additive import AdditiveProtocolSuite\n",
    "from cicada.communicator import SocketCommunicator\n",
    "from cicada.encoding import FixedPoint\n",
    "\n",
    "def main(communicator):\n",
    "    transcript.log(\"Setup additive sharing\")\n",
    "    protocol = AdditiveProtocolSuite(communicator, order=127, encoding=FixedPoint(precision=2))\n",
    "    transcript.log(\"Share some secrets\")\n",
    "    a_share = protocol.share(src=0, secret=numpy.array(2), shape=())\n",
    "    b_share = protocol.share(src=1, secret=numpy.array(3), shape=())\n",
    "    transcript.log(\"Add some secrets\")\n",
    "    c_share = protocol.add(a_share, b_share)\n",
    "    transcript.log(\"Reveal the results\")\n",
    "    c = protocol.reveal(c_share)\n",
    "\n",
    "with transcript.record():\n",
    "    SocketCommunicator.run(fn=main, world_size=2);"
   ]
  },
  {
   "cell_type": "code",
   "execution_count": 4,
   "id": "e2b08270-b925-4532-bc34-a95be138face",
   "metadata": {},
   "outputs": [
    {
     "name": "stderr",
     "output_type": "stream",
     "text": [
      "# Setup additive sharing\n",
      "# Setup additive sharing\n",
      "0,1,PRZS,3374998151037602646\n",
      "1,0,PRZS,407189145387786579\n",
      "# Share some secrets\n",
      "# Share some secrets\n",
      "# Add some secrets\n",
      "# Add some secrets\n",
      "# Reveal the results\n",
      "# Reveal the results\n",
      "0,0,GATHER,53\n",
      "1,1,GATHER,94\n",
      "1,0,GATHER,94\n",
      "0,1,GATHER,53\n"
     ]
    }
   ],
   "source": [
    "def main(communicator):\n",
    "    transcript.set_handler(logging.getLogger(), transcript.netmsg_handler())\n",
    "    \n",
    "    transcript.log(\"Setup additive sharing\")\n",
    "    protocol = AdditiveProtocolSuite(communicator, order=127, encoding=FixedPoint(precision=2))\n",
    "    transcript.log(\"Share some secrets\")\n",
    "    a_share = protocol.share(src=0, secret=numpy.array(2), shape=())\n",
    "    b_share = protocol.share(src=1, secret=numpy.array(3), shape=())\n",
    "    transcript.log(\"Add some secrets\")\n",
    "    c_share = protocol.add(a_share, b_share)\n",
    "    transcript.log(\"Reveal the results\")\n",
    "    c = protocol.reveal(c_share)\n",
    "\n",
    "with transcript.record():\n",
    "    SocketCommunicator.run(fn=main, world_size=2);"
   ]
  }
 ],
 "metadata": {
  "celltoolbar": "Raw Cell Format",
  "kernelspec": {
   "display_name": "Python 3 (ipykernel)",
   "language": "python",
   "name": "python3"
  },
  "language_info": {
   "codemirror_mode": {
    "name": "ipython",
    "version": 3
   },
   "file_extension": ".py",
   "mimetype": "text/x-python",
   "name": "python",
   "nbconvert_exporter": "python",
   "pygments_lexer": "ipython3",
   "version": "3.12.2"
  }
 },
 "nbformat": 4,
 "nbformat_minor": 5
}
