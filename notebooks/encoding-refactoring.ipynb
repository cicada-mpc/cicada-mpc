{
 "cells": [
  {
   "cell_type": "markdown",
   "id": "93d5eab2",
   "metadata": {},
   "source": [
    "### Scheme-Specific Operations\n",
    "\n",
    "* share\n",
    "* reveal\n",
    "* reshare\n",
    "\n",
    "### Scheme-Specific Field Arithmetic Operations\n",
    "\n",
    "* add\n",
    "* subtract\n",
    "* multiply (formerly untruncated_multiply)\n",
    "* divide (formerly untruncated_divide)\n",
    "* right_shift (formerly truncate)\n",
    "\n",
    "### Scheme-Agnostic Field Arithmetic Operations\n",
    "\n",
    "* dot\n",
    "* equal\n",
    "* logical_and\n",
    "* logical_or\n",
    "* logical_not\n",
    "* logical_xor\n",
    "\n",
    "### Scheme-Agnostic, Encoding-Specific Operations\n",
    "\n",
    "* multiply (field multiply + right_shift)\n",
    "* divide (field divide + right_shift)\n",
    "* dot (field dot + right_shift)\n",
    "* floor\n",
    "* zigmoid\n",
    "* less?\n",
    "* less_than_zero?\n",
    "* min?\n",
    "* max?\n",
    "\n",
    "\n",
    "Note: \"Field Arithmetic\" is synonymous with \"Encoding-Agnostic\""
   ]
  }
 ],
 "metadata": {
  "kernelspec": {
   "display_name": "Python 3 (ipykernel)",
   "language": "python",
   "name": "python3"
  },
  "language_info": {
   "codemirror_mode": {
    "name": "ipython",
    "version": 3
   },
   "file_extension": ".py",
   "mimetype": "text/x-python",
   "name": "python",
   "nbconvert_exporter": "python",
   "pygments_lexer": "ipython3",
   "version": "3.9.5"
  }
 },
 "nbformat": 4,
 "nbformat_minor": 5
}
