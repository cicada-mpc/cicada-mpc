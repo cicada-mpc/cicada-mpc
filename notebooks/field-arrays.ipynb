{
 "cells": [
  {
   "cell_type": "code",
   "execution_count": 1,
   "id": "f86e9133-2047-492f-aa61-05d8ef8a1878",
   "metadata": {},
   "outputs": [],
   "source": [
    "import cicada.arithmetic"
   ]
  },
  {
   "cell_type": "code",
   "execution_count": 2,
   "id": "f3985fb2-7fe1-4b54-8c51-6712abf7d397",
   "metadata": {},
   "outputs": [
    {
     "data": {
      "text/plain": [
       "cicada.arithmetic.FieldArray"
      ]
     },
     "execution_count": 2,
     "metadata": {},
     "output_type": "execute_result"
    }
   ],
   "source": [
    "field = cicada.arithmetic.field(order=251)\n",
    "field"
   ]
  },
  {
   "cell_type": "code",
   "execution_count": 3,
   "id": "6381bfbd-1ff0-44bd-a89f-39c81139d864",
   "metadata": {},
   "outputs": [
    {
     "data": {
      "text/plain": [
       "FieldArray([1, 3, 5], order=251)"
      ]
     },
     "execution_count": 3,
     "metadata": {},
     "output_type": "execute_result"
    }
   ],
   "source": [
    "array = field([1, 3, 5])\n",
    "array"
   ]
  },
  {
   "cell_type": "code",
   "execution_count": 4,
   "id": "cc000ba7-03da-444c-a336-d4e993c7fd8e",
   "metadata": {},
   "outputs": [
    {
     "data": {
      "text/plain": [
       "dtype('O')"
      ]
     },
     "execution_count": 4,
     "metadata": {},
     "output_type": "execute_result"
    }
   ],
   "source": [
    "array.dtype"
   ]
  },
  {
   "cell_type": "code",
   "execution_count": 5,
   "id": "f937621b-1234-48fb-a41c-a83c5671589b",
   "metadata": {},
   "outputs": [
    {
     "data": {
      "text/plain": [
       "251"
      ]
     },
     "execution_count": 5,
     "metadata": {},
     "output_type": "execute_result"
    }
   ],
   "source": [
    "array.order"
   ]
  },
  {
   "cell_type": "code",
   "execution_count": 6,
   "id": "df8753ce-c197-4209-9c31-1db7d53b6317",
   "metadata": {},
   "outputs": [
    {
     "data": {
      "text/plain": [
       "int"
      ]
     },
     "execution_count": 6,
     "metadata": {},
     "output_type": "execute_result"
    }
   ],
   "source": [
    "type(array[0])"
   ]
  },
  {
   "cell_type": "code",
   "execution_count": 7,
   "id": "8905d441-916b-4dc4-bf02-c0763a52a4c3",
   "metadata": {},
   "outputs": [
    {
     "data": {
      "text/plain": [
       "FieldArray([3, 5], order=251)"
      ]
     },
     "execution_count": 7,
     "metadata": {},
     "output_type": "execute_result"
    }
   ],
   "source": [
    "array[1:]"
   ]
  },
  {
   "cell_type": "code",
   "execution_count": 8,
   "id": "71248d21-e8b0-4246-a5e6-0682e363256e",
   "metadata": {},
   "outputs": [
    {
     "data": {
      "text/plain": [
       "FieldArray([250, 1, 3], order=251)"
      ]
     },
     "execution_count": 8,
     "metadata": {},
     "output_type": "execute_result"
    }
   ],
   "source": [
    "array + 249"
   ]
  },
  {
   "cell_type": "code",
   "execution_count": 9,
   "id": "21c06461-99e5-4998-9e81-298cfaf116a9",
   "metadata": {},
   "outputs": [
    {
     "data": {
      "text/plain": [
       "FieldArray([0, 2, 4], order=251)"
      ]
     },
     "execution_count": 9,
     "metadata": {},
     "output_type": "execute_result"
    }
   ],
   "source": [
    "array += 250\n",
    "array"
   ]
  },
  {
   "cell_type": "code",
   "execution_count": 10,
   "id": "5c492afa-6831-4e69-8ef0-7d8203262f1e",
   "metadata": {},
   "outputs": [
    {
     "data": {
      "text/plain": [
       "cicada.arithmetic.FieldArray"
      ]
     },
     "execution_count": 10,
     "metadata": {},
     "output_type": "execute_result"
    }
   ],
   "source": [
    "type(array)"
   ]
  }
 ],
 "metadata": {
  "kernelspec": {
   "display_name": "Python 3 (ipykernel)",
   "language": "python",
   "name": "python3"
  },
  "language_info": {
   "codemirror_mode": {
    "name": "ipython",
    "version": 3
   },
   "file_extension": ".py",
   "mimetype": "text/x-python",
   "name": "python",
   "nbconvert_exporter": "python",
   "pygments_lexer": "ipython3",
   "version": "3.12.2"
  }
 },
 "nbformat": 4,
 "nbformat_minor": 5
}
