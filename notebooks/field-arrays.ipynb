{
 "cells": [
  {
   "cell_type": "code",
   "execution_count": 1,
   "id": "f86e9133-2047-492f-aa61-05d8ef8a1878",
   "metadata": {},
   "outputs": [],
   "source": [
    "import numpy\n",
    "\n",
    "import cicada.arithmetic"
   ]
  },
  {
   "cell_type": "markdown",
   "id": "8bb90fdd-cabd-4256-99bb-f0cecf5f7c4a",
   "metadata": {},
   "source": [
    "## Field Type"
   ]
  },
  {
   "cell_type": "code",
   "execution_count": 2,
   "id": "f3985fb2-7fe1-4b54-8c51-6712abf7d397",
   "metadata": {},
   "outputs": [
    {
     "data": {
      "text/plain": [
       "Field(order=251)"
      ]
     },
     "execution_count": 2,
     "metadata": {},
     "output_type": "execute_result"
    }
   ],
   "source": [
    "field = cicada.arithmetic.field(order=251)\n",
    "field"
   ]
  },
  {
   "cell_type": "code",
   "execution_count": 3,
   "id": "a1e214dc-cd4e-4125-97af-96c832e749b7",
   "metadata": {},
   "outputs": [
    {
     "data": {
      "text/plain": [
       "cicada.arithmetic.field.<locals>.FieldMeta"
      ]
     },
     "execution_count": 3,
     "metadata": {},
     "output_type": "execute_result"
    }
   ],
   "source": [
    "type(field)"
   ]
  },
  {
   "cell_type": "code",
   "execution_count": 4,
   "id": "40baba6e-b590-4ca5-8c6e-31200226bc24",
   "metadata": {},
   "outputs": [
    {
     "data": {
      "text/plain": [
       "True"
      ]
     },
     "execution_count": 4,
     "metadata": {},
     "output_type": "execute_result"
    }
   ],
   "source": [
    "isinstance(field, cicada.arithmetic.Field)"
   ]
  },
  {
   "cell_type": "code",
   "execution_count": 5,
   "id": "9f0a1ade-ba9d-4cc0-8015-740e8951c6e3",
   "metadata": {},
   "outputs": [
    {
     "data": {
      "text/plain": [
       "251"
      ]
     },
     "execution_count": 5,
     "metadata": {},
     "output_type": "execute_result"
    }
   ],
   "source": [
    "field.order"
   ]
  },
  {
   "cell_type": "code",
   "execution_count": 6,
   "id": "16fd4236-69f4-4e6d-a0c8-83e9fcc9eb42",
   "metadata": {},
   "outputs": [
    {
     "data": {
      "text/plain": [
       "8"
      ]
     },
     "execution_count": 6,
     "metadata": {},
     "output_type": "execute_result"
    }
   ],
   "source": [
    "field.bits"
   ]
  },
  {
   "cell_type": "code",
   "execution_count": 7,
   "id": "bbad546d-9277-4ffc-9917-66366e47e565",
   "metadata": {},
   "outputs": [
    {
     "data": {
      "text/plain": [
       "1"
      ]
     },
     "execution_count": 7,
     "metadata": {},
     "output_type": "execute_result"
    }
   ],
   "source": [
    "field.bytes"
   ]
  },
  {
   "cell_type": "code",
   "execution_count": 8,
   "id": "542aa1b0-d1be-49ba-a394-b78fe53fec40",
   "metadata": {},
   "outputs": [
    {
     "data": {
      "text/plain": [
       "object"
      ]
     },
     "execution_count": 8,
     "metadata": {},
     "output_type": "execute_result"
    }
   ],
   "source": [
    "field.dtype"
   ]
  },
  {
   "cell_type": "markdown",
   "id": "626179ce-e00c-4b39-83ae-01086331e4c2",
   "metadata": {},
   "source": [
    "## Field Operations"
   ]
  },
  {
   "cell_type": "code",
   "execution_count": 9,
   "id": "145dd47a-df7c-44c2-8fcd-48ab369ac0b5",
   "metadata": {},
   "outputs": [
    {
     "data": {
      "text/plain": [
       "FieldArray([4, 4, 4], order=251)"
      ]
     },
     "execution_count": 9,
     "metadata": {},
     "output_type": "execute_result"
    }
   ],
   "source": [
    "field.full(3, 4)"
   ]
  },
  {
   "cell_type": "code",
   "execution_count": 10,
   "id": "a542439c-7aea-4fb6-a268-793395ddc115",
   "metadata": {},
   "outputs": [
    {
     "data": {
      "text/plain": [
       "FieldArray([246, 246], order=251)"
      ]
     },
     "execution_count": 10,
     "metadata": {},
     "output_type": "execute_result"
    }
   ],
   "source": [
    "field.full_like(numpy.arange(2), -5)"
   ]
  },
  {
   "cell_type": "code",
   "execution_count": 11,
   "id": "a150ca02-612f-45cb-b32f-be73fe9ce951",
   "metadata": {},
   "outputs": [
    {
     "data": {
      "text/plain": [
       "FieldArray([1, 1, 1, 1], order=251)"
      ]
     },
     "execution_count": 11,
     "metadata": {},
     "output_type": "execute_result"
    }
   ],
   "source": [
    "field.ones(4)"
   ]
  },
  {
   "cell_type": "code",
   "execution_count": 12,
   "id": "53f64330-c838-4904-ae55-a6e5be198294",
   "metadata": {},
   "outputs": [
    {
     "data": {
      "text/plain": [
       "FieldArray([1, 1, 1, 1, 1], order=251)"
      ]
     },
     "execution_count": 12,
     "metadata": {},
     "output_type": "execute_result"
    }
   ],
   "source": [
    "field.ones_like(numpy.arange(5))"
   ]
  },
  {
   "cell_type": "code",
   "execution_count": 13,
   "id": "5b1ab4de-d03e-4f9c-9069-c7583d99e3ff",
   "metadata": {},
   "outputs": [
    {
     "data": {
      "text/plain": [
       "FieldArray([0, 0, 0], order=251)"
      ]
     },
     "execution_count": 13,
     "metadata": {},
     "output_type": "execute_result"
    }
   ],
   "source": [
    "field.zeros(3)"
   ]
  },
  {
   "cell_type": "code",
   "execution_count": 14,
   "id": "b714eb49-dcda-4771-b9c5-259a0c6ddd4a",
   "metadata": {},
   "outputs": [
    {
     "data": {
      "text/plain": [
       "FieldArray([0, 0], order=251)"
      ]
     },
     "execution_count": 14,
     "metadata": {},
     "output_type": "execute_result"
    }
   ],
   "source": [
    "field.zeros_like([3, 2])"
   ]
  },
  {
   "cell_type": "code",
   "execution_count": 15,
   "id": "778ccf77-a917-44f5-81dc-3f1eb2b018dd",
   "metadata": {},
   "outputs": [
    {
     "data": {
      "text/plain": [
       "FieldArray([[248, 87, 110, 97], [18, 154, 27, 219]], order=251)"
      ]
     },
     "execution_count": 15,
     "metadata": {},
     "output_type": "execute_result"
    }
   ],
   "source": [
    "field.uniform(size=(2, 4), generator=numpy.random.default_rng())"
   ]
  },
  {
   "cell_type": "code",
   "execution_count": 16,
   "id": "6381bfbd-1ff0-44bd-a89f-39c81139d864",
   "metadata": {},
   "outputs": [
    {
     "data": {
      "text/plain": [
       "FieldArray([1, 3, 5], order=251)"
      ]
     },
     "execution_count": 16,
     "metadata": {},
     "output_type": "execute_result"
    }
   ],
   "source": [
    "array = field([1, 3, 5])\n",
    "array"
   ]
  },
  {
   "cell_type": "markdown",
   "id": "7cc72f06-3405-42c8-8220-7bd3bb14a7a6",
   "metadata": {},
   "source": [
    "## Array Type"
   ]
  },
  {
   "cell_type": "code",
   "execution_count": 17,
   "id": "5c492afa-6831-4e69-8ef0-7d8203262f1e",
   "metadata": {},
   "outputs": [
    {
     "data": {
      "text/plain": [
       "Field(order=251)"
      ]
     },
     "execution_count": 17,
     "metadata": {},
     "output_type": "execute_result"
    }
   ],
   "source": [
    "type(array)"
   ]
  },
  {
   "cell_type": "code",
   "execution_count": 18,
   "id": "889811e5-b857-4c57-9ce9-f2c2c7238cdc",
   "metadata": {},
   "outputs": [
    {
     "data": {
      "text/plain": [
       "True"
      ]
     },
     "execution_count": 18,
     "metadata": {},
     "output_type": "execute_result"
    }
   ],
   "source": [
    "isinstance(array, field)"
   ]
  },
  {
   "cell_type": "code",
   "execution_count": 19,
   "id": "4812fdf5-3359-430a-9aba-4e7cc3b93024",
   "metadata": {},
   "outputs": [
    {
     "data": {
      "text/plain": [
       "True"
      ]
     },
     "execution_count": 19,
     "metadata": {},
     "output_type": "execute_result"
    }
   ],
   "source": [
    "isinstance(array, cicada.arithmetic.FieldArray)"
   ]
  },
  {
   "cell_type": "code",
   "execution_count": 20,
   "id": "cc000ba7-03da-444c-a336-d4e993c7fd8e",
   "metadata": {},
   "outputs": [
    {
     "data": {
      "text/plain": [
       "dtype('O')"
      ]
     },
     "execution_count": 20,
     "metadata": {},
     "output_type": "execute_result"
    }
   ],
   "source": [
    "array.dtype"
   ]
  },
  {
   "cell_type": "code",
   "execution_count": 21,
   "id": "df8753ce-c197-4209-9c31-1db7d53b6317",
   "metadata": {},
   "outputs": [
    {
     "data": {
      "text/plain": [
       "int"
      ]
     },
     "execution_count": 21,
     "metadata": {},
     "output_type": "execute_result"
    }
   ],
   "source": [
    "type(array[0])"
   ]
  },
  {
   "cell_type": "markdown",
   "id": "e54a1e9a-c676-464f-9c05-187812a72e8f",
   "metadata": {},
   "source": [
    "## Array Operations"
   ]
  },
  {
   "cell_type": "code",
   "execution_count": 22,
   "id": "8905d441-916b-4dc4-bf02-c0763a52a4c3",
   "metadata": {},
   "outputs": [
    {
     "data": {
      "text/plain": [
       "FieldArray([3, 5], order=251)"
      ]
     },
     "execution_count": 22,
     "metadata": {},
     "output_type": "execute_result"
    }
   ],
   "source": [
    "array[1:]"
   ]
  },
  {
   "cell_type": "code",
   "execution_count": 23,
   "id": "71248d21-e8b0-4246-a5e6-0682e363256e",
   "metadata": {},
   "outputs": [
    {
     "data": {
      "text/plain": [
       "FieldArray([250, 1, 3], order=251)"
      ]
     },
     "execution_count": 23,
     "metadata": {},
     "output_type": "execute_result"
    }
   ],
   "source": [
    "array + field(249)"
   ]
  },
  {
   "cell_type": "code",
   "execution_count": 24,
   "id": "21c06461-99e5-4998-9e81-298cfaf116a9",
   "metadata": {},
   "outputs": [
    {
     "data": {
      "text/plain": [
       "FieldArray([0, 2, 4], order=251)"
      ]
     },
     "execution_count": 24,
     "metadata": {},
     "output_type": "execute_result"
    }
   ],
   "source": [
    "array += field(250)\n",
    "array"
   ]
  },
  {
   "cell_type": "code",
   "execution_count": 25,
   "id": "0cc5a953-ab74-4d58-a5af-e4e7ca7b1a3b",
   "metadata": {},
   "outputs": [
    {
     "data": {
      "text/plain": [
       "FieldArray([250, 1, 3], order=251)"
      ]
     },
     "execution_count": 25,
     "metadata": {},
     "output_type": "execute_result"
    }
   ],
   "source": [
    "array - field(1)"
   ]
  },
  {
   "cell_type": "code",
   "execution_count": 26,
   "id": "2e522211-6c5c-4372-a75d-be7d8d77c008",
   "metadata": {},
   "outputs": [
    {
     "data": {
      "text/plain": [
       "FieldArray([249, 0, 2], order=251)"
      ]
     },
     "execution_count": 26,
     "metadata": {},
     "output_type": "execute_result"
    }
   ],
   "source": [
    "array -= field(2)\n",
    "array"
   ]
  },
  {
   "cell_type": "code",
   "execution_count": 27,
   "id": "22eefd0b-1ad8-4ca7-b59e-7d17a316234d",
   "metadata": {},
   "outputs": [
    {
     "data": {
      "text/plain": [
       "FieldArray([2, 0, 249], order=251)"
      ]
     },
     "execution_count": 27,
     "metadata": {},
     "output_type": "execute_result"
    }
   ],
   "source": [
    "array.negative()"
   ]
  },
  {
   "cell_type": "code",
   "execution_count": 28,
   "id": "58fe3345-2713-4955-80dd-b72db0a8c959",
   "metadata": {},
   "outputs": [
    {
     "data": {
      "text/plain": [
       "FieldArray([2, 0, 249], order=251)"
      ]
     },
     "execution_count": 28,
     "metadata": {},
     "output_type": "execute_result"
    }
   ],
   "source": [
    "-array"
   ]
  },
  {
   "cell_type": "code",
   "execution_count": 29,
   "id": "2677de88-1787-4c86-a6d1-411589ec94c0",
   "metadata": {},
   "outputs": [
    {
     "data": {
      "text/plain": [
       "FieldArray(0, order=251)"
      ]
     },
     "execution_count": 29,
     "metadata": {},
     "output_type": "execute_result"
    }
   ],
   "source": [
    "array.sum()"
   ]
  },
  {
   "cell_type": "code",
   "execution_count": 30,
   "id": "d2bd3d76-fee4-4a34-96d3-c7135d6f73ee",
   "metadata": {},
   "outputs": [
    {
     "data": {
      "text/plain": [
       "FieldArray(14, order=251)"
      ]
     },
     "execution_count": 30,
     "metadata": {},
     "output_type": "execute_result"
    }
   ],
   "source": [
    "numpy.sum(field([245, 20]))"
   ]
  },
  {
   "cell_type": "code",
   "execution_count": 31,
   "id": "b1d6a98c-7e87-4245-8ffe-6174060477f7",
   "metadata": {},
   "outputs": [
    {
     "data": {
      "text/plain": [
       "FieldArray([3, 7], order=251)"
      ]
     },
     "execution_count": 31,
     "metadata": {},
     "output_type": "execute_result"
    }
   ],
   "source": [
    "numpy.sum(field([[1, 2], [3, 4]]), axis=1)"
   ]
  },
  {
   "cell_type": "code",
   "execution_count": 32,
   "id": "8e7f6159-fdde-465c-ae5d-d6a3d7cf539b",
   "metadata": {},
   "outputs": [
    {
     "data": {
      "text/plain": [
       "FieldArray([4, 6], order=251)"
      ]
     },
     "execution_count": 32,
     "metadata": {},
     "output_type": "execute_result"
    }
   ],
   "source": [
    "field([[1, 2], [3, 4]]).sum(axis=0)"
   ]
  },
  {
   "cell_type": "code",
   "execution_count": 33,
   "id": "e8e038e3-bf99-4c90-8b3c-96d7ed99ca5b",
   "metadata": {},
   "outputs": [
    {
     "data": {
      "text/plain": [
       "FieldArray([243, 0, 8], order=251)"
      ]
     },
     "execution_count": 33,
     "metadata": {},
     "output_type": "execute_result"
    }
   ],
   "source": [
    "array * field(4)"
   ]
  },
  {
   "cell_type": "code",
   "execution_count": 34,
   "id": "122d4d67-5c4b-4481-b6ae-e360a2faa142",
   "metadata": {},
   "outputs": [
    {
     "data": {
      "text/plain": [
       "FieldArray([243, 0, 8], order=251)"
      ]
     },
     "execution_count": 34,
     "metadata": {},
     "output_type": "execute_result"
    }
   ],
   "source": [
    "array *= field(4)\n",
    "array"
   ]
  },
  {
   "cell_type": "markdown",
   "id": "217b278a-a604-4799-bc1e-fc759cbb2abd",
   "metadata": {},
   "source": [
    "## Type Safety"
   ]
  },
  {
   "cell_type": "code",
   "execution_count": 35,
   "id": "147069e2-8c1f-4a85-b44c-7b5e9e4df64b",
   "metadata": {},
   "outputs": [],
   "source": [
    "f1 = cicada.arithmetic.field(order=7)\n",
    "f2 = cicada.arithmetic.field(order=251)"
   ]
  },
  {
   "cell_type": "code",
   "execution_count": 36,
   "id": "568810d1-f0a5-4731-807c-c035b055a722",
   "metadata": {},
   "outputs": [
    {
     "name": "stdout",
     "output_type": "stream",
     "text": [
      "Cannot multiply arrays from different fields Field(order=7) and Field(order=251).\n"
     ]
    }
   ],
   "source": [
    "try:\n",
    "    f1(3) * f2(2)\n",
    "except ValueError as e:\n",
    "    print(e)"
   ]
  },
  {
   "cell_type": "code",
   "execution_count": 37,
   "id": "ab57104e-e9fe-425a-b111-702ca0870c26",
   "metadata": {},
   "outputs": [
    {
     "name": "stdout",
     "output_type": "stream",
     "text": [
      "Cannot add arrays from different fields Field(order=7) and Field(order=251).\n"
     ]
    }
   ],
   "source": [
    "try:\n",
    "    f1(3) + f2(2)\n",
    "except ValueError as e:\n",
    "    print(e)"
   ]
  },
  {
   "cell_type": "code",
   "execution_count": 38,
   "id": "2cf6b07b-f1be-4f2c-9c7d-f315ced78ba8",
   "metadata": {},
   "outputs": [
    {
     "name": "stdout",
     "output_type": "stream",
     "text": [
      "Cannot subtract arrays from different fields Field(order=7) and Field(order=251).\n"
     ]
    }
   ],
   "source": [
    "try:\n",
    "    f1(3) - f2(2)\n",
    "except ValueError as e:\n",
    "    print(e)"
   ]
  },
  {
   "cell_type": "code",
   "execution_count": 39,
   "id": "40313165-5ed4-4a36-8aa4-1903c2c57b28",
   "metadata": {},
   "outputs": [
    {
     "name": "stdout",
     "output_type": "stream",
     "text": [
      "Field values must be in the range [0, 251).\n"
     ]
    }
   ],
   "source": [
    "try:\n",
    "    field([250, 251, 252])\n",
    "except ValueError as e:\n",
    "    print(e)"
   ]
  },
  {
   "cell_type": "code",
   "execution_count": 40,
   "id": "db638304-7cd4-4409-a362-dff80259e9d7",
   "metadata": {},
   "outputs": [
    {
     "name": "stdout",
     "output_type": "stream",
     "text": [
      "Field values must be in the range [0, 251).\n"
     ]
    }
   ],
   "source": [
    "try:\n",
    "    field([-1])\n",
    "except ValueError as e:\n",
    "    print(e)"
   ]
  },
  {
   "cell_type": "code",
   "execution_count": 41,
   "id": "02563276-258b-41c0-b0da-5ff0a50a55ba",
   "metadata": {},
   "outputs": [
    {
     "name": "stdout",
     "output_type": "stream",
     "text": [
      "Field values must be integers, 'foo' is not allowed.\n"
     ]
    }
   ],
   "source": [
    "try:\n",
    "    field([1, 2, \"foo\"])\n",
    "except ValueError as e:\n",
    "    print(e)"
   ]
  },
  {
   "cell_type": "markdown",
   "id": "de261b46-cbf0-488e-967a-05d5d9d20b31",
   "metadata": {},
   "source": [
    "## Field Array Pickling"
   ]
  },
  {
   "cell_type": "code",
   "execution_count": 42,
   "id": "9ae70ba6-53b1-4c64-ab25-d4119562f92b",
   "metadata": {},
   "outputs": [],
   "source": [
    "import pickle"
   ]
  },
  {
   "cell_type": "code",
   "execution_count": 43,
   "id": "ee5c747f-7e82-469c-a2ad-ee5196b411c6",
   "metadata": {},
   "outputs": [
    {
     "data": {
      "text/plain": [
       "Field(order=18446744073709551557)"
      ]
     },
     "execution_count": 43,
     "metadata": {},
     "output_type": "execute_result"
    }
   ],
   "source": [
    "field = cicada.arithmetic.field()\n",
    "field"
   ]
  },
  {
   "cell_type": "code",
   "execution_count": 44,
   "id": "2043dd4d-6042-4c93-a37e-5d18acee8f7a",
   "metadata": {},
   "outputs": [
    {
     "data": {
      "text/plain": [
       "FieldArray([1, 2, 3], order=18446744073709551557)"
      ]
     },
     "execution_count": 44,
     "metadata": {},
     "output_type": "execute_result"
    }
   ],
   "source": [
    "array = field([1, 2, 3])\n",
    "array"
   ]
  },
  {
   "cell_type": "code",
   "execution_count": 45,
   "id": "b0f6ecda-42f4-4359-b76c-eb9f62480e54",
   "metadata": {},
   "outputs": [
    {
     "data": {
      "text/plain": [
       "b'\\x80\\x04\\x95\\xc4\\x00\\x00\\x00\\x00\\x00\\x00\\x00\\x8c\\x11cicada.arithmetic\\x94\\x8c\\x0c_reconstruct\\x94\\x93\\x94\\x8a\\t\\xc5\\xff\\xff\\xff\\xff\\xff\\xff\\xff\\x00\\x85\\x94R\\x94\\x8c\\x16numpy._core.multiarray\\x94\\x8c\\x0c_reconstruct\\x94\\x93\\x94\\x8c\\x05numpy\\x94\\x8c\\x07ndarray\\x94\\x93\\x94K\\x00\\x85\\x94C\\x01b\\x94\\x87\\x94(K\\x01K\\x03\\x85\\x94h\\x08\\x8c\\x05dtype\\x94\\x93\\x94\\x8c\\x02O8\\x94\\x89\\x88\\x87\\x94R\\x94(K\\x03\\x8c\\x01|\\x94NNNJ\\xff\\xff\\xff\\xffJ\\xff\\xff\\xff\\xffK?t\\x94b\\x89]\\x94(K\\x01K\\x02K\\x03et\\x94\\x87\\x94b.'"
      ]
     },
     "execution_count": 45,
     "metadata": {},
     "output_type": "execute_result"
    }
   ],
   "source": [
    "pickle.dumps(array)"
   ]
  },
  {
   "cell_type": "code",
   "execution_count": 46,
   "id": "5fa640c0-2547-4dc4-87d0-ac54f0864eb1",
   "metadata": {},
   "outputs": [
    {
     "data": {
      "text/plain": [
       "FieldArray([1, 2, 3], order=18446744073709551557)"
      ]
     },
     "execution_count": 46,
     "metadata": {},
     "output_type": "execute_result"
    }
   ],
   "source": [
    "pickle.loads(pickle.dumps(array))"
   ]
  }
 ],
 "metadata": {
  "kernelspec": {
   "display_name": "Python 3 (ipykernel)",
   "language": "python",
   "name": "python3"
  },
  "language_info": {
   "codemirror_mode": {
    "name": "ipython",
    "version": 3
   },
   "file_extension": ".py",
   "mimetype": "text/x-python",
   "name": "python",
   "nbconvert_exporter": "python",
   "pygments_lexer": "ipython3",
   "version": "3.12.2"
  }
 },
 "nbformat": 4,
 "nbformat_minor": 5
}
