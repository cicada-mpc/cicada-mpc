{
 "cells": [
  {
   "cell_type": "code",
   "execution_count": 3,
   "id": "903c096a",
   "metadata": {},
   "outputs": [
    {
     "name": "stderr",
     "output_type": "stream",
     "text": [
      "INFO:root:Player 0 squared value: 6.25\n",
      "INFO:root:Player 1 squared value: 6.25\n",
      "INFO:root:Player 2 squared value: 6.25\n",
      "INFO:root:Player 3 squared value: 6.25\n",
      "INFO:root:Player 4 squared value: 6.25\n",
      "INFO:root:Player 5 squared value: 6.25\n",
      "INFO:root:Player 6 squared value: 6.25\n",
      "INFO:root:Player 7 squared value: 6.25\n"
     ]
    }
   ],
   "source": [
    "import logging\n",
    "\n",
    "import numpy\n",
    "\n",
    "import cicada.shamir\n",
    "from cicada.communicator import SocketCommunicator\n",
    "\n",
    "logging.basicConfig(level=logging.INFO)\n",
    "\n",
    "def main(communicator):\n",
    "    log = cicada.Logger(logging.getLogger(), communicator)\n",
    "    protocol = cicada.shamir.ShamirProtocol(communicator, threshold=4)\n",
    "\n",
    "    value = numpy.array(2.5) if communicator.rank == 0 else None\n",
    "    \n",
    "    value_share = protocol.share(secret=protocol.encoder.encode(value), src=0, shape=())\n",
    "    square_share = protocol.untruncated_multiply(value_share, value_share)\n",
    "    square_share = protocol.truncate(square_share)\n",
    "    square = protocol.encoder.decode(protocol.reveal(square_share))\n",
    "\n",
    "    log.info(f\"Player {communicator.rank} squared value: {square}\")\n",
    "\n",
    "SocketCommunicator.run(world_size=8, fn=main);"
   ]
  },
  {
   "cell_type": "markdown",
   "id": "c2deb285",
   "metadata": {},
   "source": [
    "| n | largest k that produces a correct answer |\n",
    "| - | :--------------------------------------- |\n",
    "| 3 | 2 |\n",
    "| 4 | 2 |\n",
    "| 5 | 3 |\n",
    "| 6 | 3 |\n",
    "| 7 | 4 |\n",
    "| 8 | 4 |"
   ]
  }
 ],
 "metadata": {
  "kernelspec": {
   "display_name": "Python 3 (ipykernel)",
   "language": "python",
   "name": "python3"
  },
  "language_info": {
   "codemirror_mode": {
    "name": "ipython",
    "version": 3
   },
   "file_extension": ".py",
   "mimetype": "text/x-python",
   "name": "python",
   "nbconvert_exporter": "python",
   "pygments_lexer": "ipython3",
   "version": "3.8.10"
  }
 },
 "nbformat": 4,
 "nbformat_minor": 5
}
