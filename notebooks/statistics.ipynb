{
 "cells": [
  {
   "cell_type": "markdown",
   "id": "8ae265a0",
   "metadata": {},
   "source": [
    "# Communicator Statistics\n",
    "\n",
    "\n",
    "Sample API:\n",
    "\n",
    "```\n",
    "stats = communicator.stats\n",
    "\n",
    "stats.total.sent.bytes\n",
    "stats.total.sent.messages\n",
    "stats.total.received.bytes\n",
    "stats.total.received.messages\n",
    "\n",
    "stats.player[3].sent.bytes\n",
    "stats.player[2].received.messages\n",
    "\n",
    "stats.tag[Tags.SCATTERV].sent.bytes\n",
    "stats.tag[42].received.messages\n",
    "```"
   ]
  },
  {
   "cell_type": "code",
   "execution_count": 4,
   "id": "4cb6f3c7",
   "metadata": {},
   "outputs": [
    {
     "name": "stderr",
     "output_type": "stream",
     "text": [
      "INFO:root:Player 0 secret a: 2\n",
      "INFO:root:Player 1 secret b: 3.5\n",
      "INFO:root:Player 0 share of a: cicada.additive.AdditiveArrayShare(storage=8328932880093746165)\n",
      "INFO:root:Player 1 share of a: cicada.additive.AdditiveArrayShare(storage=10686269101656906323)\n",
      "INFO:root:Player 2 share of a: cicada.additive.AdditiveArrayShare(storage=17878286165668581698)\n",
      "INFO:root:Player 0 share of b: cicada.additive.AdditiveArrayShare(storage=6770388348323807086)\n",
      "INFO:root:Player 1 share of b: cicada.additive.AdditiveArrayShare(storage=12542525889931524057)\n",
      "INFO:root:Player 2 share of b: cicada.additive.AdditiveArrayShare(storage=17580573909164001347)\n",
      "INFO:root:Player 0 share of sum: cicada.additive.AdditiveArrayShare(storage=15099321228417553251)\n",
      "INFO:root:Player 1 share of sum: cicada.additive.AdditiveArrayShare(storage=4782050917878878823)\n",
      "INFO:root:Player 2 share of sum: cicada.additive.AdditiveArrayShare(storage=17012116001123031488)\n",
      "INFO:root:Player 0 sum: 5.5\n",
      "INFO:root:Player 1 sum: 5.5\n",
      "INFO:root:Player 2 sum: 5.5\n",
      "INFO:root:Player 0 {'sent': {'messages': 3}, 'received': {'messages': 3}}\n",
      "INFO:root:Player 1 {'sent': {'messages': 3}, 'received': {'messages': 3}}\n",
      "INFO:root:Player 2 {'sent': {'messages': 3}, 'received': {'messages': 3}}\n"
     ]
    }
   ],
   "source": [
    "import logging\n",
    "import pprint\n",
    "\n",
    "import munch\n",
    "import numpy\n",
    "\n",
    "from cicada.communicator.interface import Tags\n",
    "import cicada.communicator\n",
    "import cicada.encoder\n",
    "import cicada.additive\n",
    "\n",
    "logging.basicConfig(level=logging.INFO)\n",
    "\n",
    "def main(communicator):\n",
    "    log = cicada.Logger(logging.getLogger(), communicator)\n",
    "    protocol = cicada.additive.AdditiveProtocol(communicator)\n",
    "\n",
    "    secret_a = numpy.array(2) if communicator.rank == 0 else None\n",
    "    secret_b = numpy.array(3.5) if communicator.rank == 1 else None\n",
    "\n",
    "    log.info(f\"Player {communicator.rank} secret a: {secret_a}\", src=0)\n",
    "    log.info(f\"Player {communicator.rank} secret b: {secret_b}\", src=1)\n",
    "\n",
    "    a_share = protocol.share(src=0, secret=protocol.encoder.encode(secret_a), shape=())\n",
    "    b_share = protocol.share(src=1, secret=protocol.encoder.encode(secret_b), shape=())\n",
    "\n",
    "    log.info(f\"Player {communicator.rank} share of a: {a_share}\")\n",
    "    log.info(f\"Player {communicator.rank} share of b: {b_share}\")\n",
    "\n",
    "    sum_share = protocol.add(a_share, b_share)\n",
    "\n",
    "    log.info(f\"Player {communicator.rank} share of sum: {sum_share}\")\n",
    "\n",
    "    sum = protocol.encoder.decode(protocol.reveal(sum_share))\n",
    "\n",
    "    log.info(f\"Player {communicator.rank} sum: {sum}\")\n",
    "    \n",
    "    stats = munch.Munch(communicator.stats)\n",
    "    #log.info(f\"Player {communicator.rank} {stats.total.sent.bytes} {stats.total.received.bytes}\")\n",
    "    #log.info(f\"Player {communicator.rank} {stats.tag.keys()}\")\n",
    "    log.info(f\"Player {communicator.rank} {stats.tag[Tags.GATHER]}\")\n",
    "\n",
    "cicada.communicator.SocketCommunicator.run(world_size=3, fn=main);"
   ]
  },
  {
   "cell_type": "code",
   "execution_count": null,
   "id": "920f625b",
   "metadata": {},
   "outputs": [],
   "source": []
  }
 ],
 "metadata": {
  "kernelspec": {
   "display_name": "Python 3 (ipykernel)",
   "language": "python",
   "name": "python3"
  },
  "language_info": {
   "codemirror_mode": {
    "name": "ipython",
    "version": 3
   },
   "file_extension": ".py",
   "mimetype": "text/x-python",
   "name": "python",
   "nbconvert_exporter": "python",
   "pygments_lexer": "ipython3",
   "version": "3.8.10"
  }
 },
 "nbformat": 4,
 "nbformat_minor": 5
}
