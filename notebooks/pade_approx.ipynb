{
 "cells": [
  {
   "cell_type": "markdown",
   "metadata": {},
   "source": [
    "# Padé appproximation"
   ]
  },
  {
   "cell_type": "code",
   "execution_count": 1,
   "metadata": {},
   "outputs": [
    {
     "name": "stderr",
     "output_type": "stream",
     "text": [
      "INFO:root:Player 0 values: 1\n",
      "INFO:root:Player 1 values: 1\n",
      "INFO:root:Player 2 values: 1\n",
      "INFO:root:Player 0 pade_tanh(1): -0.00532910190130071 vs tanh(1): 0.7615941559557649\n",
      "INFO:root:Player 1 pade_tanh(1): -0.00532910190130071 vs tanh(1): 0.7615941559557649\n",
      "INFO:root:Player 2 pade_tanh(1): -0.00532910190130071 vs tanh(1): 0.7615941559557649\n",
      "100%|███████████████████████████████████████████████████████████████████████████████████| 20/20 [00:02<00:00,  7.03it/s]\n",
      "\n",
      "100%|███████████████████████████████████████████████████████████████████████████████████| 20/20 [00:02<00:00,  7.02it/s]\n"
     ]
    },
    {
     "name": "stdout",
     "output_type": "stream",
     "text": [
      "0.43669584918135845 0.23378196059971137\n"
     ]
    },
    {
     "name": "stderr",
     "output_type": "stream",
     "text": [
      "WARNING:cicada.communicator.socket:Comm world player 1 failed: NameError(\"name 'pn' is not defined\")\n",
      "ERROR:cicada.communicator.socket:********************************************************************************\n",
      "ERROR:cicada.communicator.socket:Comm world player 1 traceback:\n",
      "ERROR:cicada.communicator.socket:Traceback (most recent call last):\n",
      "  File \"/home/kgoss/git/cicada-mpc/cicada/communicator/socket/__init__.py\", line 784, in launch\n",
      "    result = fn(communicator, *args, **kwargs)\n",
      "  File \"/tmp/ipykernel_12294/2734818129.py\", line 35, in main\n",
      "    print(pn(1)/pd(1))\n",
      "NameError: name 'pn' is not defined\n",
      "\n"
     ]
    }
   ],
   "source": [
    "import logging\n",
    "\n",
    "import numpy\n",
    "\n",
    "import cicada\n",
    "from cicada.additive import AdditiveProtocolSuite\n",
    "from cicada.communicator import SocketCommunicator\n",
    "\n",
    "from statistics import mean, stdev\n",
    "from tqdm import *\n",
    "\n",
    "logging.basicConfig(level=logging.INFO)\n",
    "\n",
    "def main(communicator):\n",
    "    log = cicada.Logger(logging.getLogger(), communicator)\n",
    "    protocol = AdditiveProtocolSuite(communicator)\n",
    "\n",
    "    values = numpy.array(1)\n",
    "    log.info(f\"Player {communicator.rank} values: {values}\")\n",
    "\n",
    "    values_share = protocol.share(src=0, secret=values, shape=())\n",
    "    pade_tanh_share = protocol._pade_approx(numpy.tanh, values_share)\n",
    "    pade_tanh = pade_tanh_share\n",
    "    log.info(f\"Player {communicator.rank} pade_tanh({values}): {pade_tanh} vs tanh({values}): {numpy.tanh(values)}\")\n",
    "    abs_err_list = []\n",
    "    for i in tqdm(numpy.arange(-1, 1, .1)):\n",
    "        cic_pade_tanh = protocol._pade_approx(numpy.tanh, protocol.share(src=0, secret=numpy.array(i), shape=()))\n",
    "        legit_tanh = numpy.tanh(i)\n",
    "        abs_err_list.append(abs(legit_tanh-cic_pade_tanh))\n",
    "    \n",
    "\n",
    "    \n",
    "    if communicator.rank ==1:\n",
    "        print(mean(abs_err_list), stdev(abs_err_list))\n",
    "        print(pn(1)/pd(1))\n",
    "\n",
    "SocketCommunicator.run(world_size=3, fn=main);"
   ]
  },
  {
   "cell_type": "code",
   "execution_count": 3,
   "metadata": {},
   "outputs": [
    {
     "name": "stdout",
     "output_type": "stream",
     "text": [
      "-0.00533113419753974\n"
     ]
    }
   ],
   "source": [
    "from scipy.interpolate import approximate_taylor_polynomial, pade\n",
    "degree = 9\n",
    "func_taylor = approximate_taylor_polynomial(numpy.tanh, 0, degree, 1)\n",
    "paden, paded = pade(func_taylor, degree//2, degree%2+degree//2)\n",
    "print(paden(1)/paded(1))"
   ]
  },
  {
   "cell_type": "code",
   "execution_count": null,
   "metadata": {},
   "outputs": [],
   "source": []
  }
 ],
 "metadata": {
  "kernelspec": {
   "display_name": "Python 3 (ipykernel)",
   "language": "python",
   "name": "python3"
  },
  "language_info": {
   "codemirror_mode": {
    "name": "ipython",
    "version": 3
   },
   "file_extension": ".py",
   "mimetype": "text/x-python",
   "name": "python",
   "nbconvert_exporter": "python",
   "pygments_lexer": "ipython3",
   "version": "3.10.4"
  }
 },
 "nbformat": 4,
 "nbformat_minor": 2
}
