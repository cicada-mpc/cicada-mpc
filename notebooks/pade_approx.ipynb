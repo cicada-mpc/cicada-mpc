{
 "cells": [
  {
   "cell_type": "markdown",
   "metadata": {},
   "source": [
    "# Padé appproximation"
   ]
  },
  {
   "cell_type": "code",
   "execution_count": 1,
   "metadata": {},
   "outputs": [
    {
     "name": "stderr",
     "output_type": "stream",
     "text": [
      "INFO:root:Player 0 values: -1\n",
      "INFO:root:Player 1 values: -1\n",
      "INFO:root:Player 2 values: -1\n",
      "INFO:root:Player 0 pade_tanh(-1): -0.7627071286262695 vs tanh(-1): -0.7615941559557649\n",
      "INFO:root:Player 1 pade_tanh(-1): -0.7627071286262695 vs tanh(-1): -0.7615941559557649\n",
      "INFO:root:Player 2 pade_tanh(-1): -0.7627071286262695 vs tanh(-1): -0.7615941559557649\n"
     ]
    },
    {
     "name": "stdout",
     "output_type": "stream",
     "text": [
      "-0.7615941559557649 -0.7627071286262695 0.0011129726705046972\n",
      "-0.7162978701990245 -0.803611258629846 0.08731338843082148\n",
      "-0.664036770267849 -0.8452953030537901 0.18125853278594106\n",
      "-0.6043677771171635 -0.8882166310042057 0.2838488538870422\n",
      "-0.5370495669980353 -0.9362973760932944 0.39924780909525914\n",
      "-0.4621171572600098-1.0002931691586046  0.5381760118985948\n",
      "-0.379948962255225 -1.0926885434657456 0.7127395812105206\n",
      "-0.29131261245159107 -1.18698347107438 0.8956708586227891\n",
      "-0.19737532022490417 -1.144215530903328 0.9468402106784237\n",
      "-0.09966799462495601 -0.780439121756487 0.680771127131531\n",
      "-2.220446049250313e-16 -0.13814432989690723 0.138144329896907\n",
      "0.09966799462495547 0.4903339191564148 -0.3906659245314593\n",
      "0.19737532022490373 0.8638613861386139 -0.6664860659137102\n",
      "0.29131261245159074 0.9911045218680504 -0.6997919094164597\n",
      "0.3799489622552246 0.998417095370004 -0.6184681331147794\n",
      "0.4621171572600094 0.9700923323966278 -0.5079751751366184\n",
      "0.537049566998035 0.9323926504923358 -0.3953430834943008\n",
      "0.6043677771171633 0.8913731280320607 -0.28700535091489743\n",
      "0.6640367702678487 0.8481235951859334 -0.1840868249180847\n",
      "0.7162978701990241 0.8044083304008446 -0.08811046020182045\n",
      "0.05135953743331021 0.5238512723639427\n"
     ]
    }
   ],
   "source": [
    "import logging\n",
    "\n",
    "import numpy\n",
    "\n",
    "import cicada\n",
    "from cicada.additive import AdditiveProtocolSuite\n",
    "from cicada.communicator import SocketCommunicator\n",
    "\n",
    "from statistics import mean, stdev\n",
    "from tqdm import *\n",
    "\n",
    "logging.basicConfig(level=logging.INFO)\n",
    "\n",
    "def main(communicator):\n",
    "    log = cicada.Logger(logging.getLogger(), communicator)\n",
    "    protocol = AdditiveProtocolSuite(communicator)\n",
    "\n",
    "    values = numpy.array(-1)\n",
    "    log.info(f\"Player {communicator.rank} values: {values}\")\n",
    "\n",
    "    values_share = protocol.share(src=0, secret=values, shape=())\n",
    "    pade_tanh_share = protocol._pade_approx(numpy.tanh, values_share)\n",
    "    pade_tanh = pade_tanh_share\n",
    "    log.info(f\"Player {communicator.rank} pade_tanh({values}): {pade_tanh} vs tanh({values}): {numpy.tanh(values)}\")\n",
    "    abs_err_list = []\n",
    "    for i in numpy.arange(-1, 1, .1):\n",
    "        cic_pade_tanh = protocol._pade_approx(numpy.tanh, protocol.share(src=0, secret=numpy.array(i), shape=()))\n",
    "        legit_tanh = numpy.tanh(i)\n",
    "        abs_err_list.append((legit_tanh-cic_pade_tanh))\n",
    "        if communicator.rank ==1:\n",
    "            print(legit_tanh, cic_pade_tanh, legit_tanh-cic_pade_tanh)\n",
    "    \n",
    "\n",
    "    \n",
    "    if communicator.rank ==1:\n",
    "        print(mean(abs_err_list), stdev(abs_err_list))\n",
    "\n",
    "SocketCommunicator.run(world_size=3, fn=main);"
   ]
  },
  {
   "cell_type": "code",
   "execution_count": 2,
   "metadata": {},
   "outputs": [
    {
     "name": "stdout",
     "output_type": "stream",
     "text": [
      "0.7623234211429005 0.7615941559557651 0.7615941559557649\n"
     ]
    }
   ],
   "source": [
    "from scipy.interpolate import approximate_taylor_polynomial, pade\n",
    "degree = 9\n",
    "func_taylor = approximate_taylor_polynomial(numpy.tanh, 0, degree, 1)\n",
    "paden, paded = pade([x for x in func_taylor][::-1], degree//2, degree%2+degree//2)\n",
    "print(paden(1)/paded(1), func_taylor(1), numpy.tanh(1))"
   ]
  },
  {
   "cell_type": "code",
   "execution_count": 3,
   "metadata": {},
   "outputs": [
    {
     "name": "stderr",
     "output_type": "stream",
     "text": [
      "100%|████████████████████████████████████████████████████████████████████████████████████████████████████████████████████████████████████████████████████████████████████████| 20/20 [00:00<00:00, 2507.21it/s]"
     ]
    },
    {
     "name": "stdout",
     "output_type": "stream",
     "text": [
      "-0.69183672695528 -0.6918365835570223 -0.7615941559557649 -0.06975742900048487\n",
      "-0.636635354665084 -0.6366353089798658 -0.7162978701990245 -0.07966251553394044\n",
      "-0.5773159842445603 -0.5773159715690709 -0.664036770267849 -0.0867207860232887\n",
      "-0.5141746063369771 -0.5141746033842407 -0.6043677771171635 -0.0901931707801864\n",
      "-0.44756121347358013 -0.4475612129262017 -0.5370495669980353 -0.08948835352445517\n",
      "-0.37787491413125773 -0.37787491405694207 -0.4621171572600098 -0.08424224312875206\n",
      "-0.3055583236432489 -0.3055583236368196 -0.379948962255225 -0.07439063861197609\n",
      "-0.23109131870020064 -0.2310913186999276 -0.29131261245159107 -0.06022129375139043\n",
      "-0.15498425028761556 -0.15498425028761237 -0.19737532022490417 -0.04239106993728861\n",
      "-0.07777071630940041 -0.0777707163094004 -0.09966799462495601 -0.0218972783155556\n",
      "-1.3191618985888415e-16 -1.3191618985888415e-16 -2.220446049250313e-16 -9.012841506614716e-17\n",
      "0.07777071630940006 0.07777071630940005 0.09966799462495547 0.021897278315555407\n",
      "0.15498425028761526 0.15498425028761212 0.19737532022490373 0.04239106993728847\n",
      "0.2310913187002005 0.23109131869992744 0.29131261245159074 0.06022129375139024\n",
      "0.3055583236432488 0.30555832363681945 0.3799489622552246 0.07439063861197581\n",
      "0.3778749141312575 0.3778749140569419 0.4621171572600094 0.08424224312875189\n",
      "0.4475612134735803 0.44756121292620166 0.537049566998035 0.08948835352445467\n",
      "0.514174606336977 0.5141746033842407 0.6043677771171633 0.0901931707801863\n",
      "0.5773159842445604 0.577315971569071 0.6640367702678487 0.08672078602328825\n",
      "0.636635354665084 0.6366353089798658 0.7162978701990241 0.0796625155339401\n"
     ]
    },
    {
     "name": "stderr",
     "output_type": "stream",
     "text": [
      "\n"
     ]
    }
   ],
   "source": [
    "for i in tqdm(numpy.arange(-1, 1, .1)):\n",
    "    degree = 9\n",
    "    func_taylor = approximate_taylor_polynomial(numpy.tanh, 0, degree, 5)\n",
    "    paden, paded = pade([x for x in func_taylor][::-1], degree//2, degree%2+degree//2)\n",
    "    print(paden(i)/paded(i), func_taylor(i), numpy.tanh(i), numpy.tanh(i)-paden(i)/paded(i))"
   ]
  },
  {
   "cell_type": "code",
   "execution_count": null,
   "metadata": {},
   "outputs": [],
   "source": []
  },
  {
   "cell_type": "code",
   "execution_count": null,
   "metadata": {},
   "outputs": [],
   "source": []
  },
  {
   "cell_type": "code",
   "execution_count": null,
   "metadata": {},
   "outputs": [],
   "source": []
  }
 ],
 "metadata": {
  "kernelspec": {
   "display_name": "Python 3 (ipykernel)",
   "language": "python",
   "name": "python3"
  },
  "language_info": {
   "codemirror_mode": {
    "name": "ipython",
    "version": 3
   },
   "file_extension": ".py",
   "mimetype": "text/x-python",
   "name": "python",
   "nbconvert_exporter": "python",
   "pygments_lexer": "ipython3",
   "version": "3.11.3"
  }
 },
 "nbformat": 4,
 "nbformat_minor": 2
}
