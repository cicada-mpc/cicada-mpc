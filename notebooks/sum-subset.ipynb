{
 "cells": [
  {
   "cell_type": "code",
   "execution_count": 1,
   "id": "6996e15d-2bae-4310-9218-078babad1075",
   "metadata": {},
   "outputs": [
    {
     "name": "stderr",
     "output_type": "stream",
     "text": [
      "INFO:root:Player 0 14.0\n",
      "INFO:root:Player 1 14.0\n",
      "INFO:root:Player 2 14.0\n"
     ]
    },
    {
     "data": {
      "text/plain": [
       "[None, None, None]"
      ]
     },
     "execution_count": 1,
     "metadata": {},
     "output_type": "execute_result"
    }
   ],
   "source": [
    "import logging\n",
    "\n",
    "import numpy\n",
    "\n",
    "from cicada.active import ActiveProtocolSuite\n",
    "from cicada.communicator import SocketCommunicator\n",
    "from cicada.logger import Logger\n",
    "\n",
    "logging.basicConfig(level=logging.INFO)\n",
    "\n",
    "def main(communicator):\n",
    "    log = Logger(logging.getLogger(), communicator)\n",
    "    protocol = ActiveProtocolSuite(communicator, threshold=2)\n",
    "\n",
    "    secret = numpy.arange(10) if communicator.rank == 0 else None\n",
    "    share = protocol.share(src=0, secret=secret, shape=(10,))\n",
    "    subset_share = share[2:6]\n",
    "    sum_share = protocol.sum(subset_share)\n",
    "    sum = protocol.reveal(sum_share)\n",
    "    log.info(f\"Player {communicator.rank} {sum}\")\n",
    "    \n",
    "SocketCommunicator.run(world_size=3, fn=main, show_traceback=True)"
   ]
  },
  {
   "cell_type": "code",
   "execution_count": null,
   "id": "90352473-d16e-4be5-96ae-6316d13858c8",
   "metadata": {},
   "outputs": [],
   "source": []
  }
 ],
 "metadata": {
  "kernelspec": {
   "display_name": "Python 3 (ipykernel)",
   "language": "python",
   "name": "python3"
  },
  "language_info": {
   "codemirror_mode": {
    "name": "ipython",
    "version": 3
   },
   "file_extension": ".py",
   "mimetype": "text/x-python",
   "name": "python",
   "nbconvert_exporter": "python",
   "pygments_lexer": "ipython3",
   "version": "3.12.2"
  }
 },
 "nbformat": 4,
 "nbformat_minor": 5
}
