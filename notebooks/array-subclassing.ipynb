{
 "cells": [
  {
   "cell_type": "code",
   "execution_count": 1,
   "id": "0cfdbb66",
   "metadata": {},
   "outputs": [],
   "source": [
    "import pickle\n",
    "\n",
    "import numpy\n",
    "\n",
    "class FixedFieldArray(numpy.ndarray):\n",
    "    def __new__(cls, other, *, modulus, precision):\n",
    "        self = numpy.asarray(other).view(cls)\n",
    "        self.modulus = modulus\n",
    "        self.precision = precision\n",
    "        return self\n",
    "    \n",
    "    def __array_finalize__(self, other):\n",
    "        if other is None:\n",
    "            return\n",
    "        self.modulus = getattr(other, \"modulus\", None)\n",
    "        self.precision = getattr(other, \"modulus\", None)\n",
    "        \n",
    "    def __reduce__(self):\n",
    "        fn, fn_state, state = super(FixedFieldArray, self).__reduce__()\n",
    "        return fn, fn_state, state + (self.modulus, self.precision)\n",
    "    \n",
    "    def __setstate__(self, state):\n",
    "        self.modulus = state[-2]\n",
    "        self.precision = state[-1]\n",
    "        super(FixedFieldArray, self).__setstate__(state[:-2])    "
   ]
  },
  {
   "cell_type": "code",
   "execution_count": 2,
   "id": "ded444a1",
   "metadata": {},
   "outputs": [
    {
     "name": "stdout",
     "output_type": "stream",
     "text": [
      "[1 2 3] 251 4\n"
     ]
    }
   ],
   "source": [
    "a = FixedFieldArray([1, 2, 3], modulus=251, precision=4)\n",
    "print(a, a.modulus, a.precision)"
   ]
  },
  {
   "cell_type": "code",
   "execution_count": 3,
   "id": "3f4bee14",
   "metadata": {},
   "outputs": [
    {
     "name": "stdout",
     "output_type": "stream",
     "text": [
      "[1 2 3] 251 4\n"
     ]
    }
   ],
   "source": [
    "b = pickle.loads(pickle.dumps(a))\n",
    "print(b, b.modulus, b.precision)"
   ]
  }
 ],
 "metadata": {
  "kernelspec": {
   "display_name": "Python 3 (ipykernel)",
   "language": "python",
   "name": "python3"
  },
  "language_info": {
   "codemirror_mode": {
    "name": "ipython",
    "version": 3
   },
   "file_extension": ".py",
   "mimetype": "text/x-python",
   "name": "python",
   "nbconvert_exporter": "python",
   "pygments_lexer": "ipython3",
   "version": "3.8.10"
  }
 },
 "nbformat": 4,
 "nbformat_minor": 5
}
