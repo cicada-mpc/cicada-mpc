{
 "cells": [
  {
   "cell_type": "markdown",
   "metadata": {
    "raw_mimetype": "text/markdown"
   },
   "source": [
    "# Fields, Semantics, and Probabilistic Results"
   ]
  },
  {
   "cell_type": "raw",
   "metadata": {
    "raw_mimetype": "text/restructuredtext"
   },
   "source": [
    "While working with Cicada, it is important to keep in mind that the continuous values you are accustomed to working with are not the values being manipulated by secret shared operations. Our fixed-point arithmetic system maps a finite number of elements with fixed binary precision onto a finite number of elements that are a set of positive integers modulo some prime large enough to accommodate a range of interest. To see this directly, we will be looking in detail at an instance of :class:`~cicada.encoder.fixedfield.FixedFieldEncoder`.\n",
    "\n",
    ".. note::\n",
    "\n",
    "    Protocol suites normally handle encoding and decoding values for you, so this information is for context only - you should not need to use :class:`~cicada.encoder.fixedfield.FixedFieldEncoder` under normal circumstances, unless you're creating a protocol suite of your own. \n",
    "\n",
    "In this example we are going to use an 8 bit field. The largest 8 bit prime is :math:`2^8-5=251`, which we will use to initialize the encoder:"
   ]
  },
  {
   "cell_type": "code",
   "execution_count": 1,
   "metadata": {
    "raw_mimetype": "text/restructuredtext"
   },
   "outputs": [
    {
     "data": {
      "text/plain": [
       "251"
      ]
     },
     "execution_count": 1,
     "metadata": {},
     "output_type": "execute_result"
    }
   ],
   "source": [
    "import cicada.encoder\n",
    "encoder = cicada.encoder.FixedFieldEncoder(modulus=251, precision=3)\n",
    "\n",
    "encoder.modulus"
   ]
  },
  {
   "cell_type": "code",
   "execution_count": 2,
   "metadata": {},
   "outputs": [
    {
     "data": {
      "text/plain": [
       "8"
      ]
     },
     "execution_count": 2,
     "metadata": {},
     "output_type": "execute_result"
    }
   ],
   "source": [
    "encoder.fieldbits"
   ]
  },
  {
   "cell_type": "markdown",
   "metadata": {},
   "source": [
    "To represent negative numbers, the encoder defines the `_posbound` attribute, which is the threshold in the field above which values are interpreted as negative.  It is equal to the floor of the modulus halved.  In our example, `_posbound` will be 125, meaning all field values in the range [126,250] will be interpreted as negative numbers. Thus, the field is split into two regions with the upper half dedicated to representing negative numbers while the lower half represents positive numbers:"
   ]
  },
  {
   "cell_type": "code",
   "execution_count": 3,
   "metadata": {},
   "outputs": [
    {
     "data": {
      "text/plain": [
       "125"
      ]
     },
     "execution_count": 3,
     "metadata": {},
     "output_type": "execute_result"
    }
   ],
   "source": [
    "encoder._posbound"
   ]
  },
  {
   "cell_type": "raw",
   "metadata": {
    "raw_mimetype": "text/restructuredtext"
   },
   "source": [
    ".. note::\n",
    "\n",
    "    By convention in Python, objects whose name starts with an underscore (`_posbound`) are private implementation details.  *You should not use them in your code*, because they are subject to change at any time."
   ]
  },
  {
   "cell_type": "markdown",
   "metadata": {},
   "source": [
    "In this example, we reserve 3 bits for fractional precision (i.e. the number of bits to the right of the radix), which is the `precision` argument provided when creating the encoder.  Any fractional precision requiring more than 3 bits in the value to be encoded will be lost via the encoding process.\n",
    "\n",
    "When encoding and decoding fractional values, their bits are shifted left or right respectively, to map them to integers in the field.   Conceptually, this can be thought of as multiplying or dividing by a scale value that is equal to $2^{precision}$, or $2^3=8$ in this case:"
   ]
  },
  {
   "cell_type": "code",
   "execution_count": 4,
   "metadata": {},
   "outputs": [
    {
     "data": {
      "text/plain": [
       "3"
      ]
     },
     "execution_count": 4,
     "metadata": {},
     "output_type": "execute_result"
    }
   ],
   "source": [
    "encoder.precision"
   ]
  },
  {
   "cell_type": "code",
   "execution_count": 5,
   "metadata": {},
   "outputs": [
    {
     "data": {
      "text/plain": [
       "8"
      ]
     },
     "execution_count": 5,
     "metadata": {},
     "output_type": "execute_result"
    }
   ],
   "source": [
    "encoder._scale"
   ]
  },
  {
   "cell_type": "markdown",
   "metadata": {},
   "source": [
    "The mapping from fractional values to positive integers in the field have many follow-on implications. The first is that overflow and underflow can and will happen without any notice if code is not written with the field size in mind, since all operations occur obliviously.  This may happen in unexpected situations and yield similarly unexpected results. For example, the addition of two positive values may yield a negative seemingly non-sensical result if their sum puts them into the upper half of the field which will later be decoded as a negative value.  Ensure that field sizes are large enough to make this impossible (or at least unlikely). \n",
    "\n",
    "Secondly, division is not directly possible in the context of the field since it is an integral field and no notion of values less than one exist in that context. We use field elements to represent fractional values, but these are semantics that have no significance to the field itself. We can get a stable and expected result for division by multiplying with an element's multiplicative inverse in the context of the field, but this has the desired result if-and-only-if the intended dividend has the desired divisor as a factor. Otherwise the result will not yield any useful value for the external semantics. In general, we perform division via approximation, masking, and the like. The accuracy of the result from any division operation is heavily dependent on the precision available from the encoder with respect to the number of bits right of the radix.  \n",
    "\n",
    "Let's try some examples using the parameters and encoder described above. For each of the following we will provide the example, work it out \"by hand\" and then show what it looks like in Cicada. \n",
    "\n",
    "**Encode and decode the value 3.25**\n",
    "\n",
    "* We multiply by the scale (in this case $2^3$) $3.25\\cdot8=26$. This is positive and less than the modulus so there are no concerns here; we are done.\n",
    "* To decode we check if the value (26) is greater than `_posbound` (it isn’t) so we divide by the scale and return the value $26/8=3.25$"
   ]
  },
  {
   "cell_type": "code",
   "execution_count": 6,
   "metadata": {},
   "outputs": [
    {
     "name": "stdout",
     "output_type": "stream",
     "text": [
      "        Value: 3.25\n",
      "Encoded Value: 26\n",
      "Decoded Value: 3.25\n"
     ]
    }
   ],
   "source": [
    "import numpy\n",
    "\n",
    "value = numpy.array(3.25)\n",
    "print(f\"        Value: {value}\")\n",
    "\n",
    "encoded = encoder.encode(value)\n",
    "print(f\"Encoded Value: {encoded}\")\n",
    "\n",
    "decoded = encoder.decode(encoded)\n",
    "print(f\"Decoded Value: {decoded}\")"
   ]
  },
  {
   "cell_type": "markdown",
   "metadata": {},
   "source": [
    "**Encode and decode the value -3.25**\n",
    "\n",
    "* We multiply by the scale (in this case $2^3$) $-3.25\\cdot8=-26$. This is negative so we apply the modulus i.e., $-26 \\mod{251}=225$.\n",
    "* To decode we check if the value (225) is greater than posbound (it is) so we compute the additive inverse of the difference between the modulus and the value i.e., $-(251-225)=-26$, then divide by the scale and return the value $-26/8=-3.25$.\n"
   ]
  },
  {
   "cell_type": "code",
   "execution_count": 7,
   "metadata": {},
   "outputs": [
    {
     "name": "stdout",
     "output_type": "stream",
     "text": [
      "        Value: -3.25\n",
      "Encoded Value: 225\n",
      "Decoded Value: -3.25\n"
     ]
    }
   ],
   "source": [
    "value = numpy.array(-3.25)\n",
    "print(f\"        Value: {value}\")\n",
    "\n",
    "encoded = encoder.encode(value)\n",
    "print(f\"Encoded Value: {encoded}\")\n",
    "\n",
    "decoded = encoder.decode(encoded)\n",
    "print(f\"Decoded Value: {decoded}\")"
   ]
  },
  {
   "cell_type": "markdown",
   "metadata": {},
   "source": [
    "**Encode and decode the value 3.0625**\n",
    "\n",
    "* We multiply by the scale $3.0625*8=24.5$ This is positive and less than the modulus, but not an integral value so we truncate to 24. We are done.\n",
    "* To decode we check if the value (24) is greater than posbound (it isn’t) so we divide by the scale and return the value $24/8=3$\n",
    "* Checking against the original value it is clear to see that we have lost the fractional part of the original (0.0625). This is due to the fact that in binary it is represented as 0.0001 and we have only 3 bits of binary precision available. Specifically, this happened at the point we truncated 24.5 to 24 which is a necessary step to make sure every value is both consistent in semantics and compatible with representation in our integral field."
   ]
  },
  {
   "cell_type": "code",
   "execution_count": 8,
   "metadata": {},
   "outputs": [
    {
     "name": "stdout",
     "output_type": "stream",
     "text": [
      "        Value: 3.0625\n",
      "Encoded Value: 24\n",
      "Decoded Value: 3.0\n"
     ]
    }
   ],
   "source": [
    "value = numpy.array(3.0625)\n",
    "print(f\"        Value: {value}\")\n",
    "\n",
    "encoded = encoder.encode(value)\n",
    "print(f\"Encoded Value: {encoded}\")\n",
    "\n",
    "decoded = encoder.decode(encoded)\n",
    "print(f\"Decoded Value: {decoded}\")"
   ]
  },
  {
   "cell_type": "markdown",
   "metadata": {},
   "source": [
    "**Encode, add, and decode 15 and 2**\n",
    "\n",
    "* In a similar manner to the preceding, the encoding of 15 and 2 is 120 and 16 respectively. \n",
    "* The sum of these is 136\n",
    "* Decoding 136 yields -14.375, not the answer we were expecting as the sum of 15 and 2, due to overflow of the representable positive range in our semantic mapping onto the field. In practice much larger fields are used so that incidents such as this are far easier to avoid. For example, a 64 bit field is used in Cicada by default, and you are free to create larger fields, within practical limits."
   ]
  },
  {
   "cell_type": "code",
   "execution_count": 9,
   "metadata": {},
   "outputs": [
    {
     "name": "stdout",
     "output_type": "stream",
     "text": [
      "        Value1: 15\n",
      "        Value2: 2\n",
      "Encoded Value1: 120\n",
      "Encoded Value2: 16\n",
      "   Encoded Sum: 136\n",
      "   Decoded Sum: -14.375\n"
     ]
    }
   ],
   "source": [
    "value1 = numpy.array(15)\n",
    "print(f\"        Value1: {value1}\")\n",
    "\n",
    "value2 = numpy.array(2)\n",
    "print(f\"        Value2: {value2}\")\n",
    "\n",
    "encoded1 = encoder.encode(value1)\n",
    "print(f\"Encoded Value1: {encoded1}\")\n",
    "\n",
    "encoded2 = encoder.encode(value2)\n",
    "print(f\"Encoded Value2: {encoded2}\")\n",
    "\n",
    "encoded_sum = encoder.add(encoded1, encoded2)\n",
    "print(f\"   Encoded Sum: {encoded_sum}\")\n",
    "      \n",
    "decoded_sum = encoder.decode(encoded_sum)\n",
    "print(f\"   Decoded Sum: {decoded_sum}\")"
   ]
  },
  {
   "cell_type": "markdown",
   "metadata": {},
   "source": [
    "**Min and Max**\n",
    "\n",
    "Another area of concern with respect to such issues are the min and max functions. Given the semantic meaning we are mapping onto the field, problems may arise at the border. Our implementation of these functions is based on the following algebraic expressions:\n",
    "\n",
    "$$min(x, y)=(x+y+abs(x-y))/2$$\n",
    "\n",
    "$$max(x, y)=(x+y+abs(x-y))/2$$\n",
    "\n",
    "This will behave as expected much of the time; however, if the difference between $x$ and $y$ wraps around an end of the field more than once then problems can occur. Given a field $\\mathbb{Z}_p$, as long as both operands are of the same sign or both satisfy the (in our opinion reasonable) constraint that $abs(x)<p//4$, then the min and max functions should behave as anticipated."
   ]
  },
  {
   "cell_type": "raw",
   "metadata": {
    "raw_mimetype": "text/restructuredtext"
   },
   "source": [
    "**Probabilistic Results**\n",
    "\n",
    "There are some functions in Cicada whose results will be off from the true answer by some relatively negligible margin. For example, when :ref:`truncating <multiplication>`, the value to be truncated is masked with a random field element; an overflow in the least significant bits of the result is possible, depending on the random value.\n",
    "\n",
    "In the following example, we truncate the carefully chosen value 65536.6 one hundred times, and report the minimum, mean, and maximum of the resulting values.  The expected value for the truncation is 1.  As you can see, the actual results vary between 1 and 1.0000152587890625, with the average result off by less than :math:`10^{-5}`."
   ]
  },
  {
   "cell_type": "code",
   "execution_count": 10,
   "metadata": {
    "scrolled": false
   },
   "outputs": [
    {
     "name": "stderr",
     "output_type": "stream",
     "text": [
      "INFO:root:Truncated value  min: 1.0\n",
      "INFO:root:Truncated value mean: 1.0000074768066407\n",
      "INFO:root:Truncated value  max: 1.0000152587890625\n"
     ]
    }
   ],
   "source": [
    "import logging\n",
    "\n",
    "import cicada\n",
    "from cicada.additive import AdditiveProtocolSuite\n",
    "from cicada.communicator import SocketCommunicator\n",
    "\n",
    "logging.basicConfig(level=logging.INFO)\n",
    "\n",
    "def main(communicator):\n",
    "    log = cicada.Logger(logging.getLogger(), communicator)\n",
    "    protocol = AdditiveProtocolSuite(communicator)\n",
    "    \n",
    "    value = numpy.array(65536.5)\n",
    "    value_share = protocol.share(src=0, secret=value, shape=value.shape)\n",
    "    truncated = []\n",
    "    for i in range(100):\n",
    "        truncated_share = protocol.truncate(value_share)\n",
    "        truncated.append(protocol.reveal(truncated_share))\n",
    "    truncated = numpy.array(truncated)\n",
    "    \n",
    "    log.info(f\"Truncated value  min: {truncated.min()}\", src=0)\n",
    "    log.info(f\"Truncated value mean: {truncated.mean()}\", src=0)\n",
    "    log.info(f\"Truncated value  max: {truncated.max()}\", src=0)\n",
    "        \n",
    "SocketCommunicator.run(world_size=3, fn=main);"
   ]
  }
 ],
 "metadata": {
  "celltoolbar": "Raw Cell Format",
  "kernelspec": {
   "display_name": "Python 3 (ipykernel)",
   "language": "python",
   "name": "python3"
  },
  "language_info": {
   "codemirror_mode": {
    "name": "ipython",
    "version": 3
   },
   "file_extension": ".py",
   "mimetype": "text/x-python",
   "name": "python",
   "nbconvert_exporter": "python",
   "pygments_lexer": "ipython3",
   "version": "3.8.10"
  }
 },
 "nbformat": 4,
 "nbformat_minor": 2
}
