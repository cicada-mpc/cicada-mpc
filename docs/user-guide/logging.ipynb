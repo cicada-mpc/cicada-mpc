{
 "cells": [
  {
   "cell_type": "raw",
   "id": "715b3105",
   "metadata": {
    "raw_mimetype": "text/restructuredtext"
   },
   "source": [
    ".. _logging:\n",
    "\n",
    "Logging\n",
    "=======\n",
    "\n",
    "Because it provides an incredible breadth and depth of functionality for managing program output, Cicada uses Python's builtin :mod:`logging` module to report messages from the library. Thus, you should always initialize Python's logging system at the beginning of a Cicada program, even if you aren't using :mod:`logging` yourself:"
   ]
  },
  {
   "cell_type": "code",
   "execution_count": 1,
   "id": "34be8d1c",
   "metadata": {},
   "outputs": [],
   "source": [
    "import logging\n",
    "logging.basicConfig(level=logging.INFO)"
   ]
  },
  {
   "cell_type": "raw",
   "id": "c7f79e21",
   "metadata": {
    "raw_mimetype": "text/restructuredtext"
   },
   "source": [
    ".. tip::\n",
    "\n",
    "    We strongly recommend that you get to know the Python :mod:`logging` module, which can benefit all of your programming projects!\n",
    "    \n",
    "By default, Cicada is configured to only log warning messages, so you won't see any output during normal operation:"
   ]
  },
  {
   "cell_type": "code",
   "execution_count": 2,
   "id": "512a415d",
   "metadata": {},
   "outputs": [
    {
     "name": "stdout",
     "output_type": "stream",
     "text": [
      "Hello from player 0!Hello from player 1!\n",
      "\n"
     ]
    }
   ],
   "source": [
    "from cicada.communicator import SocketCommunicator\n",
    "\n",
    "def main(communicator):\n",
    "    print(f\"Hello from player {communicator.rank}!\")\n",
    "\n",
    "SocketCommunicator.run(world_size=2, fn=main);"
   ]
  },
  {
   "cell_type": "raw",
   "id": "4367f843",
   "metadata": {
    "raw_mimetype": "text/restructuredtext"
   },
   "source": [
    "If you want greater visibility into what the library is doing (particularly to setup communication), you can adjust log levels accordingly:"
   ]
  },
  {
   "cell_type": "code",
   "execution_count": 3,
   "id": "ca330dee",
   "metadata": {},
   "outputs": [
    {
     "name": "stderr",
     "output_type": "stream",
     "text": [
      "INFO:cicada.communicator.socket.connect:Comm 'world' player 0 listening to tcp://127.0.0.1:61656 for connections.\n",
      "INFO:cicada.communicator.socket.connect:Comm 'world' player 1 listening to tcp://127.0.0.1:61658 for connections.\n",
      "INFO:cicada.communicator.socket.connect:Comm 'world' player 0 direct connect with ['tcp://127.0.0.1:61656', 'tcp://127.0.0.1:61658'].\n",
      "INFO:cicada.communicator.socket.connect:Comm 'world' player 1 direct connect with ['tcp://127.0.0.1:61656', 'tcp://127.0.0.1:61658'].\n",
      "INFO:cicada.communicator.socket.connect:Comm 'world' player 1 tcp://127.0.0.1:61662 connected to player 0 tcp://127.0.0.1:61656\n",
      "INFO:cicada.communicator.socket.connect:Comm 'world' player 0 tcp://127.0.0.1:61656 accepted connection from tcp://127.0.0.1:61662\n",
      "INFO:cicada.communicator.socket:Comm 'world' player 1 communicator ready.\n",
      "INFO:cicada.communicator.socket:Comm 'world' player 0 communicator ready.\n"
     ]
    },
    {
     "name": "stdout",
     "output_type": "stream",
     "text": [
      "Hello from player 1!Hello from player 0!\n",
      "\n"
     ]
    },
    {
     "name": "stderr",
     "output_type": "stream",
     "text": [
      "INFO:cicada.communicator.socket:Comm 'world' player 0 communicator freed.\n",
      "INFO:cicada.communicator.socket:Comm 'world' player 1 communicator freed.\n",
      "INFO:cicada.communicator.socket:Comm 'world' player 0 result: None\n",
      "INFO:cicada.communicator.socket:Comm 'world' player 1 result: None\n"
     ]
    }
   ],
   "source": [
    "logging.getLogger(\"cicada.communicator\").setLevel(logging.INFO)\n",
    "\n",
    "SocketCommunicator.run(world_size=2, fn=main)\n",
    "\n",
    "logging.getLogger(\"cicada.communicator\").setLevel(logging.WARNING) # Put things back the way they were"
   ]
  },
  {
   "cell_type": "raw",
   "id": "4f789a38",
   "metadata": {
    "raw_mimetype": "text/restructuredtext"
   },
   "source": [
    "For application output from your MPC programs, Cicada provides its own :class:`~cicada.logging.Logger` class, which wraps a standard Python :class:`logging.Logger` and uses a :class:`~cicada.communicator.interface.Communicator` to coordinate player output. \n",
    "\n",
    "When you use Cicada's :class:`~cicada.logging.Logger`, player outputs will appear in rank order without interleaving or stepping on one another (compare the following output with the preceeding examples):"
   ]
  },
  {
   "cell_type": "code",
   "execution_count": 4,
   "id": "70f5337a",
   "metadata": {},
   "outputs": [
    {
     "name": "stderr",
     "output_type": "stream",
     "text": [
      "INFO:root:Hello from player 0!\n",
      "INFO:root:Hello from player 1!\n"
     ]
    }
   ],
   "source": [
    "import cicada.logging\n",
    "\n",
    "def main(communicator):\n",
    "    log = cicada.logging.Logger(logger=logging.getLogger(), communicator=communicator)\n",
    "    log.info(f\"Hello from player {communicator.rank}!\")\n",
    "\n",
    "SocketCommunicator.run(world_size=2, fn=main);"
   ]
  },
  {
   "cell_type": "raw",
   "id": "0dcaa7fb",
   "metadata": {
    "raw_mimetype": "text/restructuredtext"
   },
   "source": [
    "Just like Python's builtin :class:`logging.Logger`, Cicada's :class:`~cicada.logging.Logger` supports higher-priority messages:"
   ]
  },
  {
   "cell_type": "code",
   "execution_count": 5,
   "id": "6a110e4e",
   "metadata": {},
   "outputs": [
    {
     "name": "stderr",
     "output_type": "stream",
     "text": [
      "WARNING:root:Warning message from player 0!\n",
      "WARNING:root:Warning message from player 1!\n"
     ]
    }
   ],
   "source": [
    "def main(communicator):\n",
    "    log = cicada.logging.Logger(logger=logging.getLogger(), communicator=communicator)\n",
    "    log.warning(f\"Warning message from player {communicator.rank}!\")\n",
    "\n",
    "SocketCommunicator.run(world_size=2, fn=main);"
   ]
  },
  {
   "cell_type": "code",
   "execution_count": 6,
   "id": "912610f6",
   "metadata": {},
   "outputs": [
    {
     "name": "stderr",
     "output_type": "stream",
     "text": [
      "ERROR:root:Error message from player 0!\n",
      "ERROR:root:Error message from player 1!\n"
     ]
    }
   ],
   "source": [
    "def main(communicator):\n",
    "    log = cicada.logging.Logger(logger=logging.getLogger(), communicator=communicator)\n",
    "    log.error(f\"Error message from player {communicator.rank}!\")\n",
    "\n",
    "SocketCommunicator.run(world_size=2, fn=main);"
   ]
  },
  {
   "cell_type": "code",
   "execution_count": 7,
   "id": "8b5cdc4b",
   "metadata": {},
   "outputs": [
    {
     "name": "stderr",
     "output_type": "stream",
     "text": [
      "CRITICAL:root:Critical message from player 0!\n",
      "CRITICAL:root:Critical message from player 1!\n"
     ]
    }
   ],
   "source": [
    "def main(communicator):\n",
    "    log = cicada.logging.Logger(logger=logging.getLogger(), communicator=communicator)\n",
    "    log.critical(f\"Critical message from player {communicator.rank}!\")\n",
    "\n",
    "SocketCommunicator.run(world_size=2, fn=main);"
   ]
  },
  {
   "cell_type": "raw",
   "id": "898cab01",
   "metadata": {
    "raw_mimetype": "text/restructuredtext"
   },
   "source": [
    ":class:`~cicada.logging.Logger` also supports lower-priority messages for debugging, but be sure to set the appropriate log level, or you won't see any output:"
   ]
  },
  {
   "cell_type": "code",
   "execution_count": 8,
   "id": "38560091",
   "metadata": {},
   "outputs": [
    {
     "name": "stderr",
     "output_type": "stream",
     "text": [
      "DEBUG:root:Debug message from player 0!\n",
      "DEBUG:root:Debug message from player 1!\n"
     ]
    }
   ],
   "source": [
    "logging.getLogger().setLevel(logging.DEBUG) # Don't filter DEBUG messages\n",
    "\n",
    "def main(communicator):\n",
    "    log = cicada.logging.Logger(logger=logging.getLogger(), communicator=communicator)\n",
    "    log.debug(f\"Debug message from player {communicator.rank}!\")\n",
    "\n",
    "SocketCommunicator.run(world_size=2, fn=main);"
   ]
  },
  {
   "cell_type": "raw",
   "id": "6cb1ac87",
   "metadata": {
    "raw_mimetype": "text/restructuredtext"
   },
   "source": [
    "You should keep in mind that :class:`~cicada.logging.Logger` methods are *collective operations* that **must** be called by every player, because they use :ref:`communication-patterns` to coordinate among the players.\n",
    "\n",
    "If you only want to log a message from one player you can do so, but every player still has to participate in the collective operation:"
   ]
  },
  {
   "cell_type": "code",
   "execution_count": 9,
   "id": "d97af7f4",
   "metadata": {},
   "outputs": [
    {
     "name": "stderr",
     "output_type": "stream",
     "text": [
      "INFO:root:Hello only from player 1!\n"
     ]
    }
   ],
   "source": [
    "def main(communicator):\n",
    "    log = cicada.logging.Logger(logger=logging.getLogger(), communicator=communicator)\n",
    "    log.info(f\"Hello only from player {communicator.rank}!\", src=1)\n",
    "\n",
    "SocketCommunicator.run(world_size=2, fn=main);"
   ]
  },
  {
   "cell_type": "raw",
   "id": "ccb0760c",
   "metadata": {
    "raw_mimetype": "text/restructuredtext"
   },
   "source": [
    "It's important to keep in mind that coordinated logging requires communication among the players at runtime, which has several ramifications:\n",
    "\n",
    "* Coordinated logging can be very expensive - you might not want to do it in a loop, for example.\n",
    "* Coordinated logging could raise an exception at any time, if a player fails.\n",
    "* Because coordinated logging requires communication among all players, you cannot use it when a failure has occurred - for example, during an error recovery phase or after a communicator has been revoked.\n",
    "\n",
    "Of course, coordinated logging is only useful when multiple players are writing to the same console, as is typical when developing and debugging your programs using :meth:`~cicada.communicator.socket.SocketCommunicator.run` or the :ref:`cicada` run command. In production, when each player is running on a separate host, the overhead of coordinated logging isn't necessary."
   ]
  }
 ],
 "metadata": {
  "celltoolbar": "Raw Cell Format",
  "kernelspec": {
   "display_name": "Python 3 (ipykernel)",
   "language": "python",
   "name": "python3"
  },
  "language_info": {
   "codemirror_mode": {
    "name": "ipython",
    "version": 3
   },
   "file_extension": ".py",
   "mimetype": "text/x-python",
   "name": "python",
   "nbconvert_exporter": "python",
   "pygments_lexer": "ipython3",
   "version": "3.8.10"
  }
 },
 "nbformat": 4,
 "nbformat_minor": 5
}
