{
 "cells": [
  {
   "cell_type": "markdown",
   "metadata": {},
   "source": [
    "Copyright 2021 National Technology & Engineering Solutions<br>\n",
    "of Sandia, LLC (NTESS). Under the terms of Contract DE-NA0003525 with NTESS,<br>\n",
    "the U.S. Government retains certain rights in this software.<br>\n",
    "<br>\n",
    "Licensed under the Apache License, Version 2.0 (the \"License\");<br>\n",
    "you may not use this file except in compliance with the License.<br>\n",
    "You may obtain a copy of the License at<br>\n",
    "<br>\n",
    "   http://www.apache.org/licenses/LICENSE-2.0<br>\n",
    "<br>\n",
    "Unless required by applicable law or agreed to in writing, software<br>\n",
    "distributed under the License is distributed on an \"AS IS\" BASIS,<br>\n",
    "WITHOUT WARRANTIES OR CONDITIONS OF ANY KIND, either express or implied.<br>\n",
    "See the License for the specific language governing permissions and<br>\n",
    "limitations under the License."
   ]
  },
  {
   "cell_type": "code",
   "execution_count": 1,
   "metadata": {},
   "outputs": [],
   "source": [
    "import logging"
   ]
  },
  {
   "cell_type": "code",
   "execution_count": 43,
   "metadata": {},
   "outputs": [],
   "source": [
    "import numpy"
   ]
  },
  {
   "cell_type": "code",
   "execution_count": 44,
   "metadata": {},
   "outputs": [],
   "source": [
    "import cicada.communicator\n",
    "import cicada.encoder\n",
    "import cicada.additive\n",
    "logging.basicConfig(level=logging.INFO)"
   ]
  },
  {
   "cell_type": "code",
   "execution_count": 45,
   "metadata": {},
   "outputs": [],
   "source": [
    "numTruncBits =16\n",
    "testVal = 1\n",
    "expectedPretrunc = testVal*2**(numTruncBits)"
   ]
  },
  {
   "cell_type": "code",
   "execution_count": 46,
   "metadata": {},
   "outputs": [],
   "source": [
    "@cicada.communicator.NNGCommunicator.run(world_size=3)\n",
    "def main(communicator):\n",
    "    log = cicada.Logger(logging.getLogger(), communicator)    \n",
    "    protocol = cicada.additive.AdditiveProtocol(communicator)\n",
    "    secret2mult = protocol.share(src=0, secret=protocol.encoder.encode(numpy.array(testVal)), shape=())\n",
    "    revealedsecret = protocol.encoder.decode(protocol.reveal(secret2mult))\n",
    "    log.info(f\"Player {communicator.rank} revealed: {revealedsecret} expected: {testVal}\")\n",
    "    secretMuld = protocol.untruncated_multiply(secret2mult, secret2mult)\n",
    "    revealedSecretMuld = protocol.encoder.decode(protocol.reveal(secretMuld))\n",
    "    log.info(f\"Player {communicator.rank} revealed: {revealedSecretMuld} expected: {expectedPretrunc}\")\n",
    "    secretMuldTruncd = protocol.truncate(secretMuld)\n",
    "    revealedSecretMuldTruncd = protocol.encoder.decode(protocol.reveal(secretMuldTruncd))\n",
    "    log.info(f\"Player {communicator.rank} revealed: {revealedSecretMuldTruncd} expected: {testVal}\")"
   ]
  },
  {
   "cell_type": "markdown",
   "metadata": {},
   "source": [
    "In this example, we secret share 1 encoded in the field (this amounts to shifting 16 bits left since that is the precision we use for our practional representation). We then multiply 1 by itself which, due to our symantic field interpretation shifts the correct answer by 16 additional bits. This is the reason we expect 65536 (2^16) to be revealed prior to applying tuncation. \n",
    "\n",
    "Once we apply truncation we reveal the result and, as expected, reconstruct 1 after decoding, as we would wish for multiplying 1 by itself. "
   ]
  },
  {
   "cell_type": "code",
   "execution_count": 47,
   "metadata": {},
   "outputs": [
    {
     "name": "stderr",
     "output_type": "stream",
     "text": [
      "INFO:cicada.communicator.nng:Player 0 rendezvous with tcp://127.0.0.1:63894 from tcp://127.0.0.1:63894.\n",
      "INFO:cicada.communicator.nng:Player 1 rendezvous with tcp://127.0.0.1:63894 from tcp://127.0.0.1:63895.\n",
      "INFO:cicada.communicator.nng:Player 2 rendezvous with tcp://127.0.0.1:63894 from tcp://127.0.0.1:63896.\n",
      "INFO:cicada.communicator.nng:Comm 'world' player 0 communicator ready.\n",
      "INFO:cicada.communicator.nng:Comm 'world' player 1 communicator ready.\n",
      "INFO:cicada.communicator.nng:Comm 'world' player 2 communicator ready.\n",
      "INFO:root:Player 0 revealed: 1.0 expected: 1\n",
      "INFO:root:Player 1 revealed: 1.0 expected: 1\n",
      "INFO:root:Player 2 revealed: 1.0 expected: 1\n",
      "INFO:root:Player 0 revealed: 65536.0 expected: 65536\n",
      "INFO:root:Player 1 revealed: 65536.0 expected: 65536\n",
      "INFO:root:Player 2 revealed: 65536.0 expected: 65536\n",
      "INFO:root:Player 0 revealed: 1.0 expected: 1\n",
      "INFO:root:Player 1 revealed: 1.0 expected: 1\n",
      "INFO:root:Player 2 revealed: 1.0 expected: 1\n",
      "INFO:cicada.communicator.nng:Comm 'world' player 0 communicator freed.\n",
      "INFO:cicada.communicator.nng:Comm 'world' player 1 communicator freed.\n",
      "INFO:cicada.communicator.nng:Comm 'world' player 2 communicator freed.\n",
      "INFO:cicada.communicator.nng:Player 0 returned: None\n",
      "INFO:cicada.communicator.nng:Player 1 returned: None\n",
      "INFO:cicada.communicator.nng:Player 2 returned: None\n"
     ]
    },
    {
     "data": {
      "text/plain": [
       "[None, None, None]"
      ]
     },
     "execution_count": 47,
     "metadata": {},
     "output_type": "execute_result"
    }
   ],
   "source": [
    "main()"
   ]
  },
  {
   "cell_type": "code",
   "execution_count": null,
   "metadata": {},
   "outputs": [],
   "source": []
  }
 ],
 "metadata": {
  "kernelspec": {
   "display_name": "Python 3 (ipykernel)",
   "language": "python",
   "name": "python3"
  },
  "language_info": {
   "codemirror_mode": {
    "name": "ipython",
    "version": 3
   },
   "file_extension": ".py",
   "mimetype": "text/x-python",
   "name": "python",
   "nbconvert_exporter": "python",
   "pygments_lexer": "ipython3",
   "version": "3.8.10"
  }
 },
 "nbformat": 4,
 "nbformat_minor": 2
}
