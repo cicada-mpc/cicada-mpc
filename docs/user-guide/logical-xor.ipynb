{
 "cells": [
  {
   "cell_type": "raw",
   "metadata": {
    "raw_mimetype": "text/restructuredtext"
   },
   "source": [
    ".. _logical-xor:\n",
    "\n",
    "Logical Exclusive Or\n",
    "====================\n",
    "\n",
    "In this example, we will compute the elementwise logical XOR of secret shared bits.\n",
    "\n",
    "Note that the inputs to :any:`logical_xor` must be the *unencoded* integer values 0 or 1, the behavior with other values is undefined."
   ]
  },
  {
   "cell_type": "code",
   "execution_count": 1,
   "metadata": {},
   "outputs": [
    {
     "name": "stderr",
     "output_type": "stream",
     "text": [
      "INFO:cicada.communicator.socket:Comm 'world' player 0 rendezvous with tcp://127.0.0.1:57697 from tcp://127.0.0.1:57697.\n",
      "INFO:cicada.communicator.socket:Comm 'world' player 1 rendezvous with tcp://127.0.0.1:57697 from tcp://127.0.0.1:57698.\n",
      "INFO:cicada.communicator.socket:Comm 'world' player 2 rendezvous with tcp://127.0.0.1:57697 from tcp://127.0.0.1:57699.\n",
      "INFO:cicada.communicator.socket:Comm 'world' player 0 communicator ready.\n",
      "INFO:cicada.communicator.socket:Comm 'world' player 1 communicator ready.\n",
      "INFO:cicada.communicator.socket:Comm 'world' player 2 communicator ready.\n",
      "INFO:root:Player 0 x: [0 1 0 1]\n",
      "INFO:root:Player 1 y: [0 0 1 1]\n",
      "INFO:root:Player 0 x xor y: [0 1 1 0]\n",
      "INFO:root:Player 1 x xor y: [0 1 1 0]\n",
      "INFO:root:Player 2 x xor y: [0 1 1 0]\n",
      "INFO:cicada.communicator.socket:Comm 'world' player 1 communicator freed.\n",
      "INFO:cicada.communicator.socket:Comm 'world' player 0 communicator freed.\n",
      "INFO:cicada.communicator.socket:Comm 'world' player 2 communicator freed.\n",
      "INFO:cicada.communicator.socket:Player 0 return: None\n",
      "INFO:cicada.communicator.socket:Player 1 return: None\n",
      "INFO:cicada.communicator.socket:Player 2 return: None\n"
     ]
    }
   ],
   "source": [
    "import logging\n",
    "\n",
    "import numpy\n",
    "\n",
    "import cicada.additive\n",
    "from cicada.communicator import SocketCommunicator\n",
    "\n",
    "logging.basicConfig(level=logging.INFO)\n",
    "\n",
    "def main(communicator):\n",
    "    log = cicada.Logger(logging.getLogger(), communicator)\n",
    "    protocol = cicada.additive.AdditiveProtocol(communicator)\n",
    "    \n",
    "    x = numpy.array([0, 1, 0, 1]) if communicator.rank == 0 else None\n",
    "    y = numpy.array([0, 0, 1, 1]) if communicator.rank == 1 else None\n",
    "    \n",
    "    x_share = protocol.share(src=0, secret=protocol.encoder.encode_binary(x), shape=(4,))\n",
    "    y_share = protocol.share(src=1, secret=protocol.encoder.encode_binary(y), shape=(4,))\n",
    "    xor_share = protocol.logical_xor(x_share, y_share)\n",
    "    xor = protocol.reveal(xor_share)\n",
    "    \n",
    "    log.info(f\"Player {communicator.rank} x: {x}\", src=0)\n",
    "    log.info(f\"Player {communicator.rank} y: {y}\", src=1)\n",
    "    log.info(f\"Player {communicator.rank} x xor y: {xor}\")\n",
    "\n",
    "SocketCommunicator.run(main, world_size=3);"
   ]
  },
  {
   "cell_type": "raw",
   "metadata": {
    "raw_mimetype": "text/restructuredtext"
   },
   "source": [
    ".. seealso:: :ref:`logical-not`"
   ]
  }
 ],
 "metadata": {
  "celltoolbar": "Raw Cell Format",
  "kernelspec": {
   "display_name": "Python 3 (ipykernel)",
   "language": "python",
   "name": "python3"
  },
  "language_info": {
   "codemirror_mode": {
    "name": "ipython",
    "version": 3
   },
   "file_extension": ".py",
   "mimetype": "text/x-python",
   "name": "python",
   "nbconvert_exporter": "python",
   "pygments_lexer": "ipython3",
   "version": "3.8.2"
  }
 },
 "nbformat": 4,
 "nbformat_minor": 2
}
