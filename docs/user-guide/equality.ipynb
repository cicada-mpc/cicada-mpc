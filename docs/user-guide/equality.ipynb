{
 "cells": [
  {
   "cell_type": "markdown",
   "metadata": {},
   "source": [
    "# Equality Check\n",
    "In this script we demonstrate the use of the equality function implemented in CICADA\n",
    "There are a couple choices available which change the behavior of the script\n",
    "\n",
    "if random_ops is true, testVal1 and 2 will be ignored and randomly generated values will be used <br>\n",
    "if random_ops is false, the values that will be compared are set by testVal1 and 2 so you can pick your operands\n",
    "numRuns is really only useful if you want to confirm correctness for several randomized tests in a series, feel free to set it to 1 if you are interested to compare testVal1 and 2, or leave it more than one to see that the algorithm is stable in returning correct expected results. It is not a probabilistic comparison.\n",
    "\n",
    "When everything is finished we print some summary statistics and performance information. The statistics module will complain if you set numRuns to 1."
   ]
  },
  {
   "cell_type": "code",
   "execution_count": 1,
   "metadata": {},
   "outputs": [],
   "source": [
    "import logging"
   ]
  },
  {
   "cell_type": "code",
   "execution_count": 2,
   "metadata": {},
   "outputs": [],
   "source": [
    "import numpy"
   ]
  },
  {
   "cell_type": "code",
   "execution_count": 3,
   "metadata": {},
   "outputs": [],
   "source": [
    "import cicada.additive\n",
    "import cicada.communicator\n",
    "from tqdm import *\n",
    "from time import time\n",
    "from statistics import mean, stdev\n",
    "logging.basicConfig(level=logging.INFO)"
   ]
  },
  {
   "cell_type": "code",
   "execution_count": 4,
   "metadata": {},
   "outputs": [],
   "source": [
    "random_ops = True\n",
    "testVal1 = numpy.array(-8)\n",
    "testVal2 = numpy.array(-8)\n",
    "numRuns = 5\n",
    "#########################################"
   ]
  },
  {
   "cell_type": "code",
   "execution_count": 9,
   "metadata": {},
   "outputs": [],
   "source": [
    "results = []\n",
    "errors = {}\n",
    "times = []\n",
    "@cicada.communicator.NNGCommunicator.run(world_size=3)\n",
    "def main(communicator):\n",
    "    log = cicada.Logger(logging.getLogger(), communicator)\n",
    "    protocol = cicada.additive.AdditiveProtocol(communicator)\n",
    "    generator = numpy.random.default_rng()\n",
    "    for i in tqdm(range(numRuns)):\n",
    "        if random_ops:\n",
    "            secret_share1 = protocol.uniform(shape=())\n",
    "            secret_share2 = protocol.uniform(shape=())\n",
    "        else:\n",
    "            secret_share1 = protocol.share(src=0, secret=protocol.encoder.encode(testVal1), shape=testVal1.shape)\n",
    "            secret_share2 = protocol.share(src=0, secret=protocol.encoder.encode(testVal2), shape=testVal2.shape)\n",
    "        secret1 = protocol.encoder.decode(protocol.reveal(secret_share1))\n",
    "        secret2 = protocol.encoder.decode(protocol.reveal(secret_share2))\n",
    "        t0 = time()\n",
    "        eq = protocol.equal(lhs=secret_share1, rhs=secret_share2)\n",
    "        times.append(time()-t0)\n",
    "        revealed_eq = protocol.reveal(eq)\n",
    "        if revealed_eq == 1 and secret1 == secret2:\n",
    "            results.append(True)\n",
    "        elif revealed_eq == 0 and secret1 != secret2:\n",
    "            results.append(True)\n",
    "        else:\n",
    "            results.append(False)\n",
    "            errors[i]=(secret1, secret2, revealed_eq)\n",
    "    log.info(f\"Player {communicator.rank} {secret1} {'==' if revealed_eq else '!='} {secret2}\")\n",
    "    if not all(results):\n",
    "        print(f'Num errors: {sum([1 for x in results if x==False])}')\n",
    "        for k, v in errors.items():\n",
    "            if v[2] == 1:\n",
    "                symbol = '=='\n",
    "            elif v[2] == 0:\n",
    "                symbol = '!='\n",
    "            else:\n",
    "                symbol = '?'\n",
    "            print(f'Run # {k}\\n\\t{v[0]} {symbol} {v[1]}')\n",
    "    else: \n",
    "        print('No Errors!')\n",
    "    print(f'Avg time: {mean(times)}\\nStdev time: {stdev(times)}')\n"
   ]
  },
  {
   "cell_type": "code",
   "execution_count": 10,
   "metadata": {},
   "outputs": [
    {
     "name": "stderr",
     "output_type": "stream",
     "text": [
      "INFO:cicada.communicator.nng:Player 0 rendezvous with tcp://127.0.0.1:61217 from tcp://127.0.0.1:61217.\n",
      "INFO:cicada.communicator.nng:Player 1 rendezvous with tcp://127.0.0.1:61217 from tcp://127.0.0.1:61218.\n",
      "INFO:cicada.communicator.nng:Player 2 rendezvous with tcp://127.0.0.1:61217 from tcp://127.0.0.1:61219.\n",
      "INFO:cicada.communicator.nng:Comm 'world' player 0 communicator ready.\n",
      "INFO:cicada.communicator.nng:Comm 'world' player 1 communicator ready.\n",
      "INFO:cicada.communicator.nng:Comm 'world' player 2 communicator ready.\n",
      "100%|█████████████████████████████████████████████████████████████████████████████████████████████████████████████████████████████████████████████████████████████████████████████████████████████████████████████████████████████████████████████████████████████████████████████████████████████| 5/5 [00:22<00:00,  4.42s/it]\n",
      "\n",
      "\n",
      "INFO:root:Player 0 -51445172859240.06 != -50245010713095.23\n",
      "INFO:root:Player 1 -51445172859240.06 != -50245010713095.23\n",
      "INFO:root:Player 2 -51445172859240.06 != -50245010713095.23\n"
     ]
    },
    {
     "name": "stdout",
     "output_type": "stream",
     "text": [
      "No Errors!No Errors!No Errors!\n",
      "\n",
      "\n",
      "Avg time: 4.403125905990601\n",
      "Stdev time: 0.08940092428744559Avg time: 4.396015644073486\n",
      "Stdev time: 0.08906482355743216Avg time: 4.3965739727020265\n",
      "Stdev time: 0.08884630193398707\n",
      "\n",
      "\n"
     ]
    },
    {
     "name": "stderr",
     "output_type": "stream",
     "text": [
      "INFO:cicada.communicator.nng:Comm 'world' player 1 communicator freed.\n",
      "INFO:cicada.communicator.nng:Comm 'world' player 0 communicator freed.\n",
      "INFO:cicada.communicator.nng:Comm 'world' player 2 communicator freed.\n",
      "INFO:cicada.communicator.nng:Player 0 returned: None\n",
      "INFO:cicada.communicator.nng:Player 1 returned: None\n",
      "INFO:cicada.communicator.nng:Player 2 returned: None\n"
     ]
    },
    {
     "data": {
      "text/plain": [
       "[None, None, None]"
      ]
     },
     "execution_count": 10,
     "metadata": {},
     "output_type": "execute_result"
    }
   ],
   "source": [
    "main()"
   ]
  },
  {
   "cell_type": "code",
   "execution_count": null,
   "metadata": {},
   "outputs": [],
   "source": []
  }
 ],
 "metadata": {
  "kernelspec": {
   "display_name": "Python 3 (ipykernel)",
   "language": "python",
   "name": "python3"
  },
  "language_info": {
   "codemirror_mode": {
    "name": "ipython",
    "version": 3
   },
   "file_extension": ".py",
   "mimetype": "text/x-python",
   "name": "python",
   "nbconvert_exporter": "python",
   "pygments_lexer": "ipython3",
   "version": "3.8.10"
  }
 },
 "nbformat": 4,
 "nbformat_minor": 2
}
