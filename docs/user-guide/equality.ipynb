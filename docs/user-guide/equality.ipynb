{
 "cells": [
  {
   "cell_type": "raw",
   "metadata": {
    "raw_mimetype": "text/restructuredtext"
   },
   "source": [
    ".. _equality:\n",
    "\n",
    "Equality Comparison\n",
    "===================\n",
    "\n",
    "This notebook demonstrates comparing two secret shared values to see if they are equal.  The result will itself be secret shared, and when revealed will return a value of \"1\" if the values are equal, or \"0\" if they are not.  Note that the results are not encoded.\n",
    "\n",
    "As always, this operation will be applied element-wise to array inputs of any shape.\n",
    "\n",
    "The following example compares :math:`[1, -2, 3, -4.5]` to :math:`[1, 2, 3, -4.5]` and returns :math:`[1, 0, 1, 1]`:"
   ]
  },
  {
   "cell_type": "code",
   "execution_count": 1,
   "metadata": {},
   "outputs": [
    {
     "name": "stderr",
     "output_type": "stream",
     "text": [
      "INFO:cicada.communicator.nng:Player 0 rendezvous with tcp://127.0.0.1:60281 from tcp://127.0.0.1:60281.\n",
      "INFO:cicada.communicator.nng:Player 1 rendezvous with tcp://127.0.0.1:60281 from tcp://127.0.0.1:60282.\n",
      "INFO:cicada.communicator.nng:Player 2 rendezvous with tcp://127.0.0.1:60281 from tcp://127.0.0.1:60283.\n",
      "INFO:cicada.communicator.nng:Comm 'world' player 0 communicator ready.\n",
      "INFO:cicada.communicator.nng:Comm 'world' player 1 communicator ready.\n",
      "INFO:cicada.communicator.nng:Comm 'world' player 2 communicator ready.\n",
      "INFO:root:Player 0 secret: [ 1.  -2.   3.  -4.5]\n",
      "INFO:root:Player 1 secret: [ 1.   2.   3.  -4.5]\n",
      "INFO:root:Player 0 result: [1 1 1 1]\n",
      "INFO:root:Player 1 result: [1 1 1 1]\n",
      "INFO:root:Player 2 result: [1 1 1 1]\n",
      "INFO:cicada.communicator.nng:Comm 'world' player 1 communicator freed.\n",
      "INFO:cicada.communicator.nng:Comm 'world' player 2 communicator freed.\n",
      "INFO:cicada.communicator.nng:Comm 'world' player 0 communicator freed.\n",
      "INFO:cicada.communicator.nng:Player 0 returned: None\n",
      "INFO:cicada.communicator.nng:Player 1 returned: None\n",
      "INFO:cicada.communicator.nng:Player 2 returned: None\n"
     ]
    }
   ],
   "source": [
    "import logging\n",
    "\n",
    "import numpy\n",
    "\n",
    "import cicada.additive\n",
    "import cicada.communicator\n",
    "\n",
    "logging.basicConfig(level=logging.INFO)\n",
    "\n",
    "\n",
    "@cicada.communicator.NNGCommunicator.run(world_size=3)\n",
    "def main(communicator):\n",
    "    log = cicada.Logger(logging.getLogger(), communicator)\n",
    "    protocol = cicada.additive.AdditiveProtocol(communicator)\n",
    "\n",
    "    a = numpy.array([1, -2, 3, -4.5]) if communicator.rank == 0 else None\n",
    "    b = numpy.array([1, 2, 3, -4.5]) if communicator.rank == 1 else None\n",
    "    \n",
    "    log.info(f\"Player {communicator.rank} secret: {a}\", src=0)\n",
    "    log.info(f\"Player {communicator.rank} secret: {b}\", src=1)\n",
    "\n",
    "    a_share = protocol.share(src=0, secret=protocol.encoder.encode(a), shape=(4,))\n",
    "    b_share = protocol.share(src=1, secret=protocol.encoder.encode(b), shape=(4,))\n",
    "    \n",
    "    equal_share = protocol.equal(a_share, b_share)\n",
    "    equal = protocol.reveal(equal_share)\n",
    "    \n",
    "    log.info(f\"Player {communicator.rank} result: {equal}\")\n",
    "\n",
    "main();"
   ]
  },
  {
   "cell_type": "raw",
   "metadata": {
    "raw_mimetype": "text/restructuredtext"
   },
   "source": [
    ".. seealso:: :ref:`less-than`, :ref:`less-than-zero`"
   ]
  }
 ],
 "metadata": {
  "celltoolbar": "Raw Cell Format",
  "kernelspec": {
   "display_name": "Python 3",
   "language": "python",
   "name": "python3"
  },
  "language_info": {
   "codemirror_mode": {
    "name": "ipython",
    "version": 3
   },
   "file_extension": ".py",
   "mimetype": "text/x-python",
   "name": "python",
   "nbconvert_exporter": "python",
   "pygments_lexer": "ipython3",
   "version": "3.9.7"
  }
 },
 "nbformat": 4,
 "nbformat_minor": 2
}
