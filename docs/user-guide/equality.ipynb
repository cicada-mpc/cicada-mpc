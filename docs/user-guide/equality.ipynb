{
 "cells": [
  {
   "cell_type": "raw",
   "metadata": {
    "raw_mimetype": "text/restructuredtext"
   },
   "source": [
    ".. _equality:\n",
    "\n",
    "Equality Comparison\n",
    "===================\n",
    "\n",
    "This notebook demonstrates comparing two secret shared values to see if they are equal.  The result will itself be secret shared, and when revealed will return a value of \"1\" if the values are equal, or \"0\" if they are not.  Note that the results should be revealed with :any:`AdditiveProtocolSuite.reveal_bits`.\n",
    "\n",
    "As always, this operation can be applied element-wise to array inputs of any shape.\n",
    "\n",
    "The following example compares :math:`[1, -2, 3, -4.5]` to :math:`[1, 2, 3, -4.5]` and returns :math:`[1, 0, 1, 1]`:"
   ]
  },
  {
   "cell_type": "code",
   "execution_count": 1,
   "metadata": {},
   "outputs": [
    {
     "name": "stderr",
     "output_type": "stream",
     "text": [
      "INFO:root:Player 0 secret: [ 1.  -2.   3.  -4.5]\n",
      "INFO:root:Player 1 secret: [ 1.   2.   3.  -4.5]\n",
      "INFO:root:Player 0 result: [1 0 1 1]\n",
      "INFO:root:Player 1 result: [1 0 1 1]\n",
      "INFO:root:Player 2 result: [1 0 1 1]\n"
     ]
    }
   ],
   "source": [
    "import logging\n",
    "\n",
    "import numpy\n",
    "\n",
    "import cicada\n",
    "from cicada.additive import AdditiveProtocolSuite\n",
    "from cicada.communicator import SocketCommunicator\n",
    "\n",
    "logging.basicConfig(level=logging.INFO)\n",
    "\n",
    "\n",
    "def main(communicator):\n",
    "    log = cicada.Logger(logging.getLogger(), communicator)\n",
    "    protocol = AdditiveProtocolSuite(communicator)\n",
    "\n",
    "    a = numpy.array([1, -2, 3, -4.5]) if communicator.rank == 0 else None\n",
    "    b = numpy.array([1, 2, 3, -4.5]) if communicator.rank == 1 else None\n",
    "    \n",
    "    log.info(f\"Player {communicator.rank} secret: {a}\", src=0)\n",
    "    log.info(f\"Player {communicator.rank} secret: {b}\", src=1)\n",
    "\n",
    "    a_share = protocol.share(src=0, secret=a, shape=(4,))\n",
    "    b_share = protocol.share(src=1, secret=b, shape=(4,))\n",
    "    equal_share = protocol.equal(a_share, b_share)\n",
    "    equal = protocol.reveal_bits(equal_share)\n",
    "    \n",
    "    log.info(f\"Player {communicator.rank} result: {equal}\")\n",
    "\n",
    "SocketCommunicator.run(world_size=3, fn=main);"
   ]
  },
  {
   "cell_type": "raw",
   "metadata": {
    "raw_mimetype": "text/restructuredtext"
   },
   "source": [
    ".. seealso:: :ref:`less-than`, :ref:`less-than-zero`"
   ]
  }
 ],
 "metadata": {
  "celltoolbar": "Raw Cell Format",
  "kernelspec": {
   "display_name": "Python 3 (ipykernel)",
   "language": "python",
   "name": "python3"
  },
  "language_info": {
   "codemirror_mode": {
    "name": "ipython",
    "version": 3
   },
   "file_extension": ".py",
   "mimetype": "text/x-python",
   "name": "python",
   "nbconvert_exporter": "python",
   "pygments_lexer": "ipython3",
   "version": "3.8.10"
  }
 },
 "nbformat": 4,
 "nbformat_minor": 2
}
