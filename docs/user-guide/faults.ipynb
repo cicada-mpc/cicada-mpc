{
 "cells": [
  {
   "cell_type": "raw",
   "metadata": {
    "raw_mimetype": "text/restructuredtext"
   },
   "source": [
    ".. _faults:\n",
    "\n",
    "Fault Detection and Recovery\n",
    "============================\n",
    "\n",
    "One of Cicada's most distinguishing features is that it supports fault tolerance at the application level: put simply, Cicada raises exceptions when failures occur, where most MPC tools simply stop executing.  This allows Cicada MPC programs to keep running, react to failures, and continue computation.  Of course, there are many possible ways that an application can react to a failure, and many engineering tradeoffs involved in developing a fault tolerance strategy, which is why Cicada leaves it to the application developer to decide which approach is appropriate.  We don't want to suggest that designing for fault recovery is easy, but Cicada provides a solid set of tools to implement a fault recovery policy.\n",
    "\n",
    "First, let's look at how fault detection works.  In the following example, player 0 uses :ref:`shamir` to share a secret, which is then revealed by all players:"
   ]
  },
  {
   "cell_type": "code",
   "execution_count": 1,
   "metadata": {},
   "outputs": [
    {
     "name": "stderr",
     "output_type": "stream",
     "text": [
      "INFO:root:Player 0 revealed: 42.0\n",
      "INFO:root:Player 1 revealed: 42.0\n",
      "INFO:root:Player 2 revealed: 42.0\n"
     ]
    }
   ],
   "source": [
    "import logging\n",
    "\n",
    "import numpy\n",
    "\n",
    "from cicada.communicator import SocketCommunicator\n",
    "from cicada.shamir import ShamirBasicProtocol\n",
    "import cicada.shamir\n",
    "\n",
    "logging.basicConfig(level=logging.INFO)\n",
    "\n",
    "def main(communicator):\n",
    "    log = cicada.logging.Logger(logging.getLogger(), communicator=communicator)\n",
    "    protocol = ShamirBasicProtocol(communicator=communicator, threshold=2)\n",
    "    \n",
    "    secret = numpy.array(42) if communicator.rank == 0 else None\n",
    "    share = protocol.share(src=0, secret=protocol.encoder.encode(secret), shape=())\n",
    "\n",
    "    revealed = protocol.encoder.decode(protocol.reveal(share))\n",
    "    log.info(f\"Player {communicator.rank} revealed: {revealed}\")\n",
    "    \n",
    "SocketCommunicator.run(world_size=3, fn=main);"
   ]
  },
  {
   "cell_type": "markdown",
   "metadata": {},
   "source": [
    "With the program working, we can simulate a fault by killing player 0 before the secret is revealed:"
   ]
  },
  {
   "cell_type": "code",
   "execution_count": 2,
   "metadata": {
    "scrolled": false
   },
   "outputs": [
    {
     "name": "stderr",
     "output_type": "stream",
     "text": [
      "WARNING:cicada.communicator.socket:Comm world player 0 failed: Terminated(exitcode=-9)\n",
      "WARNING:cicada.communicator.socket:Comm world player 1 failed: Timeout('Tag GATHERV from player 0 timed-out after 5s')\n",
      "WARNING:cicada.communicator.socket:Comm world player 2 failed: Timeout('Tag GATHERV from player 0 timed-out after 5s')\n",
      "ERROR:cicada.communicator.socket:********************************************************************************\n",
      "ERROR:cicada.communicator.socket:Comm world player 1 traceback:\n",
      "ERROR:cicada.communicator.socket:Traceback (most recent call last):\n",
      "  File \"/Users/tshead/src/cicada-mpc/cicada/communicator/socket/__init__.py\", line 812, in launch\n",
      "    result = fn(communicator, *args, **kwargs)\n",
      "  File \"/var/folders/tl/h2xygzzn1154jzjn_n01x860001l4n/T/ipykernel_82323/144164982.py\", line 14, in main\n",
      "    revealed = protocol.encoder.decode(protocol.reveal(share))\n",
      "  File \"/Users/tshead/src/cicada-mpc/cicada/shamir.py\", line 387, in reveal\n",
      "    received_shares = self.communicator.gatherv(src=src, value=share, dst=recipient)\n",
      "  File \"/Users/tshead/src/cicada-mpc/cicada/communicator/socket/__init__.py\", line 571, in gatherv\n",
      "    values = [self._wait_next_payload(src=rank, tag=Tags.GATHERV) for rank in src]\n",
      "  File \"/Users/tshead/src/cicada-mpc/cicada/communicator/socket/__init__.py\", line 571, in <listcomp>\n",
      "    values = [self._wait_next_payload(src=rank, tag=Tags.GATHERV) for rank in src]\n",
      "  File \"/Users/tshead/src/cicada-mpc/cicada/communicator/socket/__init__.py\", line 308, in _wait_next_payload\n",
      "    raise Timeout(f\"Tag {tagname(tag)} from player {src} timed-out after {self._timeout}s\")\n",
      "cicada.communicator.socket.connect.Timeout: Tag GATHERV from player 0 timed-out after 5s\n",
      "\n",
      "ERROR:cicada.communicator.socket:********************************************************************************\n",
      "ERROR:cicada.communicator.socket:Comm world player 2 traceback:\n",
      "ERROR:cicada.communicator.socket:Traceback (most recent call last):\n",
      "  File \"/Users/tshead/src/cicada-mpc/cicada/communicator/socket/__init__.py\", line 812, in launch\n",
      "    result = fn(communicator, *args, **kwargs)\n",
      "  File \"/var/folders/tl/h2xygzzn1154jzjn_n01x860001l4n/T/ipykernel_82323/144164982.py\", line 14, in main\n",
      "    revealed = protocol.encoder.decode(protocol.reveal(share))\n",
      "  File \"/Users/tshead/src/cicada-mpc/cicada/shamir.py\", line 387, in reveal\n",
      "    received_shares = self.communicator.gatherv(src=src, value=share, dst=recipient)\n",
      "  File \"/Users/tshead/src/cicada-mpc/cicada/communicator/socket/__init__.py\", line 571, in gatherv\n",
      "    values = [self._wait_next_payload(src=rank, tag=Tags.GATHERV) for rank in src]\n",
      "  File \"/Users/tshead/src/cicada-mpc/cicada/communicator/socket/__init__.py\", line 571, in <listcomp>\n",
      "    values = [self._wait_next_payload(src=rank, tag=Tags.GATHERV) for rank in src]\n",
      "  File \"/Users/tshead/src/cicada-mpc/cicada/communicator/socket/__init__.py\", line 308, in _wait_next_payload\n",
      "    raise Timeout(f\"Tag {tagname(tag)} from player {src} timed-out after {self._timeout}s\")\n",
      "cicada.communicator.socket.connect.Timeout: Tag GATHERV from player 0 timed-out after 5s\n",
      "\n"
     ]
    }
   ],
   "source": [
    "import os\n",
    "import signal\n",
    "\n",
    "def main(communicator):\n",
    "    log = cicada.logging.Logger(logging.getLogger(), communicator=communicator)\n",
    "    protocol = cicada.shamir.ShamirBasicProtocol(communicator=communicator, threshold=2)\n",
    "    \n",
    "    secret = numpy.array(42) if communicator.rank == 0 else None\n",
    "    share = protocol.share(src=0, secret=protocol.encoder.encode(secret), shape=())\n",
    "\n",
    "    if communicator.rank == 0:\n",
    "        os.kill(os.getpid(), signal.SIGKILL)\n",
    "\n",
    "    revealed = protocol.encoder.decode(protocol.reveal(share))\n",
    "    log.info(f\"Player {communicator.rank} revealed: {revealed}\")\n",
    "    \n",
    "SocketCommunicator.run(world_size=3, fn=main);"
   ]
  },
  {
   "cell_type": "raw",
   "metadata": {
    "raw_mimetype": "text/restructuredtext"
   },
   "source": [
    "... if you examine the tracebacks closely, you'll see that the call to :meth:`~cicada.shamir.ShamirBasicProtocol.reveal` calls the communicator's :meth:`~cicada.communicator.socket.SocketCommunicator.gatherv` method, which raises an exception. This behavior (communicator methods that raise exceptions) is the main mechanism that Cicada uses to notify the application when a fault has occurred.  To create a fault-tolerant application, you must be prepared to handle exceptions **any time you implicitly or explicitly use a communicator**.\n",
    "\n",
    ".. important::\n",
    "    You should understand that without communication, there is no fault detection.  In the general case Cicada player processes are meant to execute on separate hosts.  Imagine that you are a player process: how can you know that a process on another host has failed?  The information that a failure has occurred must reach you somehow, either explicitly when some other process informs you that the player has failed, or implicitly when you haven't heard from the other player within a set period of time. Either approach implies communication, which is why fault detection is so firmly tied to communicators.\n",
    "    \n",
    "So, the first step in adding fault tolerance to our program is add exception handling:"
   ]
  },
  {
   "cell_type": "code",
   "execution_count": 3,
   "metadata": {
    "scrolled": false
   },
   "outputs": [
    {
     "name": "stderr",
     "output_type": "stream",
     "text": [
      "INFO:root:Player 2 exception: Tag GATHERV from player 0 timed-out after 5s\n",
      "INFO:root:Player 1 exception: Tag GATHERV from player 0 timed-out after 5s\n",
      "WARNING:cicada.communicator.socket:Comm world player 0 failed: Terminated(exitcode=-9)\n"
     ]
    }
   ],
   "source": [
    "import os\n",
    "import signal\n",
    "\n",
    "def main(communicator):\n",
    "    try:\n",
    "        log = cicada.logging.Logger(logging.getLogger(), communicator=communicator)\n",
    "        protocol = cicada.shamir.ShamirBasicProtocol(communicator=communicator, threshold=2)\n",
    "\n",
    "        secret = numpy.array(42) if communicator.rank == 0 else None\n",
    "        share = protocol.share(src=0, secret=protocol.encoder.encode(secret), shape=())\n",
    "\n",
    "        if communicator.rank == 0:\n",
    "            os.kill(os.getpid(), signal.SIGKILL)\n",
    "\n",
    "        revealed = protocol.encoder.decode(protocol.reveal(share))\n",
    "        log.info(f\"Player {communicator.rank} revealed: {revealed}\")\n",
    "        \n",
    "    except Exception as e:\n",
    "        log.sync = False\n",
    "        log.info(f\"Player {communicator.rank} exception: {e}\")\n",
    "    \n",
    "SocketCommunicator.run(world_size=3, fn=main);"
   ]
  },
  {
   "cell_type": "raw",
   "metadata": {
    "raw_mimetype": "text/restructuredtext"
   },
   "source": [
    "Note that we've put most of our application code in the `try` block, because any communication of any kind could raise an exception, and we have to assume that any method of :class:`~cicada.logging.Logger` and :class:`~cicada.shamir.ShamirBasicProtocol` could use the communicator at any time.\n",
    "\n",
    ".. caution::\n",
    "    We turn-off coordinated logging before using the :class:`~cicada.logging.Logger` in our exception handler, since it requires communication with every player and would fail otherwise; see :ref:`logging` for details.\n",
    "    \n",
    "Now that we're reacting to the exception, what should we do?  We could simply report the error and shut-down gracefully as in the example above, which is already far beyond what other MPC toolkits allow.  But let's say that we don't want our secret value to be lost (we'll pretend that we expended real effort computing it).  Is it gone forever?  Fortunately, it isn't - because we used :ref:`shamir` with a total of 3 players and a threshold of 2, we should be able to recover the secret with our two remaining players.  But how can we call :meth:`~cicada.shamir.ShamirBasicProtocol.reveal` with two players when it's already failed?\n",
    "\n",
    "The problem here is that our original communicator was created with three players and the number of players in a communicator *never* changes (this is by design because it provides important guarantees that we won't discuss here).  Whenever we call :meth:`~cicada.shamir.ShamirBasicProtocol.reveal`, the protocol object expects to communicate with every member of the communicator, but fails because one of the players is no longer responding.\n",
    "\n",
    "The solution is actually quite elegant: when one or more players fail, we discard the old communicator and create a new one that includes just the remaining players. :class:`~cicada.communicator.socket.SocketCommunicator` provides the :meth:`~cicada.communicator.socket.SocketCommunicator.shrink` method to do just that.  Here's one way we could use it:"
   ]
  },
  {
   "cell_type": "code",
   "execution_count": 4,
   "metadata": {
    "scrolled": false
   },
   "outputs": [
    {
     "name": "stderr",
     "output_type": "stream",
     "text": [
      "INFO:root:Player 1 exception: Tag GATHERV from player 0 timed-out after 5s\n",
      "INFO:root:Player 2 exception: Tag GATHERV from player 0 timed-out after 5s\n",
      "INFO:root:Player 0 revealed: 42.0\n",
      "INFO:root:Player 1 revealed: 42.0\n",
      "WARNING:cicada.communicator.socket:Comm world player 0 failed: Terminated(exitcode=-9)\n"
     ]
    }
   ],
   "source": [
    "def main(communicator):\n",
    "    log = cicada.logging.Logger(logging.getLogger(), communicator=communicator)\n",
    "    protocol = cicada.shamir.ShamirBasicProtocol(communicator=communicator, threshold=2)\n",
    "\n",
    "    try:\n",
    "        secret = numpy.array(42) if communicator.rank == 0 else None\n",
    "        share = protocol.share(src=0, secret=protocol.encoder.encode(secret), shape=())\n",
    "\n",
    "        if communicator.rank == 0:\n",
    "            os.kill(os.getpid(), signal.SIGKILL)\n",
    "\n",
    "        revealed = protocol.encoder.decode(protocol.reveal(share))\n",
    "        log.info(f\"Player {communicator.rank} revealed: {revealed}\")\n",
    "        \n",
    "    except Exception as e:\n",
    "        log.sync = False\n",
    "        log.info(f\"Player {communicator.rank} exception: {e}\")\n",
    "        \n",
    "        communicator, oldranks = communicator.shrink(name=\"new\")\n",
    "        with communicator:\n",
    "            log = cicada.logging.Logger(logging.getLogger(), communicator=communicator)\n",
    "            protocol = cicada.shamir.ShamirBasicProtocol(communicator=communicator, indices=protocol.indices[oldranks], threshold=2)\n",
    "\n",
    "            revealed = protocol.encoder.decode(protocol.reveal(share))\n",
    "            log.info(f\"Player {communicator.rank} revealed: {revealed}\")\n",
    "        \n",
    "SocketCommunicator.run(world_size=3, fn=main);"
   ]
  },
  {
   "cell_type": "raw",
   "metadata": {
    "raw_mimetype": "text/restructuredtext"
   },
   "source": [
    "Now when we run the program, we still get the failure, but the two remaining players are able to reveal the result.  Let's look in detail at what happened.  First, we shrink the old communicator::\n",
    "\n",
    "  communicator, oldranks = communicator.shrink(name=\"new\")\n",
    "  \n",
    "This returns the newly-created communicator containing the remaining players, but what is `oldranks`?  Because player ranks are *always* numbered contiguously from zero (see :ref:`multiple-communicators` for more detail), the ranks of the remaining players in the new communicator may be different from their ranks in the old communicator.  Thus `oldranks` is a list of ranks from the old communicator, in new-rank-order, provided so the application can map old ranks to new (and perform any related bookkeeping)."
   ]
  }
 ],
 "metadata": {
  "celltoolbar": "Raw Cell Format",
  "kernelspec": {
   "display_name": "Python 3 (ipykernel)",
   "language": "python",
   "name": "python3"
  },
  "language_info": {
   "codemirror_mode": {
    "name": "ipython",
    "version": 3
   },
   "file_extension": ".py",
   "mimetype": "text/x-python",
   "name": "python",
   "nbconvert_exporter": "python",
   "pygments_lexer": "ipython3",
   "version": "3.8.10"
  }
 },
 "nbformat": 4,
 "nbformat_minor": 2
}
