{
 "cells": [
  {
   "cell_type": "markdown",
   "metadata": {},
   "source": [
    "# Zigmoid\n",
    "\n",
    "In this example, we generate a 2x2 matrix of values selected to demonstrate the different piecewise separated areas of interest for the zigmoid function. Then we will reveal them so we can check correctness of the protocol.\n",
    "\n",
    "Next we will call the zigmoid function on the secret_share which will calculate the result of applying the function to the matrix on an elementwise basis and return the shared result. This we reveal and decode and print to check against what we would expect given the original secrets.\n",
    "\n",
    "As you can see from inspection the result of the protocol satifies the desired functionality of what one would expect from the so-called zigmoid which is an approximation of sigmoid which is more angular and much easier to compute in the SMC context.\n",
    "\n",
    "The zigmoid function is defined thusly:\n",
    "\n",
    "$$\n",
    "zigmoid(x) = \\left\\{\n",
    "    \\begin{array}\\\\\n",
    "        0 & if\\ x<-0.5 \\\\\n",
    "        x+0.5 & if\\ -0.5\\leq x \\leq 0.5 \\\\\n",
    "        1 & if x>0.5\n",
    "    \\end{array}\n",
    "    \\right.\n",
    "$$\n",
    "\n",
    "It is analagous to the \"cut\" function defined in the literature and the same as similar approximations used elsewhere such as the in work given in the SecureML paper."
   ]
  },
  {
   "cell_type": "code",
   "execution_count": 1,
   "metadata": {},
   "outputs": [
    {
     "name": "stderr",
     "output_type": "stream",
     "text": [
      "INFO:cicada.communicator.nng:Player 0 rendezvous with tcp://127.0.0.1:58465 from tcp://127.0.0.1:58465.\n",
      "INFO:cicada.communicator.nng:Player 1 rendezvous with tcp://127.0.0.1:58465 from tcp://127.0.0.1:58466.\n",
      "INFO:cicada.communicator.nng:Player 2 rendezvous with tcp://127.0.0.1:58465 from tcp://127.0.0.1:58467.\n",
      "INFO:cicada.communicator.nng:Comm 'world' player 0 communicator ready.\n",
      "INFO:cicada.communicator.nng:Comm 'world' player 1 communicator ready.\n",
      "INFO:cicada.communicator.nng:Comm 'world' player 2 communicator ready.\n",
      "INFO:root:Player 0 secret: \n",
      "[[-5.   -0.25]\n",
      " [ 0.25  5.  ]]\n",
      "INFO:root:Player 1 secret: \n",
      "[[-5.   -0.25]\n",
      " [ 0.25  5.  ]]\n",
      "INFO:root:Player 2 secret: \n",
      "[[-5.   -0.25]\n",
      " [ 0.25  5.  ]]\n",
      "INFO:root:Player 0 zigmoid(secret): \n",
      "[[0.   0.25]\n",
      " [0.75 1.  ]]\n",
      "INFO:root:Player 1 zigmoid(secret): \n",
      "[[0.   0.25]\n",
      " [0.75 1.  ]]\n",
      "INFO:root:Player 2 zigmoid(secret): \n",
      "[[0.   0.25]\n",
      " [0.75 1.  ]]\n",
      "INFO:cicada.communicator.nng:Comm 'world' player 0 communicator freed.\n",
      "INFO:cicada.communicator.nng:Comm 'world' player 1 communicator freed.\n",
      "INFO:cicada.communicator.nng:Comm 'world' player 2 communicator freed.\n",
      "INFO:cicada.communicator.nng:Player 0 returned: None\n",
      "INFO:cicada.communicator.nng:Player 1 returned: None\n",
      "INFO:cicada.communicator.nng:Player 2 returned: None\n"
     ]
    }
   ],
   "source": [
    "import logging\n",
    "\n",
    "import numpy\n",
    "\n",
    "import cicada.additive\n",
    "import cicada.communicator\n",
    "\n",
    "logging.basicConfig(level=logging.INFO)\n",
    "\n",
    "@cicada.communicator.NNGCommunicator.run(world_size=3)\n",
    "def main(communicator):\n",
    "    log = cicada.Logger(logging.getLogger(), communicator)\n",
    "    protocol = cicada.additive.AdditiveProtocol(communicator)\n",
    "    generator = numpy.random.default_rng()\n",
    "    secret_share = protocol.share(secret=protocol.encoder.encode(numpy.array([[-5,-.25],[.25,5]])), src=0, shape=(2,2))\n",
    "    secret = protocol.encoder.decode(protocol.reveal(secret_share))\n",
    "    log.info(f\"Player {communicator.rank} secret: \\n{secret}\")\n",
    "    zigmoid_share = protocol.zigmoid(secret_share)\n",
    "    zig = protocol.encoder.decode(protocol.reveal(zigmoid_share))\n",
    "    log.info(f\"Player {communicator.rank} zigmoid(secret): \\n{zig}\")\n",
    "\n",
    "main();"
   ]
  }
 ],
 "metadata": {
  "kernelspec": {
   "display_name": "Python 3 (ipykernel)",
   "language": "python",
   "name": "python3"
  },
  "language_info": {
   "codemirror_mode": {
    "name": "ipython",
    "version": 3
   },
   "file_extension": ".py",
   "mimetype": "text/x-python",
   "name": "python",
   "nbconvert_exporter": "python",
   "pygments_lexer": "ipython3",
   "version": "3.8.10"
  }
 },
 "nbformat": 4,
 "nbformat_minor": 2
}
