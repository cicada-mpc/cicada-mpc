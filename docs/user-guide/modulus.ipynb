{
 "cells": [
  {
   "cell_type": "raw",
   "metadata": {
    "raw_mimetype": "text/restructuredtext"
   },
   "source": [
    ".. _modulus:\n",
    "\n",
    "Modulus\n",
    "=======\n",
    "\n",
    "In this notebook we will use the Cicada modulus operator to compute the element-wise remainder of division. Note that modulus is a `private-public` operation: the `dividend` is a secret-shared value, while the `divisor` is a public value known to all players.  The resulting `remainder` will be a secret-shared value, so that the privacy of the dividend is preserved.\n",
    "\n",
    "Our method here is dependent on our integer division which is approximate and this method is therefore probabilistic.\n",
    "\n",
    "Importantly, the divisor is an **unencoded value**.\n",
    "\n",
    "In the example, we compute :math:`144409 \\bmod 117 = 31`.  "
   ]
  },
  {
   "cell_type": "code",
   "execution_count": 1,
   "metadata": {},
   "outputs": [
    {
     "name": "stderr",
     "output_type": "stream",
     "text": [
      "INFO:cicada.communicator.nng:Player 0 rendezvous with tcp://127.0.0.1:58182 from tcp://127.0.0.1:58182.\n",
      "INFO:cicada.communicator.nng:Player 1 rendezvous with tcp://127.0.0.1:58182 from tcp://127.0.0.1:58183.\n",
      "INFO:cicada.communicator.nng:Player 2 rendezvous with tcp://127.0.0.1:58182 from tcp://127.0.0.1:58184.\n",
      "INFO:cicada.communicator.nng:Comm 'world' player 0 communicator ready.\n",
      "INFO:cicada.communicator.nng:Comm 'world' player 1 communicator ready.\n",
      "INFO:cicada.communicator.nng:Comm 'world' player 2 communicator ready.\n",
      "INFO:root:Dividend: 144409\n",
      "INFO:root:Modulus: 117\n",
      "INFO:root:Player 0 remainder: 35.256103515625 expected 31\n",
      "INFO:root:Dividend: 144409\n",
      "INFO:root:Modulus: 118\n",
      "INFO:root:Player 0 remainder: 101.36129760742188 expected 95\n",
      "INFO:root:Dividend: 144409\n",
      "INFO:root:Modulus: 119\n",
      "INFO:root:Player 0 remainder: 189.50155639648438 expected 62\n",
      "INFO:root:Dividend: 144409\n",
      "INFO:root:Modulus: 120\n",
      "INFO:root:Player 0 remainder: 35.256103515625 expected 49\n",
      "INFO:root:Dividend: 144409\n",
      "INFO:root:Modulus: 121\n",
      "INFO:root:Player 0 remainder: 165.2629852294922 expected 56\n",
      "INFO:root:Dividend: 144409\n",
      "INFO:root:Modulus: 122\n",
      "INFO:root:Player 0 remainder: 48.477142333984375 expected 83\n",
      "INFO:root:Dividend: 144409\n",
      "INFO:root:Modulus: 123\n",
      "INFO:root:Player 0 remainder: 220.35064697265625 expected 7\n",
      "INFO:root:Dividend: 144409\n",
      "INFO:root:Modulus: 124\n",
      "INFO:root:Player 0 remainder: 141.0244140625 expected 73\n",
      "INFO:root:Dividend: 144409\n",
      "INFO:root:Modulus: 125\n",
      "INFO:root:Player 0 remainder: 79.32623291015625 expected 34\n",
      "INFO:root:Dividend: 144409\n",
      "INFO:root:Modulus: 126\n",
      "INFO:root:Player 0 remainder: 35.256103515625 expected 13\n",
      "INFO:cicada.communicator.nng:Comm 'world' player 0 communicator freed.\n",
      "INFO:cicada.communicator.nng:Comm 'world' player 2 communicator freed.\n",
      "INFO:cicada.communicator.nng:Comm 'world' player 1 communicator freed.\n",
      "INFO:cicada.communicator.nng:Player 0 returned: None\n",
      "INFO:cicada.communicator.nng:Player 1 returned: None\n",
      "INFO:cicada.communicator.nng:Player 2 returned: None\n"
     ]
    }
   ],
   "source": [
    "import logging\n",
    "\n",
    "import numpy\n",
    "\n",
    "import cicada.additive\n",
    "import cicada.communicator\n",
    "\n",
    "logging.basicConfig(level=logging.INFO)\n",
    "\n",
    "@cicada.communicator.NNGCommunicator.run(world_size=3)\n",
    "def main(communicator):\n",
    "    log = cicada.Logger(logging.getLogger(), communicator)\n",
    "    protocol = cicada.additive.AdditiveProtocol(communicator)\n",
    "\n",
    "    # Player 0 will provide the secret divisor.\n",
    "    a = numpy.array(144409)\n",
    "    # Every player knows the modulus.\n",
    "    for i in range(10):\n",
    "        b = numpy.array(117+i)\n",
    "\n",
    "        log.info(f\"Dividend: {a}\", src=0)\n",
    "        log.info(f\"Modulus: {b}\", src=1)\n",
    "\n",
    "        a_share = protocol.share(src=0, secret=protocol.encoder.encode(a), shape=())\n",
    "        remainder_share = protocol.private_public_mod(a_share, b)\n",
    "        remainder = protocol.encoder.decode(protocol.reveal(remainder_share))\n",
    "\n",
    "        log.info(f\"Player {communicator.rank} remainder: {remainder} expected {a%b}\", src=0)\n",
    "\n",
    "main();"
   ]
  },
  {
   "cell_type": "markdown",
   "metadata": {},
   "source": [
    "As you can see, the result revealed to the players is correct."
   ]
  },
  {
   "cell_type": "raw",
   "metadata": {
    "raw_mimetype": "text/restructuredtext"
   },
   "source": [
    ".. seealso:: :ref:`division`"
   ]
  }
 ],
 "metadata": {
  "celltoolbar": "Raw Cell Format",
  "kernelspec": {
   "display_name": "Python 3 (ipykernel)",
   "language": "python",
   "name": "python3"
  },
  "language_info": {
   "codemirror_mode": {
    "name": "ipython",
    "version": 3
   },
   "file_extension": ".py",
   "mimetype": "text/x-python",
   "name": "python",
   "nbconvert_exporter": "python",
   "pygments_lexer": "ipython3",
   "version": "3.8.10"
  }
 },
 "nbformat": 4,
 "nbformat_minor": 2
}
