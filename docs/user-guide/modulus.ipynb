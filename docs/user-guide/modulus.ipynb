{
 "cells": [
  {
   "cell_type": "markdown",
   "metadata": {},
   "source": [
    "# Modulus\n",
    "\n",
    "In this notebook we demonstrate the modulo function available within cicada. \n",
    "\n",
    "We use a couple fixed operands which we initialize and share. These we then use as operands for the modulo function. Feel free to change these operands. They are a secret operand (secret_a) and a public modulus (b) initialized in their own notebook cell for clarity and convenience. \n",
    "\n",
    "We reveal the result and calculate the error based on the result of operating on the underlying values via normal floating point arithmetic and report the results.\n",
    "\n",
    "Our method here is dependent on our integer division which is approximate and this method is therefore probabilistic. "
   ]
  },
  {
   "cell_type": "code",
   "execution_count": 1,
   "metadata": {},
   "outputs": [],
   "source": [
    "import logging"
   ]
  },
  {
   "cell_type": "code",
   "execution_count": 2,
   "metadata": {},
   "outputs": [],
   "source": [
    "import numpy"
   ]
  },
  {
   "cell_type": "code",
   "execution_count": 3,
   "metadata": {},
   "outputs": [],
   "source": [
    "import cicada.additive\n",
    "import cicada.communicator"
   ]
  },
  {
   "cell_type": "code",
   "execution_count": 4,
   "metadata": {},
   "outputs": [],
   "source": [
    "logging.basicConfig(level=logging.INFO)"
   ]
  },
  {
   "cell_type": "code",
   "execution_count": 5,
   "metadata": {},
   "outputs": [],
   "source": [
    "b = numpy.array(117)\n",
    "secret_a = numpy.array(b*1234+31)"
   ]
  },
  {
   "cell_type": "code",
   "execution_count": 6,
   "metadata": {},
   "outputs": [],
   "source": [
    "@cicada.communicator.NNGCommunicator.run(world_size=3)\n",
    "def main(communicator):\n",
    "    log = cicada.Logger(logging.getLogger(), communicator)\n",
    "    protocol = cicada.additive.AdditiveProtocol(communicator)\n",
    "\n",
    "    b_enc = protocol.encoder.encode(numpy.array(b, dtype=object))\n",
    "    log.info(f\"Player {communicator.rank} secret a: {secret_a}\", src=0)\n",
    "    log.info(f\"Player {communicator.rank} b: {b}\", src=1)\n",
    "    a_share = protocol.share(src=0, secret=protocol.encoder.encode(numpy.array(secret_a)), shape=())\n",
    "    residue_share = protocol.modulus_private_public(a_share, b)\n",
    "    residue = protocol.encoder.decode(protocol.reveal(residue_share))\n",
    "    log.info(f\"Player {communicator.rank} residue {secret_a} % {b}: {residue}\\texpected: {secret_a%b}\")\n",
    "\n"
   ]
  },
  {
   "cell_type": "code",
   "execution_count": 9,
   "metadata": {},
   "outputs": [
    {
     "name": "stderr",
     "output_type": "stream",
     "text": [
      "INFO:cicada.communicator.nng:Player 0 rendezvous with tcp://127.0.0.1:57688 from tcp://127.0.0.1:57688.\n",
      "INFO:cicada.communicator.nng:Player 1 rendezvous with tcp://127.0.0.1:57688 from tcp://127.0.0.1:57689.\n",
      "INFO:cicada.communicator.nng:Player 2 rendezvous with tcp://127.0.0.1:57688 from tcp://127.0.0.1:57690.\n",
      "INFO:cicada.communicator.nng:Comm 'world' player 0 communicator ready.\n",
      "INFO:cicada.communicator.nng:Comm 'world' player 2 communicator ready.\n",
      "INFO:cicada.communicator.nng:Comm 'world' player 1 communicator ready.\n",
      "INFO:root:Player 0 secret a: 144409\n",
      "INFO:root:Player 1 b: 117\n",
      "INFO:root:Player 0 residue 144409 % 117: 31.0\texpected: 31\n",
      "INFO:root:Player 1 residue 144409 % 117: 31.0\texpected: 31\n",
      "INFO:root:Player 2 residue 144409 % 117: 31.0\texpected: 31\n",
      "INFO:cicada.communicator.nng:Comm 'world' player 0 communicator freed.\n",
      "INFO:cicada.communicator.nng:Comm 'world' player 2 communicator freed.\n",
      "INFO:cicada.communicator.nng:Comm 'world' player 1 communicator freed.\n",
      "INFO:cicada.communicator.nng:Player 0 returned: None\n",
      "INFO:cicada.communicator.nng:Player 1 returned: None\n",
      "INFO:cicada.communicator.nng:Player 2 returned: None\n"
     ]
    },
    {
     "data": {
      "text/plain": [
       "[None, None, None]"
      ]
     },
     "execution_count": 9,
     "metadata": {},
     "output_type": "execute_result"
    }
   ],
   "source": [
    "main()"
   ]
  },
  {
   "cell_type": "code",
   "execution_count": null,
   "metadata": {},
   "outputs": [],
   "source": []
  },
  {
   "cell_type": "code",
   "execution_count": null,
   "metadata": {},
   "outputs": [],
   "source": []
  },
  {
   "cell_type": "code",
   "execution_count": null,
   "metadata": {},
   "outputs": [],
   "source": []
  }
 ],
 "metadata": {
  "kernelspec": {
   "display_name": "Python 3 (ipykernel)",
   "language": "python",
   "name": "python3"
  },
  "language_info": {
   "codemirror_mode": {
    "name": "ipython",
    "version": 3
   },
   "file_extension": ".py",
   "mimetype": "text/x-python",
   "name": "python",
   "nbconvert_exporter": "python",
   "pygments_lexer": "ipython3",
   "version": "3.8.10"
  }
 },
 "nbformat": 4,
 "nbformat_minor": 2
}
