{
 "cells": [
  {
   "cell_type": "raw",
   "metadata": {
    "raw_mimetype": "text/restructuredtext"
   },
   "source": [
    ".. _modulus:\n",
    "\n",
    "Modulus\n",
    "=======\n",
    "\n",
    "In this notebook we will use the Cicada modulus operator to compute the element-wise remainder of division. Note that modulus is a `private-public` operation: the `dividend` is a secret-shared value, while the `divisor` is a public value known to all players.  The resulting `remainder` will be a secret-shared value, so that the privacy of the dividend is preserved.\n",
    "\n",
    "The implementation is dependent on our integer division which is approximate, so that this method is probabilistic.\n",
    "\n",
    "Importantly, the divisor is an **unencoded value**.\n",
    "\n",
    "In the example, we compute :math:`144409 \\bmod 117 = 31`.  "
   ]
  },
  {
   "cell_type": "code",
   "execution_count": null,
   "metadata": {},
   "outputs": [],
   "source": [
    "import logging\n",
    "\n",
    "import numpy\n",
    "\n",
    "import cicada.additive\n",
    "import cicada.communicator\n",
    "\n",
    "logging.basicConfig(level=logging.INFO)\n",
    "\n",
    "@cicada.communicator.NNGCommunicator.run(world_size=3)\n",
    "def main(communicator):\n",
    "    log = cicada.Logger(logging.getLogger(), communicator)\n",
    "    protocol = cicada.additive.AdditiveProtocol(communicator)\n",
    "\n",
    "    # Player 0 will provide the secret divisor.\n",
    "    a = numpy.array(144409)\n",
    "    # Every player knows the modulus.\n",
    "    for i in range(10):\n",
    "        b = numpy.array(117+i)\n",
    "\n",
    "        log.info(f\"Dividend: {a}\", src=0)\n",
    "        log.info(f\"Modulus: {b}\", src=1)\n",
    "\n",
    "        a_share = protocol.share(src=0, secret=protocol.encoder.encode(a), shape=())\n",
    "        remainder_share = protocol.private_public_mod(a_share, b)\n",
    "        remainder = protocol.encoder.decode(protocol.reveal(remainder_share))\n",
    "\n",
    "        log.info(f\"Player {communicator.rank} remainder: {remainder} expected {a%b}\", src=0)\n",
    "\n",
    "main();"
   ]
  },
  {
   "cell_type": "markdown",
   "metadata": {},
   "source": [
    "As you can see, the result revealed to the players is correct."
   ]
  },
  {
   "cell_type": "raw",
   "metadata": {
    "raw_mimetype": "text/restructuredtext"
   },
   "source": [
    ".. seealso:: :ref:`division`"
   ]
  }
 ],
 "metadata": {
  "celltoolbar": "Raw Cell Format",
  "kernelspec": {
   "display_name": "Python 3 (ipykernel)",
   "language": "python",
   "name": "python3"
  },
  "language_info": {
   "codemirror_mode": {
    "name": "ipython",
    "version": 3
   },
   "file_extension": ".py",
   "mimetype": "text/x-python",
   "name": "python",
   "nbconvert_exporter": "python",
   "pygments_lexer": "ipython3",
   "version": "3.8.10"
  }
 },
 "nbformat": 4,
 "nbformat_minor": 2
}
