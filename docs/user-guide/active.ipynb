{
 "cells": [
  {
   "cell_type": "raw",
   "metadata": {
    "raw_mimetype": "text/restructuredtext"
   },
   "source": [
    ".. _active:\n",
    "\n",
    "Active Adversaries\n",
    "------------------\n",
    "\n",
    ":class:`Additive secret sharing <cicada.additive.AdditiveProtocolSuite>` and :ref:`Shamir secret sharing <shamir>` are popular sharing schemes provided by Cicada, but are secure only against semi-honest (also known as \"honest but curious\") adversaries. With this security model, private information is secure against disclosure, but a malicious player (an \"active adversary\") could deliberately alter a calculation to produce an invalid result, and none of the other players would know.\n",
    "\n",
    "As a more robust (but slower) alternative, Cicada provides :class:`~cicada.active.ActiveProtocolSuite`, which provides security with abort against a dishonest majority. In this case, private information is still secure against disclosure, *and* tampering with a calculation can be detected by a single honest player, even if every other player is an active adversary.\n",
    "\n",
    ":class:`~cicada.active.ActiveProtocolSuite` supports the same mathematical and logical operations as :class:`~cicada.additive.AdditiveProtocolSuite` and :class:`~cicada.shamir.ShamirProtocolSuite`, and its secret shares are a combination of additive and Shamir shares.  The security against malicious alteration in this case is derived from the fact that attempts to alter both types of share in parallel give rise to inconsistencies that can be detected.\n",
    "\n",
    "Note that the *identity* of dishonest players cannot be detected by this scheme, nor can the correct value for a computation be recovered - the only resort for honest players is to try to perform the computation again with a set of (hopefully honest) remaining players.\n",
    "\n",
    "With that out of the way, Let's begin with an example of sharing and revealing a value using :class:`~cicada.active.ActiveProtocolSuite`:"
   ]
  },
  {
   "cell_type": "code",
   "execution_count": 1,
   "metadata": {},
   "outputs": [
    {
     "name": "stderr",
     "output_type": "stream",
     "text": [
      "INFO:root:Player 0 revealed: 42.0\n",
      "INFO:root:Player 1 revealed: 42.0\n",
      "INFO:root:Player 2 revealed: 42.0\n"
     ]
    }
   ],
   "source": [
    "import logging\n",
    "logging.basicConfig(level=logging.INFO)\n",
    "\n",
    "import numpy\n",
    "\n",
    "import cicada\n",
    "from cicada.active import ActiveProtocolSuite\n",
    "from cicada.communicator import SocketCommunicator\n",
    "\n",
    "def main(communicator):\n",
    "    log = cicada.Logger(logging.getLogger(), communicator)\n",
    "    protocol = ActiveProtocolSuite(communicator, threshold=2)\n",
    "\n",
    "    secret = numpy.array(42) if communicator.rank == 0 else None\n",
    "    secret_share = protocol.share(src=0, secret=secret, shape=())\n",
    "\n",
    "    result = protocol.reveal(secret_share)\n",
    "    log.info(f\"Player {communicator.rank} revealed: {result}\")\n",
    "\n",
    "SocketCommunicator.run(world_size=3, fn=main);"
   ]
  },
  {
   "cell_type": "raw",
   "metadata": {
    "raw_mimetype": "text/restructuredtext"
   },
   "source": [
    "This is all very straightforward, but let's see what happens if player 1 tries to tamper with its share so that the secret value increases by one:\n",
    "\n",
    ".. warning::\n",
    "\n",
    "    The following code uses the :attr:`~cicada.active.ActiveArrayShare.storage` attribute to directly modify secret shares; under normal circumstances, you should *never* modify secret shares in this way, regardless of protocol suite.  We do it here to model adversarial behavior only."
   ]
  },
  {
   "cell_type": "code",
   "execution_count": 2,
   "metadata": {},
   "outputs": [
    {
     "name": "stderr",
     "output_type": "stream",
     "text": [
      "WARNING:cicada.communicator.socket:Comm world player 0 failed: ConsistencyError('Secret Shares are inconsistent in the first stage')\n",
      "WARNING:cicada.communicator.socket:Comm world player 1 failed: ConsistencyError('Secret Shares are inconsistent in the first stage')\n",
      "WARNING:cicada.communicator.socket:Comm world player 2 failed: ConsistencyError('Secret Shares are inconsistent in the first stage')\n",
      "ERROR:cicada.communicator.socket:********************************************************************************\n",
      "ERROR:cicada.communicator.socket:Comm world player 0 traceback:\n",
      "ERROR:cicada.communicator.socket:Traceback (most recent call last):\n",
      "  File \"/Users/tshead/src/cicada-mpc/cicada/communicator/socket/__init__.py\", line 784, in launch\n",
      "    result = fn(communicator, *args, **kwargs)\n",
      "  File \"/var/folders/tl/h2xygzzn1154jzjn_n01x860001l4n/T/ipykernel_29378/2708435132.py\", line 13, in main\n",
      "    result = protocol.reveal(secret_share)\n",
      "  File \"/Users/tshead/src/cicada-mpc/cicada/active.py\", line 1116, in reveal\n",
      "    return self._encoder.decode(self._reveal(share, dst=dst))\n",
      "  File \"/Users/tshead/src/cicada-mpc/cicada/active.py\", line 1033, in _reveal\n",
      "    raise ConsistencyError(\"Secret Shares are inconsistent in the first stage\")\n",
      "cicada.active.ConsistencyError: Secret Shares are inconsistent in the first stage\n",
      "\n",
      "ERROR:cicada.communicator.socket:********************************************************************************\n",
      "ERROR:cicada.communicator.socket:Comm world player 1 traceback:\n",
      "ERROR:cicada.communicator.socket:Traceback (most recent call last):\n",
      "  File \"/Users/tshead/src/cicada-mpc/cicada/communicator/socket/__init__.py\", line 784, in launch\n",
      "    result = fn(communicator, *args, **kwargs)\n",
      "  File \"/var/folders/tl/h2xygzzn1154jzjn_n01x860001l4n/T/ipykernel_29378/2708435132.py\", line 13, in main\n",
      "    result = protocol.reveal(secret_share)\n",
      "  File \"/Users/tshead/src/cicada-mpc/cicada/active.py\", line 1116, in reveal\n",
      "    return self._encoder.decode(self._reveal(share, dst=dst))\n",
      "  File \"/Users/tshead/src/cicada-mpc/cicada/active.py\", line 1033, in _reveal\n",
      "    raise ConsistencyError(\"Secret Shares are inconsistent in the first stage\")\n",
      "cicada.active.ConsistencyError: Secret Shares are inconsistent in the first stage\n",
      "\n",
      "ERROR:cicada.communicator.socket:********************************************************************************\n",
      "ERROR:cicada.communicator.socket:Comm world player 2 traceback:\n",
      "ERROR:cicada.communicator.socket:Traceback (most recent call last):\n",
      "  File \"/Users/tshead/src/cicada-mpc/cicada/communicator/socket/__init__.py\", line 784, in launch\n",
      "    result = fn(communicator, *args, **kwargs)\n",
      "  File \"/var/folders/tl/h2xygzzn1154jzjn_n01x860001l4n/T/ipykernel_29378/2708435132.py\", line 13, in main\n",
      "    result = protocol.reveal(secret_share)\n",
      "  File \"/Users/tshead/src/cicada-mpc/cicada/active.py\", line 1116, in reveal\n",
      "    return self._encoder.decode(self._reveal(share, dst=dst))\n",
      "  File \"/Users/tshead/src/cicada-mpc/cicada/active.py\", line 1033, in _reveal\n",
      "    raise ConsistencyError(\"Secret Shares are inconsistent in the first stage\")\n",
      "cicada.active.ConsistencyError: Secret Shares are inconsistent in the first stage\n",
      "\n"
     ]
    }
   ],
   "source": [
    "def main(communicator):\n",
    "    log = cicada.Logger(logging.getLogger(), communicator)\n",
    "    protocol = ActiveProtocolSuite(communicator, threshold=2)\n",
    "\n",
    "    secret = numpy.array(42) if communicator.rank == 0 else None\n",
    "    secret_share = protocol.share(src=0, secret=secret, shape=())\n",
    "\n",
    "    # Evil player behavior here!\n",
    "    if communicator.rank == 1:\n",
    "        additive_share = secret_share.storage[0]\n",
    "        additive_share.storage += 1\n",
    "    \n",
    "    result = protocol.reveal(secret_share)\n",
    "    log.info(f\"Player {communicator.rank} revealed: {result}\")\n",
    "\n",
    "SocketCommunicator.run(world_size=3, fn=main);"
   ]
  },
  {
   "cell_type": "raw",
   "metadata": {
    "raw_mimetype": "text/restructuredtext"
   },
   "source": [
    "In this case, :class:`~cicada.active.ActiveProtocolSuite` detects the tampering as soon as the players attempt to reveal the secret, and raises a :class:`cicada.active.ConsistencyError` exception.  Checking for tampering when secrets are revealed ensures that invalid results cannot go undetected or ignored.\n",
    "\n",
    "Players can also perform explicit checks for tampering; this can be useful to checkpoint correct results and/or avoid wasted computation by cutting-short a long-running process if tampering is detected:"
   ]
  },
  {
   "cell_type": "code",
   "execution_count": 3,
   "metadata": {},
   "outputs": [
    {
     "name": "stderr",
     "output_type": "stream",
     "text": [
      "ERROR:root:Player 0 detected tampering!\n",
      "ERROR:root:Player 1 detected tampering!\n",
      "ERROR:root:Player 2 detected tampering!\n"
     ]
    }
   ],
   "source": [
    "def main(communicator):\n",
    "    log = cicada.Logger(logging.getLogger(), communicator)\n",
    "    protocol = ActiveProtocolSuite(communicator, threshold=2)\n",
    "\n",
    "    secret = numpy.array(42) if communicator.rank == 0 else None\n",
    "    secret_share = protocol.share(src=0, secret=secret, shape=())\n",
    "\n",
    "    # Evil player behavior here!\n",
    "    if communicator.rank == 1:\n",
    "        additive_share = secret_share.storage[0]\n",
    "        additive_share.storage += 1\n",
    "\n",
    "    if not protocol.verify(secret_share):\n",
    "        log.error(f\"Player {communicator.rank} detected tampering!\")\n",
    "        return\n",
    "        \n",
    "    result = protocol.reveal(secret_share)\n",
    "    log.info(f\"Player {communicator.rank} revealed: {result}\")\n",
    "\n",
    "SocketCommunicator.run(world_size=3, fn=main);"
   ]
  },
  {
   "cell_type": "markdown",
   "metadata": {},
   "source": [
    "Let's attempt a more subtle tamper:"
   ]
  },
  {
   "cell_type": "code",
   "execution_count": 4,
   "metadata": {},
   "outputs": [
    {
     "name": "stderr",
     "output_type": "stream",
     "text": [
      "ERROR:root:Player 0 detected tampering!\n",
      "ERROR:root:Player 1 detected tampering!\n",
      "ERROR:root:Player 2 detected tampering!\n"
     ]
    }
   ],
   "source": [
    "def main(communicator):\n",
    "    log = cicada.Logger(logging.getLogger(), communicator)\n",
    "    protocol = ActiveProtocolSuite(communicator, threshold=2)\n",
    "\n",
    "    secret = numpy.array(42) if communicator.rank == 0 else None\n",
    "    secret_share = protocol.share(src=0, secret=secret, shape=())\n",
    "\n",
    "    # Evil player behavior here!\n",
    "    if communicator.rank == 0:\n",
    "        additive_share = secret_share.storage[0]\n",
    "        shamir_share = secret_share.storage[1]\n",
    "        \n",
    "        modulus = 2**64-59\n",
    "        additive_share.storage += 1\n",
    "        shamir_share.storage = numpy.array((shamir_share.storage + pow(5, modulus-2, modulus)) % modulus, dtype=object)\n",
    "\n",
    "    if not protocol.verify(secret_share):\n",
    "        log.error(f\"Player {communicator.rank} detected tampering!\")\n",
    "        return\n",
    "        \n",
    "    result = protocol.reveal(secret_share)\n",
    "    log.info(f\"Player {communicator.rank} revealed: {result}\")\n",
    "\n",
    "SocketCommunicator.run(world_size=3, fn=main);"
   ]
  },
  {
   "cell_type": "raw",
   "metadata": {
    "raw_mimetype": "text/restructuredtext"
   },
   "source": [
    ":class:`~cicada.active.ActiveProtocolSuite` provides the same operations as additive and Shamir individually, but allows honest players to detect the influences of active malicious adversaries. The cost of this security is roughly equal to the sum of the computational and communication cost of the additive and Shamir protocols individually. "
   ]
  }
 ],
 "metadata": {
  "celltoolbar": "Raw Cell Format",
  "kernelspec": {
   "display_name": "Python 3 (ipykernel)",
   "language": "python",
   "name": "python3"
  },
  "language_info": {
   "codemirror_mode": {
    "name": "ipython",
    "version": 3
   },
   "file_extension": ".py",
   "mimetype": "text/x-python",
   "name": "python",
   "nbconvert_exporter": "python",
   "pygments_lexer": "ipython3",
   "version": "3.8.10"
  }
 },
 "nbformat": 4,
 "nbformat_minor": 2
}
