{
 "cells": [
  {
   "cell_type": "raw",
   "metadata": {
    "raw_mimetype": "text/restructuredtext"
   },
   "source": [
    ".. _active:\n",
    "\n",
    "Secret Sharing with Security against Active adversaries\n",
    "---------------------\n",
    "\n",
    "While :class:`additive secret sharing <cicada.additive.AdditiveProtocolSuite>` is widely used throughout the :ref:`tutorial` and this documentation, and :class:`additive secret sharing <cicada.additive.AdditiveProtocolSuite>` is also provided, these are both secure only against honest but curious adversaries. For security (with abort) against active adversaries Cicada provides the ActiveProtocol, and supports the same mathematical and logical operations as additive and Shamir sharing. In fact, ActiveProtocol is a combination of additive and Shamir sharing.\n",
    "\n",
    "The security against malicious alteration in this protocol is derived from the fact that alteration of secrets must be done differently between the additive and Shamir secret sharing schemes. Operating on both in parallel will cause alterations to be detectable due to inconsistencies arising between the schemes since they must be altered in different ways. \n",
    "\n",
    "First set the variable for how you'd like malicious alterations to be done, in a rather dumb or naive way, or in a way that is somewhat more intelligent in that the \"smart change\" will pass the initial integrity check, though it will inevitably fail in the latter check. \n",
    "\n",
    "You should only set dumb_change to your desired value as smart_change will simply be the complement of dumb_change."
   ]
  },
  {
   "cell_type": "code",
   "execution_count": 1,
   "metadata": {},
   "outputs": [],
   "source": [
    "dumb_change = 0\n",
    "\n",
    "smart_change = not dumb_change "
   ]
  },
  {
   "cell_type": "raw",
   "metadata": {
    "raw_mimetype": "text/restructuredtext"
   },
   "source": [
    "With that out of the way, Let's consider an example using :class:`~cicada.active.ActiveProtocol` :"
   ]
  },
  {
   "cell_type": "code",
   "execution_count": 2,
   "metadata": {},
   "outputs": [
    {
     "name": "stderr",
     "output_type": "stream",
     "text": [
      "INFO:root:Player 0 secret: [ 3.14159265  1.         -2.          3.        ]\n",
      "INFO:root:Player 1 secret: None\n",
      "INFO:root:Player 2 secret: None\n",
      "INFO:root:Player 3 secret: None\n",
      "INFO:root:Player 4 secret: None\n",
      "INFO:root:Player 0 share reveal check: [ 3.1415863  1.        -2.         3.       ]\n",
      "INFO:root:Player 1 share reveal check: [ 3.1415863  1.        -2.         3.       ]\n",
      "INFO:root:Player 2 share reveal check: [ 3.1415863  1.        -2.         3.       ]\n",
      "INFO:root:Player 3 share reveal check: [ 3.1415863  1.        -2.         3.       ]\n",
      "INFO:root:Player 4 share reveal check: [ 3.1415863  1.        -2.         3.       ]\n",
      "INFO:root:Player 0 Entering Malicious activity, since we're messing with things in a smart way,\n",
      "the consistency check should fail in the second step.\n",
      "INFO:root:Player 0 share consistency check - should be True: True\n",
      "INFO:root:Player 1 share consistency check - should be True: True\n",
      "INFO:root:Player 2 share consistency check - should be True: True\n",
      "INFO:root:Player 3 share consistency check - should be True: True\n",
      "INFO:root:Player 4 share consistency check - should be True: True\n",
      "INFO:root:Malicious alteration detected: Secret Shares are inconsistent in the second stage\n",
      "INFO:root:Malicious alteration detected: Secret Shares are inconsistent in the second stage\n",
      "INFO:root:Malicious alteration detected: Secret Shares are inconsistent in the second stage\n",
      "INFO:root:Malicious alteration detected: Secret Shares are inconsistent in the second stage\n",
      "INFO:root:Malicious alteration detected: Secret Shares are inconsistent in the second stage\n"
     ]
    }
   ],
   "source": [
    "import logging\n",
    "logging.basicConfig(level=logging.INFO)\n",
    "\n",
    "import numpy\n",
    "\n",
    "import cicada\n",
    "import cicada.active\n",
    "from cicada.shamir import ShamirBasicProtocolSuite, ShamirProtocolSuite\n",
    "from cicada.communicator import SocketCommunicator\n",
    "from copy import deepcopy\n",
    "\n",
    "def main(communicator):\n",
    "    log = cicada.Logger(logging.getLogger(), communicator)\n",
    "    protocol = cicada.active.ActiveProtocol(communicator, threshold=3)\n",
    "\n",
    "    # Player 0 will provide a secret which is a scalar.\n",
    "    secret = numpy.array([numpy.pi,1,-2,3]) if communicator.rank == 0 else None\n",
    "    log.info(f\"Player {communicator.rank} secret: {secret}\")\n",
    "\n",
    "    # Create shares for the secret.\n",
    "    share = protocol.share(src=0, secret=secret, shape=(4,))\n",
    "    #log.info(f\"Player {communicator.rank} share: {share}\")\n",
    "\n",
    "    modulus = 2**64-59\n",
    "    #log.info(f\"Player {communicator.rank} share consistency check: {protocol.check_commit(share)}\")\n",
    "    log.info(f\"Player {communicator.rank} share reveal check: {protocol.reveal(share)}\")\n",
    "    log.info(f\"Player {communicator.rank} Entering Malicious activity, since we're messing with things in a {['dumb', 'smart'][smart_change]} way,\\nthe consistency check should fail in the {['first', 'second'][smart_change]} step.\", src=0)\n",
    "    bad_share = deepcopy(share)\n",
    "    if protocol.communicator.rank == 3 and dumb_change:\n",
    "        bad_share[0].storage[0] += 1\n",
    "    if protocol.communicator.rank == 0 and smart_change:\n",
    "        bad_share[0].storage[1] += 1\n",
    "        bad_share[1].storage[1] = (bad_share[1].storage[1] + pow(5, modulus-2, modulus)) % modulus\n",
    "    try:\n",
    "        log.info(f\"Player {communicator.rank} share consistency check - should be True: {protocol.verify(bad_share)}\")\n",
    "    except cicada.active.ConsistencyError as e:\n",
    "        print(f'Malicious alteration detected: {e}')\n",
    "    try:\n",
    "        log.info(f\"Player {communicator.rank} share reveal check: {protocol.reveal(bad_share)}\")\n",
    "    except cicada.active.ConsistencyError as e:\n",
    "        log.info(f'Malicious alteration detected: {e}')\n",
    "\n",
    "SocketCommunicator.run(world_size=5, fn=main);"
   ]
  },
  {
   "cell_type": "raw",
   "metadata": {
    "raw_mimetype": "text/restructuredtext"
   },
   "source": [
    "Now we'll demonstrate some operations with the protocol. First we'll double the shares and then square them. "
   ]
  },
  {
   "cell_type": "code",
   "execution_count": 3,
   "metadata": {},
   "outputs": [
    {
     "name": "stderr",
     "output_type": "stream",
     "text": [
      "INFO:root:Player 0 secret: [ 3.14159265  1.         -2.          3.        ]\n",
      "INFO:root:Player 1 secret: None\n",
      "INFO:root:Player 2 secret: None\n",
      "INFO:root:Player 3 secret: None\n",
      "INFO:root:Player 4 secret: None\n",
      "INFO:root:Player 0 share consistency check - should be True: True\n",
      "INFO:root:Player 1 share consistency check - should be True: True\n",
      "INFO:root:Player 2 share consistency check - should be True: True\n",
      "INFO:root:Player 3 share consistency check - should be True: True\n",
      "INFO:root:Player 4 share consistency check - should be True: True\n",
      "INFO:root:Player 0 double share reveal check: [ 6.28317261  2.         -4.          6.        ]\n",
      "INFO:root:Player 1 double share reveal check: [ 6.28317261  2.         -4.          6.        ]\n",
      "INFO:root:Player 2 double share reveal check: [ 6.28317261  2.         -4.          6.        ]\n",
      "INFO:root:Player 3 double share reveal check: [ 6.28317261  2.         -4.          6.        ]\n",
      "INFO:root:Player 4 double share reveal check: [ 6.28317261  2.         -4.          6.        ]\n",
      "INFO:root:Player 0 share consistency check - should be True: True\n",
      "INFO:root:Player 1 share consistency check - should be True: True\n",
      "INFO:root:Player 2 share consistency check - should be True: True\n",
      "INFO:root:Player 3 share consistency check - should be True: True\n",
      "INFO:root:Player 4 share consistency check - should be True: True\n",
      "INFO:root:Player 0 share reveal check: [9.86956787 1.         4.         9.        ]\n",
      "INFO:root:Player 1 share reveal check: [9.86956787 1.         4.         9.        ]\n",
      "INFO:root:Player 2 share reveal check: [9.86956787 1.         4.         9.        ]\n",
      "INFO:root:Player 3 share reveal check: [9.86956787 1.         4.         9.        ]\n",
      "INFO:root:Player 4 share reveal check: [9.86956787 1.         4.         9.        ]\n"
     ]
    }
   ],
   "source": [
    "def main(communicator):\n",
    "    log = cicada.Logger(logging.getLogger(), communicator)\n",
    "    protocol = cicada.active.ActiveProtocol(communicator, threshold=3)\n",
    "\n",
    "    # Player 0 will provide a secret which is a scalar.\n",
    "    secret = numpy.array([numpy.pi,1,-2,3]) if communicator.rank == 0 else None\n",
    "    log.info(f\"Player {communicator.rank} secret: {secret}\")\n",
    "\n",
    "    # Create shares for the secret.\n",
    "    share = protocol.share(src=0, secret=secret, shape=(4,))\n",
    "    #log.info(f\"Player {communicator.rank} share: {share}\")\n",
    "\n",
    "    modulus = 2**64-59\n",
    "\n",
    "    double_share = protocol.add(share, share)\n",
    "    try:\n",
    "        log.info(f\"Player {communicator.rank} share consistency check - should be True: {protocol.verify(double_share)}\")\n",
    "    except cicada.active.ConsistencyError as e:\n",
    "        print(f'Malicious alteration detected: {e}')\n",
    "    try:\n",
    "        log.info(f\"Player {communicator.rank} double share reveal check: {protocol.reveal(double_share)}\")\n",
    "    except cicada.active.ConsistencyError as e:\n",
    "        log.info(f'Malicious alteration detected: {e}')\n",
    "        \n",
    "    square_share = protocol.untruncated_multiply(share, share)\n",
    "    square_share = protocol.truncate(square_share)\n",
    "    try:\n",
    "        log.info(f\"Player {communicator.rank} share consistency check - should be True: {protocol.verify(square_share)}\")\n",
    "    except cicada.active.ConsistencyError as e:\n",
    "        print(f'Malicious alteration detected: {e}')\n",
    "    try:\n",
    "        log.info(f\"Player {communicator.rank} share reveal check: {protocol.reveal(square_share)}\")\n",
    "    except cicada.active.ConsistencyError as e:\n",
    "        log.info(f'Malicious alteration detected: {e}')\n",
    "\n",
    "SocketCommunicator.run(world_size=5, fn=main);"
   ]
  },
  {
   "cell_type": "raw",
   "metadata": {
    "raw_mimetype": "text/restructuredtext"
   },
   "source": [
    "Let's attempt to mess with the result of some of those computations now, to demonstrate that the protocol can detect these alterations as well."
   ]
  },
  {
   "cell_type": "code",
   "execution_count": 4,
   "metadata": {},
   "outputs": [
    {
     "name": "stderr",
     "output_type": "stream",
     "text": [
      "INFO:root:Player 0 secret: [ 3.14159265  1.         -2.          3.        ]\n",
      "INFO:root:Player 1 secret: None\n",
      "INFO:root:Player 2 secret: None\n",
      "INFO:root:Player 3 secret: None\n",
      "INFO:root:Player 4 secret: None\n",
      "INFO:root:Player 0 share consistency check - should be True: True\n",
      "INFO:root:Player 1 share consistency check - should be True: True\n",
      "INFO:root:Player 2 share consistency check - should be True: True\n",
      "INFO:root:Player 3 share consistency check - should be True: True\n",
      "INFO:root:Player 4 share consistency check - should be True: True\n",
      "INFO:root:Player 0 share reveal check: [9.86956787 1.         4.         9.        ]\n",
      "INFO:root:Player 1 share reveal check: [9.86956787 1.         4.         9.        ]\n",
      "INFO:root:Player 2 share reveal check: [9.86956787 1.         4.         9.        ]\n",
      "INFO:root:Player 3 share reveal check: [9.86956787 1.         4.         9.        ]\n",
      "INFO:root:Player 4 share reveal check: [9.86956787 1.         4.         9.        ]\n",
      "INFO:root:\n",
      "\n",
      "Finally we'll mess with the results of the previous computation now, since we're messing with things in a smart way,\n",
      "the consistency check should fail in the second step.\n",
      "INFO:root:Player 0 share consistency check - should be True: True\n",
      "INFO:root:Player 1 share consistency check - should be True: True\n",
      "INFO:root:Player 2 share consistency check - should be True: True\n",
      "INFO:root:Player 3 share consistency check - should be True: True\n",
      "INFO:root:Player 4 share consistency check - should be True: True\n",
      "INFO:root:Malicious alteration detected: Secret Shares are inconsistent in the second stage\n",
      "INFO:root:Malicious alteration detected: Secret Shares are inconsistent in the second stage\n",
      "INFO:root:Malicious alteration detected: Secret Shares are inconsistent in the second stage\n",
      "INFO:root:Malicious alteration detected: Secret Shares are inconsistent in the second stage\n",
      "INFO:root:Malicious alteration detected: Secret Shares are inconsistent in the second stage\n"
     ]
    }
   ],
   "source": [
    "def main(communicator):\n",
    "    log = cicada.Logger(logging.getLogger(), communicator)\n",
    "    protocol = cicada.active.ActiveProtocol(communicator, threshold=3)\n",
    "\n",
    "    # Player 0 will provide a secret which is a scalar.\n",
    "    secret = numpy.array([numpy.pi,1,-2,3]) if communicator.rank == 0 else None\n",
    "    log.info(f\"Player {communicator.rank} secret: {secret}\")\n",
    "\n",
    "    # Create shares for the secret.\n",
    "    share = protocol.share(src=0, secret=secret, shape=(4,))\n",
    "    #log.info(f\"Player {communicator.rank} share: {share}\")\n",
    "\n",
    "    modulus = 2**64-59\n",
    "\n",
    "    square_share = protocol.untruncated_multiply(share, share)\n",
    "    square_share = protocol.truncate(square_share)\n",
    "    try:\n",
    "        log.info(f\"Player {communicator.rank} share consistency check - should be True: {protocol.verify(square_share)}\")\n",
    "    except cicada.active.ConsistencyError as e:\n",
    "        print(f'Malicious alteration detected: {e}')\n",
    "    try:\n",
    "        log.info(f\"Player {communicator.rank} share reveal check: {protocol.reveal(square_share)}\")\n",
    "    except cicada.active.ConsistencyError as e:\n",
    "        log.info(f'Malicious alteration detected: {e}')\n",
    "        \n",
    "    log.info(f\"\\n\\nFinally we'll mess with the results of the previous computation now, since we're messing with things in a {['dumb', 'smart'][smart_change]} way,\\nthe consistency check should fail in the {['first', 'second'][smart_change]} step.\", src=0)\n",
    "    if protocol.communicator.rank == 3 and dumb_change:\n",
    "        square_share[0].storage[0] += 1\n",
    "    if protocol.communicator.rank == 0 and smart_change:\n",
    "        square_share[0].storage[1] += 1\n",
    "        square_share[1].storage[1] = (square_share[1].storage[1] + pow(5, modulus-2, modulus)) % modulus\n",
    "    try:\n",
    "        log.info(f\"Player {communicator.rank} share consistency check - should be True: {protocol.verify(square_share)}\")\n",
    "    except cicada.active.ConsistencyError as e:\n",
    "        print(f'Malicious alteration detected: {e}')\n",
    "    try:\n",
    "        log.info(f\"Player {communicator.rank} share reveal check: {protocol.reveal(square_share)}\")\n",
    "    except cicada.active.ConsistencyError as e:\n",
    "        log.info(f'Malicious alteration detected: {e}')\n",
    "\n",
    "SocketCommunicator.run(world_size=5, fn=main);"
   ]
  },
  {
   "cell_type": "markdown",
   "metadata": {},
   "source": [
    "Thus active protocol exposes similar capabilities to additive or Shamir individually, but allows for honest parties to detect the influences of active malicious adversaries such that their alterations to the shared computation will be detected. The cost to this is roughly 2x the computational and communication cost of either of the protocols individually. "
   ]
  }
 ],
 "metadata": {
  "celltoolbar": "Raw Cell Format",
  "kernelspec": {
   "display_name": "Python 3",
   "language": "python",
   "name": "python3"
  },
  "language_info": {
   "codemirror_mode": {
    "name": "ipython",
    "version": 3
   },
   "file_extension": ".py",
   "mimetype": "text/x-python",
   "name": "python",
   "nbconvert_exporter": "python",
   "pygments_lexer": "ipython3",
   "version": "3.9.7"
  }
 },
 "nbformat": 4,
 "nbformat_minor": 2
}
