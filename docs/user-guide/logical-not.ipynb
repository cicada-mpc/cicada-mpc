{
 "cells": [
  {
   "cell_type": "raw",
   "metadata": {
    "raw_mimetype": "text/restructuredtext"
   },
   "source": [
    ".. _logical-not:\n",
    "\n",
    "Logical Not\n",
    "===========\n",
    "\n",
    "In this example, we will generate a small secret shared vector of random bits, then apply Cicada's logical negation operator to flip them elementwise.\n",
    "\n",
    "Note that the inputs to :any:`logical_not` must be the *unencoded* integer values 0 or 1, the behavior with other values is undefined."
   ]
  },
  {
   "cell_type": "code",
   "execution_count": 1,
   "metadata": {},
   "outputs": [
    {
     "name": "stderr",
     "output_type": "stream",
     "text": [
      "INFO:cicada.communicator.nng:Player 0 rendezvous with tcp://127.0.0.1:54336 from tcp://127.0.0.1:54336.\n",
      "INFO:cicada.communicator.nng:Player 1 rendezvous with tcp://127.0.0.1:54336 from tcp://127.0.0.1:54337.\n",
      "INFO:cicada.communicator.nng:Player 2 rendezvous with tcp://127.0.0.1:54336 from tcp://127.0.0.1:54338.\n",
      "INFO:cicada.communicator.nng:Comm 'world' player 0 communicator ready.\n",
      "INFO:cicada.communicator.nng:Comm 'world' player 1 communicator ready.\n",
      "INFO:cicada.communicator.nng:Comm 'world' player 2 communicator ready.\n",
      "INFO:root:Player 0 bits: [1 1 1 0 0 1 0 0] negated bits: [0 0 0 1 1 0 1 1]\n",
      "INFO:root:Player 1 bits: [1 1 1 0 0 1 0 0] negated bits: [0 0 0 1 1 0 1 1]\n",
      "INFO:root:Player 2 bits: [1 1 1 0 0 1 0 0] negated bits: [0 0 0 1 1 0 1 1]\n",
      "INFO:cicada.communicator.nng:Comm 'world' player 0 communicator freed.\n",
      "INFO:cicada.communicator.nng:Comm 'world' player 1 communicator freed.\n",
      "INFO:cicada.communicator.nng:Comm 'world' player 2 communicator freed.\n",
      "INFO:cicada.communicator.nng:Player 0 returned: None\n",
      "INFO:cicada.communicator.nng:Player 1 returned: None\n",
      "INFO:cicada.communicator.nng:Player 2 returned: None\n"
     ]
    }
   ],
   "source": [
    "import logging\n",
    "\n",
    "import numpy\n",
    "\n",
    "import cicada.additive\n",
    "import cicada.communicator\n",
    "\n",
    "logging.basicConfig(level=logging.INFO)\n",
    "\n",
    "@cicada.communicator.NNGCommunicator.run(world_size=3)\n",
    "def main(communicator):\n",
    "    log = cicada.Logger(logging.getLogger(), communicator)\n",
    "    protocol = cicada.additive.AdditiveProtocol(communicator)\n",
    "    generator = numpy.random.default_rng(seed=1234)\n",
    "    \n",
    "    bits_share, _ = protocol.random_bitwise_secret(generator=generator, bits=8)\n",
    "    negated_bits_share = protocol.logical_not(bits_share)\n",
    "    \n",
    "    bits = protocol.reveal(bits_share)\n",
    "    negated_bits = protocol.reveal(negated_bits_share)\n",
    "        \n",
    "    log.info(f\"Player {communicator.rank} bits: {bits} negated bits: {negated_bits}\")\n",
    "\n",
    "main();"
   ]
  },
  {
   "cell_type": "raw",
   "metadata": {
    "raw_mimetype": "text/restructuredtext"
   },
   "source": [
    ".. seealso:: :ref:`logical-xor`"
   ]
  }
 ],
 "metadata": {
  "celltoolbar": "Raw Cell Format",
  "kernelspec": {
   "display_name": "Python 3 (ipykernel)",
   "language": "python",
   "name": "python3"
  },
  "language_info": {
   "codemirror_mode": {
    "name": "ipython",
    "version": 3
   },
   "file_extension": ".py",
   "mimetype": "text/x-python",
   "name": "python",
   "nbconvert_exporter": "python",
   "pygments_lexer": "ipython3",
   "version": "3.8.10"
  }
 },
 "nbformat": 4,
 "nbformat_minor": 2
}
