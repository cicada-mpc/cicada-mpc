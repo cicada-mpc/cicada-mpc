{
 "cells": [
  {
   "cell_type": "raw",
   "metadata": {
    "raw_mimetype": "text/restructuredtext"
   },
   "source": [
    ".. _power:\n",
    "\n",
    "Power\n",
    "=====\n",
    "\n",
    "This section demonstrates raising secret-shared values to a power.  As always, this is computed element-wise on arrays of any shape.\n",
    "\n",
    "Note that for this function, we are raising secret-shared values to a **public**, **unencoded**, **integer** power that is known to all players.  The results are secret shared, maintaining the privacy of the inputs.\n",
    "\n",
    "In this case, we raise a vector of values :math:`[-1, 2, 3.4, -2.3]` to the power 3,\n",
    "returning :math:`[-1, 8, 39.304, -12.167]`"
   ]
  },
  {
   "cell_type": "code",
   "execution_count": 1,
   "metadata": {},
   "outputs": [
    {
     "name": "stderr",
     "output_type": "stream",
     "text": [
      "INFO:cicada.communicator.nng:Player 0 rendezvous with tcp://127.0.0.1:58709 from tcp://127.0.0.1:58709.\n",
      "INFO:cicada.communicator.nng:Player 1 rendezvous with tcp://127.0.0.1:58709 from tcp://127.0.0.1:58710.\n",
      "INFO:cicada.communicator.nng:Player 2 rendezvous with tcp://127.0.0.1:58709 from tcp://127.0.0.1:58711.\n",
      "INFO:cicada.communicator.nng:Comm 'world' player 0 communicator ready.\n",
      "INFO:cicada.communicator.nng:Comm 'world' player 1 communicator ready.\n",
      "INFO:cicada.communicator.nng:Comm 'world' player 2 communicator ready.\n",
      "INFO:root:Player 0 base: [-1.   2.   3.4 -2.3]\n",
      "INFO:root:Player 0 exponent: 3\n",
      "INFO:root:Player 1 exponent: 3\n",
      "INFO:root:Player 2 exponent: 3\n",
      "INFO:root:Player 0 power: [ -1.           8.          39.30377197 -12.16680908]\n",
      "INFO:root:Player 1 power: [ -1.           8.          39.30377197 -12.16680908]\n",
      "INFO:root:Player 2 power: [ -1.           8.          39.30377197 -12.16680908]\n",
      "INFO:cicada.communicator.nng:Comm 'world' player 0 communicator freed.\n",
      "INFO:cicada.communicator.nng:Comm 'world' player 2 communicator freed.\n",
      "INFO:cicada.communicator.nng:Comm 'world' player 1 communicator freed.\n",
      "INFO:cicada.communicator.nng:Player 0 returned: None\n",
      "INFO:cicada.communicator.nng:Player 1 returned: None\n",
      "INFO:cicada.communicator.nng:Player 2 returned: None\n"
     ]
    }
   ],
   "source": [
    "import logging\n",
    "\n",
    "import numpy\n",
    "\n",
    "import cicada.additive\n",
    "import cicada.communicator\n",
    "\n",
    "logging.basicConfig(level=logging.INFO)\n",
    "\n",
    "@cicada.communicator.NNGCommunicator.run(world_size=3)\n",
    "def main(communicator):\n",
    "    log = cicada.Logger(logging.getLogger(), communicator)\n",
    "    protocol = cicada.additive.AdditiveProtocol(communicator)\n",
    "\n",
    "    base = numpy.array([-1, 2, 3.4, -2.3]) if communicator.rank == 0 else None\n",
    "    exponent = 3\n",
    "    \n",
    "    log.info(f\"Player {communicator.rank} base: {base}\", src=0)\n",
    "    log.info(f\"Player {communicator.rank} exponent: {exponent}\")\n",
    "    \n",
    "    base_share = protocol.share(src=0, secret=protocol.encoder.encode(base), shape=(4,))\n",
    "    power_share = protocol.private_public_power(base_share, exponent)\n",
    "    power = protocol.encoder.decode(protocol.reveal(power_share))\n",
    "    log.info(f\"Player {communicator.rank} power: {power}\")\n",
    "    \n",
    "main();"
   ]
  },
  {
   "cell_type": "markdown",
   "metadata": {},
   "source": [
    "Note that the values 39.30381775 and -12.16680908 are slightly off due to the limited precision of our fixed point encoding."
   ]
  }
 ],
 "metadata": {
  "celltoolbar": "Raw Cell Format",
  "kernelspec": {
   "display_name": "Python 3 (ipykernel)",
   "language": "python",
   "name": "python3"
  },
  "language_info": {
   "codemirror_mode": {
    "name": "ipython",
    "version": 3
   },
   "file_extension": ".py",
   "mimetype": "text/x-python",
   "name": "python",
   "nbconvert_exporter": "python",
   "pygments_lexer": "ipython3",
   "version": "3.8.10"
  }
 },
 "nbformat": 4,
 "nbformat_minor": 2
}
