{
 "cells": [
  {
   "cell_type": "markdown",
   "id": "ae9ad1a3",
   "metadata": {},
   "source": [
    "# Running Cicada Programs\n",
    "\n",
    "Because a Cicada \"program\" is actually multiple copies of a single program running simultaneously on multiple machines, bootstrapping the entire process can be tricky.  It would quickly become annoying if you had to execute five separate command lines every time you wanted to run a program with five players, especially during development and debugging!\n",
    "\n",
    "To streamline the process, Cicada provides tools to make the process simpler during each of the following use-cases:"
   ]
  },
  {
   "cell_type": "raw",
   "id": "a6626806",
   "metadata": {
    "raw_mimetype": "text/restructuredtext"
   },
   "source": [
    "Learning and Development\n",
    "------------------------\n",
    "\n",
    "Whether you're learning Cicada or developing new algorithms and programs, we assume for this use-case that it's acceptable to have all of your players running on the same machine; although this reduces privacy, it radically reduces the complexity and overhead of running a Cicada program.\n",
    "\n",
    "During this phase, we recommend that you use the :any:`NNGCommunicator.run` decorator to create a function that is automatically executed by multiple players on the local machine:"
   ]
  },
  {
   "cell_type": "code",
   "execution_count": 3,
   "id": "c9b444f2",
   "metadata": {},
   "outputs": [
    {
     "data": {
      "text/plain": [
       "[None, None, None]"
      ]
     },
     "execution_count": 3,
     "metadata": {},
     "output_type": "execute_result"
    }
   ],
   "source": [
    "# my-mpc.py\n",
    "import cicada.communicator\n",
    "\n",
    "@cicada.communicator.NNGCommunicator.run(world_size=5)\n",
    "def main(communicator):\n",
    "    # Your program here\n",
    "    pass\n",
    "    \n",
    "main()"
   ]
  },
  {
   "cell_type": "raw",
   "id": "02606425",
   "metadata": {
    "raw_mimetype": "text/restructuredtext"
   },
   "source": [
    "In this case, your program can easily be run in a Jupyter notebook (as we do throughout this documentation), or started at the command-line with a single command:\n",
    "\n",
    ".. code-block:: bash\n",
    "\n",
    "    $ python my-mpc.py\n",
    "    ... Your program output here"
   ]
  },
  {
   "cell_type": "raw",
   "id": "2db535b3",
   "metadata": {
    "raw_mimetype": "text/restructuredtext"
   },
   "source": [
    "Production Testing\n",
    "------------------\n",
    "\n",
    "Once you've fully worked-out any bugs in your new program, it's time to start thinking about deployment.  In particular, to truly protect the privacy of your program's players, they will each need to run their copy of your program themselves, on a separate machine.  Because the :any:`NNGCommunicator.run` decorator precludes this, you'll need to get rid of it.  In particular, you'll need to create the communicator for your program yourself, and pass it to your main function::\n",
    "\n",
    "    # my-mpc.py\n",
    "    import cicada.communicator\n",
    "\n",
    "    def main(communicator):\n",
    "        # Your program here\n",
    "        pass\n",
    "\n",
    "    communicator = cicada.communicator.NNGCommunicator()\n",
    "    main(communicator)\n",
    "    \n",
    "In addition to creating the communicator yourself, you'll have to run the separate processes explicitly.  As a middle ground to test your changes, you can use the `cicada-exec` command to run them all on the local machine:\n",
    "\n",
    ".. code-block:: bash\n",
    "\n",
    "    $ cicada-exec --players 5 my-mpc.py\n",
    "    ... Your program output here\n",
    "    \n",
    "Although this is still running all processes locally, it's simulating what will happen when you run them on separate machines, so it's a good way to ensure that there aren't any problems with the changes you made."
   ]
  },
  {
   "cell_type": "raw",
   "id": "3a6e9bca",
   "metadata": {
    "raw_mimetype": "text/restructuredtext"
   },
   "source": [
    "Interactive Programs\n",
    "--------------------\n",
    "\n",
    "In addition to simulating what it's like to start a full-fledged program running on multiple machines, :ref:`cicada-exec` can help if you're running an interactive program, i.e. any program that will prompt users for command-line input.  Because `stdin` can't be shared between multiple processes, the only way for each process to get user input is to start them in a separate shell.  As long as you're working with a system that has `xterm` installed, :ref:`cicada-exec` can open the shells for you:\n",
    "\n",
    ".. code-block:: bash\n",
    "\n",
    "    $ cicada-exec --players 5 --xterm my-millionaires.py\n",
    "    \n",
    "... when you do this, cicada-exec creates as many new xterms as players, with each process running in its own xterm where it can prompt for input and generate output without stepping on the other players.  For this reason, you may find that you prefer working this way even if you *aren't* prompting for input.\n",
    "\n",
    "If your machine doesn't support X11 (or you just prefer a terminal other than xterm), you'll have to start the processes separately:\n",
    "\n",
    ".. note::\n",
    "\n",
    "   Each of the following commands is meant be run in a separate terminal!\n",
    "\n",
    ".. code-block:: bash\n",
    "\n",
    "    $ cicada-exec --players 5 --player 0 --host-port 5900 my-millionaires.py\n",
    "    $ cicada-exec --players 5 --player 1 --link-port 5900 my-millionaires.py\n",
    "    $ cicada-exec --players 5 --player 2 --link-port 5900 my-millionaires.py\n",
    "    $ cicada-exec --players 5 --player 3 --link-port 5900 my-millionaires.py\n",
    "    $ cicada-exec --players 5 --player 4 --link-port 5900 my-millionaires.py\n",
    "    \n",
    "Note that players :math:`1 - N-1` need to connect to player 0 at startup, which is why it's necessary to explicitly set a port number for player 0 (`--host-port`), so that the other players can be told where to connect (`--link-port`)."
   ]
  },
  {
   "cell_type": "raw",
   "id": "a8d26c7f",
   "metadata": {
    "raw_mimetype": "text/restructuredtext"
   },
   "source": [
    "## Deployment\n",
    "\n",
    "Running your Cicada program on multiple machines will be much like the example above, but it becomes necessary to specify additional parameters so the other players can contact player 0.  The following assumes that 192.168.1.30 is a public IP address of player 0:\n",
    "\n",
    ".. note::\n",
    "\n",
    "   Each of the following commands is meant be run in a separate terminal!\n",
    "\n",
    ".. code-block:: bash\n",
    "\n",
    "    $ cicada-exec --players 5 --player 0 --bind-public --host 192.168.1.30 --host-port 5900 my-millionaires.py\n",
    "    $ cicada-exec --players 5 --player 1 --bind-public --link 192.168.1.30 --link-port 5900 my-millionaires.py\n",
    "    $ cicada-exec --players 5 --player 2 --bind-public --link 192.168.1.30 --link-port 5900 my-millionaires.py\n",
    "    $ cicada-exec --players 5 --player 3 --bind-public --link 192.168.1.30 --link-port 5900 my-millionaires.py\n",
    "    $ cicada-exec --players 5 --player 4 --bind-public --link 192.168.1.30 --link-port 5900 my-millionaires.py"
   ]
  }
 ],
 "metadata": {
  "celltoolbar": "Raw Cell Format",
  "kernelspec": {
   "display_name": "Python 3",
   "language": "python",
   "name": "python3"
  },
  "language_info": {
   "codemirror_mode": {
    "name": "ipython",
    "version": 3
   },
   "file_extension": ".py",
   "mimetype": "text/x-python",
   "name": "python",
   "nbconvert_exporter": "python",
   "pygments_lexer": "ipython3",
   "version": "3.8.10"
  }
 },
 "nbformat": 4,
 "nbformat_minor": 5
}
