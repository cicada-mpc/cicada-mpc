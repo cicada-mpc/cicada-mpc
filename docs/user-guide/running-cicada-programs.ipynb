{
 "cells": [
  {
   "cell_type": "raw",
   "id": "eeaf58f2",
   "metadata": {
    "raw_mimetype": "text/restructuredtext"
   },
   "source": [
    ".. _running-programs:\n",
    "\n",
    "Running Cicada Programs\n",
    "=======================\n",
    "\n",
    "Because a Cicada \"program\" is actually multiple copies of a single program running simultaneously (typically on multiple machines), bootstrapping the entire process can be tricky.  It would quickly get annoying if you had to execute five separate command lines every time you wanted to run a program with five players, especially during development and debugging!\n",
    "\n",
    "To streamline the process, Cicada provides tools for each of the following use-cases:"
   ]
  },
  {
   "cell_type": "raw",
   "id": "1b94d3be",
   "metadata": {
    "raw_mimetype": "text/restructuredtext"
   },
   "source": [
    "Learning and Development\n",
    "------------------------\n",
    "\n",
    "Whether you're new to Cicada or developing new algorithms and programs, we assume for this use-case that it's acceptable to have all of your players running on the same machine; although this reduces privacy, it radically reduces the complexity and overhead of running a Cicada program.\n",
    "\n",
    "During this phase, we recommend that you use :any:`SocketCommunicator.run` to execute a function that you create, using multiple players running on the local machine:"
   ]
  },
  {
   "cell_type": "code",
   "execution_count": 1,
   "id": "0e3f33ba",
   "metadata": {},
   "outputs": [],
   "source": [
    "# my-mpc.py\n",
    "from cicada.communicator import SocketCommunicator\n",
    "\n",
    "def my_mpc(communicator):\n",
    "    # Your program here\n",
    "    pass\n",
    "    \n",
    "SocketCommunicator.run(world_size=5, fn=my_mpc);"
   ]
  },
  {
   "cell_type": "raw",
   "id": "a834ebd0",
   "metadata": {
    "raw_mimetype": "text/restructuredtext"
   },
   "source": [
    "With this approach, your program can easily be run in a Jupyter notebook (as we do throughout this documentation), or started from the command-line with a single command:\n",
    "\n",
    ".. code-block:: bash\n",
    "\n",
    "    $ python my-mpc.py\n",
    "    ... Your program output here\n",
    "    \n",
    "    \n",
    "In addition, because all of your processes are running on the same machine, :any:`SocketCommunicator.run` can gather the return values from your function, returning them as a list in rank order.  For example:"
   ]
  },
  {
   "cell_type": "code",
   "execution_count": 2,
   "id": "ebb2ae82",
   "metadata": {},
   "outputs": [
    {
     "name": "stdout",
     "output_type": "stream",
     "text": [
      "Player 0 result: 'Hello from player 0!'\n",
      "Player 1 result: 'Hello from player 1!'\n",
      "Player 2 result: 'Hello from player 2!'\n",
      "Player 3 result: 'Hello from player 3!'\n",
      "Player 4 result: 'Hello from player 4!'\n"
     ]
    }
   ],
   "source": [
    "def my_mpc(communicator):\n",
    "    return f\"Hello from player {communicator.rank}!\"\n",
    "\n",
    "results = SocketCommunicator.run(world_size=5, fn=my_mpc)\n",
    "for rank, result in enumerate(results):\n",
    "    print(f\"Player {rank} result: {result!r}\")"
   ]
  },
  {
   "cell_type": "markdown",
   "id": "3a2060d7",
   "metadata": {},
   "source": [
    "Special return values are used to indicate players that fail, whether by raising an exception or dying unexpectedly:"
   ]
  },
  {
   "cell_type": "code",
   "execution_count": 3,
   "id": "ee4888fc",
   "metadata": {},
   "outputs": [
    {
     "name": "stderr",
     "output_type": "stream",
     "text": [
      "Comm 'world' player 3 failed: RuntimeError('Ahhhh! YOU GOT ME!')\n",
      "Comm 'world' player 4 failed: Terminated(exitcode=-9)\n",
      "********************************************************************************\n",
      "Comm 'world' player 3 traceback:\n",
      "Traceback (most recent call last):\n",
      "  File \"/Users/tshead/src/cicada-mpc/cicada/communicator/socket/__init__.py\", line 644, in launch\n",
      "    result = fn(communicator, *args, **kwargs)\n",
      "  File \"/var/folders/yw/yx17h14s5xs8kpsy1dtf8lhm0000gn/T/ipykernel_62955/2561316426.py\", line 10, in my_mpc\n",
      "    raise RuntimeError(\"Ahhhh! YOU GOT ME!\")\n",
      "RuntimeError: Ahhhh! YOU GOT ME!\n",
      "\n"
     ]
    },
    {
     "name": "stdout",
     "output_type": "stream",
     "text": [
      "Player 0 result: 'Hello from player 0!'\n",
      "Player 1 result: 'Hello from player 1!'\n",
      "Player 2 result: 'Hello from player 2!'\n",
      "Player 3 result: Failed(exception=RuntimeError('Ahhhh! YOU GOT ME!'))\n",
      "Player 4 result: Terminated(exitcode=-9)\n"
     ]
    }
   ],
   "source": [
    "import os\n",
    "import signal\n",
    "\n",
    "def my_mpc(communicator):\n",
    "    # Examples of normal return values.\n",
    "    if communicator.rank in [0, 1, 2]:\n",
    "        return f\"Hello from player {communicator.rank}!\"\n",
    "    # Example of a failure that raises an exception.\n",
    "    if communicator.rank == 3:\n",
    "        raise RuntimeError(\"Ahhhh! YOU GOT ME!\")\n",
    "    # Example of a process that dies unexpectedly.\n",
    "    if communicator.rank == 4:\n",
    "        os.kill(os.getpid(), signal.SIGKILL)\n",
    "\n",
    "results = SocketCommunicator.run(world_size=5, fn=my_mpc)\n",
    "for rank, result in enumerate(results):\n",
    "    print(f\"Player {rank} result: {result!r}\")"
   ]
  },
  {
   "cell_type": "raw",
   "id": "f5717deb",
   "metadata": {
    "raw_mimetype": "text/restructuredtext"
   },
   "source": [
    "As you can see, the :class:`~cicada.communicator.socket.Terminated` class indicates players whose process exited unexpectedly, reporting the exit code, while :class:`~cicada.communicator.socket.Failed` indicates players that raised an exception, and includes a copy of the exception that you can use to better understand what went wrong (it also includes a traceback, which can be seen in the logging output)."
   ]
  },
  {
   "cell_type": "raw",
   "id": "2ac6075a",
   "metadata": {
    "raw_mimetype": "text/restructuredtext"
   },
   "source": [
    "Preparing for Deployment\n",
    "------------------------\n",
    "\n",
    "Once you've worked-out the bugs in your new program, it's time to start thinking about deployment.  To truly protect the privacy of your program's players, they will each need to run their copy of your program themselves, on a separate machine.  That will mean replacing :any:`SocketCommunicator.run` with :any:`SocketCommunicator.connect`, which creates a communicator that you can pass to your main function yourself::\n",
    "\n",
    "    # my-mpc.py\n",
    "    from cicada.communicator import SocketCommunicator\n",
    "\n",
    "    def my_mpc(communicator):\n",
    "        # Your program here\n",
    "        pass\n",
    "\n",
    "    with SocketCommunicator.connect() as communicator:\n",
    "        my_mpc(communicator)\n",
    "\n",
    "\n",
    "Or, if you prefer, you can simply use the communicator directly::\n",
    "\n",
    "    # my-mpc.py\n",
    "    import cicada.communicator\n",
    "    with SocketCommunicator().connect() as communicator:\n",
    "        # Your program here\n",
    "\n",
    "\n",
    ":any:`SocketCommunicator.connect` is designed to get information from environment variables that are set by the :ref:`cicada` command.  As a quick check, you can use `cicada run` to run your program on the local machine and verify that your changes are working:\n",
    "\n",
    ".. code-block:: bash\n",
    "\n",
    "    $ cicada run --world-size 5 my-mpc.py\n",
    "    ... Your program output here\n",
    "    \n",
    "Although this is still running all processes locally, it's going through all of the steps of setting up the environment and running the separate processes, so it's a good sanity check that nothing broke when you changed your startup code.\n",
    "\n",
    ".. tip::\n",
    "\n",
    "    Advanced users may wish to bypass the :ref:`cicada` command and simply set the CICADA_WORLD_SIZE, CICADA_RANK, CICADA_ADDRESS, and CICADA_ROOT_ADDRESS environment variables themselves.  This might make sense if you had a setup where you were running the same Cicada program repeatedly."
   ]
  },
  {
   "cell_type": "raw",
   "id": "1e93dab2",
   "metadata": {
    "raw_mimetype": "text/restructuredtext"
   },
   "source": [
    "Interactive Programs\n",
    "--------------------\n",
    "\n",
    "In addition to simulating what it's like to start a full-fledged program running on multiple machines, :ref:`cicada` can help if you're running an interactive program, i.e. any program that will prompt users for command-line input.  Because `stdin` can't be shared between multiple processes, the only way for each process to get user input is to execute them in a separate shell.  If you're working with a system that has `xterm` installed, :ref:`cicada` can run each process in its own xterm:\n",
    "\n",
    ".. code-block:: bash\n",
    "\n",
    "    $ cicada run --world-size 5 --frontend xterm my-millionaires.py\n",
    "    \n",
    "... when you do this, :ref:`cicada` creates as many new xterms as players, so that each can prompt for input and generate output without stepping on the others.  In fact, you may find that you prefer working this way even if your program *isn't* interactive, since the outputs from each player are neatly separated into their own windows.\n",
    "\n",
    "If you have `tmux` installed, you can use it to run each player in a separate window pane:\n",
    "\n",
    "    $ cicada run --world-size 5 --frontend tmux my-millionaires.py\n",
    "\n",
    "If your machine doesn't support X11 or tmux, you'll have to start the processes separately:\n",
    "\n",
    ".. note::\n",
    "\n",
    "   Run each of the following commands in a separate terminal!\n",
    "\n",
    ".. code-block:: bash\n",
    "\n",
    "    $ cicada start --world-size 5 --rank 0 my-millionaires.py\n",
    "    $ cicada start --world-size 5 --rank 1 my-millionaires.py\n",
    "    $ cicada start --world-size 5 --rank 2 my-millionaires.py\n",
    "    $ cicada start --world-size 5 --rank 3 my-millionaires.py\n",
    "    $ cicada start --world-size 5 --rank 4 my-millionaires.py\n",
    "    \n",
    "In this case all of the processes are still running on the local machine, and the default :ref:`cicada` arguments are setup with this in mind."
   ]
  },
  {
   "cell_type": "raw",
   "id": "e178c111",
   "metadata": {
    "raw_mimetype": "text/restructuredtext"
   },
   "source": [
    "Deployment\n",
    "----------\n",
    "\n",
    "OK, you're finally ready to do this thing for real.  Running your Cicada program on multiple machines looks a lot like the example above, but requires additional parameters so that the other players can contact player 0.  The following assumes that 192.168.1.30 is a publicly-accessible IP address of player 0:\n",
    "\n",
    ".. note::\n",
    "\n",
    "   Run each of the following commands on a different machine!\n",
    "\n",
    ".. code-block:: bash\n",
    "\n",
    "    $ cicada start --world-size 5 --rank 0 --address tcp://192.168.1.30:25252 my-millionaires.py\n",
    "    $ cicada start --world-size 5 --rank 1 --public-address --root-address tcp://192.168.1.30:25252 my-millionaires.py\n",
    "    $ cicada start --world-size 5 --rank 2 --public-address --root-address tcp://192.168.1.30:25252 my-millionaires.py\n",
    "    $ cicada start --world-size 5 --rank 3 --public-address --root-address tcp://192.168.1.30:25252 my-millionaires.py\n",
    "    $ cicada start --world-size 5 --rank 4 --public-address --root-address tcp://192.168.1.30:25252 my-millionaires.py\n",
    "\n",
    "Here, player 0 uses --address to specify a public address and port number for contact, and the remaining players use `--root-address` to specify the same addess."
   ]
  }
 ],
 "metadata": {
  "celltoolbar": "Raw Cell Format",
  "kernelspec": {
   "display_name": "Python 3 (ipykernel)",
   "language": "python",
   "name": "python3"
  },
  "language_info": {
   "codemirror_mode": {
    "name": "ipython",
    "version": 3
   },
   "file_extension": ".py",
   "mimetype": "text/x-python",
   "name": "python",
   "nbconvert_exporter": "python",
   "pygments_lexer": "ipython3",
   "version": "3.8.2"
  }
 },
 "nbformat": 4,
 "nbformat_minor": 5
}
