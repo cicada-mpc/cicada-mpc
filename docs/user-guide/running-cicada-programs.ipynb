{
 "cells": [
  {
   "cell_type": "raw",
   "id": "eeaf58f2",
   "metadata": {
    "raw_mimetype": "text/restructuredtext"
   },
   "source": [
    ".. _running-programs:\n",
    "\n",
    "Running Cicada Programs\n",
    "=======================\n",
    "\n",
    "Because a Cicada \"program\" is actually multiple copies of a single program running simultaneously on multiple machines, bootstrapping the entire process can be tricky.  It would quickly become annoying if you had to execute five separate command lines every time you wanted to run a program with five players, especially during development and debugging!\n",
    "\n",
    "To streamline the process, Cicada provides tools for each of the following use-cases:"
   ]
  },
  {
   "cell_type": "raw",
   "id": "1b94d3be",
   "metadata": {
    "raw_mimetype": "text/restructuredtext"
   },
   "source": [
    "Learning and Development\n",
    "------------------------\n",
    "\n",
    "Whether you're new to Cicada or developing new algorithms and programs, we assume for this use-case that it's acceptable to have all of your players running on the same machine; although this reduces privacy, it radically reduces the complexity and overhead of running a Cicada program.\n",
    "\n",
    "During this phase, we recommend that you use :any:`SocketCommunicator.run` to execute a function that you author with multiple players on the local machine:"
   ]
  },
  {
   "cell_type": "code",
   "execution_count": 1,
   "id": "0e3f33ba",
   "metadata": {},
   "outputs": [],
   "source": [
    "# my-mpc.py\n",
    "from cicada.communicator import SocketCommunicator\n",
    "\n",
    "def my_mpc(communicator):\n",
    "    # Your program here\n",
    "    pass\n",
    "    \n",
    "SocketCommunicator.run(world_size=5, fn=my_mpc);"
   ]
  },
  {
   "cell_type": "raw",
   "id": "a834ebd0",
   "metadata": {
    "raw_mimetype": "text/restructuredtext"
   },
   "source": [
    "With this approach, your program can easily be run in a Jupyter notebook (as we do throughout this documentation), or started at the command-line with a single command:\n",
    "\n",
    ".. code-block:: bash\n",
    "\n",
    "    $ python my-mpc.py\n",
    "    ... Your program output here\n",
    "    \n",
    "    \n",
    "Because all of your processes are running on the same machine, :any:`SocketCommunicator.run` can gather the results from each instance of your program function, returning a list of values in rank order.  For example:"
   ]
  },
  {
   "cell_type": "code",
   "execution_count": 5,
   "id": "ebb2ae82",
   "metadata": {},
   "outputs": [
    {
     "name": "stdout",
     "output_type": "stream",
     "text": [
      "Player 0 result: 'Hello from player 0!'\n",
      "Player 1 result: 'Hello from player 1!'\n",
      "Player 2 result: 'Hello from player 2!'\n",
      "Player 3 result: 'Hello from player 3!'\n",
      "Player 4 result: 'Hello from player 4!'\n"
     ]
    }
   ],
   "source": [
    "def my_mpc(communicator):\n",
    "    return f\"Hello from player {communicator.rank}!\"\n",
    "\n",
    "results = SocketCommunicator.run(world_size=5, fn=my_mpc)\n",
    "for rank, result in enumerate(results):\n",
    "    print(f\"Player {rank} result: {result!r}\")"
   ]
  },
  {
   "cell_type": "markdown",
   "id": "3a2060d7",
   "metadata": {},
   "source": [
    "Special return values are used to indicate players that fail, whether by raising an exception or dying unexpectedly:"
   ]
  },
  {
   "cell_type": "code",
   "execution_count": 6,
   "id": "ee4888fc",
   "metadata": {},
   "outputs": [
    {
     "name": "stderr",
     "output_type": "stream",
     "text": [
      "********************************************************************************\n",
      "Player 3 traceback:\n",
      "Traceback (most recent call last):\n",
      "  File \"/Users/tshead/src/cicada-mpc/cicada/communicator/socket.py\", line 930, in launch\n",
      "    result = fn(communicator, *args, **kwargs)\n",
      "  File \"/var/folders/yw/yx17h14s5xs8kpsy1dtf8lhm0000gn/T/ipykernel_70995/2561316426.py\", line 10, in my_mpc\n",
      "    raise RuntimeError(\"Ahhhh! YOU GOT ME!\")\n",
      "RuntimeError: Ahhhh! YOU GOT ME!\n",
      "\n"
     ]
    },
    {
     "name": "stdout",
     "output_type": "stream",
     "text": [
      "Player 0 result: 'Hello from player 0!'\n",
      "Player 1 result: 'Hello from player 1!'\n",
      "Player 2 result: 'Hello from player 2!'\n",
      "Player 3 result: Failed(exception=RuntimeError('Ahhhh! YOU GOT ME!'))\n",
      "Player 4 result: Terminated(exitcode=-9)\n"
     ]
    }
   ],
   "source": [
    "import os\n",
    "import signal\n",
    "\n",
    "def my_mpc(communicator):\n",
    "    # Examples of normal return values.\n",
    "    if communicator.rank in [0, 1, 2]:\n",
    "        return f\"Hello from player {communicator.rank}!\"\n",
    "    # Example of a failure that raises an exception.\n",
    "    if communicator.rank == 3:\n",
    "        raise RuntimeError(\"Ahhhh! YOU GOT ME!\")\n",
    "    # Example of a process that dies unexpectedly.\n",
    "    if communicator.rank == 4:\n",
    "        os.kill(os.getpid(), signal.SIGKILL)\n",
    "\n",
    "results = SocketCommunicator.run(world_size=5, fn=my_mpc)\n",
    "for rank, result in enumerate(results):\n",
    "    print(f\"Player {rank} result: {result!r}\")"
   ]
  },
  {
   "cell_type": "raw",
   "id": "f5717deb",
   "metadata": {
    "raw_mimetype": "text/restructuredtext"
   },
   "source": [
    "As you can see, the :class:`~cicada.communicator.socket.Terminated` class indicates players whose process exited unexpectedly, reporting the exit code, while :class:`~cicada.communicator.socket.Failed` indicates players that raised an exception, and includes a copy of the exception that you can use to better understand what went wrong (it also includes a traceback, which can be seen in the logging output)."
   ]
  },
  {
   "cell_type": "raw",
   "id": "2ac6075a",
   "metadata": {
    "raw_mimetype": "text/restructuredtext"
   },
   "source": [
    "Production Testing\n",
    "------------------\n",
    "\n",
    "Once you've worked-out the bugs in your new program, it's time to start thinking about deployment.  In particular, to truly protect the privacy of your program's players, they will each need to run their copy of your program themselves, on a separate machine.  That will mean replacing :any:`SocketCommunicator.run` with a communicator you create yourself, passing it to your main function::\n",
    "\n",
    "    # my-mpc.py\n",
    "    from cicada.communicator import SocketCommunicator\n",
    "\n",
    "    def my_mpc(communicator):\n",
    "        # Your program here\n",
    "        pass\n",
    "\n",
    "    communicator = SocketCommunicator()\n",
    "    my_mpc(communicator)\n",
    "\n",
    "\n",
    "Or, depending on personal preference, you may prefer to lose the `my_mpc` function altogether::\n",
    "\n",
    "    # my-mpc.py\n",
    "    import cicada.communicator\n",
    "    communicator = SocketCommunicator()\n",
    "    # Your program here\n",
    "\n",
    "\n",
    "At this point, you'd normally have to start the processes explicitly yourself, but as a middle ground to verify that your changes are working, you can use the :ref:`cicada` command to run them all on the local machine:\n",
    "\n",
    ".. code-block:: bash\n",
    "\n",
    "    $ cicada run --world-size 5 my-mpc.py\n",
    "    ... Your program output here\n",
    "    \n",
    "Although this is still running all processes locally, it's simulating what will happen when you run them on separate machines, so it's a good way to verify that everything is still working."
   ]
  },
  {
   "cell_type": "raw",
   "id": "1e93dab2",
   "metadata": {
    "raw_mimetype": "text/restructuredtext"
   },
   "source": [
    "Interactive Programs\n",
    "--------------------\n",
    "\n",
    "In addition to simulating what it's like to start a full-fledged program running on multiple machines, :ref:`cicada` can help if you're running an interactive program, i.e. any program that will prompt users for command-line input.  Because `stdin` can't be shared between multiple processes, the only way for each process to get user input is to start them in a separate shell.  As long as you're working with a system that has `xterm` installed, :ref:`cicada` can start those shells for you:\n",
    "\n",
    ".. code-block:: bash\n",
    "\n",
    "    $ cicada run --world-size 5 --frontend xterm my-millionaires.py\n",
    "    \n",
    "... when you do this, cicada-exec creates as many new xterms as players, each with its own player that can prompt for input and generate output without stepping on the others.  In fact, you may find that you prefer working this way even if your program *isn't* interactive, since the outputs from each player are neatly separated into their own windows.\n",
    "\n",
    "If you have `tmux` installed, you can use it to run each player in a separate pane:\n",
    "\n",
    "    $ cicada run --world-size 5 --frontend tmux my-millionaires.py\n",
    "\n",
    "If your machine doesn't support X11 or tmux, you'll have to start the processes separately:\n",
    "\n",
    ".. note::\n",
    "\n",
    "   Run each of the following commands in a separate terminal!\n",
    "\n",
    ".. code-block:: bash\n",
    "\n",
    "    $ cicada start --world-size 5 --rank 0 --host-port 5900 my-millionaires.py\n",
    "    $ cicada start --world-size 5 --rank 1 --link-port 5900 my-millionaires.py\n",
    "    $ cicada start --world-size 5 --rank 2 --link-port 5900 my-millionaires.py\n",
    "    $ cicada start --world-size 5 --rank 3 --link-port 5900 my-millionaires.py\n",
    "    $ cicada start --world-size 5 --rank 4 --link-port 5900 my-millionaires.py\n",
    "    \n",
    "Note that every player needs to connect to player 0 at startup, which is why it's necessary to explicitly specify an unused port number for player 0 (`--host-port`), and tell the other players which port to contact (`--link-port`)."
   ]
  },
  {
   "cell_type": "raw",
   "id": "e178c111",
   "metadata": {
    "raw_mimetype": "text/restructuredtext"
   },
   "source": [
    "Deployment\n",
    "----------\n",
    "\n",
    "OK, you're finally ready to do this thing for real.  Running your Cicada program on multiple machines looks a lot like the example above, but requires additional parameters to help the other players contact player 0.  The following assumes that 192.168.1.30 is a public IP address of player 0:\n",
    "\n",
    ".. note::\n",
    "\n",
    "   Run each of the following commands on a different machine!\n",
    "\n",
    ".. code-block:: bash\n",
    "\n",
    "    $ cicada start --world-size 5 --rank 0 --bind-public --host-addr 192.168.1.30 --host-port 5900 my-millionaires.py\n",
    "    $ cicada start --world-size 5 --rank 1 --bind-public --link-addr 192.168.1.30 --link-port 5900 my-millionaires.py\n",
    "    $ cicada start --world-size 5 --rank 2 --bind-public --link-addr 192.168.1.30 --link-port 5900 my-millionaires.py\n",
    "    $ cicada start --world-size 5 --rank 3 --bind-public --link-addr 192.168.1.30 --link-port 5900 my-millionaires.py\n",
    "    $ cicada start --world-size 5 --rank 4 --bind-public --link-addr 192.168.1.30 --link-port 5900 my-millionaires.py\n",
    "    \n",
    "In addition to the parameters used above, the `--bind-public` parameter tells each player to use a public-facing network interface to receive messages; without it, the players default to the loopback adapter, which can only receive messages coming from the same machine.  The `--host-addr` parameter tells player 0 which public network interface to use (in case there's more than one) and the `--link-addr` parameter tells the other players which IP address to use when initially contacting player 0."
   ]
  }
 ],
 "metadata": {
  "celltoolbar": "Raw Cell Format",
  "kernelspec": {
   "display_name": "Python 3 (ipykernel)",
   "language": "python",
   "name": "python3"
  },
  "language_info": {
   "codemirror_mode": {
    "name": "ipython",
    "version": 3
   },
   "file_extension": ".py",
   "mimetype": "text/x-python",
   "name": "python",
   "nbconvert_exporter": "python",
   "pygments_lexer": "ipython3",
   "version": "3.8.2"
  }
 },
 "nbformat": 4,
 "nbformat_minor": 5
}
