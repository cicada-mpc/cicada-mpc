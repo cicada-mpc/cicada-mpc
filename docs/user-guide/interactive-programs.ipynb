{
 "cells": [
  {
   "cell_type": "raw",
   "id": "99d5db9e",
   "metadata": {
    "raw_mimetype": "text/restructuredtext"
   },
   "source": [
    ".. _interactive-programs:\n",
    "\n",
    "Interactive Programs\n",
    "====================\n",
    "\n",
    "We define an interactive Cicada program as one that prompts a human for secret input to be used in a computation.  Because handling secret interactive input can be tricky, Cicada includes the :func:`cicada.interactive.secret_input` function, which prompts one player for input from a console, which is then secret-shared with the group.  You can use it for simple demos and as a starting-point for more sophisticated interaction.  Here are some examples:\n",
    "\n",
    ".. tip::\n",
    "\n",
    "  See :ref:`running-programs` for some helpful ideas on how to run interactive programs.\n",
    " "
   ]
  },
  {
   "cell_type": "raw",
   "id": "66c0fe98",
   "metadata": {
    "raw_mimetype": "text/restructuredtext"
   },
   "source": [
    "Here's a basic program that when run, prompts player 0 for a secret:\n",
    "\n",
    ".. code:: python\n",
    "\n",
    "    import logging\n",
    "\n",
    "    import cicada.additive\n",
    "    import cicada.communicator\n",
    "    import cicada.interactive\n",
    "\n",
    "    logging.basicConfig(level=logging.INFO)\n",
    "\n",
    "    with cicada.communicator.SocketCommunicator(timeout=300) as communicator:\n",
    "        log = cicada.Logger(logging.getLogger(), communicator, sync=False)\n",
    "        protocol = cicada.additive.AdditiveProtocol(communicator)\n",
    "\n",
    "        share = cicada.interactive.secret_input(protocol=protocol, encoder=protocol.encoder, src=0)\n",
    "        log.info(f\"Player {communicator.rank} share: {share}\")\n",
    "\n",
    "        secret = protocol.encoder.decode(protocol.reveal(share))\n",
    "        log.info(f\"Player {communicator.rank} secret: {secret}\")"
   ]
  },
  {
   "cell_type": "raw",
   "id": "62543a83",
   "metadata": {
    "raw_mimetype": "text/restructuredtext"
   },
   "source": [
    "In this example, every player provides a secret, and the group computes the sum:\n",
    "\n",
    ".. code:: python\n",
    " \n",
    "    with cicada.communicator.SocketCommunicator(setup_timeout=10) as communicator:\n",
    "        log = cicada.Logger(logging.getLogger(), communicator)\n",
    "        protocol = cicada.additive.AdditiveProtocol(communicator)\n",
    "\n",
    "        total = protocol.share(src=0, secret=protocol.encoder.encode(numpy.array(0)), shape=())\n",
    "        for i in range(communicator.world_size):\n",
    "            share = cicada.interactive.secret_input(protocol=protocol, encoder=protocol.encoder, src=i)\n",
    "            total = protocol.add(total, share)\n",
    "\n",
    "        total = protocol.encoder.decode(protocol.reveal(total))\n",
    "        log.info(f\"Player {communicator.rank} total: {total}\")"
   ]
  },
  {
   "cell_type": "raw",
   "id": "ab3672ea",
   "metadata": {
    "raw_mimetype": "text/restructuredtext"
   },
   "source": [
    "Finally, the following is an interactive version of :ref:`the millionaire's dilemma<tutorial>` ... every player provides a secret, and the group determines which person entered the largest value:\n",
    "\n",
    ".. code:: python\n",
    "\n",
    "    with cicada.communicator.SocketCommunicator(timeout=300) as communicator:\n",
    "        log = cicada.Logger(logging.getLogger(), communicator)\n",
    "        protocol = cicada.additive.AdditiveProtocol(communicator)\n",
    "\n",
    "        winner = None\n",
    "        winning_share = protocol.share(src=0, secret=protocol.encoder.zeros(shape=()), shape=())\n",
    "\n",
    "        for rank in communicator.ranks:\n",
    "            fortune_share = cicada.interactive.secret_input(protocol=protocol, encoder=protocol.encoder, src=rank, prompt=\"Fortune: \")\n",
    "            less_share = protocol.less(fortune_share, winning_share)\n",
    "            less = protocol.reveal(less_share)\n",
    "            if not less:\n",
    "                winner = rank\n",
    "                winning_share = fortune_share\n",
    "\n",
    "        log.info(f\"Player {communicator.rank} winner: {winner}\")"
   ]
  }
 ],
 "metadata": {
  "celltoolbar": "Raw Cell Format",
  "kernelspec": {
   "display_name": "Python 3 (ipykernel)",
   "language": "python",
   "name": "python3"
  },
  "language_info": {
   "codemirror_mode": {
    "name": "ipython",
    "version": 3
   },
   "file_extension": ".py",
   "mimetype": "text/x-python",
   "name": "python",
   "nbconvert_exporter": "python",
   "pygments_lexer": "ipython3",
   "version": "3.8.2"
  }
 },
 "nbformat": 4,
 "nbformat_minor": 5
}
