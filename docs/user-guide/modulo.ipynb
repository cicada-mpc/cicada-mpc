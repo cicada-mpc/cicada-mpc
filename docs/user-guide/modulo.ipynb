{
 "cells": [
  {
   "cell_type": "raw",
   "metadata": {
    "raw_mimetype": "text/restructuredtext"
   },
   "source": [
    ".. _modulo:\n",
    "\n",
    "Modulo Operator\n",
    "===============\n",
    "\n",
    "In this notebook we will use the Cicada modulo operator to compute :math:`144409 \\bmod 117 = 31`.  \n",
    "\n",
    "Importantly, modulo is a `private-public` operation: the `dividend` is a secret-shared value, while the `modulus` is a public value known to all players.  The resulting `remainder` will be a secret-shared value, so that the privacy of the dividend is preserved.\n",
    "\n",
    "Our method here is dependent on our integer division which is approximate and this method is therefore probabilistic.\n",
    "\n",
    "Unlike most other methods, the divisor is an **unencoded value**:"
   ]
  },
  {
   "cell_type": "code",
   "execution_count": 1,
   "metadata": {},
   "outputs": [
    {
     "name": "stderr",
     "output_type": "stream",
     "text": [
      "INFO:cicada.communicator.nng:Player 0 rendezvous with tcp://127.0.0.1:64610 from tcp://127.0.0.1:64610.\n",
      "INFO:cicada.communicator.nng:Player 1 rendezvous with tcp://127.0.0.1:64610 from tcp://127.0.0.1:64611.\n",
      "INFO:cicada.communicator.nng:Player 2 rendezvous with tcp://127.0.0.1:64610 from tcp://127.0.0.1:64612.\n",
      "INFO:cicada.communicator.nng:Comm 'world' player 0 communicator ready.\n",
      "INFO:cicada.communicator.nng:Comm 'world' player 1 communicator ready.\n",
      "INFO:cicada.communicator.nng:Comm 'world' player 2 communicator ready.\n",
      "INFO:root:Dividend: 144409\n",
      "INFO:root:Modulus: 117\n",
      "INFO:root:Player 0 remainder: 31.0\n",
      "INFO:root:Player 1 remainder: 31.0\n",
      "INFO:root:Player 2 remainder: 31.0\n",
      "INFO:cicada.communicator.nng:Comm 'world' player 2 communicator freed.\n",
      "INFO:cicada.communicator.nng:Comm 'world' player 1 communicator freed.\n",
      "INFO:cicada.communicator.nng:Comm 'world' player 0 communicator freed.\n",
      "INFO:cicada.communicator.nng:Player 0 returned: None\n",
      "INFO:cicada.communicator.nng:Player 1 returned: None\n",
      "INFO:cicada.communicator.nng:Player 2 returned: None\n"
     ]
    },
    {
     "data": {
      "text/plain": [
       "[None, None, None]"
      ]
     },
     "execution_count": 1,
     "metadata": {},
     "output_type": "execute_result"
    }
   ],
   "source": [
    "import logging\n",
    "\n",
    "import numpy\n",
    "\n",
    "import cicada.additive\n",
    "import cicada.communicator\n",
    "\n",
    "logging.basicConfig(level=logging.INFO)\n",
    "\n",
    "@cicada.communicator.NNGCommunicator.run(world_size=3)\n",
    "def main(communicator):\n",
    "    log = cicada.Logger(logging.getLogger(), communicator)\n",
    "    protocol = cicada.additive.AdditiveProtocol(communicator)\n",
    "\n",
    "    # Player 0 will provide the secret divisor.\n",
    "    a = numpy.array(144409) if communicator.rank == 0 else None\n",
    "    # Every player knows the modulus.\n",
    "    b = numpy.array(117)\n",
    "\n",
    "    log.info(f\"Dividend: {a}\", src=0)\n",
    "    log.info(f\"Modulus: {b}\", src=1)\n",
    "\n",
    "    a_share = protocol.share(src=0, secret=protocol.encoder.encode(a), shape=())\n",
    "    remainder_share = protocol.modulus_private_public(a_share, b)\n",
    "    remainder = protocol.encoder.decode(protocol.reveal(remainder_share))\n",
    "\n",
    "    log.info(f\"Player {communicator.rank} remainder: {remainder}\")\n",
    "\n",
    "main()"
   ]
  },
  {
   "cell_type": "markdown",
   "metadata": {},
   "source": [
    "As you can see, the result revealed to the players is correct."
   ]
  }
 ],
 "metadata": {
  "celltoolbar": "Raw Cell Format",
  "kernelspec": {
   "display_name": "Python 3",
   "language": "python",
   "name": "python3"
  },
  "language_info": {
   "codemirror_mode": {
    "name": "ipython",
    "version": 3
   },
   "file_extension": ".py",
   "mimetype": "text/x-python",
   "name": "python",
   "nbconvert_exporter": "python",
   "pygments_lexer": "ipython3",
   "version": "3.7.10"
  }
 },
 "nbformat": 4,
 "nbformat_minor": 2
}
