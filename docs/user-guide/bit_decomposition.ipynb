{
 "cells": [
  {
   "cell_type": "markdown",
   "id": "b91948c8",
   "metadata": {},
   "source": [
    "## Bit Decomposition\n",
    "\n",
    "This notebook demonstrates the ability in Cicada to take shared secrets and decompose them into their bit representation. Note that this does add a dimension to the shape of the arrays passed in as arguments. For example, below we use the default field of 64 bits and pass in an array with shape (2,2). What is returned as an array of shares with shape (2,2,64). Each index in the (2,2) portion contains the 64 bits decomposition of the shared secret which was at that locale in the original operand. \n",
    "\n",
    "This operation is costly in terms of both communication and time. Also it is important to recall that our operands are shifted due to our fixed point numeric representation, so 1 is expected to have 16 leading zeros in our little-ednidan formatting to account for the 16 bits of fractional value precision."
   ]
  },
  {
   "cell_type": "code",
   "execution_count": 1,
   "id": "302db7e7",
   "metadata": {},
   "outputs": [
    {
     "name": "stderr",
     "output_type": "stream",
     "text": [
      "INFO:cicada.communicator.nng:Player 0 rendezvous with tcp://127.0.0.1:59523 from tcp://127.0.0.1:59523.\n",
      "INFO:cicada.communicator.nng:Player 1 rendezvous with tcp://127.0.0.1:59523 from tcp://127.0.0.1:59524.\n",
      "INFO:cicada.communicator.nng:Player 2 rendezvous with tcp://127.0.0.1:59523 from tcp://127.0.0.1:59525.\n",
      "INFO:cicada.communicator.nng:Comm 'world' player 0 communicator ready.\n",
      "INFO:cicada.communicator.nng:Comm 'world' player 1 communicator ready.\n",
      "INFO:cicada.communicator.nng:Comm 'world' player 2 communicator ready.\n",
      "INFO:root:Player 0 secret:\n",
      "[[0 1]\n",
      " [3 9]]\n",
      "INFO:root:Player 0 revealed: [[[0 0 0 0 0 0 0 0 0 0 0 0 0 0 0 0 0 0 0 0 0 0 0 0 0 0 0 0 0 0 0 0 0 0 0\n",
      "   0 0 0 0 0 0 0 0 0 0 0 0 0 0 0 0 0 0 0 0 0 0 0 0 0 0 0 0 0]\n",
      "  [0 0 0 0 0 0 0 0 0 0 0 0 0 0 0 0 1 0 0 0 0 0 0 0 0 0 0 0 0 0 0 0 0 0 0\n",
      "   0 0 0 0 0 0 0 0 0 0 0 0 0 0 0 0 0 0 0 0 0 0 0 0 0 0 0 0 0]]\n",
      "\n",
      " [[0 0 0 0 0 0 0 0 0 0 0 0 0 0 0 0 1 1 0 0 0 0 0 0 0 0 0 0 0 0 0 0 0 0 0\n",
      "   0 0 0 0 0 0 0 0 0 0 0 0 0 0 0 0 0 0 0 0 0 0 0 0 0 0 0 0 0]\n",
      "  [0 0 0 0 0 0 0 0 0 0 0 0 0 0 0 0 1 0 0 1 0 0 0 0 0 0 0 0 0 0 0 0 0 0 0\n",
      "   0 0 0 0 0 0 0 0 0 0 0 0 0 0 0 0 0 0 0 0 0 0 0 0 0 0 0 0 0]]]\n",
      "INFO:root:Player 0 revealed shape: (2, 2, 64)\n",
      "INFO:cicada.communicator.nng:Comm 'world' player 0 communicator freed.\n",
      "INFO:cicada.communicator.nng:Comm 'world' player 2 communicator freed.\n",
      "INFO:cicada.communicator.nng:Comm 'world' player 1 communicator freed.\n",
      "INFO:cicada.communicator.nng:Player 0 returned: None\n",
      "INFO:cicada.communicator.nng:Player 1 returned: None\n",
      "INFO:cicada.communicator.nng:Player 2 returned: None\n"
     ]
    },
    {
     "data": {
      "text/plain": [
       "[None, None, None]"
      ]
     },
     "execution_count": 1,
     "metadata": {},
     "output_type": "execute_result"
    }
   ],
   "source": [
    "# Copyright 2021 National Technology & Engineering Solutions\n",
    "# of Sandia, LLC (NTESS). Under the terms of Contract DE-NA0003525 with NTESS,\n",
    "# the U.S. Government retains certain rights in this software.\n",
    "#\n",
    "# Licensed under the Apache License, Version 2.0 (the \"License\");\n",
    "# you may not use this file except in compliance with the License.\n",
    "# You may obtain a copy of the License at\n",
    "#\n",
    "#    http://www.apache.org/licenses/LICENSE-2.0\n",
    "#\n",
    "# Unless required by applicable law or agreed to in writing, software\n",
    "# distributed under the License is distributed on an \"AS IS\" BASIS,\n",
    "# WITHOUT WARRANTIES OR CONDITIONS OF ANY KIND, either express or implied.\n",
    "# See the License for the specific language governing permissions and\n",
    "# limitations under the License.\n",
    "\n",
    "import logging\n",
    "\n",
    "import numpy\n",
    "\n",
    "import cicada.communicator\n",
    "import cicada.encoder\n",
    "import cicada.additive\n",
    "\n",
    "logging.basicConfig(level=logging.INFO)\n",
    "\n",
    "@cicada.communicator.NNGCommunicator.run(world_size=3)\n",
    "def main(communicator):\n",
    "    log = cicada.Logger(logging.getLogger(), communicator)\n",
    "    protocol = cicada.additive.AdditiveProtocol(communicator)\n",
    "\n",
    "    secret = numpy.array([[0,1],[3,9]]) if communicator.rank == 0 else numpy.zeros((2,2))\n",
    "    log.info(f\"Player {communicator.rank} secret:\\n{secret}\", src=0)\n",
    "\n",
    "    share = protocol.share(src=0, secret=protocol.encoder.encode(secret), shape=secret.shape)\n",
    "    \n",
    "    decd_share = protocol.bit_decompose(share)\n",
    "    revealed = (protocol.reveal(decd_share))\n",
    "    log.info(f\"Player {communicator.rank} revealed: {revealed}\",src=0)\n",
    "    log.info(f\"Player {communicator.rank} revealed shape: {revealed.shape}\",src=0)\n",
    "\n",
    "main()"
   ]
  },
  {
   "cell_type": "code",
   "execution_count": null,
   "id": "378c2361",
   "metadata": {},
   "outputs": [],
   "source": []
  }
 ],
 "metadata": {
  "kernelspec": {
   "display_name": "Python 3 (ipykernel)",
   "language": "python",
   "name": "python3"
  },
  "language_info": {
   "codemirror_mode": {
    "name": "ipython",
    "version": 3
   },
   "file_extension": ".py",
   "mimetype": "text/x-python",
   "name": "python",
   "nbconvert_exporter": "python",
   "pygments_lexer": "ipython3",
   "version": "3.8.10"
  }
 },
 "nbformat": 4,
 "nbformat_minor": 5
}
