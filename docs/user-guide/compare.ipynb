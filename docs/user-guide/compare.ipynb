{
 "cells": [
  {
   "cell_type": "markdown",
   "metadata": {},
   "source": [
    "Copyright 2021 National Technology & Engineering Solutions<br>\n",
    "of Sandia, LLC (NTESS). Under the terms of Contract DE-NA0003525 with NTESS,<br>\n",
    "the U.S. Government retains certain rights in this software.<br>\n",
    "<br>\n",
    "Licensed under the Apache License, Version 2.0 (the \"License\");<br>\n",
    "you may not use this file except in compliance with the License.<br>\n",
    "You may obtain a copy of the License at<br>\n",
    "<br>\n",
    "   http://www.apache.org/licenses/LICENSE-2.0<br>\n",
    "<br>\n",
    "Unless required by applicable law or agreed to in writing, software<br>\n",
    "distributed under the License is distributed on an \"AS IS\" BASIS,<br>\n",
    "WITHOUT WARRANTIES OR CONDITIONS OF ANY KIND, either express or implied.<br>\n",
    "See the License for the specific language governing permissions and<br>\n",
    "limitations under the License."
   ]
  },
  {
   "cell_type": "code",
   "execution_count": 1,
   "metadata": {},
   "outputs": [],
   "source": [
    "import logging"
   ]
  },
  {
   "cell_type": "code",
   "execution_count": 2,
   "metadata": {},
   "outputs": [],
   "source": [
    "import numpy"
   ]
  },
  {
   "cell_type": "code",
   "execution_count": 3,
   "metadata": {},
   "outputs": [],
   "source": [
    "import cicada.additive\n",
    "import cicada.communicator\n",
    "from tqdm import *\n",
    "from time import time\n",
    "from statistics import mean, stdev\n",
    "logging.basicConfig(level=logging.INFO)"
   ]
  },
  {
   "cell_type": "markdown",
   "metadata": {},
   "source": [
    "In this script we demonstrate the use of the comparison function implemented in CICADA\n",
    "There are a couple choices available which change the behavior of the script\n",
    "\n",
    "if random_ops is true, testVal1 and 2 will be ignored and randomly generated values will be used <br>\n",
    "if random_ops is false, the values that will be compared are set by testVal1 and 2 so you can pick your operands\n",
    "numRuns is really only useful if you want to confirm correctness for several randomized tests in a series, feel free to set it to 1 if you are interested to compare testVal1 and 2, or leave it more than one to see that the algorithm is stable in returning correct expected results. It is not a probabilistic comparison.\n",
    "\n",
    "When everything is finished we print some summary statistics and performance information. The statistics module will complain if you set numRuns to 1."
   ]
  },
  {
   "cell_type": "code",
   "execution_count": 12,
   "metadata": {},
   "outputs": [],
   "source": [
    "random_ops = True\n",
    "testVal1 = numpy.array(0)\n",
    "testVal2 = numpy.array(-8)\n",
    "numRuns = 5\n",
    "#########################################"
   ]
  },
  {
   "cell_type": "code",
   "execution_count": 13,
   "metadata": {},
   "outputs": [],
   "source": [
    "results = []\n",
    "errors = {}\n",
    "times = []\n",
    "@cicada.communicator.NNGCommunicator.run(world_size=3)\n",
    "def main(communicator):\n",
    "    log = cicada.Logger(logging.getLogger(), communicator)\n",
    "    protocol = cicada.additive.AdditiveProtocol(communicator)\n",
    "    generator = numpy.random.default_rng()\n",
    "    for i in tqdm(range(numRuns)):\n",
    "        if random_ops:\n",
    "            bit_share1, secret_share1 = protocol.random_bitwise_secret(generator=generator, bits=64)\n",
    "            bit_share2, secret_share2 = protocol.random_bitwise_secret(generator=generator, bits=64)\n",
    "        else:\n",
    "            secret_share1 = protocol.share(src=0, secret=protocol.encoder.encode(testVal1), shape=testVal1.shape)\n",
    "            secret_share2 = protocol.share(src=0, secret=protocol.encoder.encode(testVal2), shape=testVal2.shape)\n",
    "        secret1 = protocol.encoder.decode(protocol.reveal(secret_share1))\n",
    "        secret2 = protocol.encoder.decode(protocol.reveal(secret_share2))\n",
    "        t0 = time()\n",
    "        lt = protocol.less(lhs=secret_share1, rhs=secret_share2)\n",
    "        times.append(time()-t0)\n",
    "        revealed_lt = protocol.reveal(lt)\n",
    "        if revealed_lt == 1 and secret1 < secret2:\n",
    "            results.append(True)\n",
    "        elif revealed_lt == 0 and secret1 >= secret2:\n",
    "            results.append(True)\n",
    "        else:\n",
    "            results.append(False)\n",
    "            errors[i]=(secret1, secret2, revealed_lt)\n",
    "    log.info(f\"Player {communicator.rank} {secret1} {'<' if revealed_lt else '>='} {secret2}\")\n",
    "    if not all(results):\n",
    "        print(f'Num errors: {sum([1 for x in results if x==False])}')\n",
    "        for k, v in errors.items():\n",
    "            if v[2] == 1:\n",
    "                symbol = '<'\n",
    "            elif v[2] == 0:\n",
    "                symbol = '>='\n",
    "            else:\n",
    "                symbol = '?'\n",
    "            print(f'Run # {k}\\n\\t{v[0]} {symbol} {v[1]}')\n",
    "    else: \n",
    "        print('No Errors!')\n",
    "    print(f'Avg time: {mean(times)}\\nStdev time: {stdev(times)}')\n"
   ]
  },
  {
   "cell_type": "code",
   "execution_count": 14,
   "metadata": {},
   "outputs": [
    {
     "name": "stderr",
     "output_type": "stream",
     "text": [
      "INFO:cicada.communicator.nng:Player 0 rendezvous with tcp://127.0.0.1:56309 from tcp://127.0.0.1:56309.\n",
      "INFO:cicada.communicator.nng:Player 1 rendezvous with tcp://127.0.0.1:56309 from tcp://127.0.0.1:56310.\n",
      "INFO:cicada.communicator.nng:Player 2 rendezvous with tcp://127.0.0.1:56309 from tcp://127.0.0.1:56311.\n",
      "INFO:cicada.communicator.nng:Comm 'world' player 0 communicator ready.\n",
      "INFO:cicada.communicator.nng:Comm 'world' player 1 communicator ready.\n",
      "INFO:cicada.communicator.nng:Comm 'world' player 2 communicator ready.\n",
      "100%|██████████████████████████████████████████████████████████████████████████████████████████████████████████████████████████████████████████████████████████████████████████████████████████████████████████| 5/5 [00:16<00:00,  3.29s/it]\n",
      "\n",
      "\n",
      "INFO:root:Player 0 -76062260777030.69 < 90745354608741.39\n",
      "INFO:root:Player 1 -76062260777030.69 < 90745354608741.39\n",
      "INFO:root:Player 2 -76062260777030.69 < 90745354608741.39\n"
     ]
    },
    {
     "name": "stdout",
     "output_type": "stream",
     "text": [
      "No Errors!No Errors!No Errors!\n",
      "\n",
      "\n",
      "Avg time: 3.209544610977173\n",
      "Stdev time: 0.11005997631298699Avg time: 3.2017094612121584\n",
      "Stdev time: 0.10733064683904862Avg time: 3.2011679649353026\n",
      "Stdev time: 0.10750745374429686\n",
      "\n",
      "\n"
     ]
    },
    {
     "name": "stderr",
     "output_type": "stream",
     "text": [
      "INFO:cicada.communicator.nng:Comm 'world' player 2 communicator freed.\n",
      "INFO:cicada.communicator.nng:Comm 'world' player 0 communicator freed.\n",
      "INFO:cicada.communicator.nng:Comm 'world' player 1 communicator freed.\n",
      "INFO:cicada.communicator.nng:Player 0 returned: None\n",
      "INFO:cicada.communicator.nng:Player 1 returned: None\n",
      "INFO:cicada.communicator.nng:Player 2 returned: None\n"
     ]
    },
    {
     "data": {
      "text/plain": [
       "[None, None, None]"
      ]
     },
     "execution_count": 14,
     "metadata": {},
     "output_type": "execute_result"
    }
   ],
   "source": [
    "main()"
   ]
  },
  {
   "cell_type": "code",
   "execution_count": null,
   "metadata": {},
   "outputs": [],
   "source": []
  }
 ],
 "metadata": {
  "kernelspec": {
   "display_name": "Python 3 (ipykernel)",
   "language": "python",
   "name": "python3"
  },
  "language_info": {
   "codemirror_mode": {
    "name": "ipython",
    "version": 3
   },
   "file_extension": ".py",
   "mimetype": "text/x-python",
   "name": "python",
   "nbconvert_exporter": "python",
   "pygments_lexer": "ipython3",
   "version": "3.8.10"
  }
 },
 "nbformat": 4,
 "nbformat_minor": 2
}
