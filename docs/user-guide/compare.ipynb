{
 "cells": [
  {
   "cell_type": "markdown",
   "metadata": {},
   "source": [
    "# Comparison\n",
    "In this script we demonstrate the use of the comparison function implemented in CICADA\n",
    "There are a couple choices available which change the behavior of the script\n",
    "\n",
    "if random_ops is true, testVal1 and 2 will be ignored and randomly generated values will be used <br>\n",
    "if random_ops is false, the values that will be compared are set by testVal1 and 2 so you can pick your operands\n",
    "numRuns is really only useful if you want to confirm correctness for several randomized tests in a series, feel free to set it to 1 if you are interested to compare testVal1 and 2, or leave it more than one to see that the algorithm is stable in returning correct expected results. It is not a probabilistic comparison.\n",
    "\n",
    "When everything is finished we print some summary statistics and performance information. The statistics module will complain if you set numRuns to 1."
   ]
  },
  {
   "cell_type": "code",
   "execution_count": null,
   "metadata": {},
   "outputs": [],
   "source": [
    "import logging"
   ]
  },
  {
   "cell_type": "code",
   "execution_count": null,
   "metadata": {},
   "outputs": [],
   "source": [
    "import numpy"
   ]
  },
  {
   "cell_type": "code",
   "execution_count": null,
   "metadata": {},
   "outputs": [],
   "source": [
    "import cicada.additive\n",
    "import cicada.communicator\n",
    "from tqdm import *\n",
    "from time import time\n",
    "from statistics import mean, stdev\n",
    "logging.basicConfig(level=logging.INFO)"
   ]
  },
  {
   "cell_type": "code",
   "execution_count": null,
   "metadata": {},
   "outputs": [],
   "source": [
    "random_ops = True\n",
    "testVal1 = numpy.array(0)\n",
    "testVal2 = numpy.array(-8)\n",
    "numRuns = 100\n",
    "#########################################"
   ]
  },
  {
   "cell_type": "code",
   "execution_count": null,
   "metadata": {},
   "outputs": [],
   "source": [
    "results = []\n",
    "errors = {}\n",
    "times = []\n",
    "@cicada.communicator.NNGCommunicator.run(world_size=3)\n",
    "def main(communicator):\n",
    "    log = cicada.Logger(logging.getLogger(), communicator)\n",
    "    protocol = cicada.additive.AdditiveProtocol(communicator)\n",
    "    generator = numpy.random.default_rng()\n",
    "    for i in tqdm(range(numRuns)):\n",
    "        if random_ops:\n",
    "            bit_share1, secret_share1 = protocol.random_bitwise_secret(generator=generator, bits=64)\n",
    "            bit_share2, secret_share2 = protocol.random_bitwise_secret(generator=generator, bits=64)\n",
    "        else:\n",
    "            secret_share1 = protocol.share(src=0, secret=protocol.encoder.encode(testVal1), shape=testVal1.shape)\n",
    "            secret_share2 = protocol.share(src=0, secret=protocol.encoder.encode(testVal2), shape=testVal2.shape)\n",
    "        secret1 = protocol.encoder.decode(protocol.reveal(secret_share1))\n",
    "        secret2 = protocol.encoder.decode(protocol.reveal(secret_share2))\n",
    "        t0 = time()\n",
    "        lt = protocol.less(lhs=secret_share1, rhs=secret_share2)\n",
    "        times.append(time()-t0)\n",
    "        revealed_lt = protocol.reveal(lt)\n",
    "        if revealed_lt == 1 and secret1 < secret2:\n",
    "            results.append(True)\n",
    "        elif revealed_lt == 0 and secret1 >= secret2:\n",
    "            results.append(True)\n",
    "        else:\n",
    "            results.append(False)\n",
    "            errors[i]=(secret1, secret2, revealed_lt)\n",
    "    log.info(f\"Player {communicator.rank} {secret1} {'<' if revealed_lt else '>='} {secret2}\")\n",
    "    if not all(results):\n",
    "        print(f'Num errors: {sum([1 for x in results if x==False])}')\n",
    "        for k, v in errors.items():\n",
    "            if v[2] == 1:\n",
    "                symbol = '<'\n",
    "            elif v[2] == 0:\n",
    "                symbol = '>='\n",
    "            else:\n",
    "                symbol = '?'\n",
    "            print(f'Run # {k}\\n\\t{v[0]} {symbol} {v[1]}')\n",
    "    else: \n",
    "        print('No Errors!')\n",
    "    print(f'Avg time: {mean(times)}\\nStdev time: {stdev(times)}')\n"
   ]
  },
  {
   "cell_type": "code",
   "execution_count": null,
   "metadata": {},
   "outputs": [],
   "source": [
    "main()"
   ]
  },
  {
   "cell_type": "code",
   "execution_count": null,
   "metadata": {},
   "outputs": [],
   "source": []
  }
 ],
 "metadata": {
  "kernelspec": {
   "display_name": "Python 3 (ipykernel)",
   "language": "python",
   "name": "python3"
  },
  "language_info": {
   "codemirror_mode": {
    "name": "ipython",
    "version": 3
   },
   "file_extension": ".py",
   "mimetype": "text/x-python",
   "name": "python",
   "nbconvert_exporter": "python",
   "pygments_lexer": "ipython3",
   "version": "3.8.10"
  }
 },
 "nbformat": 4,
 "nbformat_minor": 2
}
