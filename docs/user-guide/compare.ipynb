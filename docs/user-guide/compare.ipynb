{
 "cells": [
  {
   "cell_type": "markdown",
   "metadata": {},
   "source": [
    "# Comparison\n",
    "In this script we demonstrate the use of the comparison function implemented in CICADA\n",
    "There are a couple choices available which change the behavior of the script\n",
    "\n",
    "if random_ops is true, testVal1 and 2 will be ignored and randomly generated values will be used <br>\n",
    "if random_ops is false, the values that will be compared are set by testVal1 and 2 so you can pick your operands\n",
    "numRuns is really only useful if you want to confirm correctness for several randomized tests in a series, feel free to set it to 1 if you are interested to compare testVal1 and 2, or leave it more than one to see that the algorithm is stable in returning correct expected results. It is not a probabilistic comparison.\n",
    "\n",
    "When everything is finished we print some summary statistics and performance information. The statistics module will complain if you set numRuns to 1."
   ]
  },
  {
   "cell_type": "code",
   "execution_count": 1,
   "metadata": {},
   "outputs": [],
   "source": [
    "import logging"
   ]
  },
  {
   "cell_type": "code",
   "execution_count": 2,
   "metadata": {},
   "outputs": [],
   "source": [
    "import numpy"
   ]
  },
  {
   "cell_type": "code",
   "execution_count": 3,
   "metadata": {},
   "outputs": [],
   "source": [
    "import cicada.additive\n",
    "import cicada.communicator\n",
    "from tqdm import *\n",
    "from time import time\n",
    "from statistics import mean, stdev\n",
    "logging.basicConfig(level=logging.INFO)"
   ]
  },
  {
   "cell_type": "code",
   "execution_count": 4,
   "metadata": {},
   "outputs": [],
   "source": [
    "random_ops = True\n",
    "testVal1 = numpy.array(0)\n",
    "testVal2 = numpy.array(-8)\n",
    "numRuns = 5\n",
    "#########################################"
   ]
  },
  {
   "cell_type": "code",
   "execution_count": 5,
   "metadata": {},
   "outputs": [],
   "source": [
    "results = []\n",
    "errors = {}\n",
    "times = []\n",
    "@cicada.communicator.NNGCommunicator.run(world_size=3)\n",
    "def main(communicator):\n",
    "    log = cicada.Logger(logging.getLogger(), communicator)\n",
    "    protocol = cicada.additive.AdditiveProtocol(communicator)\n",
    "    generator = numpy.random.default_rng()\n",
    "    for i in tqdm(range(numRuns)):\n",
    "        if random_ops:\n",
    "            bit_share1, secret_share1 = protocol.random_bitwise_secret(generator=generator, bits=64)\n",
    "            bit_share2, secret_share2 = protocol.random_bitwise_secret(generator=generator, bits=64)\n",
    "        else:\n",
    "            secret_share1 = protocol.share(src=0, secret=protocol.encoder.encode(testVal1), shape=testVal1.shape)\n",
    "            secret_share2 = protocol.share(src=0, secret=protocol.encoder.encode(testVal2), shape=testVal2.shape)\n",
    "        secret1 = protocol.encoder.decode(protocol.reveal(secret_share1))\n",
    "        secret2 = protocol.encoder.decode(protocol.reveal(secret_share2))\n",
    "        t0 = time()\n",
    "        lt = protocol.less(lhs=secret_share1, rhs=secret_share2)\n",
    "        times.append(time()-t0)\n",
    "        revealed_lt = protocol.reveal(lt)\n",
    "        if revealed_lt == 1 and secret1 < secret2:\n",
    "            results.append(True)\n",
    "        elif revealed_lt == 0 and secret1 >= secret2:\n",
    "            results.append(True)\n",
    "        else:\n",
    "            results.append(False)\n",
    "            errors[i]=(secret1, secret2, revealed_lt)\n",
    "    log.info(f\"Player {communicator.rank} {secret1} {'<' if revealed_lt else '>='} {secret2}\")\n",
    "    if not all(results):\n",
    "        print(f'Num errors: {sum([1 for x in results if x==False])}')\n",
    "        for k, v in errors.items():\n",
    "            if v[2] == 1:\n",
    "                symbol = '<'\n",
    "            elif v[2] == 0:\n",
    "                symbol = '>='\n",
    "            else:\n",
    "                symbol = '?'\n",
    "            print(f'Run # {k}\\n\\t{v[0]} {symbol} {v[1]}')\n",
    "    else: \n",
    "        print('No Errors!')\n",
    "    print(f'Avg time: {mean(times)}\\nStdev time: {stdev(times)}')\n"
   ]
  },
  {
   "cell_type": "code",
   "execution_count": 6,
   "metadata": {},
   "outputs": [
    {
     "name": "stderr",
     "output_type": "stream",
     "text": [
      "INFO:cicada.communicator.nng:Player 0 rendezvous with tcp://127.0.0.1:49527 from tcp://127.0.0.1:49527.\n",
      "INFO:cicada.communicator.nng:Player 1 rendezvous with tcp://127.0.0.1:49527 from tcp://127.0.0.1:49528.\n",
      "INFO:cicada.communicator.nng:Player 2 rendezvous with tcp://127.0.0.1:49527 from tcp://127.0.0.1:49529.\n",
      "INFO:cicada.communicator.nng:Comm 'world' player 0 communicator ready.\n",
      "INFO:cicada.communicator.nng:Comm 'world' player 2 communicator ready.\n",
      "INFO:cicada.communicator.nng:Comm 'world' player 1 communicator ready.\n",
      "100%|█████████████████████████████████████████████████████████████████████████████████████████████████████████████████████████████████████████████████████████████████████████████████████████████████████████████| 5/5 [00:16<00:00,  3.24s/it]\n",
      "100%|█████████████████████████████████████████████████████████████████████████████████████████████████████████████████████████████████████████████████████████████████████████████████████████████████████████████| 5/5 [00:16<00:00,  3.25s/it]\n",
      "\n",
      "INFO:root:Player 0 -83261057422014.44 < 135767166994149.25\n",
      "INFO:root:Player 1 -83261057422014.44 < 135767166994149.25\n",
      "INFO:root:Player 2 -83261057422014.44 < 135767166994149.25\n"
     ]
    },
    {
     "name": "stdout",
     "output_type": "stream",
     "text": [
      "No Errors!No Errors!No Errors!\n",
      "\n",
      "Avg time: 3.165136384963989\n",
      "Stdev time: 0.0584495077475798\n",
      "\n",
      "Avg time: 3.1538023471832277\n",
      "Stdev time: 0.06014930208389712Avg time: 3.157222938537598\n",
      "Stdev time: 0.059930800927650504\n"
     ]
    },
    {
     "name": "stderr",
     "output_type": "stream",
     "text": [
      "INFO:cicada.communicator.nng:Comm 'world' player 0 communicator freed.\n"
     ]
    },
    {
     "name": "stdout",
     "output_type": "stream",
     "text": [
      "\n"
     ]
    },
    {
     "name": "stderr",
     "output_type": "stream",
     "text": [
      "INFO:cicada.communicator.nng:Comm 'world' player 2 communicator freed.\n",
      "INFO:cicada.communicator.nng:Comm 'world' player 1 communicator freed.\n",
      "INFO:cicada.communicator.nng:Player 0 returned: None\n",
      "INFO:cicada.communicator.nng:Player 1 returned: None\n",
      "INFO:cicada.communicator.nng:Player 2 returned: None\n"
     ]
    },
    {
     "data": {
      "text/plain": [
       "[None, None, None]"
      ]
     },
     "execution_count": 6,
     "metadata": {},
     "output_type": "execute_result"
    }
   ],
   "source": [
    "main()"
   ]
  }
 ],
 "metadata": {
  "kernelspec": {
   "display_name": "Python 3 (ipykernel)",
   "language": "python",
   "name": "python3"
  },
  "language_info": {
   "codemirror_mode": {
    "name": "ipython",
    "version": 3
   },
   "file_extension": ".py",
   "mimetype": "text/x-python",
   "name": "python",
   "nbconvert_exporter": "python",
   "pygments_lexer": "ipython3",
   "version": "3.8.10"
  }
 },
 "nbformat": 4,
 "nbformat_minor": 2
}
