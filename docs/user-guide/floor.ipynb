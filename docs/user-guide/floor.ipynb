{
 "cells": [
  {
   "cell_type": "markdown",
   "metadata": {},
   "source": [
    "Copyright 2021 National Technology & Engineering Solutions<br>\n",
    "of Sandia, LLC (NTESS). Under the terms of Contract DE-NA0003525 with NTESS,<br>\n",
    "the U.S. Government retains certain rights in this software.<br>\n",
    "<br>\n",
    "Licensed under the Apache License, Version 2.0 (the \"License\");<br>\n",
    "you may not use this file except in compliance with the License.<br>\n",
    "You may obtain a copy of the License at<br>\n",
    "<br>\n",
    "   http://www.apache.org/licenses/LICENSE-2.0<br>\n",
    "<br>\n",
    "Unless required by applicable law or agreed to in writing, software<br>\n",
    "distributed under the License is distributed on an \"AS IS\" BASIS,<br>\n",
    "WITHOUT WARRANTIES OR CONDITIONS OF ANY KIND, either express or implied.<br>\n",
    "See the License for the specific language governing permissions and<br>\n",
    "limitations under the License."
   ]
  },
  {
   "cell_type": "code",
   "execution_count": 1,
   "metadata": {},
   "outputs": [],
   "source": [
    "import logging"
   ]
  },
  {
   "cell_type": "code",
   "execution_count": 2,
   "metadata": {},
   "outputs": [],
   "source": [
    "import numpy"
   ]
  },
  {
   "cell_type": "code",
   "execution_count": 3,
   "metadata": {},
   "outputs": [],
   "source": [
    "import cicada.additive\n",
    "import cicada.communicator"
   ]
  },
  {
   "cell_type": "code",
   "execution_count": 4,
   "metadata": {},
   "outputs": [],
   "source": [
    "logging.basicConfig(level=logging.INFO)"
   ]
  },
  {
   "cell_type": "markdown",
   "metadata": {},
   "source": [
    "In this example we'll be generating uniformly random shared secrets then we will clear out any fractional parts of the secrets leaving only the integer numeric components behind. We reveal the operands and the results to demonstrate correctness.\n",
    "\n",
    "You can see from the code below that we do apply a mod 1 operation when we print the values, this is to assure that the fractional parts of each value can clearly be seen in the before and after. The operands selected uniformly at random from the field can be quite large and the fractional parts would not be able to be seen with numpy's representation of them otherwise. Following the operations we would expect all zeros to be returned given that we are clearing the fractional parts and applying modulus 1.\n",
    "\n",
    "You may of course feel free to remove the mod 1 operations to see the values without that being applied."
   ]
  },
  {
   "cell_type": "code",
   "execution_count": 12,
   "metadata": {},
   "outputs": [],
   "source": [
    "@cicada.communicator.NNGCommunicator.run(world_size=3)\n",
    "def main(communicator):\n",
    "    log = cicada.Logger(logging.getLogger(), communicator)\n",
    "    protocol = cicada.additive.AdditiveProtocol(communicator)\n",
    "    generator = numpy.random.default_rng()\n",
    "    secret_share = protocol.uniform(shape=(2,2))\n",
    "    secret = protocol.encoder.decode(protocol.reveal(secret_share))\n",
    "    log.info(f\"Player {communicator.rank} secret: \\n{secret%1}\")\n",
    "    floor_share = protocol.floor(secret_share)\n",
    "    floor = protocol.encoder.decode(protocol.reveal(floor_share))\n",
    "    log.info(f\"Player {communicator.rank} floor: \\n{floor%1}\")"
   ]
  },
  {
   "cell_type": "code",
   "execution_count": 13,
   "metadata": {},
   "outputs": [
    {
     "name": "stderr",
     "output_type": "stream",
     "text": [
      "INFO:cicada.communicator.nng:Player 0 rendezvous with tcp://127.0.0.1:56077 from tcp://127.0.0.1:56077.\n",
      "INFO:cicada.communicator.nng:Player 1 rendezvous with tcp://127.0.0.1:56077 from tcp://127.0.0.1:56078.\n",
      "INFO:cicada.communicator.nng:Player 2 rendezvous with tcp://127.0.0.1:56077 from tcp://127.0.0.1:56079.\n",
      "INFO:cicada.communicator.nng:Comm 'world' player 0 communicator ready.\n",
      "INFO:cicada.communicator.nng:Comm 'world' player 1 communicator ready.\n",
      "INFO:cicada.communicator.nng:Comm 'world' player 2 communicator ready.\n",
      "INFO:root:Player 0 secret: \n",
      "[[0.40625  0.703125]\n",
      " [0.25     0.828125]]\n",
      "INFO:root:Player 1 secret: \n",
      "[[0.40625  0.703125]\n",
      " [0.25     0.828125]]\n",
      "INFO:root:Player 2 secret: \n",
      "[[0.40625  0.703125]\n",
      " [0.25     0.828125]]\n",
      "INFO:root:Player 0 floor: \n",
      "[[0. 0.]\n",
      " [0. 0.]]\n",
      "INFO:root:Player 1 floor: \n",
      "[[0. 0.]\n",
      " [0. 0.]]\n",
      "INFO:root:Player 2 floor: \n",
      "[[0. 0.]\n",
      " [0. 0.]]\n",
      "INFO:cicada.communicator.nng:Comm 'world' player 2 communicator freed.\n",
      "INFO:cicada.communicator.nng:Comm 'world' player 1 communicator freed.\n",
      "INFO:cicada.communicator.nng:Comm 'world' player 0 communicator freed.\n",
      "INFO:cicada.communicator.nng:Player 0 returned: None\n",
      "INFO:cicada.communicator.nng:Player 1 returned: None\n",
      "INFO:cicada.communicator.nng:Player 2 returned: None\n"
     ]
    },
    {
     "data": {
      "text/plain": [
       "[None, None, None]"
      ]
     },
     "execution_count": 13,
     "metadata": {},
     "output_type": "execute_result"
    }
   ],
   "source": [
    "main()"
   ]
  },
  {
   "cell_type": "code",
   "execution_count": null,
   "metadata": {},
   "outputs": [],
   "source": []
  }
 ],
 "metadata": {
  "kernelspec": {
   "display_name": "Python 3 (ipykernel)",
   "language": "python",
   "name": "python3"
  },
  "language_info": {
   "codemirror_mode": {
    "name": "ipython",
    "version": 3
   },
   "file_extension": ".py",
   "mimetype": "text/x-python",
   "name": "python",
   "nbconvert_exporter": "python",
   "pygments_lexer": "ipython3",
   "version": "3.8.10"
  }
 },
 "nbformat": 4,
 "nbformat_minor": 2
}
