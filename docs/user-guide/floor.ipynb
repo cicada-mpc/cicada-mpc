{
 "cells": [
  {
   "cell_type": "raw",
   "metadata": {
    "raw_mimetype": "text/restructuredtext"
   },
   "source": [
    ".. _floor:\n",
    "\n",
    "Floor\n",
    "=====\n",
    "\n",
    "In this notebook we will generate uniformly random shared secrets, then we will use the *floor* operator to return secrets with the fractional parts removed. We reveal the operands and the results to demonstrate correctness.\n",
    "\n",
    "Note that we are initializing :any:`AdditiveProtocol` with a custom modulus (251) and a reduced number of fractional bits (4) so that the random secrets are small and easy to read in the output.\n",
    "\n",
    "As with all operators in Cicada, *floor* applies element-wise to input arrays of any shape."
   ]
  },
  {
   "cell_type": "code",
   "execution_count": null,
   "metadata": {},
   "outputs": [
    {
     "name": "stderr",
     "output_type": "stream",
     "text": [
      "INFO:cicada.communicator.nng:Player 0 rendezvous with tcp://127.0.0.1:51252 from tcp://127.0.0.1:51252.\n",
      "INFO:cicada.communicator.nng:Player 1 rendezvous with tcp://127.0.0.1:51252 from tcp://127.0.0.1:51253.\n",
      "INFO:cicada.communicator.nng:Player 2 rendezvous with tcp://127.0.0.1:51252 from tcp://127.0.0.1:51254.\n",
      "INFO:cicada.communicator.nng:Comm 'world' player 0 communicator ready.\n",
      "INFO:cicada.communicator.nng:Comm 'world' player 1 communicator ready.\n",
      "INFO:cicada.communicator.nng:Comm 'world' player 2 communicator ready.\n",
      "INFO:root:Player 0 secret: -4.5\n",
      "INFO:root:Player 1 secret: -4.5\n",
      "INFO:root:Player 2 secret: -4.5\n"
     ]
    }
   ],
   "source": [
    "import logging\n",
    "\n",
    "import numpy\n",
    "\n",
    "import cicada.additive\n",
    "import cicada.communicator\n",
    "\n",
    "logging.basicConfig(level=logging.INFO)\n",
    "\n",
    "@cicada.communicator.NNGCommunicator.run(world_size=3)\n",
    "def main(communicator):\n",
    "    log = cicada.Logger(logging.getLogger(), communicator)\n",
    "    protocol = cicada.additive.AdditiveProtocol(communicator, modulus=251, precision=4)\n",
    "    generator = numpy.random.default_rng(seed=1234)\n",
    "    \n",
    "    secret_share = protocol.uniform()\n",
    "    secret = protocol.encoder.decode(protocol.reveal(secret_share))\n",
    "    log.info(f\"Player {communicator.rank} secret: {secret}\")\n",
    "    \n",
    "    floor_share = protocol.floor(secret_share)\n",
    "    floor = protocol.encoder.decode(protocol.reveal(floor_share))\n",
    "    log.info(f\"Player {communicator.rank} floor: {floor%1}\")\n",
    "\n",
    "main();"
   ]
  },
  {
   "cell_type": "raw",
   "metadata": {
    "raw_mimetype": "text/restructuredtext"
   },
   "source": [
    ".. seealso:: :ref:`absolute`"
   ]
  }
 ],
 "metadata": {
  "celltoolbar": "Raw Cell Format",
  "kernelspec": {
   "display_name": "Python 3 (ipykernel)",
   "language": "python",
   "name": "python3"
  },
  "language_info": {
   "codemirror_mode": {
    "name": "ipython",
    "version": 3
   },
   "file_extension": ".py",
   "mimetype": "text/x-python",
   "name": "python",
   "nbconvert_exporter": "python",
   "pygments_lexer": "ipython3",
   "version": "3.8.10"
  }
 },
 "nbformat": 4,
 "nbformat_minor": 2
}
