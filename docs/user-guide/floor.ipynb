{
 "cells": [
  {
   "cell_type": "raw",
   "metadata": {
    "raw_mimetype": "text/restructuredtext"
   },
   "source": [
    ".. _floor:\n",
    "\n",
    "Floor\n",
    "=====\n",
    "\n",
    "In this notebook we will generate uniformly random shared secrets, then we will use the *floor* operator to return secrets with the fractional parts removed. We reveal the operands and the results to demonstrate correctness.\n",
    "\n",
    "Note that we are initializing :any:`AdditiveProtocolSuite` with a custom field order (251) and a FixedPoint encoding with 4 fractional bits so that the random secrets are small and easy to read in the output.\n",
    "\n",
    "As with all operators in Cicada, *floor* applies element-wise to input arrays of any shape."
   ]
  },
  {
   "cell_type": "code",
   "execution_count": 1,
   "metadata": {
    "scrolled": false
   },
   "outputs": [
    {
     "name": "stderr",
     "output_type": "stream",
     "text": [
      "INFO:root:****************************************\n",
      "INFO:root:Player 0 secret: 3.5\n",
      "INFO:root:Player 1 secret: 3.5\n",
      "INFO:root:Player 2 secret: 3.5\n",
      "INFO:root:Player 0 floor: 3.0\n",
      "INFO:root:Player 1 floor: 3.0\n",
      "INFO:root:Player 2 floor: 3.0\n",
      "INFO:root:****************************************\n",
      "INFO:root:Player 0 secret: -1.5\n",
      "INFO:root:Player 1 secret: -1.5\n",
      "INFO:root:Player 2 secret: -1.5\n",
      "INFO:root:Player 0 floor: -2.0\n",
      "INFO:root:Player 1 floor: -2.0\n",
      "INFO:root:Player 2 floor: -2.0\n",
      "INFO:root:****************************************\n",
      "INFO:root:Player 0 secret: -7.1875\n",
      "INFO:root:Player 1 secret: -7.1875\n",
      "INFO:root:Player 2 secret: -7.1875\n",
      "INFO:root:Player 0 floor: 7.6875\n",
      "INFO:root:Player 1 floor: 7.6875\n",
      "INFO:root:Player 2 floor: 7.6875\n",
      "INFO:root:****************************************\n",
      "INFO:root:Player 0 secret: -0.75\n",
      "INFO:root:Player 1 secret: -0.75\n",
      "INFO:root:Player 2 secret: -0.75\n",
      "INFO:root:Player 0 floor: -1.0\n",
      "INFO:root:Player 1 floor: -1.0\n",
      "INFO:root:Player 2 floor: -1.0\n",
      "INFO:root:****************************************\n",
      "INFO:root:Player 0 secret: 2.375\n",
      "INFO:root:Player 1 secret: 2.375\n",
      "INFO:root:Player 2 secret: 2.375\n",
      "INFO:root:Player 0 floor: 2.0\n",
      "INFO:root:Player 1 floor: 2.0\n",
      "INFO:root:Player 2 floor: 2.0\n",
      "INFO:root:****************************************\n",
      "INFO:root:Player 0 secret: 7.5625\n",
      "INFO:root:Player 1 secret: 7.5625\n",
      "INFO:root:Player 2 secret: 7.5625\n",
      "INFO:root:Player 0 floor: 7.0\n",
      "INFO:root:Player 1 floor: 7.0\n",
      "INFO:root:Player 2 floor: 7.0\n",
      "INFO:root:****************************************\n",
      "INFO:root:Player 0 secret: -4.75\n",
      "INFO:root:Player 1 secret: -4.75\n",
      "INFO:root:Player 2 secret: -4.75\n",
      "INFO:root:Player 0 floor: -5.0\n",
      "INFO:root:Player 1 floor: -5.0\n",
      "INFO:root:Player 2 floor: -5.0\n",
      "INFO:root:****************************************\n",
      "INFO:root:Player 0 secret: -0.3125\n",
      "INFO:root:Player 1 secret: -0.3125\n",
      "INFO:root:Player 2 secret: -0.3125\n",
      "INFO:root:Player 0 floor: -1.0\n",
      "INFO:root:Player 1 floor: -1.0\n",
      "INFO:root:Player 2 floor: -1.0\n",
      "INFO:root:****************************************\n",
      "INFO:root:Player 0 secret: -6.625\n",
      "INFO:root:Player 1 secret: -6.625\n",
      "INFO:root:Player 2 secret: -6.625\n",
      "INFO:root:Player 0 floor: -7.0\n",
      "INFO:root:Player 1 floor: -7.0\n",
      "INFO:root:Player 2 floor: -7.0\n",
      "INFO:root:****************************************\n",
      "INFO:root:Player 0 secret: -2.5625\n",
      "INFO:root:Player 1 secret: -2.5625\n",
      "INFO:root:Player 2 secret: -2.5625\n",
      "INFO:root:Player 0 floor: -3.0\n",
      "INFO:root:Player 1 floor: -3.0\n",
      "INFO:root:Player 2 floor: -3.0\n"
     ]
    }
   ],
   "source": [
    "import logging\n",
    "import sys\n",
    "\n",
    "\n",
    "import numpy\n",
    "\n",
    "from cicada.additive import AdditiveProtocolSuite\n",
    "from cicada.communicator import SocketCommunicator\n",
    "from cicada.encoding import FixedPoint\n",
    "from cicada.logging import Logger\n",
    "\n",
    "logging.basicConfig(level=logging.INFO)\n",
    "\n",
    "def main(communicator):\n",
    "    log = Logger(logging.getLogger(), communicator)\n",
    "    protocol = AdditiveProtocolSuite(communicator, order=251, encoding=FixedPoint(precision=4))\n",
    "    generator = numpy.random.default_rng(seed=1234)\n",
    "\n",
    "    for i in range(10):\n",
    "\n",
    "        log.info(\"*\" * 40, src=0)\n",
    "        \n",
    "        secret_share = protocol.field_uniform(generator=generator)\n",
    "        secret = protocol.reveal(secret_share)\n",
    "        log.info(f\"Player {communicator.rank} secret: {secret}\")\n",
    "\n",
    "        floor_share = protocol.floor(secret_share)\n",
    "        floor = protocol.reveal(floor_share)\n",
    "        log.info(f\"Player {communicator.rank} floor: {floor}\")\n",
    "\n",
    "\n",
    "SocketCommunicator.run(world_size=3, fn=main);"
   ]
  },
  {
   "cell_type": "raw",
   "metadata": {
    "raw_mimetype": "text/restructuredtext"
   },
   "source": [
    ".. seealso:: :ref:`absolute`"
   ]
  }
 ],
 "metadata": {
  "celltoolbar": "Raw Cell Format",
  "kernelspec": {
   "display_name": "Python 3 (ipykernel)",
   "language": "python",
   "name": "python3"
  },
  "language_info": {
   "codemirror_mode": {
    "name": "ipython",
    "version": 3
   },
   "file_extension": ".py",
   "mimetype": "text/x-python",
   "name": "python",
   "nbconvert_exporter": "python",
   "pygments_lexer": "ipython3",
   "version": "3.11.3"
  }
 },
 "nbformat": 4,
 "nbformat_minor": 2
}
