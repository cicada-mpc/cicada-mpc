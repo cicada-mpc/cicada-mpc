{
 "cells": [
  {
   "cell_type": "raw",
   "metadata": {
    "raw_mimetype": "text/restructuredtext"
   },
   "source": [
    ".. _floor:\n",
    "\n",
    "Floor\n",
    "=====\n",
    "\n",
    "In this notebook we will generate uniformly random shared secrets, then we will use the *floor* operator to return secrets with the fractional parts removed. We reveal the operands and the results to demonstrate correctness.\n",
    "\n",
    "Note that we are initializing :any:`AdditiveProtocol` with a custom modulus (251) and a reduced number of fractional bits (4) so that the random secrets are small and easy to read in the output.\n",
    "\n",
    "As with all operators in Cicada, *floor* applies element-wise to input arrays of any shape."
   ]
  },
  {
   "cell_type": "code",
   "execution_count": 1,
   "metadata": {},
   "outputs": [
    {
     "name": "stderr",
     "output_type": "stream",
     "text": [
      "INFO:cicada.communicator.nng:Player 0 rendezvous with tcp://127.0.0.1:60617 from tcp://127.0.0.1:60617.\n",
      "INFO:cicada.communicator.nng:Player 1 rendezvous with tcp://127.0.0.1:60617 from tcp://127.0.0.1:60618.\n",
      "INFO:cicada.communicator.nng:Player 2 rendezvous with tcp://127.0.0.1:60617 from tcp://127.0.0.1:60619.\n",
      "INFO:cicada.communicator.nng:Comm 'world' player 0 communicator ready.\n",
      "INFO:cicada.communicator.nng:Comm 'world' player 1 communicator ready.\n",
      "INFO:cicada.communicator.nng:Comm 'world' player 2 communicator ready.\n",
      "INFO:root:****************************************\n",
      "INFO:root:Player 0 secret: 52996221230074.11\n",
      "INFO:root:Player 1 secret: 52996221230074.11\n",
      "INFO:root:Player 2 secret: 52996221230074.11\n",
      "INFO:root:Player 0 floor: 52996221230074.0\n",
      "INFO:root:Player 1 floor: 52996221230074.0\n",
      "INFO:root:Player 2 floor: 52996221230074.0\n",
      "INFO:root:****************************************\n",
      "INFO:root:Player 0 secret: -135210973337980.02\n",
      "INFO:root:Player 1 secret: -135210973337980.02\n",
      "INFO:root:Player 2 secret: -135210973337980.02\n",
      "INFO:root:Player 0 floor: -135210973337981.0\n",
      "INFO:root:Player 1 floor: -135210973337981.0\n",
      "INFO:root:Player 2 floor: -135210973337981.0\n",
      "INFO:root:****************************************\n",
      "INFO:root:Player 0 secret: 31570601866904.055\n",
      "INFO:root:Player 1 secret: 31570601866904.055\n",
      "INFO:root:Player 2 secret: 31570601866904.055\n",
      "INFO:root:Player 0 floor: 31570601866904.0\n",
      "INFO:root:Player 1 floor: 31570601866904.0\n",
      "INFO:root:Player 2 floor: 31570601866904.0\n",
      "INFO:root:****************************************\n",
      "INFO:root:Player 0 secret: -93748158597419.02\n",
      "INFO:root:Player 1 secret: -93748158597419.02\n",
      "INFO:root:Player 2 secret: -93748158597419.02\n",
      "INFO:root:Player 0 floor: -93748158597420.0\n",
      "INFO:root:Player 1 floor: -93748158597420.0\n",
      "INFO:root:Player 2 floor: -93748158597420.0\n",
      "INFO:root:****************************************\n",
      "INFO:root:Player 0 secret: -127150000057589.94\n",
      "INFO:root:Player 1 secret: -127150000057589.94\n",
      "INFO:root:Player 2 secret: -127150000057589.94\n",
      "INFO:root:Player 0 floor: -127150000057590.0\n",
      "INFO:root:Player 1 floor: -127150000057590.0\n",
      "INFO:root:Player 2 floor: -127150000057590.0\n",
      "INFO:root:****************************************\n",
      "INFO:root:Player 0 secret: -18267844682321.305\n",
      "INFO:root:Player 1 secret: -18267844682321.305\n",
      "INFO:root:Player 2 secret: -18267844682321.305\n",
      "INFO:root:Player 0 floor: -18267844682322.0\n",
      "INFO:root:Player 1 floor: -18267844682322.0\n",
      "INFO:root:Player 2 floor: -18267844682322.0\n",
      "INFO:root:****************************************\n",
      "INFO:root:Player 0 secret: -116594514462926.33\n",
      "INFO:root:Player 1 secret: -116594514462926.33\n",
      "INFO:root:Player 2 secret: -116594514462926.33\n",
      "INFO:root:Player 0 floor: -116594514462927.0\n",
      "INFO:root:Player 1 floor: -116594514462927.0\n",
      "INFO:root:Player 2 floor: -116594514462927.0\n",
      "INFO:root:****************************************\n",
      "INFO:root:Player 0 secret: -48555941391534.37\n",
      "INFO:root:Player 1 secret: -48555941391534.37\n",
      "INFO:root:Player 2 secret: -48555941391534.37\n",
      "INFO:root:Player 0 floor: -48555941391535.0\n",
      "INFO:root:Player 1 floor: -48555941391535.0\n",
      "INFO:root:Player 2 floor: -48555941391535.0\n",
      "INFO:root:****************************************\n",
      "INFO:root:Player 0 secret: -117779136825678.58\n",
      "INFO:root:Player 1 secret: -117779136825678.58\n",
      "INFO:root:Player 2 secret: -117779136825678.58\n",
      "INFO:root:Player 0 floor: -117779136825679.0\n",
      "INFO:root:Player 1 floor: -117779136825679.0\n",
      "INFO:root:Player 2 floor: -117779136825679.0\n",
      "INFO:root:****************************************\n",
      "INFO:root:Player 0 secret: -16307959290967.518\n",
      "INFO:root:Player 1 secret: -16307959290967.518\n",
      "INFO:root:Player 2 secret: -16307959290967.518\n",
      "INFO:root:Player 0 floor: -16307959290968.0\n",
      "INFO:root:Player 1 floor: -16307959290968.0\n",
      "INFO:root:Player 2 floor: -16307959290968.0\n",
      "INFO:cicada.communicator.nng:Comm 'world' player 0 communicator freed.\n",
      "INFO:cicada.communicator.nng:Comm 'world' player 1 communicator freed.\n",
      "INFO:cicada.communicator.nng:Comm 'world' player 2 communicator freed.\n",
      "INFO:cicada.communicator.nng:Player 0 returned: None\n",
      "INFO:cicada.communicator.nng:Player 1 returned: None\n",
      "INFO:cicada.communicator.nng:Player 2 returned: None\n"
     ]
    }
   ],
   "source": [
    "import logging\n",
    "import sys\n",
    "\n",
    "\n",
    "import numpy\n",
    "\n",
    "import cicada.additive\n",
    "import cicada.communicator\n",
    "\n",
    "logging.basicConfig(level=logging.INFO)\n",
    "\n",
    "@cicada.communicator.NNGCommunicator.run(world_size=3)\n",
    "def main(communicator):\n",
    "    log = cicada.Logger(logging.getLogger(), communicator)\n",
    "    protocol = cicada.additive.AdditiveProtocol(communicator)#, modulus=251, precision=4)\n",
    "    generator = numpy.random.default_rng(seed=1234)\n",
    "\n",
    "    for i in range(10):\n",
    "\n",
    "        log.info(\"*\" * 40, src=0)\n",
    "        \n",
    "        secret_share = protocol.uniform(generator=generator)\n",
    "        secret = protocol.encoder.decode(protocol.reveal(secret_share))\n",
    "        log.info(f\"Player {communicator.rank} secret: {secret}\")\n",
    "\n",
    "        floor_share = protocol.floor(secret_share)\n",
    "        floor = protocol.encoder.decode(protocol.reveal(floor_share))\n",
    "        log.info(f\"Player {communicator.rank} floor: {floor}\")\n",
    "\n",
    "\n",
    "main();"
   ]
  },
  {
   "cell_type": "raw",
   "metadata": {
    "raw_mimetype": "text/restructuredtext"
   },
   "source": [
    ".. seealso:: :ref:`absolute`"
   ]
  },
  {
   "cell_type": "code",
   "execution_count": null,
   "metadata": {},
   "outputs": [],
   "source": []
  },
  {
   "cell_type": "code",
   "execution_count": null,
   "metadata": {},
   "outputs": [],
   "source": []
  }
 ],
 "metadata": {
  "celltoolbar": "Raw Cell Format",
  "kernelspec": {
   "display_name": "Python 3",
   "language": "python",
   "name": "python3"
  },
  "language_info": {
   "codemirror_mode": {
    "name": "ipython",
    "version": 3
   },
   "file_extension": ".py",
   "mimetype": "text/x-python",
   "name": "python",
   "nbconvert_exporter": "python",
   "pygments_lexer": "ipython3",
   "version": "3.9.7"
  }
 },
 "nbformat": 4,
 "nbformat_minor": 2
}
