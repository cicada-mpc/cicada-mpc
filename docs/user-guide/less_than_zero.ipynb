{
 "cells": [
  {
   "cell_type": "markdown",
   "metadata": {},
   "source": [
    "# Less than zero\n",
    "\n",
    "In this example we generate a 2x2 matrix with uniform random generated values from the field and call the less than zero function on those shared secrets. The return from this function is boolean (i.e., field elements 1 and 0, not considering the encoding we use for most artithmetic operations). The returned value is an elementwise application of the less_than_zero function to all matrix elements. Therefore, each matrix position will contain field element 1 if it was negative and 0 if the matrix element in that position was positive.\n",
    "\n",
    "In the script we reveal both the operands and the results so you can confirm correctness. Notice, on the results of the less_tha_zero function we do not call the decode function."
   ]
  },
  {
   "cell_type": "code",
   "execution_count": 7,
   "metadata": {},
   "outputs": [],
   "source": [
    "import logging"
   ]
  },
  {
   "cell_type": "code",
   "execution_count": 8,
   "metadata": {},
   "outputs": [],
   "source": [
    "import numpy"
   ]
  },
  {
   "cell_type": "code",
   "execution_count": 9,
   "metadata": {},
   "outputs": [],
   "source": [
    "import cicada.additive\n",
    "import cicada.communicator"
   ]
  },
  {
   "cell_type": "code",
   "execution_count": 10,
   "metadata": {},
   "outputs": [],
   "source": [
    "logging.basicConfig(level=logging.INFO)"
   ]
  },
  {
   "cell_type": "code",
   "execution_count": 14,
   "metadata": {},
   "outputs": [],
   "source": [
    "@cicada.communicator.NNGCommunicator.run(world_size=3)\n",
    "def main(communicator):\n",
    "    log = cicada.Logger(logging.getLogger(), communicator)\n",
    "    protocol = cicada.additive.AdditiveProtocol(communicator)\n",
    "    generator = numpy.random.default_rng()\n",
    "    secret_share = protocol.uniform(shape=(2,2))\n",
    "    secret = protocol.encoder.decode(protocol.reveal(secret_share))\n",
    "    log.info(f\"Player {communicator.rank} secret: \\n{secret}\")\n",
    "    ltz_share = protocol.less_than_zero(secret_share)\n",
    "    ltz = protocol.reveal(ltz_share)\n",
    "    log.info(f\"Player {communicator.rank} less_than_zero: \\n{ltz}\")"
   ]
  },
  {
   "cell_type": "code",
   "execution_count": 15,
   "metadata": {},
   "outputs": [
    {
     "name": "stderr",
     "output_type": "stream",
     "text": [
      "INFO:cicada.communicator.nng:Player 0 rendezvous with tcp://127.0.0.1:56996 from tcp://127.0.0.1:56996.\n",
      "INFO:cicada.communicator.nng:Player 1 rendezvous with tcp://127.0.0.1:56996 from tcp://127.0.0.1:56997.\n",
      "INFO:cicada.communicator.nng:Player 2 rendezvous with tcp://127.0.0.1:56996 from tcp://127.0.0.1:56998.\n",
      "INFO:cicada.communicator.nng:Comm 'world' player 1 communicator ready.\n",
      "INFO:cicada.communicator.nng:Comm 'world' player 0 communicator ready.\n",
      "INFO:cicada.communicator.nng:Comm 'world' player 2 communicator ready.\n",
      "INFO:root:Player 0 secret: \n",
      "[[-6.26508635e+13  8.28983047e+13]\n",
      " [-1.15716512e+14  5.67714433e+13]]\n",
      "INFO:root:Player 1 secret: \n",
      "[[-6.26508635e+13  8.28983047e+13]\n",
      " [-1.15716512e+14  5.67714433e+13]]\n",
      "INFO:root:Player 2 secret: \n",
      "[[-6.26508635e+13  8.28983047e+13]\n",
      " [-1.15716512e+14  5.67714433e+13]]\n",
      "INFO:root:Player 0 less_than_zero: \n",
      "[[1 0]\n",
      " [1 0]]\n",
      "INFO:root:Player 1 less_than_zero: \n",
      "[[1 0]\n",
      " [1 0]]\n",
      "INFO:root:Player 2 less_than_zero: \n",
      "[[1 0]\n",
      " [1 0]]\n",
      "INFO:cicada.communicator.nng:Comm 'world' player 0 communicator freed.\n",
      "INFO:cicada.communicator.nng:Comm 'world' player 1 communicator freed.\n",
      "INFO:cicada.communicator.nng:Comm 'world' player 2 communicator freed.\n",
      "INFO:cicada.communicator.nng:Player 0 returned: None\n",
      "INFO:cicada.communicator.nng:Player 1 returned: None\n",
      "INFO:cicada.communicator.nng:Player 2 returned: None\n"
     ]
    },
    {
     "data": {
      "text/plain": [
       "[None, None, None]"
      ]
     },
     "execution_count": 15,
     "metadata": {},
     "output_type": "execute_result"
    }
   ],
   "source": [
    "main()"
   ]
  }
 ],
 "metadata": {
  "kernelspec": {
   "display_name": "Python 3 (ipykernel)",
   "language": "python",
   "name": "python3"
  },
  "language_info": {
   "codemirror_mode": {
    "name": "ipython",
    "version": 3
   },
   "file_extension": ".py",
   "mimetype": "text/x-python",
   "name": "python",
   "nbconvert_exporter": "python",
   "pygments_lexer": "ipython3",
   "version": "3.8.10"
  }
 },
 "nbformat": 4,
 "nbformat_minor": 2
}
