{
 "cells": [
  {
   "cell_type": "markdown",
   "metadata": {},
   "source": [
    "Copyright 2021 National Technology & Engineering Solutions<br>\n",
    "of Sandia, LLC (NTESS). Under the terms of Contract DE-NA0003525 with NTESS,<br>\n",
    "the U.S. Government retains certain rights in this software.<br>\n",
    "<br>\n",
    "Licensed under the Apache License, Version 2.0 (the \"License\");<br>\n",
    "you may not use this file except in compliance with the License.<br>\n",
    "You may obtain a copy of the License at<br>\n",
    "<br>\n",
    "   http://www.apache.org/licenses/LICENSE-2.0<br>\n",
    "<br>\n",
    "Unless required by applicable law or agreed to in writing, software<br>\n",
    "distributed under the License is distributed on an \"AS IS\" BASIS,<br>\n",
    "WITHOUT WARRANTIES OR CONDITIONS OF ANY KIND, either express or implied.<br>\n",
    "See the License for the specific language governing permissions and<br>\n",
    "limitations under the License."
   ]
  },
  {
   "cell_type": "code",
   "execution_count": null,
   "metadata": {},
   "outputs": [],
   "source": [
    "import logging"
   ]
  },
  {
   "cell_type": "code",
   "execution_count": null,
   "metadata": {},
   "outputs": [],
   "source": [
    "import numpy"
   ]
  },
  {
   "cell_type": "code",
   "execution_count": null,
   "metadata": {},
   "outputs": [],
   "source": [
    "import cicada.additive\n",
    "import cicada.communicator"
   ]
  },
  {
   "cell_type": "code",
   "execution_count": null,
   "metadata": {},
   "outputs": [],
   "source": [
    "logging.basicConfig(level=logging.INFO)"
   ]
  },
  {
   "cell_type": "code",
   "execution_count": null,
   "metadata": {},
   "outputs": [],
   "source": [
    "@cicada.communicator.NNGCommunicator.run(world_size=3)\n",
    "def main(communicator):\n",
    "    testVal =0# 2**64 - 59 -7\n",
    "    log = cicada.Logger(logging.getLogger(), communicator)\n",
    "    protocol = cicada.additive.AdditiveProtocol(communicator)\n",
    "    generator = numpy.random.default_rng()\n",
    "    bit_share, secret_share = protocol.random_bitwise_secret(generator=generator, bits=4)\n",
    "    secret = protocol.reveal(secret_share)\n",
    "    secret_bits = protocol.reveal(bit_share)\n",
    "    log.info(f'{[0]+[int(x) for x in bin(testVal)[2:]]}\\n{secret_bits}')\n",
    "    lt = protocol.public_bitwise_less_than(lhspub=testVal, rhs=bit_share)\n",
    "    revealed_lt = protocol.reveal(lt)\n",
    "    log.info(f\"Player {communicator.rank} secret: {testVal} {'<' if revealed_lt==1 else '>='} {secret}\")"
   ]
  },
  {
   "cell_type": "code",
   "execution_count": null,
   "metadata": {},
   "outputs": [],
   "source": [
    "main()"
   ]
  }
 ],
 "metadata": {
  "kernelspec": {
   "display_name": "Python 3 (ipykernel)",
   "language": "python",
   "name": "python3"
  },
  "language_info": {
   "codemirror_mode": {
    "name": "ipython",
    "version": 3
   },
   "file_extension": ".py",
   "mimetype": "text/x-python",
   "name": "python",
   "nbconvert_exporter": "python",
   "pygments_lexer": "ipython3",
   "version": "3.8.10"
  }
 },
 "nbformat": 4,
 "nbformat_minor": 2
}
