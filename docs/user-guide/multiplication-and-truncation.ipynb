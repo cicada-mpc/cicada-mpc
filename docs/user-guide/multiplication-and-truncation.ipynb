{
 "cells": [
  {
   "cell_type": "raw",
   "metadata": {
    "raw_mimetype": "text/restructuredtext"
   },
   "source": [
    ".. _multiplication:\n",
    "\n",
    "Multiplication and Truncation\n",
    "=============================\n",
    "\n",
    "Multiplication using :any:`AdditiveProtocol` can get a little tricky, due to a concept we call *truncation*.  To illustrate truncation in action, let's see what happens when we ignore it.  The following example naively computes :math:`2 \\times 3`:"
   ]
  },
  {
   "cell_type": "code",
   "execution_count": 1,
   "metadata": {},
   "outputs": [
    {
     "name": "stderr",
     "output_type": "stream",
     "text": [
      "INFO:cicada.communicator.socket:Comm 'world' player 0 rendezvous with tcp://127.0.0.1:64873 from tcp://127.0.0.1:64873.\n",
      "INFO:cicada.communicator.socket:Comm 'world' player 1 rendezvous with tcp://127.0.0.1:64873 from tcp://127.0.0.1:64874.\n",
      "INFO:cicada.communicator.socket:Comm 'world' player 0 communicator ready.\n",
      "INFO:cicada.communicator.socket:Comm 'world' player 1 communicator ready.\n",
      "INFO:root:Operand a: 2\n",
      "INFO:root:Operand b: 3\n",
      "INFO:root:Player 0 result c: 393216.0\n",
      "INFO:root:Player 1 result c: 393216.0\n",
      "INFO:cicada.communicator.socket:Comm 'world' player 1 communicator freed.\n",
      "INFO:cicada.communicator.socket:Comm 'world' player 0 communicator freed.\n",
      "INFO:cicada.communicator.socket:Player 0 return: None\n",
      "INFO:cicada.communicator.socket:Player 1 return: None\n"
     ]
    }
   ],
   "source": [
    "import logging\n",
    "\n",
    "import numpy\n",
    "\n",
    "import cicada.encoder\n",
    "import cicada.additive\n",
    "from cicada.communicator import SocketCommunicator\n",
    "\n",
    "logging.basicConfig(level=logging.INFO)\n",
    "\n",
    "def main(communicator):\n",
    "    log = cicada.Logger(logging.getLogger(), communicator)    \n",
    "    protocol = cicada.additive.AdditiveProtocol(communicator)\n",
    "    \n",
    "    # Each player will contribute one operand.\n",
    "    a = numpy.array(2) if communicator.rank == 0 else None\n",
    "    b = numpy.array(3) if communicator.rank == 1 else None\n",
    "    log.info(f\"Operand a: {a}\", src=0)\n",
    "    log.info(f\"Operand b: {b}\", src=1)\n",
    "\n",
    "    # Secret share our operands.\n",
    "    a_share = protocol.share(src=0, secret=protocol.encoder.encode(a), shape=())\n",
    "    b_share = protocol.share(src=1, secret=protocol.encoder.encode(b), shape=())\n",
    "    \n",
    "    c_share = protocol.untruncated_multiply(a_share, b_share)\n",
    "    c = protocol.encoder.decode(protocol.reveal(c_share))\n",
    "    \n",
    "    log.info(f\"Player {communicator.rank} result c: {c}\")\n",
    "\n",
    "SocketCommunicator.run(main, world_size=2);"
   ]
  },
  {
   "cell_type": "raw",
   "metadata": {
    "raw_mimetype": "text/restructuredtext"
   },
   "source": [
    "What the heck!?  :math:`2 \\times 3 = 393216` is clearly wrong.  What happened?\n",
    "\n",
    "Actually this answer is correct, from a certain point of view.  Remember that when working with :any:`AdditiveProtocol`, all secret-shared values must be encoded using the protocol's builtin instance of :any:`FixedFieldEncoder`.  The latter encodes real values as integers with a configurable number of bits set aside to store fractional values.  Addition with this representation is straightforward, but multiplication produces results that are shifted left by the same number of bits.\n",
    "\n",
    "By default the encoder uses 16 bits to store fractions, so in the example above the result returned by :any:`AdditiveProtocol.untruncated_multiply` is shifted left by 16 bits, or :math:`2^{16}`.  If we shift right by the same number of bits, we get the expected answer:\n",
    "\n",
    ":math:`393216 \\div 2^{16} = 6`\n",
    "\n",
    "We use *truncation* to refer to this process of shifting right to eliminate the extra bits, and Cicada provides a dedicated method to do it for us, so we don't have to keep track of how many fractional bits are in use:"
   ]
  },
  {
   "cell_type": "code",
   "execution_count": 2,
   "metadata": {},
   "outputs": [
    {
     "name": "stderr",
     "output_type": "stream",
     "text": [
      "INFO:cicada.communicator.socket:Comm 'world' player 0 rendezvous with tcp://127.0.0.1:64886 from tcp://127.0.0.1:64886.\n",
      "INFO:cicada.communicator.socket:Comm 'world' player 1 rendezvous with tcp://127.0.0.1:64886 from tcp://127.0.0.1:64887.\n",
      "INFO:cicada.communicator.socket:Comm 'world' player 0 communicator ready.\n",
      "INFO:cicada.communicator.socket:Comm 'world' player 1 communicator ready.\n",
      "INFO:root:Operand a: 2\n",
      "INFO:root:Operand b: 3\n",
      "INFO:root:Player 0 result c: 6.0\n",
      "INFO:root:Player 1 result c: 6.0\n",
      "INFO:cicada.communicator.socket:Comm 'world' player 0 communicator freed.\n",
      "INFO:cicada.communicator.socket:Comm 'world' player 1 communicator freed.\n",
      "INFO:cicada.communicator.socket:Player 0 return: None\n",
      "INFO:cicada.communicator.socket:Player 1 return: None\n"
     ]
    }
   ],
   "source": [
    "def main(communicator):\n",
    "    log = cicada.Logger(logging.getLogger(), communicator)    \n",
    "    protocol = cicada.additive.AdditiveProtocol(communicator)\n",
    "    \n",
    "    # Each player will contribute one operand.\n",
    "    a = numpy.array(2) if communicator.rank == 0 else None\n",
    "    b = numpy.array(3) if communicator.rank == 1 else None\n",
    "    log.info(f\"Operand a: {a}\", src=0)\n",
    "    log.info(f\"Operand b: {b}\", src=1)\n",
    "\n",
    "    # Secret share our operands.\n",
    "    a_share = protocol.share(src=0, secret=protocol.encoder.encode(a), shape=())\n",
    "    b_share = protocol.share(src=1, secret=protocol.encoder.encode(b), shape=())\n",
    "    \n",
    "    c_share = protocol.untruncated_multiply(a_share, b_share)\n",
    "    c_share = protocol.truncate(c_share)\n",
    "    c = protocol.encoder.decode(protocol.reveal(c_share))\n",
    "    \n",
    "    log.info(f\"Player {communicator.rank} result c: {c}\")\n",
    "\n",
    "SocketCommunicator.run(main, world_size=2);"
   ]
  },
  {
   "cell_type": "raw",
   "metadata": {
    "raw_mimetype": "text/restructuredtext"
   },
   "source": [
    "Now we get the expected answer.  However, you may be wondering why a separate call to truncate the result is necessary ... why not simply consolidate :any:`AdditiveProtocol.untruncated_multiply` and :any:`AdditiveProtocol.truncate` into a hypothetical `multiply()` method?\n",
    "\n",
    "The reason we don't do this is that the protocol to truncate secret shared values is extremely expensive.  Calling it separately allows you to defer using it until absolutely necessary.  For example, if you're computing the dot product of two large vectors, the distributive property allows you to compute all of the element-wise products using :any:`AdditiveProtocol.untruncated_multiply`, then sum the results to a single scalar, then call :any:`AdditiveProtocol.truncate` once, for a potentially huge savings in execution time.\n",
    "\n",
    ".. seealso:: :ref:`division`"
   ]
  }
 ],
 "metadata": {
  "celltoolbar": "Raw Cell Format",
  "kernelspec": {
   "display_name": "Python 3 (ipykernel)",
   "language": "python",
   "name": "python3"
  },
  "language_info": {
   "codemirror_mode": {
    "name": "ipython",
    "version": 3
   },
   "file_extension": ".py",
   "mimetype": "text/x-python",
   "name": "python",
   "nbconvert_exporter": "python",
   "pygments_lexer": "ipython3",
   "version": "3.8.2"
  }
 },
 "nbformat": 4,
 "nbformat_minor": 2
}
