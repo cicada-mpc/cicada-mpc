{
 "cells": [
  {
   "cell_type": "markdown",
   "metadata": {},
   "source": [
    "# Shamir Secret Sharing\n",
    "\n",
    "Cicada implements Shamir secret sharing as well. This scheme, distinct from additive secret sharing, is based on evaluating and interpolating polynomials over an integral field. Shamir's scheme is a threshold scheme such that for any set of $n$ parties, a threshold $k$ can be defined such that any subset of the $n$ parties of size at least $k$ can reconstruct secrets and carry on with at least some operations. We have defined two protocols to handle and express this. All the available operations can be done with an instance of the ShamirProtocol class, but this class will throw an error if it is instantiated with a $k$ that cannot handle all of it's operations. The ShamirBasicProtocol will be able to handle greater flexibility w.r.t. $k$ though not all the operations are available. In general polynomials of the following form over the field $\\mathbb{Z}_p$ are created and evaluated to generate secrets of some value $s$ shared among $n$ parties such that any subset of them of size at least $k$ will be able to reconstruct the shared secrets: \n",
    "\n",
    "$$\n",
    "f(x)=(c_{k-1}x^{k-1}+c_{k-2}x^{k-2}+\\dots+c_{2}x^{2}+c_{1}x+s)\\mod p\n",
    "$$\n",
    "\n",
    "Where all the $c$ coefficients are random field elements. Reconstruction of the secrets is done by straightforward integral Lagrange interpolation. In the following, $x$ and $y$ with subscripts have their usual meaning in the context of successive points at which a polynomial is evaluated and the result of that evaluation respectivly, and the subscripts just denote the position of each within a list of such pairs. \n",
    "\n",
    "$$ s= f(0)=\\sum_{j=1}^{n}y_j \\prod_{k=1:k\\neq j}^{n} \\frac{-x_k}{x_j-x_k}$$\n",
    "\n",
    "Let's consider an example of the use of ShamirBasicProtocol:"
   ]
  },
  {
   "cell_type": "code",
   "execution_count": 5,
   "metadata": {},
   "outputs": [
    {
     "name": "stderr",
     "output_type": "stream",
     "text": [
      "INFO:root:Player 0 values: [ 0 -1  2 -3  4]\n",
      "INFO:root:Player 1 values: None\n",
      "INFO:root:Player 2 values: None\n",
      "INFO:root:Player 3 values: None\n",
      "INFO:root:Player 4 values: None\n",
      "INFO:root:Player 0 revealed: [ 0. -1.  2. -3.  4.]\n",
      "INFO:root:Player 1 revealed: [ 0. -1.  2. -3.  4.]\n",
      "INFO:root:Player 2 revealed: [ 0. -1.  2. -3.  4.]\n",
      "INFO:root:Player 3 revealed: [ 0. -1.  2. -3.  4.]\n",
      "INFO:root:Player 4 revealed: [ 0. -1.  2. -3.  4.]\n",
      "INFO:root:Player 0 revealed dubs: [ 0. -2.  4. -6.  8.]\n",
      "INFO:root:Player 1 revealed dubs: [ 0. -2.  4. -6.  8.]\n",
      "INFO:root:Player 2 revealed dubs: [ 0. -2.  4. -6.  8.]\n",
      "INFO:root:Player 3 revealed dubs: [ 0. -2.  4. -6.  8.]\n",
      "INFO:root:Player 4 revealed dubs: [ 0. -2.  4. -6.  8.]\n"
     ]
    }
   ],
   "source": [
    "import logging\n",
    "\n",
    "import numpy\n",
    "\n",
    "import cicada.shamir\n",
    "from cicada.communicator import SocketCommunicator\n",
    "\n",
    "logging.basicConfig(level=logging.INFO)\n",
    "globe_const_vals =  numpy.array([0, -1, 2, -3, 4])\n",
    "def main(communicator):\n",
    "    log = cicada.Logger(logging.getLogger(), communicator)\n",
    "    protocol = cicada.shamir.ShamirBasicProtocol(communicator, threshold =3)\n",
    "\n",
    "    values = globe_const_vals if communicator.rank == 0 else None\n",
    "    log.info(f\"Player {communicator.rank} values: {values}\")\n",
    "    \n",
    "    values_share = protocol.share(secret=protocol.encoder.encode(values), src=0, shape=(5,))\n",
    "    revealed_share = protocol.encoder.decode(protocol.reveal(values_share))\n",
    "    log.info(f\"Player {communicator.rank} revealed: {revealed_share}\")\n",
    "    dub_vals = protocol.add(values_share, values_share)\n",
    "    revealed_dubs = protocol.encoder.decode(protocol.reveal(dub_vals))\n",
    "    log.info(f\"Player {communicator.rank} revealed dubs: {revealed_dubs}\")\n",
    "\n",
    "SocketCommunicator.run(world_size=5, fn=main);"
   ]
  },
  {
   "cell_type": "markdown",
   "metadata": {},
   "source": [
    "If we try to do something like multiplication, or anything dependent on multiplication, with the ShamirBasicProtocol it will fail since multiplication is not made available there. ShamirProtocol has stricter requirements on the relationship between the threshold $k$ and the number of total parties related to the requirements of multiplication. "
   ]
  },
  {
   "cell_type": "code",
   "execution_count": 6,
   "metadata": {},
   "outputs": [
    {
     "name": "stderr",
     "output_type": "stream",
     "text": [
      "INFO:root:Player 0 values: [ 0 -1  2 -3  4]\n",
      "INFO:root:Player 1 values: None\n",
      "INFO:root:Player 2 values: None\n",
      "INFO:root:Player 3 values: None\n",
      "INFO:root:Player 4 values: None\n",
      "INFO:root:Player 0 revealed: [ 0. -1.  2. -3.  4.]\n",
      "INFO:root:Player 1 revealed: [ 0. -1.  2. -3.  4.]\n",
      "INFO:root:Player 2 revealed: [ 0. -1.  2. -3.  4.]\n",
      "INFO:root:Player 3 revealed: [ 0. -1.  2. -3.  4.]\n",
      "INFO:root:Player 4 revealed: [ 0. -1.  2. -3.  4.]\n",
      "WARNING:cicada.communicator.socket:Comm world player 0 failed: AttributeError(\"'ShamirBasicProtocol' object has no attribute 'untruncated_multiply'\")\n",
      "WARNING:cicada.communicator.socket:Comm world player 1 failed: AttributeError(\"'ShamirBasicProtocol' object has no attribute 'untruncated_multiply'\")\n",
      "WARNING:cicada.communicator.socket:Comm world player 2 failed: AttributeError(\"'ShamirBasicProtocol' object has no attribute 'untruncated_multiply'\")\n",
      "WARNING:cicada.communicator.socket:Comm world player 3 failed: AttributeError(\"'ShamirBasicProtocol' object has no attribute 'untruncated_multiply'\")\n",
      "WARNING:cicada.communicator.socket:Comm world player 4 failed: AttributeError(\"'ShamirBasicProtocol' object has no attribute 'untruncated_multiply'\")\n",
      "ERROR:cicada.communicator.socket:********************************************************************************\n",
      "ERROR:cicada.communicator.socket:Comm world player 0 traceback:\n",
      "ERROR:cicada.communicator.socket:Traceback (most recent call last):\n",
      "  File \"/home/kgoss/git/cicada-mpc/cicada/communicator/socket/__init__.py\", line 796, in launch\n",
      "    result = fn(communicator, *args, **kwargs)\n",
      "  File \"<ipython-input-6-d642103d3f99>\", line 11, in main\n",
      "    sq_vals = protocol.untruncated_multiply(values_share, values_share)\n",
      "AttributeError: 'ShamirBasicProtocol' object has no attribute 'untruncated_multiply'\n",
      "\n",
      "ERROR:cicada.communicator.socket:********************************************************************************\n",
      "ERROR:cicada.communicator.socket:Comm world player 1 traceback:\n",
      "ERROR:cicada.communicator.socket:Traceback (most recent call last):\n",
      "  File \"/home/kgoss/git/cicada-mpc/cicada/communicator/socket/__init__.py\", line 796, in launch\n",
      "    result = fn(communicator, *args, **kwargs)\n",
      "  File \"<ipython-input-6-d642103d3f99>\", line 11, in main\n",
      "    sq_vals = protocol.untruncated_multiply(values_share, values_share)\n",
      "AttributeError: 'ShamirBasicProtocol' object has no attribute 'untruncated_multiply'\n",
      "\n",
      "ERROR:cicada.communicator.socket:********************************************************************************\n",
      "ERROR:cicada.communicator.socket:Comm world player 2 traceback:\n",
      "ERROR:cicada.communicator.socket:Traceback (most recent call last):\n",
      "  File \"/home/kgoss/git/cicada-mpc/cicada/communicator/socket/__init__.py\", line 796, in launch\n",
      "    result = fn(communicator, *args, **kwargs)\n",
      "  File \"<ipython-input-6-d642103d3f99>\", line 11, in main\n",
      "    sq_vals = protocol.untruncated_multiply(values_share, values_share)\n",
      "AttributeError: 'ShamirBasicProtocol' object has no attribute 'untruncated_multiply'\n",
      "\n",
      "ERROR:cicada.communicator.socket:********************************************************************************\n",
      "ERROR:cicada.communicator.socket:Comm world player 3 traceback:\n",
      "ERROR:cicada.communicator.socket:Traceback (most recent call last):\n",
      "  File \"/home/kgoss/git/cicada-mpc/cicada/communicator/socket/__init__.py\", line 796, in launch\n",
      "    result = fn(communicator, *args, **kwargs)\n",
      "  File \"<ipython-input-6-d642103d3f99>\", line 11, in main\n",
      "    sq_vals = protocol.untruncated_multiply(values_share, values_share)\n",
      "AttributeError: 'ShamirBasicProtocol' object has no attribute 'untruncated_multiply'\n",
      "\n",
      "ERROR:cicada.communicator.socket:********************************************************************************\n",
      "ERROR:cicada.communicator.socket:Comm world player 4 traceback:\n",
      "ERROR:cicada.communicator.socket:Traceback (most recent call last):\n",
      "  File \"/home/kgoss/git/cicada-mpc/cicada/communicator/socket/__init__.py\", line 796, in launch\n",
      "    result = fn(communicator, *args, **kwargs)\n",
      "  File \"<ipython-input-6-d642103d3f99>\", line 11, in main\n",
      "    sq_vals = protocol.untruncated_multiply(values_share, values_share)\n",
      "AttributeError: 'ShamirBasicProtocol' object has no attribute 'untruncated_multiply'\n",
      "\n"
     ]
    }
   ],
   "source": [
    "def main(communicator):\n",
    "    log = cicada.Logger(logging.getLogger(), communicator)\n",
    "    protocol = cicada.shamir.ShamirBasicProtocol(communicator, threshold =3)\n",
    "\n",
    "    values = globe_const_vals if communicator.rank == 0 else None\n",
    "    log.info(f\"Player {communicator.rank} values: {values}\")\n",
    "    \n",
    "    values_share = protocol.share(secret=protocol.encoder.encode(values), src=0, shape=(5,))\n",
    "    revealed_share = protocol.encoder.decode(protocol.reveal(values_share))\n",
    "    log.info(f\"Player {communicator.rank} revealed: {revealed_share}\")\n",
    "    sq_vals = protocol.untruncated_multiply(values_share, values_share)\n",
    "    truncd_sq = protocol.truncate(sq_vals)\n",
    "    revealed_sq= protocol.encoder.decode(protocol.reveal(truncd_sq))\n",
    "    \n",
    "    log.info(f\"Player {communicator.rank} revealed dubs: {revealed_sq}\")\n",
    "\n",
    "SocketCommunicator.run(world_size=5, fn=main);"
   ]
  },
  {
   "cell_type": "markdown",
   "metadata": {},
   "source": [
    "We'll try again with the SmairProtocol to see that it succeeds:"
   ]
  },
  {
   "cell_type": "code",
   "execution_count": 7,
   "metadata": {},
   "outputs": [
    {
     "name": "stderr",
     "output_type": "stream",
     "text": [
      "INFO:root:Player 0 values: [ 0 -1  2 -3  4]\n",
      "INFO:root:Player 1 values: None\n",
      "INFO:root:Player 2 values: None\n",
      "INFO:root:Player 3 values: None\n",
      "INFO:root:Player 4 values: None\n",
      "INFO:root:Player 0 revealed: [ 0. -1.  2. -3.  4.]\n",
      "INFO:root:Player 1 revealed: [ 0. -1.  2. -3.  4.]\n",
      "INFO:root:Player 2 revealed: [ 0. -1.  2. -3.  4.]\n",
      "INFO:root:Player 3 revealed: [ 0. -1.  2. -3.  4.]\n",
      "INFO:root:Player 4 revealed: [ 0. -1.  2. -3.  4.]\n",
      "INFO:root:Player 0 revealed dubs: [ 0.  1.  4.  9. 16.]\n",
      "INFO:root:Player 1 revealed dubs: [ 0.  1.  4.  9. 16.]\n",
      "INFO:root:Player 2 revealed dubs: [ 0.  1.  4.  9. 16.]\n",
      "INFO:root:Player 3 revealed dubs: [ 0.  1.  4.  9. 16.]\n",
      "INFO:root:Player 4 revealed dubs: [ 0.  1.  4.  9. 16.]\n"
     ]
    }
   ],
   "source": [
    "def main(communicator):\n",
    "    log = cicada.Logger(logging.getLogger(), communicator)\n",
    "    protocol = cicada.shamir.ShamirProtocol(communicator, threshold =3)\n",
    "\n",
    "    values = globe_const_vals if communicator.rank == 0 else None\n",
    "    log.info(f\"Player {communicator.rank} values: {values}\")\n",
    "    \n",
    "    values_share = protocol.share(secret=protocol.encoder.encode(values), src=0, shape=(5,))\n",
    "    revealed_share = protocol.encoder.decode(protocol.reveal(values_share))\n",
    "    log.info(f\"Player {communicator.rank} revealed: {revealed_share}\")\n",
    "    sq_vals = protocol.untruncated_multiply(values_share, values_share)\n",
    "    truncd_sq = protocol.truncate(sq_vals)\n",
    "    revealed_sq= protocol.encoder.decode(protocol.reveal(truncd_sq))\n",
    "    \n",
    "    log.info(f\"Player {communicator.rank} revealed dubs: {revealed_sq}\")\n",
    "\n",
    "SocketCommunicator.run(world_size=5, fn=main);"
   ]
  },
  {
   "cell_type": "markdown",
   "metadata": {},
   "source": [
    "Note however that if you try to instantiate a ShamirProtocol with too large a threshold $k$ for the world_size (or total number of players $n$) it will throw and exception:"
   ]
  },
  {
   "cell_type": "code",
   "execution_count": 8,
   "metadata": {},
   "outputs": [
    {
     "name": "stderr",
     "output_type": "stream",
     "text": [
      "WARNING:cicada.communicator.socket:Comm world player 0 failed: ValueError('Threshold incompatible with worldsize, multiplications will not be feasible. Multiplications with this threshold would require worldsize at least 9. Increase worldsize or decrease threshold.')\n",
      "WARNING:cicada.communicator.socket:Comm world player 1 failed: ValueError('Threshold incompatible with worldsize, multiplications will not be feasible. Multiplications with this threshold would require worldsize at least 9. Increase worldsize or decrease threshold.')\n",
      "WARNING:cicada.communicator.socket:Comm world player 2 failed: ValueError('Threshold incompatible with worldsize, multiplications will not be feasible. Multiplications with this threshold would require worldsize at least 9. Increase worldsize or decrease threshold.')\n",
      "WARNING:cicada.communicator.socket:Comm world player 3 failed: ValueError('Threshold incompatible with worldsize, multiplications will not be feasible. Multiplications with this threshold would require worldsize at least 9. Increase worldsize or decrease threshold.')\n",
      "WARNING:cicada.communicator.socket:Comm world player 4 failed: ValueError('Threshold incompatible with worldsize, multiplications will not be feasible. Multiplications with this threshold would require worldsize at least 9. Increase worldsize or decrease threshold.')\n",
      "ERROR:cicada.communicator.socket:********************************************************************************\n",
      "ERROR:cicada.communicator.socket:Comm world player 0 traceback:\n",
      "ERROR:cicada.communicator.socket:Traceback (most recent call last):\n",
      "  File \"/home/kgoss/git/cicada-mpc/cicada/communicator/socket/__init__.py\", line 796, in launch\n",
      "    result = fn(communicator, *args, **kwargs)\n",
      "  File \"<ipython-input-8-283316de5eb2>\", line 3, in main\n",
      "    protocol = cicada.shamir.ShamirProtocol(communicator, threshold =5)\n",
      "  File \"/home/kgoss/git/cicada-mpc/cicada/shamir.py\", line 557, in __init__\n",
      "    raise ValueError(f'Threshold incompatible with worldsize, multiplications will not be feasible. Multiplications with this threshold would require worldsize at least {2*self.d+1}. Increase worldsize or decrease threshold.')\n",
      "ValueError: Threshold incompatible with worldsize, multiplications will not be feasible. Multiplications with this threshold would require worldsize at least 9. Increase worldsize or decrease threshold.\n",
      "\n",
      "ERROR:cicada.communicator.socket:********************************************************************************\n",
      "ERROR:cicada.communicator.socket:Comm world player 1 traceback:\n",
      "ERROR:cicada.communicator.socket:Traceback (most recent call last):\n",
      "  File \"/home/kgoss/git/cicada-mpc/cicada/communicator/socket/__init__.py\", line 796, in launch\n",
      "    result = fn(communicator, *args, **kwargs)\n",
      "  File \"<ipython-input-8-283316de5eb2>\", line 3, in main\n",
      "    protocol = cicada.shamir.ShamirProtocol(communicator, threshold =5)\n",
      "  File \"/home/kgoss/git/cicada-mpc/cicada/shamir.py\", line 557, in __init__\n",
      "    raise ValueError(f'Threshold incompatible with worldsize, multiplications will not be feasible. Multiplications with this threshold would require worldsize at least {2*self.d+1}. Increase worldsize or decrease threshold.')\n",
      "ValueError: Threshold incompatible with worldsize, multiplications will not be feasible. Multiplications with this threshold would require worldsize at least 9. Increase worldsize or decrease threshold.\n",
      "\n",
      "ERROR:cicada.communicator.socket:********************************************************************************\n",
      "ERROR:cicada.communicator.socket:Comm world player 2 traceback:\n",
      "ERROR:cicada.communicator.socket:Traceback (most recent call last):\n",
      "  File \"/home/kgoss/git/cicada-mpc/cicada/communicator/socket/__init__.py\", line 796, in launch\n",
      "    result = fn(communicator, *args, **kwargs)\n",
      "  File \"<ipython-input-8-283316de5eb2>\", line 3, in main\n",
      "    protocol = cicada.shamir.ShamirProtocol(communicator, threshold =5)\n",
      "  File \"/home/kgoss/git/cicada-mpc/cicada/shamir.py\", line 557, in __init__\n",
      "    raise ValueError(f'Threshold incompatible with worldsize, multiplications will not be feasible. Multiplications with this threshold would require worldsize at least {2*self.d+1}. Increase worldsize or decrease threshold.')\n",
      "ValueError: Threshold incompatible with worldsize, multiplications will not be feasible. Multiplications with this threshold would require worldsize at least 9. Increase worldsize or decrease threshold.\n",
      "\n",
      "ERROR:cicada.communicator.socket:********************************************************************************\n",
      "ERROR:cicada.communicator.socket:Comm world player 3 traceback:\n",
      "ERROR:cicada.communicator.socket:Traceback (most recent call last):\n",
      "  File \"/home/kgoss/git/cicada-mpc/cicada/communicator/socket/__init__.py\", line 796, in launch\n",
      "    result = fn(communicator, *args, **kwargs)\n",
      "  File \"<ipython-input-8-283316de5eb2>\", line 3, in main\n",
      "    protocol = cicada.shamir.ShamirProtocol(communicator, threshold =5)\n",
      "  File \"/home/kgoss/git/cicada-mpc/cicada/shamir.py\", line 557, in __init__\n",
      "    raise ValueError(f'Threshold incompatible with worldsize, multiplications will not be feasible. Multiplications with this threshold would require worldsize at least {2*self.d+1}. Increase worldsize or decrease threshold.')\n",
      "ValueError: Threshold incompatible with worldsize, multiplications will not be feasible. Multiplications with this threshold would require worldsize at least 9. Increase worldsize or decrease threshold.\n",
      "\n",
      "ERROR:cicada.communicator.socket:********************************************************************************\n",
      "ERROR:cicada.communicator.socket:Comm world player 4 traceback:\n",
      "ERROR:cicada.communicator.socket:Traceback (most recent call last):\n",
      "  File \"/home/kgoss/git/cicada-mpc/cicada/communicator/socket/__init__.py\", line 796, in launch\n",
      "    result = fn(communicator, *args, **kwargs)\n",
      "  File \"<ipython-input-8-283316de5eb2>\", line 3, in main\n",
      "    protocol = cicada.shamir.ShamirProtocol(communicator, threshold =5)\n",
      "  File \"/home/kgoss/git/cicada-mpc/cicada/shamir.py\", line 557, in __init__\n",
      "    raise ValueError(f'Threshold incompatible with worldsize, multiplications will not be feasible. Multiplications with this threshold would require worldsize at least {2*self.d+1}. Increase worldsize or decrease threshold.')\n",
      "ValueError: Threshold incompatible with worldsize, multiplications will not be feasible. Multiplications with this threshold would require worldsize at least 9. Increase worldsize or decrease threshold.\n",
      "\n"
     ]
    }
   ],
   "source": [
    "def main(communicator):\n",
    "    log = cicada.Logger(logging.getLogger(), communicator)\n",
    "    protocol = cicada.shamir.ShamirProtocol(communicator, threshold =5)\n",
    "\n",
    "    values = globe_const_vals if communicator.rank == 0 else None\n",
    "    log.info(f\"Player {communicator.rank} values: {values}\")\n",
    "    \n",
    "    values_share = protocol.share(secret=protocol.encoder.encode(values), src=0, shape=(5,))\n",
    "    revealed_share = protocol.encoder.decode(protocol.reveal(values_share))\n",
    "    log.info(f\"Player {communicator.rank} revealed: {revealed_share}\")\n",
    "    sq_vals = protocol.untruncated_multiply(values_share, values_share)\n",
    "    truncd_sq = protocol.truncate(sq_vals)\n",
    "    revealed_sq= protocol.encoder.decode(protocol.reveal(truncd_sq))\n",
    "    \n",
    "    log.info(f\"Player {communicator.rank} revealed squares: {revealed_sq}\")\n",
    "\n",
    "SocketCommunicator.run(world_size=5, fn=main);"
   ]
  },
  {
   "cell_type": "markdown",
   "metadata": {},
   "source": [
    "Shamir offers more direct and straightforward resilience against data loss due to some party failing, though it is often less resistant to large coalitions since the resilience comes at the cost of proper subsets of parties being able to reconstruct secrets. Additionally, greater care and attention to detail is required since the threshold relationship to the total number of parties directly controls which version of Shamir's sheme we have implmeneted is usable due to the need for a greater number of parties above the threshold if multiplications or derivitive operations are desired. In the case that these additional operations are needed, the threshold $k$ and total number of parties in the scheme must satisfy the following reltionship:\n",
    "\n",
    "$$ k \\leq \\left\\lfloor\\frac{n}{2}\\right\\rfloor +1$$"
   ]
  }
 ],
 "metadata": {
  "kernelspec": {
   "display_name": "Python 3",
   "language": "python",
   "name": "python3"
  },
  "language_info": {
   "codemirror_mode": {
    "name": "ipython",
    "version": 3
   },
   "file_extension": ".py",
   "mimetype": "text/x-python",
   "name": "python",
   "nbconvert_exporter": "python",
   "pygments_lexer": "ipython3",
   "version": "3.9.7"
  }
 },
 "nbformat": 4,
 "nbformat_minor": 2
}
