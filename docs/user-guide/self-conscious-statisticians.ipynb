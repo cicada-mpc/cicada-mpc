{
 "cells": [
  {
   "cell_type": "markdown",
   "id": "696b3c3a",
   "metadata": {},
   "source": [
    "# The Self-Conscious Statisticians"
   ]
  },
  {
   "cell_type": "markdown",
   "id": "9613f11e",
   "metadata": {},
   "source": [
    "Imagine a group of statisticians who are in a weight loss program.  Because they're statisticians, they want to compute summary statistics over the group weights.  Because they're self-conscious, none want to reveal their weight to the group.  This is a perfect use-case for Cicada and MPC:"
   ]
  },
  {
   "cell_type": "code",
   "execution_count": null,
   "id": "978d8658",
   "metadata": {},
   "outputs": [],
   "source": [
    "import logging\n",
    "\n",
    "import numpy\n",
    "\n",
    "import cicada.additive\n",
    "import cicada.communicator\n",
    "import cicada.logging\n",
    "\n",
    "logging.basicConfig(level=logging.INFO)\n",
    "\n",
    "@cicada.communicator.NNGCommunicator.run(world_size=5)\n",
    "def main(communicator):\n",
    "    log = cicada.logging.Logger(logging.getLogger(), communicator)\n",
    "    protocol = cicada.additive.AdditiveProtocol(communicator)\n",
    "\n",
    "    # Each player loads their weight from a file.\n",
    "    weight = numpy.loadtxt(f\"statistician-weight-{communicator.rank}.txt\")\n",
    "        \n",
    "    # Compute the sum of the player weights.\n",
    "    mean_share = protocol.share(src=0, secret=protocol.encoder.zeros(shape=()), shape=())\n",
    "    for rank in communicator.ranks:\n",
    "        weight_share = protocol.share(src=rank, secret=protocol.encoder.encode(weight), shape=weight.shape)\n",
    "        mean_share = protocol.add(mean_share, weight_share)\n",
    "        \n",
    "    # Divide by the number of players to obtain the mean weight.\n",
    "    mean_share = protocol.untruncated_private_public_divide(mean_share, communicator.world_size)\n",
    "    mean_share = protocol.truncate(mean_share)\n",
    "                                 \n",
    "    # Reveal the mean weight to the group.\n",
    "    mean = protocol.encoder.decode(protocol.reveal(mean_share))\n",
    "                                 \n",
    "    log.info(f\"Mean weight revealed to player {communicator.rank}: {mean}\")\n",
    "    \n",
    "main();"
   ]
  },
  {
   "cell_type": "markdown",
   "id": "fe32e50b",
   "metadata": {},
   "source": [
    "If we manually inspect the players' weights, we can see that the result is correct, making allowances for the default 16-bit fixed point precision:"
   ]
  },
  {
   "cell_type": "code",
   "execution_count": null,
   "id": "4c04a1bb",
   "metadata": {},
   "outputs": [],
   "source": [
    "weights = [numpy.loadtxt(f\"statistician-weight-{rank}.txt\") for rank in range(5)]\n",
    "print(f\"weights: {weights}\")\n",
    "print(f\"mean: {numpy.mean(weights)}\")"
   ]
  }
 ],
 "metadata": {
  "kernelspec": {
   "display_name": "Python 3 (ipykernel)",
   "language": "python",
   "name": "python3"
  },
  "language_info": {
   "codemirror_mode": {
    "name": "ipython",
    "version": 3
   },
   "file_extension": ".py",
   "mimetype": "text/x-python",
   "name": "python",
   "nbconvert_exporter": "python",
   "pygments_lexer": "ipython3",
   "version": "3.8.10"
  }
 },
 "nbformat": 4,
 "nbformat_minor": 5
}
