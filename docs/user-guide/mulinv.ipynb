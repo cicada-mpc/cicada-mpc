{
 "cells": [
  {
   "cell_type": "markdown",
   "metadata": {},
   "source": [
    "# Multiplicative Inverse\n",
    "\n",
    "In this example we are once again starting with randomly selected field elements and revealing them. We do not work with encoding or decoding the values in this case since the multiplicative inverse we are dealing with in this context is that associated speicfically with the field, and not relative to the encoded or decoded values we are using as a symatic structure for our fixed point arithemtic. \n",
    "\n",
    "This returns an exact multiplicative inverse WRT the field, which is not the same as division, which produces an approximate result.\n",
    "\n",
    "After producing and revealing the shared secrets we calculate their multiplicative inverse on an elementwise basis in the field, and reveal it. Finally we perform the multiplication and reveal the product thus demonstrating that the correct multiplicative inverses have been calculated since the product is a matrix comprised entirely of 1s. "
   ]
  },
  {
   "cell_type": "code",
   "execution_count": null,
   "metadata": {},
   "outputs": [],
   "source": [
    "import logging"
   ]
  },
  {
   "cell_type": "code",
   "execution_count": null,
   "metadata": {},
   "outputs": [],
   "source": [
    "import numpy"
   ]
  },
  {
   "cell_type": "code",
   "execution_count": null,
   "metadata": {},
   "outputs": [],
   "source": [
    "import cicada.additive\n",
    "import cicada.communicator"
   ]
  },
  {
   "cell_type": "code",
   "execution_count": null,
   "metadata": {},
   "outputs": [],
   "source": [
    "logging.basicConfig(level=logging.INFO)"
   ]
  },
  {
   "cell_type": "code",
   "execution_count": null,
   "metadata": {},
   "outputs": [],
   "source": [
    "@cicada.communicator.NNGCommunicator.run(world_size=3)\n",
    "def main(communicator):\n",
    "    log = cicada.Logger(logging.getLogger(), communicator)\n",
    "    protocol = cicada.additive.AdditiveProtocol(communicator)\n",
    "    generator = numpy.random.default_rng()\n",
    "    secret_share = protocol.uniform(shape=(2,2))\n",
    "    secret = protocol.reveal(secret_share)\n",
    "    log.info(f\"Player {communicator.rank} secret: \\n{secret}\")\n",
    "    secret_share_inv = protocol.multiplicative_inverse(secret_share)\n",
    "    secret_inv = protocol.reveal(secret_share_inv)\n",
    "    log.info(f\"Player {communicator.rank} secret inv: \\n{secret_inv}\")\n",
    "    product_share = protocol.untruncated_multiply(secret_share, secret_share_inv)\n",
    "    product = protocol.reveal(product_share)\n",
    "    log.info(f\"Player {communicator.rank} product: \\n{product}\")\n"
   ]
  },
  {
   "cell_type": "code",
   "execution_count": null,
   "metadata": {},
   "outputs": [],
   "source": [
    "main()"
   ]
  }
 ],
 "metadata": {
  "kernelspec": {
   "display_name": "Python 3 (ipykernel)",
   "language": "python",
   "name": "python3"
  },
  "language_info": {
   "codemirror_mode": {
    "name": "ipython",
    "version": 3
   },
   "file_extension": ".py",
   "mimetype": "text/x-python",
   "name": "python",
   "nbconvert_exporter": "python",
   "pygments_lexer": "ipython3",
   "version": "3.8.10"
  }
 },
 "nbformat": 4,
 "nbformat_minor": 2
}
