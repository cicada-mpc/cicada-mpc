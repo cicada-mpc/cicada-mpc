{
 "cells": [
  {
   "cell_type": "markdown",
   "metadata": {},
   "source": [
    "# Multiplicative Inverse\n",
    "\n",
    "In this example we are once again starting with randomly selected field elements and revealing them. We do not work with encoding or decoding the values in this case since the multiplicative inverse we are dealing with in this context is that associated speicfically with the field, and not relative to the encoded or decoded values we are using as a symatic structure for our fixed point arithemtic. \n",
    "\n",
    "This returns an exact multiplicative inverse WRT the field, which is not the same as division, which produces an approximate result.\n",
    "\n",
    "After producing and revealing the shared secrets we calculate their multiplicative inverse on an elementwise basis in the field, and reveal it. Finally we perform the multiplication and reveal the product thus demonstrating that the correct multiplicative inverses have been calculated since the product is a matrix comprised entirely of 1s. "
   ]
  },
  {
   "cell_type": "code",
   "execution_count": 1,
   "metadata": {},
   "outputs": [
    {
     "name": "stderr",
     "output_type": "stream",
     "text": [
      "INFO:cicada.communicator.nng:Player 0 rendezvous with tcp://127.0.0.1:58342 from tcp://127.0.0.1:58342.\n",
      "INFO:cicada.communicator.nng:Player 1 rendezvous with tcp://127.0.0.1:58342 from tcp://127.0.0.1:58343.\n",
      "INFO:cicada.communicator.nng:Player 2 rendezvous with tcp://127.0.0.1:58342 from tcp://127.0.0.1:58344.\n",
      "INFO:cicada.communicator.nng:Comm 'world' player 0 communicator ready.\n",
      "INFO:cicada.communicator.nng:Comm 'world' player 2 communicator ready.\n",
      "INFO:cicada.communicator.nng:Comm 'world' player 1 communicator ready.\n",
      "INFO:root:Player 0 secret: \n",
      "[[5017340156550848250 12025498451546507130]\n",
      " [13261020176102957045 5794962414364593782]]\n",
      "INFO:root:Player 1 secret: \n",
      "[[5017340156550848250 12025498451546507130]\n",
      " [13261020176102957045 5794962414364593782]]\n",
      "INFO:root:Player 2 secret: \n",
      "[[5017340156550848250 12025498451546507130]\n",
      " [13261020176102957045 5794962414364593782]]\n",
      "INFO:root:Player 0 secret inv: \n",
      "[[13662618277276158713 13732719500715301478]\n",
      " [1518130773047831499 5839521523929247574]]\n",
      "INFO:root:Player 1 secret inv: \n",
      "[[13662618277276158713 13732719500715301478]\n",
      " [1518130773047831499 5839521523929247574]]\n",
      "INFO:root:Player 2 secret inv: \n",
      "[[13662618277276158713 13732719500715301478]\n",
      " [1518130773047831499 5839521523929247574]]\n",
      "INFO:root:Player 0 product: \n",
      "[[1 1]\n",
      " [1 1]]\n",
      "INFO:root:Player 1 product: \n",
      "[[1 1]\n",
      " [1 1]]\n",
      "INFO:root:Player 2 product: \n",
      "[[1 1]\n",
      " [1 1]]\n",
      "INFO:cicada.communicator.nng:Comm 'world' player 0 communicator freed.\n",
      "INFO:cicada.communicator.nng:Comm 'world' player 1 communicator freed.\n",
      "INFO:cicada.communicator.nng:Comm 'world' player 2 communicator freed.\n",
      "INFO:cicada.communicator.nng:Player 0 returned: None\n",
      "INFO:cicada.communicator.nng:Player 1 returned: None\n",
      "INFO:cicada.communicator.nng:Player 2 returned: None\n"
     ]
    }
   ],
   "source": [
    "import logging\n",
    "\n",
    "import numpy\n",
    "\n",
    "import cicada.additive\n",
    "import cicada.communicator\n",
    "\n",
    "logging.basicConfig(level=logging.INFO)\n",
    "\n",
    "@cicada.communicator.NNGCommunicator.run(world_size=3)\n",
    "def main(communicator):\n",
    "    log = cicada.Logger(logging.getLogger(), communicator)\n",
    "    protocol = cicada.additive.AdditiveProtocol(communicator)\n",
    "    generator = numpy.random.default_rng()\n",
    "    secret_share = protocol.uniform(shape=(2,2))\n",
    "    secret = protocol.reveal(secret_share)\n",
    "    log.info(f\"Player {communicator.rank} secret: \\n{secret}\")\n",
    "    secret_share_inv = protocol.multiplicative_inverse(secret_share)\n",
    "    secret_inv = protocol.reveal(secret_share_inv)\n",
    "    log.info(f\"Player {communicator.rank} secret inv: \\n{secret_inv}\")\n",
    "    product_share = protocol.untruncated_multiply(secret_share, secret_share_inv)\n",
    "    product = protocol.reveal(product_share)\n",
    "    log.info(f\"Player {communicator.rank} product: \\n{product}\")\n",
    "\n",
    "\n",
    "main();"
   ]
  }
 ],
 "metadata": {
  "kernelspec": {
   "display_name": "Python 3 (ipykernel)",
   "language": "python",
   "name": "python3"
  },
  "language_info": {
   "codemirror_mode": {
    "name": "ipython",
    "version": 3
   },
   "file_extension": ".py",
   "mimetype": "text/x-python",
   "name": "python",
   "nbconvert_exporter": "python",
   "pygments_lexer": "ipython3",
   "version": "3.8.10"
  }
 },
 "nbformat": 4,
 "nbformat_minor": 2
}
