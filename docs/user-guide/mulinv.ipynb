{
 "cells": [
  {
   "cell_type": "markdown",
   "metadata": {},
   "source": [
    "Copyright 2021 National Technology & Engineering Solutions<br>\n",
    "of Sandia, LLC (NTESS). Under the terms of Contract DE-NA0003525 with NTESS,<br>\n",
    "the U.S. Government retains certain rights in this software.<br>\n",
    "<br>\n",
    "Licensed under the Apache License, Version 2.0 (the \"License\");<br>\n",
    "you may not use this file except in compliance with the License.<br>\n",
    "You may obtain a copy of the License at<br>\n",
    "<br>\n",
    "   http://www.apache.org/licenses/LICENSE-2.0<br>\n",
    "<br>\n",
    "Unless required by applicable law or agreed to in writing, software<br>\n",
    "distributed under the License is distributed on an \"AS IS\" BASIS,<br>\n",
    "WITHOUT WARRANTIES OR CONDITIONS OF ANY KIND, either express or implied.<br>\n",
    "See the License for the specific language governing permissions and<br>\n",
    "limitations under the License."
   ]
  },
  {
   "cell_type": "code",
   "execution_count": 1,
   "metadata": {},
   "outputs": [],
   "source": [
    "import logging"
   ]
  },
  {
   "cell_type": "code",
   "execution_count": 2,
   "metadata": {},
   "outputs": [],
   "source": [
    "import numpy"
   ]
  },
  {
   "cell_type": "code",
   "execution_count": 3,
   "metadata": {},
   "outputs": [],
   "source": [
    "import cicada.additive\n",
    "import cicada.communicator"
   ]
  },
  {
   "cell_type": "code",
   "execution_count": 4,
   "metadata": {},
   "outputs": [],
   "source": [
    "logging.basicConfig(level=logging.INFO)"
   ]
  },
  {
   "cell_type": "code",
   "execution_count": 9,
   "metadata": {},
   "outputs": [],
   "source": [
    "@cicada.communicator.NNGCommunicator.run(world_size=3)\n",
    "def main(communicator):\n",
    "    log = cicada.Logger(logging.getLogger(), communicator)\n",
    "    protocol = cicada.additive.AdditiveProtocol(communicator)\n",
    "    generator = numpy.random.default_rng()\n",
    "    secret_share = protocol.uniform(shape=(2,2))\n",
    "    secret = protocol.reveal(secret_share)\n",
    "    log.info(f\"Player {communicator.rank} secret: \\n{secret}\")\n",
    "    secret_share_inv = protocol.multiplicative_inverse(secret_share)\n",
    "    secret_inv = protocol.reveal(secret_share_inv)\n",
    "    log.info(f\"Player {communicator.rank} secret inv: \\n{secret_inv}\")\n",
    "    product_share = protocol.untruncated_multiply(secret_share, secret_share_inv)\n",
    "    product = protocol.reveal(product_share)\n",
    "    log.info(f\"Player {communicator.rank} product: \\n{product}\")\n"
   ]
  },
  {
   "cell_type": "markdown",
   "metadata": {},
   "source": [
    "In this example we are once again starting with randomly selected field elements and revealing them. We do not work with encoding or decoding the values in this case since the multiplicative inverse we are dealing with in this context is that associated speicfically with the field, and not relative to the encoded or decoded values we are using as a symatic structure for our fixed point arithemtic. \n",
    "\n",
    "After producing and revealing the shared secrets we calculate their multiplicative inverse on an elementwise basis in the field, and reveal it. Finally we perform the multiplication and reveal the product thus demonstrating that the correct multiplicative inverses have been calculated since the product is a matrix comprised entirely of 1s. "
   ]
  },
  {
   "cell_type": "code",
   "execution_count": 10,
   "metadata": {},
   "outputs": [
    {
     "name": "stderr",
     "output_type": "stream",
     "text": [
      "INFO:cicada.communicator.nng:Player 0 rendezvous with tcp://127.0.0.1:62975 from tcp://127.0.0.1:62975.\n",
      "INFO:cicada.communicator.nng:Player 1 rendezvous with tcp://127.0.0.1:62975 from tcp://127.0.0.1:62976.\n",
      "INFO:cicada.communicator.nng:Player 2 rendezvous with tcp://127.0.0.1:62975 from tcp://127.0.0.1:62977.\n",
      "INFO:cicada.communicator.nng:Comm 'world' player 0 communicator ready.\n",
      "INFO:cicada.communicator.nng:Comm 'world' player 2 communicator ready.\n",
      "INFO:cicada.communicator.nng:Comm 'world' player 1 communicator ready.\n",
      "INFO:root:Player 0 secret: \n",
      "[[9402096883685486128 11980057545456853250]\n",
      " [14625725789530557442 561049172490591931]]\n",
      "INFO:root:Player 1 secret: \n",
      "[[9402096883685486128 11980057545456853250]\n",
      " [14625725789530557442 561049172490591931]]\n",
      "INFO:root:Player 2 secret: \n",
      "[[9402096883685486128 11980057545456853250]\n",
      " [14625725789530557442 561049172490591931]]\n",
      "INFO:root:Player 0 secret inv: \n",
      "[[1083449188915050189 9295841596114911609]\n",
      " [8017291310648530075 8804392299823538794]]\n",
      "INFO:root:Player 1 secret inv: \n",
      "[[1083449188915050189 9295841596114911609]\n",
      " [8017291310648530075 8804392299823538794]]\n",
      "INFO:root:Player 2 secret inv: \n",
      "[[1083449188915050189 9295841596114911609]\n",
      " [8017291310648530075 8804392299823538794]]\n",
      "INFO:root:Player 0 product: \n",
      "[[1 1]\n",
      " [1 1]]\n",
      "INFO:root:Player 1 product: \n",
      "[[1 1]\n",
      " [1 1]]\n",
      "INFO:root:Player 2 product: \n",
      "[[1 1]\n",
      " [1 1]]\n",
      "INFO:cicada.communicator.nng:Comm 'world' player 1 communicator freed.\n",
      "INFO:cicada.communicator.nng:Comm 'world' player 2 communicator freed.\n",
      "INFO:cicada.communicator.nng:Comm 'world' player 0 communicator freed.\n",
      "INFO:cicada.communicator.nng:Player 0 returned: None\n",
      "INFO:cicada.communicator.nng:Player 1 returned: None\n",
      "INFO:cicada.communicator.nng:Player 2 returned: None\n"
     ]
    },
    {
     "data": {
      "text/plain": [
       "[None, None, None]"
      ]
     },
     "execution_count": 10,
     "metadata": {},
     "output_type": "execute_result"
    }
   ],
   "source": [
    "main()"
   ]
  },
  {
   "cell_type": "code",
   "execution_count": null,
   "metadata": {},
   "outputs": [],
   "source": []
  }
 ],
 "metadata": {
  "kernelspec": {
   "display_name": "Python 3 (ipykernel)",
   "language": "python",
   "name": "python3"
  },
  "language_info": {
   "codemirror_mode": {
    "name": "ipython",
    "version": 3
   },
   "file_extension": ".py",
   "mimetype": "text/x-python",
   "name": "python",
   "nbconvert_exporter": "python",
   "pygments_lexer": "ipython3",
   "version": "3.8.10"
  }
 },
 "nbformat": 4,
 "nbformat_minor": 2
}
