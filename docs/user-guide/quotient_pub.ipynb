{
 "cells": [
  {
   "cell_type": "markdown",
   "metadata": {},
   "source": [
    "# Division\n",
    "\n",
    "In this notebook we demonstrate the division function available within cicada. \n",
    "\n",
    "This is division in the conventional sense, not multiplication by a multiplicative inverse in the context of the field. Also, it is important to note that this function return as approximate quotient limited by the amount of precision given our fixed point representation. \n",
    "\n",
    "We use a couple fixed operands which we initialize and share. These we then use as operands for the division function. Feel free to change these operands. They are a secret dividend (secret_a) and a public divisor (b) above initialized in their own notebook cell for clarity and convenience. \n",
    "\n",
    "We reveal the result and calculate the error based on the result of operating on the underlying values via normal floating point arithmetic and report the results."
   ]
  },
  {
   "cell_type": "code",
   "execution_count": 1,
   "metadata": {},
   "outputs": [],
   "source": [
    "import logging"
   ]
  },
  {
   "cell_type": "code",
   "execution_count": 2,
   "metadata": {},
   "outputs": [],
   "source": [
    "import numpy"
   ]
  },
  {
   "cell_type": "code",
   "execution_count": 3,
   "metadata": {},
   "outputs": [],
   "source": [
    "import cicada.additive\n",
    "import cicada.communicator"
   ]
  },
  {
   "cell_type": "code",
   "execution_count": 4,
   "metadata": {},
   "outputs": [],
   "source": [
    "logging.basicConfig(level=logging.INFO)"
   ]
  },
  {
   "cell_type": "code",
   "execution_count": 5,
   "metadata": {},
   "outputs": [],
   "source": [
    "secret_a = 37\n",
    "b = 7"
   ]
  },
  {
   "cell_type": "code",
   "execution_count": 10,
   "metadata": {},
   "outputs": [],
   "source": [
    "@cicada.communicator.NNGCommunicator.run(world_size=3)\n",
    "def main(communicator):\n",
    "    log = cicada.Logger(logging.getLogger(), communicator)\n",
    "    protocol = cicada.additive.AdditiveProtocol(communicator)\n",
    "\n",
    "    b_enc = protocol.encoder.encode(numpy.array(b, dtype=object))\n",
    "    log.info(f\"Player {communicator.rank} secret a: {secret_a}\", src=0)\n",
    "    log.info(f\"Player {communicator.rank} b: {b}\", src=1)\n",
    "    a_share = protocol.share(src=0, secret=protocol.encoder.encode(numpy.array(secret_a)), shape=())\n",
    "    quotient_share = protocol.division_private_public(a_share, b)\n",
    "    quotient = protocol.encoder.decode(protocol.reveal(quotient_share))\n",
    "    log.info(f\"Player {communicator.rank} quotient: {quotient}\")\n",
    "    actual= secret_a/b\n",
    "    err_percent = 100*(quotient-actual)/actual\n",
    "    log.info(f\"Player {communicator.rank} quotient error %: {err_percent}\", src=0)\n"
   ]
  },
  {
   "cell_type": "code",
   "execution_count": 11,
   "metadata": {},
   "outputs": [
    {
     "name": "stderr",
     "output_type": "stream",
     "text": [
      "INFO:cicada.communicator.nng:Player 0 rendezvous with tcp://127.0.0.1:50533 from tcp://127.0.0.1:50533.\n",
      "INFO:cicada.communicator.nng:Player 1 rendezvous with tcp://127.0.0.1:50533 from tcp://127.0.0.1:50534.\n",
      "INFO:cicada.communicator.nng:Player 2 rendezvous with tcp://127.0.0.1:50533 from tcp://127.0.0.1:50535.\n",
      "INFO:cicada.communicator.nng:Comm 'world' player 0 communicator ready.\n",
      "INFO:cicada.communicator.nng:Comm 'world' player 1 communicator ready.\n",
      "INFO:cicada.communicator.nng:Comm 'world' player 2 communicator ready.\n",
      "INFO:root:Player 0 secret a: 37\n",
      "INFO:root:Player 1 b: 7\n",
      "INFO:root:Player 0 quotient: 5.285552978515625\n",
      "INFO:root:Player 1 quotient: 5.285552978515625\n",
      "INFO:root:Player 2 quotient: 5.285552978515625\n",
      "INFO:root:Player 0 quotient error %: -0.0030517578124975996\n",
      "INFO:cicada.communicator.nng:Comm 'world' player 0 communicator freed.\n",
      "INFO:cicada.communicator.nng:Comm 'world' player 1 communicator freed.\n",
      "INFO:cicada.communicator.nng:Comm 'world' player 2 communicator freed.\n",
      "INFO:cicada.communicator.nng:Player 0 returned: None\n",
      "INFO:cicada.communicator.nng:Player 1 returned: None\n",
      "INFO:cicada.communicator.nng:Player 2 returned: None\n"
     ]
    },
    {
     "data": {
      "text/plain": [
       "[None, None, None]"
      ]
     },
     "execution_count": 11,
     "metadata": {},
     "output_type": "execute_result"
    }
   ],
   "source": [
    "main()"
   ]
  },
  {
   "cell_type": "code",
   "execution_count": null,
   "metadata": {},
   "outputs": [],
   "source": []
  },
  {
   "cell_type": "code",
   "execution_count": null,
   "metadata": {},
   "outputs": [],
   "source": []
  }
 ],
 "metadata": {
  "kernelspec": {
   "display_name": "Python 3 (ipykernel)",
   "language": "python",
   "name": "python3"
  },
  "language_info": {
   "codemirror_mode": {
    "name": "ipython",
    "version": 3
   },
   "file_extension": ".py",
   "mimetype": "text/x-python",
   "name": "python",
   "nbconvert_exporter": "python",
   "pygments_lexer": "ipython3",
   "version": "3.8.10"
  }
 },
 "nbformat": 4,
 "nbformat_minor": 2
}
