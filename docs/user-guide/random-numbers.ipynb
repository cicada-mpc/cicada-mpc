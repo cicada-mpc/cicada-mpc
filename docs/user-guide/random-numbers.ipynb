{
 "cells": [
  {
   "cell_type": "raw",
   "metadata": {
    "raw_mimetype": "text/restructuredtext"
   },
   "source": [
    ".. _random-numbers:\n",
    "\n",
    "Random Number Generation\n",
    "========================\n",
    "\n",
    "Here we will demonstrate generating uniform random shared secrets of any shape using :any:`AdditiveProtocol`.  We use an instance of :class:`numpy.random.Generator` to seed the process.  After each secret is generated, we reveal it to the players and log it.\n",
    "\n",
    "We will use a custom modulus (251) and a reduced number of fractional bits (4) so that the random secrets are small and easy to read in the output.  "
   ]
  },
  {
   "cell_type": "code",
   "execution_count": null,
   "metadata": {},
   "outputs": [],
   "source": [
    "import logging\n",
    "import sys\n",
    "\n",
    "import numpy\n",
    "\n",
    "import cicada.additive\n",
    "import cicada.communicator\n",
    "\n",
    "logging.basicConfig(level=logging.INFO)\n",
    "\n",
    "@cicada.communicator.NNGCommunicator.run(world_size=3)\n",
    "def main(communicator):\n",
    "    log = cicada.Logger(logging.getLogger(), communicator)\n",
    "    protocol = cicada.additive.AdditiveProtocol(communicator, modulus=251, precision=4)\n",
    "    generator = numpy.random.default_rng(seed=1234)\n",
    "    \n",
    "    for shape in [(), (1,), (2,), (3,)]:\n",
    "        log.info(\"*\" * 40, src=0)\n",
    "        \n",
    "        random_share = protocol.uniform(generator=generator, shape=shape)\n",
    "        random = protocol.encoder.decode(protocol.reveal(random_share))\n",
    "        log.info(f\"Player {communicator.rank} random values: {random}\")\n",
    "\n",
    "main();"
   ]
  },
  {
   "cell_type": "raw",
   "metadata": {
    "raw_mimetype": "text/restructuredtext"
   },
   "source": [
    ".. seealso:: :ref:`random-bits`"
   ]
  }
 ],
 "metadata": {
  "celltoolbar": "Raw Cell Format",
  "kernelspec": {
   "display_name": "Python 3 (ipykernel)",
   "language": "python",
   "name": "python3"
  },
  "language_info": {
   "codemirror_mode": {
    "name": "ipython",
    "version": 3
   },
   "file_extension": ".py",
   "mimetype": "text/x-python",
   "name": "python",
   "nbconvert_exporter": "python",
   "pygments_lexer": "ipython3",
   "version": "3.8.10"
  }
 },
 "nbformat": 4,
 "nbformat_minor": 2
}
