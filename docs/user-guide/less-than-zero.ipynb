{
 "cells": [
  {
   "cell_type": "raw",
   "metadata": {
    "raw_mimetype": "text/restructuredtext"
   },
   "source": [
    ".. _less-than-zero:\n",
    "\n",
    "Less Than Zero Comparison\n",
    "=========================\n",
    "\n",
    "Here we demonstrate testing secret-shared values to see if they are less than zero.  The result of the comparison is itself a secret which can be revealed.  The revealed value will be \"1\" (true) or \"0\" (false), and does not need to be decoded.\n",
    "\n",
    "Note that this comparison is roughly three times faster than using :ref:`less-than` with \"0\" as the second operand.\n",
    "\n",
    "As always, this operation will be applied element-wise to array inputs of any shape.\n",
    "\n",
    "In this example, we will compare the vector :math:`[2, -1.5, 0]` to zero, which should return :math:`[0, 1, 0]`:"
   ]
  },
  {
   "cell_type": "code",
   "execution_count": 1,
   "metadata": {},
   "outputs": [
    {
     "name": "stderr",
     "output_type": "stream",
     "text": [
      "INFO:cicada.communicator.nng:Player 0 rendezvous with tcp://127.0.0.1:57951 from tcp://127.0.0.1:57951.\n",
      "INFO:cicada.communicator.nng:Player 1 rendezvous with tcp://127.0.0.1:57951 from tcp://127.0.0.1:57952.\n",
      "INFO:cicada.communicator.nng:Player 2 rendezvous with tcp://127.0.0.1:57951 from tcp://127.0.0.1:57953.\n",
      "INFO:cicada.communicator.nng:Comm 'world' player 0 communicator ready.\n",
      "INFO:cicada.communicator.nng:Comm 'world' player 2 communicator ready.\n",
      "INFO:cicada.communicator.nng:Comm 'world' player 1 communicator ready.\n",
      "INFO:root:Player 0 secret: [ 2.  -1.5  0. ]\n",
      "INFO:root:Player 0 result: [0 1 0]\n",
      "INFO:root:Player 1 result: [0 1 0]\n",
      "INFO:root:Player 2 result: [0 1 0]\n",
      "INFO:cicada.communicator.nng:Comm 'world' player 1 communicator freed.\n",
      "INFO:cicada.communicator.nng:Comm 'world' player 2 communicator freed.\n",
      "INFO:cicada.communicator.nng:Comm 'world' player 0 communicator freed.\n",
      "INFO:cicada.communicator.nng:Player 0 returned: None\n",
      "INFO:cicada.communicator.nng:Player 1 returned: None\n",
      "INFO:cicada.communicator.nng:Player 2 returned: None\n"
     ]
    }
   ],
   "source": [
    "import logging\n",
    "\n",
    "import numpy\n",
    "\n",
    "import cicada.additive\n",
    "import cicada.communicator\n",
    "\n",
    "logging.basicConfig(level=logging.INFO)\n",
    "\n",
    "@cicada.communicator.NNGCommunicator.run(world_size=3)\n",
    "def main(communicator):\n",
    "    log = cicada.Logger(logging.getLogger(), communicator)\n",
    "    protocol = cicada.additive.AdditiveProtocol(communicator)\n",
    "    \n",
    "    a = numpy.array([2, -1.5, 0]) if communicator.rank == 0 else None\n",
    "    \n",
    "    log.info(f\"Player {communicator.rank} secret: {a}\", src=0)\n",
    "\n",
    "    a_share = protocol.share(src=0, secret=protocol.encoder.encode(a), shape=(3,))\n",
    "    \n",
    "    less_than_zero_share = protocol.less_than_zero(a_share)\n",
    "    less_than_zero = protocol.reveal(less_than_zero_share)\n",
    "    \n",
    "    log.info(f\"Player {communicator.rank} result: {less_than_zero}\")\n",
    "\n",
    "main();"
   ]
  },
  {
   "cell_type": "raw",
   "metadata": {
    "raw_mimetype": "text/restructuredtext"
   },
   "source": [
    ".. seealso:: :ref:`equality`, :ref:`less-than`"
   ]
  }
 ],
 "metadata": {
  "celltoolbar": "Raw Cell Format",
  "kernelspec": {
   "display_name": "Python 3 (ipykernel)",
   "language": "python",
   "name": "python3"
  },
  "language_info": {
   "codemirror_mode": {
    "name": "ipython",
    "version": 3
   },
   "file_extension": ".py",
   "mimetype": "text/x-python",
   "name": "python",
   "nbconvert_exporter": "python",
   "pygments_lexer": "ipython3",
   "version": "3.8.10"
  }
 },
 "nbformat": 4,
 "nbformat_minor": 2
}
