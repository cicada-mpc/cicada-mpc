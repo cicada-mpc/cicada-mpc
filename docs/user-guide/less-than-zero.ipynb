{
 "cells": [
  {
   "cell_type": "raw",
   "metadata": {
    "raw_mimetype": "text/restructuredtext"
   },
   "source": [
    ".. _less-than-zero:\n",
    "\n",
    "Less Than Zero Comparison\n",
    "=========================\n",
    "\n",
    "Here we demonstrate testing secret-shared values to see if they are less than zero.  The result of the comparison is itself a secret which can be revealed using :meth:`~cicada.additive.AdditiveProtocolSuite.reveal_bits`.  The revealed value will be \"1\" (true) or \"0\" (false).\n",
    "\n",
    "Note that this comparison is roughly three times faster than using :ref:`less-than` with \"0\" as the second operand.\n",
    "\n",
    "As always, this operation can be applied element-wise to array inputs of any shape.\n",
    "\n",
    "In this example, we will compare the vector :math:`[2, -1.5, 0]` to zero, which should return :math:`[0, 1, 0]`:"
   ]
  },
  {
   "cell_type": "code",
   "execution_count": 1,
   "metadata": {},
   "outputs": [
    {
     "name": "stderr",
     "output_type": "stream",
     "text": [
      "INFO:root:Player 0 secret: [ 2.  -1.5  0. ]\n",
      "INFO:root:Player 0 result: [0 1 0]\n",
      "INFO:root:Player 1 result: [0 1 0]\n",
      "INFO:root:Player 2 result: [0 1 0]\n"
     ]
    }
   ],
   "source": [
    "import logging\n",
    "\n",
    "import numpy\n",
    "\n",
    "import cicada\n",
    "from cicada.additive import AdditiveProtocolSuite\n",
    "from cicada.communicator import SocketCommunicator\n",
    "\n",
    "logging.basicConfig(level=logging.INFO)\n",
    "\n",
    "def main(communicator):\n",
    "    log = cicada.Logger(logging.getLogger(), communicator)\n",
    "    protocol = AdditiveProtocolSuite(communicator)\n",
    "    \n",
    "    a = numpy.array([2, -1.5, 0]) if communicator.rank == 0 else None\n",
    "    \n",
    "    log.info(f\"Player {communicator.rank} secret: {a}\", src=0)\n",
    "\n",
    "    a_share = protocol.share(src=0, secret=a, shape=(3,))\n",
    "    less_than_zero_share = protocol.less_than_zero(a_share)\n",
    "    less_than_zero = protocol.reveal_bits(less_than_zero_share)\n",
    "    \n",
    "    log.info(f\"Player {communicator.rank} result: {less_than_zero}\")\n",
    "\n",
    "SocketCommunicator.run(world_size=3, fn=main);"
   ]
  },
  {
   "cell_type": "raw",
   "metadata": {
    "raw_mimetype": "text/restructuredtext"
   },
   "source": [
    ".. seealso:: :ref:`equality`, :ref:`less-than`"
   ]
  }
 ],
 "metadata": {
  "celltoolbar": "Raw Cell Format",
  "kernelspec": {
   "display_name": "Python 3 (ipykernel)",
   "language": "python",
   "name": "python3"
  },
  "language_info": {
   "codemirror_mode": {
    "name": "ipython",
    "version": 3
   },
   "file_extension": ".py",
   "mimetype": "text/x-python",
   "name": "python",
   "nbconvert_exporter": "python",
   "pygments_lexer": "ipython3",
   "version": "3.8.10"
  }
 },
 "nbformat": 4,
 "nbformat_minor": 2
}
