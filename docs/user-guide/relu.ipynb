{
 "cells": [
  {
   "cell_type": "markdown",
   "metadata": {},
   "source": [
    "# Rectified Linear Unit\n",
    "\n",
    "In this example we generate random field elements, reveal and decode them, then apply the rectified linear unit function to them. We then reveal the result demonstrating the correctness of the function.\n",
    "\n",
    "In this setting ReLU is applied on an elementwise basis according to the conventional definition of the funciton i.e.,\n",
    "\n",
    "$$\n",
    "ReLU(x) = \\left\\{\n",
    "    \\begin{array}\\\\\n",
    "        0 & if\\ x\\leq0 \\\\\n",
    "        x & if\\ x>0\n",
    "    \\end{array}\n",
    "    \\right.\n",
    "$$\n",
    "   "
   ]
  },
  {
   "cell_type": "code",
   "execution_count": 1,
   "metadata": {},
   "outputs": [
    {
     "name": "stderr",
     "output_type": "stream",
     "text": [
      "INFO:cicada.communicator.nng:Player 0 rendezvous with tcp://127.0.0.1:58954 from tcp://127.0.0.1:58954.\n",
      "INFO:cicada.communicator.nng:Player 1 rendezvous with tcp://127.0.0.1:58954 from tcp://127.0.0.1:58955.\n",
      "INFO:cicada.communicator.nng:Player 2 rendezvous with tcp://127.0.0.1:58954 from tcp://127.0.0.1:58956.\n",
      "INFO:cicada.communicator.nng:Comm 'world' player 0 communicator ready.\n",
      "INFO:cicada.communicator.nng:Comm 'world' player 2 communicator ready.\n",
      "INFO:cicada.communicator.nng:Comm 'world' player 1 communicator ready.\n",
      "INFO:root:Player 0 secret:\n",
      "[[-1.34344393e+14  7.31125298e+13]\n",
      " [ 3.95225430e+13 -3.97123528e+13]]\n",
      "INFO:root:Player 1 secret:\n",
      "[[-1.34344393e+14  7.31125298e+13]\n",
      " [ 3.95225430e+13 -3.97123528e+13]]\n",
      "INFO:root:Player 2 secret:\n",
      "[[-1.34344393e+14  7.31125298e+13]\n",
      " [ 3.95225430e+13 -3.97123528e+13]]\n",
      "INFO:root:Player 0 relu result:\n",
      "[[0.00000000e+00 7.31125298e+13]\n",
      " [3.95225430e+13 0.00000000e+00]]\n",
      "INFO:root:Player 1 relu result:\n",
      "[[0.00000000e+00 7.31125298e+13]\n",
      " [3.95225430e+13 0.00000000e+00]]\n",
      "INFO:root:Player 2 relu result:\n",
      "[[0.00000000e+00 7.31125298e+13]\n",
      " [3.95225430e+13 0.00000000e+00]]\n",
      "INFO:cicada.communicator.nng:Comm 'world' player 0 communicator freed.\n",
      "INFO:cicada.communicator.nng:Comm 'world' player 1 communicator freed.\n",
      "INFO:cicada.communicator.nng:Comm 'world' player 2 communicator freed.\n",
      "INFO:cicada.communicator.nng:Player 0 returned: None\n",
      "INFO:cicada.communicator.nng:Player 1 returned: None\n",
      "INFO:cicada.communicator.nng:Player 2 returned: None\n"
     ]
    }
   ],
   "source": [
    "import logging\n",
    "\n",
    "import numpy\n",
    "\n",
    "import cicada.additive\n",
    "import cicada.communicator\n",
    "\n",
    "logging.basicConfig(level=logging.INFO)\n",
    "\n",
    "@cicada.communicator.NNGCommunicator.run(world_size=3)\n",
    "def main(communicator):\n",
    "    log = cicada.Logger(logging.getLogger(), communicator)\n",
    "    protocol = cicada.additive.AdditiveProtocol(communicator)\n",
    "    generator = numpy.random.default_rng()\n",
    "    secret_share = protocol.uniform(shape=(2,2))\n",
    "    secret = protocol.encoder.decode(protocol.reveal(secret_share))\n",
    "    log.info(f\"Player {communicator.rank} secret:\\n{secret}\")\n",
    "    relu_share = protocol.relu(secret_share)\n",
    "    relu = protocol.encoder.decode(protocol.reveal(relu_share))\n",
    "    log.info(f\"Player {communicator.rank} relu result:\\n{relu}\")\n",
    "\n",
    "main();"
   ]
  }
 ],
 "metadata": {
  "kernelspec": {
   "display_name": "Python 3 (ipykernel)",
   "language": "python",
   "name": "python3"
  },
  "language_info": {
   "codemirror_mode": {
    "name": "ipython",
    "version": 3
   },
   "file_extension": ".py",
   "mimetype": "text/x-python",
   "name": "python",
   "nbconvert_exporter": "python",
   "pygments_lexer": "ipython3",
   "version": "3.8.10"
  }
 },
 "nbformat": 4,
 "nbformat_minor": 2
}
