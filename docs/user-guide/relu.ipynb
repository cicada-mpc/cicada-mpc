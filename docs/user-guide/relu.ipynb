{
 "cells": [
  {
   "cell_type": "markdown",
   "metadata": {},
   "source": [
    "# Rectified Linear Unit\n",
    "\n",
    "In this example we generate random field elements, reveal and decode them, then apply the rectified linear unit function to them. We then reveal the result demonstrating the correctness of the function.\n",
    "\n",
    "In this setting ReLU is applied on an elementwise basis according to the conventional definition of the funciton i.e.,\n",
    "\n",
    "$$\n",
    "ReLU(x) = \\left\\{\n",
    "    \\begin{array}\\\\\n",
    "        0 & if\\ x\\leq0 \\\\\n",
    "        x & if\\ x>0\n",
    "    \\end{array}\n",
    "    \\right.\n",
    "$$\n",
    "   "
   ]
  },
  {
   "cell_type": "code",
   "execution_count": 1,
   "metadata": {},
   "outputs": [
    {
     "name": "stderr",
     "output_type": "stream",
     "text": [
      "INFO:cicada.communicator.nng:Player 0 rendezvous with tcp://127.0.0.1:61982 from tcp://127.0.0.1:61982.\n",
      "INFO:cicada.communicator.nng:Player 1 rendezvous with tcp://127.0.0.1:61982 from tcp://127.0.0.1:61983.\n",
      "INFO:cicada.communicator.nng:Player 2 rendezvous with tcp://127.0.0.1:61982 from tcp://127.0.0.1:61984.\n",
      "INFO:cicada.communicator.nng:Comm 'world' player 0 communicator ready.\n",
      "INFO:cicada.communicator.nng:Comm 'world' player 1 communicator ready.\n",
      "INFO:cicada.communicator.nng:Comm 'world' player 2 communicator ready.\n",
      "INFO:root:Player 0 secret:\n",
      "[[ 3.90827038e+13 -1.13172611e+14]\n",
      " [ 2.52484504e+13 -4.61493513e+13]]\n",
      "INFO:root:Player 1 secret:\n",
      "[[ 3.90827038e+13 -1.13172611e+14]\n",
      " [ 2.52484504e+13 -4.61493513e+13]]\n",
      "INFO:root:Player 2 secret:\n",
      "[[ 3.90827038e+13 -1.13172611e+14]\n",
      " [ 2.52484504e+13 -4.61493513e+13]]\n",
      "INFO:root:Player 0 relu result:\n",
      "[[3.90827038e+13 0.00000000e+00]\n",
      " [2.52484504e+13 0.00000000e+00]]\n",
      "INFO:root:Player 1 relu result:\n",
      "[[3.90827038e+13 0.00000000e+00]\n",
      " [2.52484504e+13 0.00000000e+00]]\n",
      "INFO:root:Player 2 relu result:\n",
      "[[3.90827038e+13 0.00000000e+00]\n",
      " [2.52484504e+13 0.00000000e+00]]\n",
      "INFO:cicada.communicator.nng:Comm 'world' player 1 communicator freed.\n",
      "INFO:cicada.communicator.nng:Comm 'world' player 2 communicator freed.\n",
      "INFO:cicada.communicator.nng:Comm 'world' player 0 communicator freed.\n",
      "INFO:cicada.communicator.nng:Player 0 returned: None\n",
      "INFO:cicada.communicator.nng:Player 1 returned: None\n",
      "INFO:cicada.communicator.nng:Player 2 returned: None\n"
     ]
    }
   ],
   "source": [
    "import logging\n",
    "\n",
    "import numpy\n",
    "\n",
    "import cicada.additive\n",
    "import cicada.communicator\n",
    "\n",
    "logging.basicConfig(level=logging.INFO)\n",
    "\n",
    "@cicada.communicator.NNGCommunicator.run(world_size=3)\n",
    "def main(communicator):\n",
    "    log = cicada.Logger(logging.getLogger(), communicator)\n",
    "    protocol = cicada.additive.AdditiveProtocol(communicator)\n",
    "    generator = numpy.random.default_rng()\n",
    "    secret_share = protocol.uniform(shape=(2,2))\n",
    "    secret = protocol.encoder.decode(protocol.reveal(secret_share))\n",
    "    log.info(f\"Player {communicator.rank} secret:\\n{secret}\")\n",
    "    relu_share = protocol.relu(secret_share)\n",
    "    relu = protocol.encoder.decode(protocol.reveal(relu_share))\n",
    "    log.info(f\"Player {communicator.rank} relu result:\\n{relu}\")\n",
    "\n",
    "main();"
   ]
  }
 ],
 "metadata": {
  "kernelspec": {
   "display_name": "Python 3",
   "language": "python",
   "name": "python3"
  },
  "language_info": {
   "codemirror_mode": {
    "name": "ipython",
    "version": 3
   },
   "file_extension": ".py",
   "mimetype": "text/x-python",
   "name": "python",
   "nbconvert_exporter": "python",
   "pygments_lexer": "ipython3",
   "version": "3.9.7"
  }
 },
 "nbformat": 4,
 "nbformat_minor": 2
}
