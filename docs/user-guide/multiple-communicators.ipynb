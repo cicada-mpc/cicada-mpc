{
 "cells": [
  {
   "cell_type": "raw",
   "id": "b0f94c74",
   "metadata": {
    "raw_mimetype": "text/restructuredtext"
   },
   "source": [
    ".. _multiple-communicators::\n",
    "\n",
    "Multiple Communicators\n",
    "======================\n",
    "\n",
    "A Cicada communicator represents a group of players who have agreed to work on a problem together; importantly, the number of players in a communicator is set when the communicator is created, and never changes. This is usually what you want, but for more complex computations, and in situations where you need the number of players to change over time, you can work with multiple communicators in a single program.\n",
    "\n",
    "One way to to do this is the :meth:`~cicada.communicator.socket.SocketCommunicator.split` method, which can be used to create one-or-more new communicators from an existing communicator.  First, let's look at the name and list of players in a \"parent\" communicator:"
   ]
  },
  {
   "cell_type": "code",
   "execution_count": 1,
   "id": "b147fceb",
   "metadata": {},
   "outputs": [
    {
     "name": "stderr",
     "output_type": "stream",
     "text": [
      "INFO:cicada.communicator.socket:Comm 'world' player 0 rendezvous with tcp://127.0.0.1:65103 from tcp://127.0.0.1:65103\n",
      "INFO:cicada.communicator.socket:Comm 'world' player 1 rendezvous with tcp://127.0.0.1:65103 from tcp://127.0.0.1:65104\n",
      "INFO:cicada.communicator.socket:Comm 'world' player 2 rendezvous with tcp://127.0.0.1:65103 from tcp://127.0.0.1:65107\n",
      "INFO:cicada.communicator.socket:Comm 'world' player 3 rendezvous with tcp://127.0.0.1:65103 from tcp://127.0.0.1:65110\n",
      "INFO:cicada.communicator.socket:Comm 'world' player 3 communicator ready.\n",
      "INFO:cicada.communicator.socket:Comm 'world' player 1 communicator ready.\n",
      "INFO:cicada.communicator.socket:Comm 'world' player 0 communicator ready.\n",
      "INFO:cicada.communicator.socket:Comm 'world' player 2 communicator ready.\n",
      "INFO:root:Player 0 parent name: 'world' ranks: [0, 1, 2, 3]\n",
      "INFO:root:Player 1 parent name: 'world' ranks: [0, 1, 2, 3]\n",
      "INFO:root:Player 2 parent name: 'world' ranks: [0, 1, 2, 3]\n",
      "INFO:root:Player 3 parent name: 'world' ranks: [0, 1, 2, 3]\n",
      "INFO:cicada.communicator.socket:Comm 'world' player 1 communicator freed.\n",
      "INFO:cicada.communicator.socket:Comm 'world' player 3 communicator freed.\n",
      "INFO:cicada.communicator.socket:Comm 'world' player 2 communicator freed.\n",
      "INFO:cicada.communicator.socket:Comm 'world' player 0 communicator freed.\n",
      "INFO:cicada.communicator.socket:Player 0 return: None\n",
      "INFO:cicada.communicator.socket:Player 1 return: None\n",
      "INFO:cicada.communicator.socket:Player 2 return: None\n",
      "INFO:cicada.communicator.socket:Player 3 return: None\n"
     ]
    }
   ],
   "source": [
    "import logging\n",
    "\n",
    "import cicada.logging\n",
    "import cicada.communicator\n",
    "\n",
    "logging.basicConfig(level=logging.INFO)\n",
    "\n",
    "def main(parent):\n",
    "    log = cicada.logging.Logger(logging.getLogger(), parent)\n",
    "    \n",
    "    log.info(f\"Player {parent.rank} parent name: {parent.name!r} ranks: {parent.ranks}\")\n",
    "    \n",
    "cicada.communicator.SocketCommunicator.run(world_size=4, fn=main);"
   ]
  },
  {
   "cell_type": "raw",
   "id": "ab505527",
   "metadata": {
    "raw_mimetype": "text/restructuredtext"
   },
   "source": [
    "We refer to the communicator created by :meth:`~cicada.communicator.socket.SocketCommunicator.run` as the *parent* because we will be using it to create all of the \"child\" communicators to follow.  As you can see, its default name is *world* and it has four players.\n",
    "\n",
    "In the most basic case, we can use the parent to create a second communicator that includes the same set of players:"
   ]
  },
  {
   "cell_type": "code",
   "execution_count": 2,
   "id": "f0cbba48",
   "metadata": {},
   "outputs": [
    {
     "name": "stderr",
     "output_type": "stream",
     "text": [
      "INFO:cicada.communicator.socket:Comm 'world' player 0 rendezvous with tcp://127.0.0.1:65129 from tcp://127.0.0.1:65129\n",
      "INFO:cicada.communicator.socket:Comm 'world' player 1 rendezvous with tcp://127.0.0.1:65129 from tcp://127.0.0.1:65130\n",
      "INFO:cicada.communicator.socket:Comm 'world' player 2 rendezvous with tcp://127.0.0.1:65129 from tcp://127.0.0.1:65132\n",
      "INFO:cicada.communicator.socket:Comm 'world' player 3 rendezvous with tcp://127.0.0.1:65129 from tcp://127.0.0.1:65136\n",
      "INFO:cicada.communicator.socket:Comm 'world' player 0 communicator ready.\n",
      "INFO:cicada.communicator.socket:Comm 'world' player 3 communicator ready.\n",
      "INFO:cicada.communicator.socket:Comm 'world' player 2 communicator ready.\n",
      "INFO:cicada.communicator.socket:Comm 'world' player 1 communicator ready.\n",
      "INFO:root:Player 0 parent name: 'world' ranks: [0, 1, 2, 3]\n",
      "INFO:root:Player 1 parent name: 'world' ranks: [0, 1, 2, 3]\n",
      "INFO:root:Player 2 parent name: 'world' ranks: [0, 1, 2, 3]\n",
      "INFO:root:Player 3 parent name: 'world' ranks: [0, 1, 2, 3]\n",
      "INFO:cicada.communicator.socket:Comm 'child' player 0 rendezvous with tcp://127.0.0.1:65154 from tcp://127.0.0.1:65154\n",
      "INFO:cicada.communicator.socket:Comm 'child' player 1 rendezvous with tcp://127.0.0.1:65154 from tcp://127.0.0.1:65155\n",
      "INFO:cicada.communicator.socket:Comm 'child' player 3 rendezvous with tcp://127.0.0.1:65154 from tcp://127.0.0.1:65156\n",
      "INFO:cicada.communicator.socket:Comm 'child' player 2 rendezvous with tcp://127.0.0.1:65154 from tcp://127.0.0.1:65157\n",
      "INFO:cicada.communicator.socket:Comm 'child' player 0 communicator ready.\n",
      "INFO:cicada.communicator.socket:Comm 'child' player 3 communicator ready.\n",
      "INFO:cicada.communicator.socket:Comm 'child' player 1 communicator ready.\n",
      "INFO:cicada.communicator.socket:Comm 'child' player 2 communicator ready.\n",
      "INFO:root:Player 0 child name: 'child' ranks: [0, 1, 2, 3]\n",
      "INFO:root:Player 1 child name: 'child' ranks: [0, 1, 2, 3]\n",
      "INFO:root:Player 2 child name: 'child' ranks: [0, 1, 2, 3]\n",
      "INFO:root:Player 3 child name: 'child' ranks: [0, 1, 2, 3]\n",
      "INFO:cicada.communicator.socket:Comm 'child' player 3 communicator freed.\n",
      "INFO:cicada.communicator.socket:Comm 'child' player 1 communicator freed.\n",
      "INFO:cicada.communicator.socket:Comm 'child' player 0 communicator freed.\n",
      "INFO:cicada.communicator.socket:Comm 'child' player 2 communicator freed.\n",
      "INFO:cicada.communicator.socket:Comm 'world' player 0 communicator freed.\n",
      "INFO:cicada.communicator.socket:Comm 'world' player 1 communicator freed.\n",
      "INFO:cicada.communicator.socket:Comm 'world' player 3 communicator freed.\n",
      "INFO:cicada.communicator.socket:Comm 'world' player 2 communicator freed.\n",
      "INFO:cicada.communicator.socket:Player 0 return: None\n",
      "INFO:cicada.communicator.socket:Player 1 return: None\n",
      "INFO:cicada.communicator.socket:Player 2 return: None\n",
      "INFO:cicada.communicator.socket:Player 3 return: None\n"
     ]
    }
   ],
   "source": [
    "def main(parent):\n",
    "    log = cicada.logging.Logger(logging.getLogger(), parent)\n",
    "    \n",
    "    log.info(f\"Player {parent.rank} parent name: {parent.name!r} ranks: {parent.ranks}\")\n",
    "    with parent.split(name=\"child\") as child:\n",
    "        log.info(f\"Player {parent.rank} child name: {child.name!r} ranks: {child.ranks}\")\n",
    "    \n",
    "cicada.communicator.SocketCommunicator.run(world_size=4, fn=main);"
   ]
  },
  {
   "cell_type": "raw",
   "id": "652742c6",
   "metadata": {
    "raw_mimetype": "text/restructuredtext"
   },
   "source": [
    "Note how the child communicator goes through the same process of startup as the parent and is similarly freed when it goes out of scope.  You could go through this process to create as many communicators as you like, however, they will all have the same players as the parent.\n",
    "\n",
    "In many cases, you might start a computation with a large number of players, and divide them into smaller groups, to provide redundancy in the face of failures.  In this case, you would like to create multiple communicators, partitioning the parent communicator players into separate \"groups\".  To do this, arrange to have different players pass different names in the call to :meth:`~cicada.communicator.socket.SocketCommunicator.split`, which will create a communicator for every unique name and distribute the players accordingly.\n",
    "\n",
    "For example, we can split our four players into two groups of two:"
   ]
  },
  {
   "cell_type": "code",
   "execution_count": 3,
   "id": "ef3d4eff",
   "metadata": {},
   "outputs": [
    {
     "name": "stderr",
     "output_type": "stream",
     "text": [
      "INFO:cicada.communicator.socket:Comm 'world' player 0 rendezvous with tcp://127.0.0.1:65185 from tcp://127.0.0.1:65185\n",
      "INFO:cicada.communicator.socket:Comm 'world' player 1 rendezvous with tcp://127.0.0.1:65185 from tcp://127.0.0.1:65186\n",
      "INFO:cicada.communicator.socket:Comm 'world' player 2 rendezvous with tcp://127.0.0.1:65185 from tcp://127.0.0.1:65188\n",
      "INFO:cicada.communicator.socket:Comm 'world' player 3 rendezvous with tcp://127.0.0.1:65185 from tcp://127.0.0.1:65192\n",
      "INFO:cicada.communicator.socket:Comm 'world' player 0 communicator ready.\n",
      "INFO:cicada.communicator.socket:Comm 'world' player 2 communicator ready.\n",
      "INFO:cicada.communicator.socket:Comm 'world' player 3 communicator ready.\n",
      "INFO:cicada.communicator.socket:Comm 'world' player 1 communicator ready.\n",
      "INFO:root:Player 0 parent name: 'world' ranks: [0, 1, 2, 3]\n",
      "INFO:root:Player 1 parent name: 'world' ranks: [0, 1, 2, 3]\n",
      "INFO:root:Player 2 parent name: 'world' ranks: [0, 1, 2, 3]\n",
      "INFO:root:Player 3 parent name: 'world' ranks: [0, 1, 2, 3]\n",
      "INFO:cicada.communicator.socket:Comm 'red' player 0 rendezvous with tcp://127.0.0.1:65207 from tcp://127.0.0.1:65207\n",
      "INFO:cicada.communicator.socket:Comm 'blue' player 1 rendezvous with tcp://127.0.0.1:65210 from tcp://127.0.0.1:65209\n",
      "INFO:cicada.communicator.socket:Comm 'red' player 1 rendezvous with tcp://127.0.0.1:65207 from tcp://127.0.0.1:65208\n",
      "INFO:cicada.communicator.socket:Comm 'blue' player 0 rendezvous with tcp://127.0.0.1:65210 from tcp://127.0.0.1:65210\n",
      "INFO:cicada.communicator.socket:Comm 'red' player 1 communicator ready.\n",
      "INFO:cicada.communicator.socket:Comm 'red' player 0 communicator ready.\n",
      "INFO:cicada.communicator.socket:Comm 'blue' player 0 communicator ready.\n",
      "INFO:cicada.communicator.socket:Comm 'blue' player 1 communicator ready.\n",
      "INFO:root:Player 0 child name: 'red' ranks: [0, 1]\n",
      "INFO:root:Player 1 child name: 'red' ranks: [0, 1]\n",
      "INFO:root:Player 2 child name: 'blue' ranks: [0, 1]\n",
      "INFO:root:Player 3 child name: 'blue' ranks: [0, 1]\n",
      "INFO:cicada.communicator.socket:Comm 'blue' player 1 communicator freed.\n",
      "INFO:cicada.communicator.socket:Comm 'red' player 1 communicator freed.\n",
      "INFO:cicada.communicator.socket:Comm 'red' player 0 communicator freed.\n",
      "INFO:cicada.communicator.socket:Comm 'blue' player 0 communicator freed.\n",
      "INFO:cicada.communicator.socket:Comm 'world' player 2 communicator freed.\n",
      "INFO:cicada.communicator.socket:Comm 'world' player 0 communicator freed.\n",
      "INFO:cicada.communicator.socket:Comm 'world' player 1 communicator freed.\n",
      "INFO:cicada.communicator.socket:Comm 'world' player 3 communicator freed.\n",
      "INFO:cicada.communicator.socket:Player 0 return: None\n",
      "INFO:cicada.communicator.socket:Player 1 return: None\n",
      "INFO:cicada.communicator.socket:Player 2 return: None\n",
      "INFO:cicada.communicator.socket:Player 3 return: None\n"
     ]
    }
   ],
   "source": [
    "def main(parent):\n",
    "    log = cicada.logging.Logger(logging.getLogger(), parent)\n",
    "    \n",
    "    log.info(f\"Player {parent.rank} parent name: {parent.name!r} ranks: {parent.ranks}\")\n",
    "    \n",
    "    if parent.rank in [0, 1]:\n",
    "        name = \"red\"\n",
    "    if parent.rank in [2, 3]:\n",
    "        name = \"blue\"\n",
    "    \n",
    "    with parent.split(name=name) as child:\n",
    "        log.info(f\"Player {parent.rank} child name: {child.name!r} ranks: {child.ranks}\")\n",
    "    \n",
    "cicada.communicator.SocketCommunicator.run(world_size=4, fn=main);"
   ]
  },
  {
   "cell_type": "raw",
   "id": "f26b7414",
   "metadata": {
    "raw_mimetype": "text/restructuredtext"
   },
   "source": [
    "Now, we see two child communicators being created, \"red\" and \"blue\", each with two players.\n",
    "\n",
    ".. important::\n",
    "\n",
    "  If you look carefully, you'll see that both child communicators report their ranks as `ranks: [0, 1]` ... what gives?  The red communicator should have players 0 and 1, and the blue communicator should have players 2 and 3!  Relax, grasshopper.  Within a communicator, ranks always count from zero, so players 2 and 3 really are members of the blue communicator, they just have different ranks *within its context*.\n",
    "  \n",
    "Finally, here's a more thoroughly-worked example of how :meth:`~cicada.communicator.socket.SocketCommunicator.split` could be used to work on separate \"games\" in round-robin fashion:"
   ]
  },
  {
   "cell_type": "code",
   "execution_count": 4,
   "id": "30d7b51e",
   "metadata": {},
   "outputs": [
    {
     "name": "stderr",
     "output_type": "stream",
     "text": [
      "INFO:cicada.communicator.socket:Comm 'world' player 0 rendezvous with tcp://127.0.0.1:65234 from tcp://127.0.0.1:65234\n",
      "INFO:cicada.communicator.socket:Comm 'world' player 1 rendezvous with tcp://127.0.0.1:65234 from tcp://127.0.0.1:65235\n",
      "INFO:cicada.communicator.socket:Comm 'world' player 2 rendezvous with tcp://127.0.0.1:65234 from tcp://127.0.0.1:65237\n",
      "INFO:cicada.communicator.socket:Comm 'world' player 3 rendezvous with tcp://127.0.0.1:65234 from tcp://127.0.0.1:65241\n",
      "INFO:cicada.communicator.socket:Comm 'world' player 0 communicator ready.\n",
      "INFO:cicada.communicator.socket:Comm 'world' player 3 communicator ready.\n",
      "INFO:cicada.communicator.socket:Comm 'world' player 2 communicator ready.\n",
      "INFO:cicada.communicator.socket:Comm 'world' player 1 communicator ready.\n",
      "INFO:cicada.communicator.socket:Comm 'game-0' player 0 rendezvous with tcp://127.0.0.1:65253 from tcp://127.0.0.1:65253\n",
      "INFO:cicada.communicator.socket:Comm 'game-0' player 1 rendezvous with tcp://127.0.0.1:65253 from tcp://127.0.0.1:65254\n",
      "INFO:cicada.communicator.socket:Comm 'game-0' player 2 rendezvous with tcp://127.0.0.1:65253 from tcp://127.0.0.1:65252\n",
      "INFO:cicada.communicator.socket:Comm 'game-0' player 0 communicator ready.\n",
      "INFO:cicada.communicator.socket:Comm 'game-0' player 2 communicator ready.\n",
      "INFO:cicada.communicator.socket:Comm 'game-0' player 1 communicator ready.\n",
      "INFO:cicada.communicator.socket:Comm 'game-1' player 0 rendezvous with tcp://127.0.0.1:65266 from tcp://127.0.0.1:65266\n",
      "INFO:cicada.communicator.socket:Comm 'game-1' player 1 rendezvous with tcp://127.0.0.1:65266 from tcp://127.0.0.1:65265\n",
      "INFO:cicada.communicator.socket:Comm 'game-1' player 2 rendezvous with tcp://127.0.0.1:65266 from tcp://127.0.0.1:65255\n",
      "INFO:cicada.communicator.socket:Comm 'game-1' player 0 communicator ready.\n",
      "INFO:cicada.communicator.socket:Comm 'game-1' player 1 communicator ready.\n",
      "INFO:cicada.communicator.socket:Comm 'game-1' player 2 communicator ready.\n",
      "INFO:cicada.communicator.socket:Comm 'game-2' player 0 rendezvous with tcp://127.0.0.1:65267 from tcp://127.0.0.1:65267\n",
      "INFO:cicada.communicator.socket:Comm 'game-2' player 1 rendezvous with tcp://127.0.0.1:65267 from tcp://127.0.0.1:65277\n",
      "INFO:cicada.communicator.socket:Comm 'game-2' player 2 rendezvous with tcp://127.0.0.1:65267 from tcp://127.0.0.1:65278\n",
      "INFO:cicada.communicator.socket:Comm 'game-2' player 0 communicator ready.\n",
      "INFO:cicada.communicator.socket:Comm 'game-2' player 1 communicator ready.\n",
      "INFO:cicada.communicator.socket:Comm 'game-2' player 2 communicator ready.\n",
      "INFO:root:game-0 player 0 received broadcast value: game-0 message 0\n",
      "INFO:root:game-0 player 1 received broadcast value: game-0 message 0\n",
      "INFO:root:game-0 player 2 received broadcast value: game-0 message 0\n",
      "INFO:root:game-1 player 0 received broadcast value: game-1 message 0\n",
      "INFO:root:game-2 player 0 received broadcast value: game-2 message 0\n",
      "INFO:root:game-1 player 1 received broadcast value: game-1 message 0\n",
      "INFO:root:game-1 player 2 received broadcast value: game-1 message 0\n",
      "INFO:root:game-2 player 1 received broadcast value: game-2 message 0\n",
      "INFO:root:game-2 player 2 received broadcast value: game-2 message 0\n",
      "INFO:root:game-0 player 0 received broadcast value: game-0 message 1\n",
      "INFO:root:game-0 player 1 received broadcast value: game-0 message 1\n",
      "INFO:root:game-0 player 2 received broadcast value: game-0 message 1\n",
      "INFO:root:game-1 player 0 received broadcast value: game-1 message 1\n",
      "INFO:root:game-2 player 0 received broadcast value: game-2 message 1\n",
      "INFO:root:game-1 player 1 received broadcast value: game-1 message 1\n",
      "INFO:root:game-1 player 2 received broadcast value: game-1 message 1\n",
      "INFO:root:game-2 player 1 received broadcast value: game-2 message 1\n",
      "INFO:root:game-2 player 2 received broadcast value: game-2 message 1\n",
      "INFO:cicada.communicator.socket:Comm 'game-0' player 0 communicator freed.\n",
      "INFO:cicada.communicator.socket:Comm 'game-0' player 2 communicator freed.\n",
      "INFO:cicada.communicator.socket:Comm 'game-0' player 1 communicator freed.\n",
      "INFO:cicada.communicator.socket:Comm 'game-1' player 1 communicator freed.\n",
      "INFO:cicada.communicator.socket:Comm 'game-1' player 2 communicator freed.\n",
      "INFO:cicada.communicator.socket:Comm 'game-1' player 0 communicator freed.\n",
      "INFO:cicada.communicator.socket:Comm 'game-2' player 1 communicator freed.\n",
      "INFO:cicada.communicator.socket:Comm 'game-2' player 0 communicator freed.\n",
      "INFO:cicada.communicator.socket:Comm 'game-2' player 2 communicator freed.\n",
      "INFO:cicada.communicator.socket:Comm 'world' player 2 communicator freed.\n",
      "INFO:cicada.communicator.socket:Comm 'world' player 0 communicator freed.\n",
      "INFO:cicada.communicator.socket:Comm 'world' player 3 communicator freed.\n",
      "INFO:cicada.communicator.socket:Comm 'world' player 1 communicator freed.\n",
      "INFO:cicada.communicator.socket:Player 0 return: None\n",
      "INFO:cicada.communicator.socket:Player 1 return: None\n",
      "INFO:cicada.communicator.socket:Player 2 return: None\n",
      "INFO:cicada.communicator.socket:Player 3 return: None\n"
     ]
    }
   ],
   "source": [
    "import collections\n",
    "import logging\n",
    "\n",
    "import numpy\n",
    "\n",
    "Game = collections.namedtuple(\"Game\", [\"communicator\", \"log\", \"generator\"])\n",
    "\n",
    "def main(communicator):\n",
    "    # Setup multiple games with separate communicators.\n",
    "    games = []\n",
    "    partitions = [[0, 1, 2], [1, 2, 3], [2, 3, 0]]\n",
    "    for index, partition in enumerate(partitions):\n",
    "        game_communicator = communicator.split(name=f\"game-{index}\" if communicator.rank in partition else None)\n",
    "        if game_communicator is not None:\n",
    "            game = Game(\n",
    "                communicator=game_communicator,\n",
    "                log=cicada.Logger(logging.getLogger(), game_communicator),\n",
    "                generator=numpy.random.default_rng(),\n",
    "                )\n",
    "            games.append(game)\n",
    "\n",
    "    # Run games in round-robin fashion.\n",
    "    for i in range(2):\n",
    "        for game in games:\n",
    "            value = f\"{game.communicator.name} message {i}\" if game.communicator.rank == 0 else None\n",
    "            value = game.communicator.broadcast(src=0, value=value)\n",
    "            game.log.info(f\"{game.communicator.name} player {game.communicator.rank} received broadcast value: {value}\")\n",
    "\n",
    "    # Cleanup games.\n",
    "    for game in games:\n",
    "        game.communicator.free()\n",
    "\n",
    "cicada.communicator.SocketCommunicator.run(world_size=4, fn=main);"
   ]
  }
 ],
 "metadata": {
  "celltoolbar": "Raw Cell Format",
  "kernelspec": {
   "display_name": "Python 3 (ipykernel)",
   "language": "python",
   "name": "python3"
  },
  "language_info": {
   "codemirror_mode": {
    "name": "ipython",
    "version": 3
   },
   "file_extension": ".py",
   "mimetype": "text/x-python",
   "name": "python",
   "nbconvert_exporter": "python",
   "pygments_lexer": "ipython3",
   "version": "3.8.2"
  }
 },
 "nbformat": 4,
 "nbformat_minor": 5
}
