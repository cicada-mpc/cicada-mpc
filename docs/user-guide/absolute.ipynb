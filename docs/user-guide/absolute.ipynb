{
 "cells": [
  {
   "cell_type": "markdown",
   "metadata": {},
   "source": [
    "# Absolute Value\n",
    "\n",
    "In this example, we generate a 2x2 matrix of values selected uniformly at random from the field. Then we will reveal them so we can check correctness of the protocol.\n",
    "\n",
    "Next we will call the absolute method on the secret_share which will calculate the ablsolute value of the matrix on an elementwise basis and return the shared result. This we reveal and decode and print to check against what we would expect given the original secrets.\n",
    "\n",
    "As you can see from inspection the result of the protocol satifies the desired functionality of what one would expect from absolute value."
   ]
  },
  {
   "cell_type": "code",
   "execution_count": 2,
   "metadata": {},
   "outputs": [],
   "source": [
    "import logging"
   ]
  },
  {
   "cell_type": "code",
   "execution_count": 3,
   "metadata": {},
   "outputs": [],
   "source": [
    "import numpy"
   ]
  },
  {
   "cell_type": "code",
   "execution_count": 4,
   "metadata": {},
   "outputs": [],
   "source": [
    "import cicada.additive\n",
    "import cicada.communicator"
   ]
  },
  {
   "cell_type": "code",
   "execution_count": 5,
   "metadata": {},
   "outputs": [],
   "source": [
    "logging.basicConfig(level=logging.INFO)"
   ]
  },
  {
   "cell_type": "code",
   "execution_count": 6,
   "metadata": {},
   "outputs": [],
   "source": [
    "@cicada.communicator.NNGCommunicator.run(world_size=3)\n",
    "def main(communicator):\n",
    "    log = cicada.Logger(logging.getLogger(), communicator)\n",
    "    protocol = cicada.additive.AdditiveProtocol(communicator)\n",
    "    generator = numpy.random.default_rng()\n",
    "    secret_share = protocol.uniform(shape=(2,2))\n",
    "    secret = protocol.encoder.decode(protocol.reveal(secret_share))\n",
    "    log.info(f\"Player {communicator.rank} secret: \\n{secret}\")\n",
    "    absolute_share = protocol.absolute(secret_share)\n",
    "    absolute = protocol.encoder.decode(protocol.reveal(absolute_share))\n",
    "    log.info(f\"Player {communicator.rank} absolute(secret): \\n{absolute}\")\n",
    "    \n"
   ]
  },
  {
   "cell_type": "code",
   "execution_count": 7,
   "metadata": {},
   "outputs": [
    {
     "name": "stderr",
     "output_type": "stream",
     "text": [
      "INFO:cicada.communicator.nng:Player 0 rendezvous with tcp://127.0.0.1:62937 from tcp://127.0.0.1:62937.\n",
      "INFO:cicada.communicator.nng:Player 1 rendezvous with tcp://127.0.0.1:62937 from tcp://127.0.0.1:62938.\n",
      "INFO:cicada.communicator.nng:Player 2 rendezvous with tcp://127.0.0.1:62937 from tcp://127.0.0.1:62939.\n",
      "INFO:cicada.communicator.nng:Comm 'world' player 0 communicator ready.\n",
      "INFO:cicada.communicator.nng:Comm 'world' player 2 communicator ready.\n",
      "INFO:cicada.communicator.nng:Comm 'world' player 1 communicator ready.\n",
      "INFO:root:Player 0 secret: \n",
      "[[-6.70366348e+13  1.35850363e+14]\n",
      " [ 3.48036470e+13  1.13408667e+14]]\n",
      "INFO:root:Player 1 secret: \n",
      "[[-6.70366348e+13  1.35850363e+14]\n",
      " [ 3.48036470e+13  1.13408667e+14]]\n",
      "INFO:root:Player 2 secret: \n",
      "[[-6.70366348e+13  1.35850363e+14]\n",
      " [ 3.48036470e+13  1.13408667e+14]]\n",
      "INFO:root:Player 0 absolute(secret): \n",
      "[[6.70366348e+13 1.35850363e+14]\n",
      " [3.48036470e+13 1.13408667e+14]]\n",
      "INFO:root:Player 1 absolute(secret): \n",
      "[[6.70366348e+13 1.35850363e+14]\n",
      " [3.48036470e+13 1.13408667e+14]]\n",
      "INFO:root:Player 2 absolute(secret): \n",
      "[[6.70366348e+13 1.35850363e+14]\n",
      " [3.48036470e+13 1.13408667e+14]]\n",
      "INFO:cicada.communicator.nng:Comm 'world' player 0 communicator freed.\n",
      "INFO:cicada.communicator.nng:Comm 'world' player 1 communicator freed.\n",
      "INFO:cicada.communicator.nng:Comm 'world' player 2 communicator freed.\n",
      "INFO:cicada.communicator.nng:Player 0 returned: None\n",
      "INFO:cicada.communicator.nng:Player 1 returned: None\n",
      "INFO:cicada.communicator.nng:Player 2 returned: None\n"
     ]
    },
    {
     "data": {
      "text/plain": [
       "[None, None, None]"
      ]
     },
     "execution_count": 7,
     "metadata": {},
     "output_type": "execute_result"
    }
   ],
   "source": [
    "main()"
   ]
  },
  {
   "cell_type": "code",
   "execution_count": null,
   "metadata": {},
   "outputs": [],
   "source": []
  }
 ],
 "metadata": {
  "kernelspec": {
   "display_name": "Python 3 (ipykernel)",
   "language": "python",
   "name": "python3"
  },
  "language_info": {
   "codemirror_mode": {
    "name": "ipython",
    "version": 3
   },
   "file_extension": ".py",
   "mimetype": "text/x-python",
   "name": "python",
   "nbconvert_exporter": "python",
   "pygments_lexer": "ipython3",
   "version": "3.8.10"
  }
 },
 "nbformat": 4,
 "nbformat_minor": 2
}
