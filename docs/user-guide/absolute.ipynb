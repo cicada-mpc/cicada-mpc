{
 "cells": [
  {
   "cell_type": "raw",
   "metadata": {
    "raw_mimetype": "text/restructuredtext"
   },
   "source": [
    ".. _absolute_values:\n",
    "\n",
    "Absolute Values\n",
    "===============\n",
    "\n",
    "In this example, player 1 secret-shares a vector of values, and all players compute the their absolute values element-wise while preserving privacy:"
   ]
  },
  {
   "cell_type": "code",
   "execution_count": 1,
   "metadata": {},
   "outputs": [
    {
     "name": "stderr",
     "output_type": "stream",
     "text": [
      "INFO:cicada.communicator.nng:Player 0 rendezvous with tcp://127.0.0.1:50171 from tcp://127.0.0.1:50171.\n",
      "INFO:cicada.communicator.nng:Player 1 rendezvous with tcp://127.0.0.1:50171 from tcp://127.0.0.1:50172.\n",
      "INFO:cicada.communicator.nng:Player 2 rendezvous with tcp://127.0.0.1:50171 from tcp://127.0.0.1:50173.\n",
      "INFO:cicada.communicator.nng:Comm 'world' player 0 communicator ready.\n",
      "INFO:cicada.communicator.nng:Comm 'world' player 2 communicator ready.\n",
      "INFO:cicada.communicator.nng:Comm 'world' player 1 communicator ready.\n",
      "INFO:root:Player 1 secret: [ 1.  -2.  -3.5  6.7]\n",
      "INFO:root:Player 0 abs(secret): [1.         2.         3.5        6.69999695]\n",
      "INFO:root:Player 1 abs(secret): [1.         2.         3.5        6.69999695]\n",
      "INFO:root:Player 2 abs(secret): [1.         2.         3.5        6.69999695]\n",
      "INFO:cicada.communicator.nng:Comm 'world' player 1 communicator freed.\n",
      "INFO:cicada.communicator.nng:Comm 'world' player 0 communicator freed.\n",
      "INFO:cicada.communicator.nng:Comm 'world' player 2 communicator freed.\n",
      "INFO:cicada.communicator.nng:Player 0 returned: None\n",
      "INFO:cicada.communicator.nng:Player 1 returned: None\n",
      "INFO:cicada.communicator.nng:Player 2 returned: None\n"
     ]
    }
   ],
   "source": [
    "import logging\n",
    "\n",
    "import numpy\n",
    "\n",
    "import cicada.additive\n",
    "import cicada.communicator\n",
    "\n",
    "logging.basicConfig(level=logging.INFO)\n",
    "\n",
    "@cicada.communicator.NNGCommunicator.run(world_size=3)\n",
    "def main(communicator):\n",
    "    log = cicada.Logger(logging.getLogger(), communicator)\n",
    "    protocol = cicada.additive.AdditiveProtocol(communicator)\n",
    "    \n",
    "    secret = numpy.array([1, -2, -3.5, 6.7]) if communicator.rank == 1 else None\n",
    "    log.info(f\"Player {communicator.rank} secret: {secret}\", src=1)    \n",
    "    \n",
    "    secret_share = protocol.share(src=1, secret=protocol.encoder.encode(secret), shape=(4,))\n",
    "    absolute_share = protocol.absolute(secret_share)\n",
    "    absolute = protocol.encoder.decode(protocol.reveal(absolute_share))\n",
    "    \n",
    "    log.info(f\"Player {communicator.rank} abs(secret): {absolute}\")\n",
    "\n",
    "main();"
   ]
  },
  {
   "cell_type": "markdown",
   "metadata": {},
   "source": [
    "Note that $6.69999695$ is an approximation to the original value, due to the limited precision of the fixed point encoding."
   ]
  }
 ],
 "metadata": {
  "celltoolbar": "Raw Cell Format",
  "kernelspec": {
   "display_name": "Python 3",
   "language": "python",
   "name": "python3"
  },
  "language_info": {
   "codemirror_mode": {
    "name": "ipython",
    "version": 3
   },
   "file_extension": ".py",
   "mimetype": "text/x-python",
   "name": "python",
   "nbconvert_exporter": "python",
   "pygments_lexer": "ipython3",
   "version": "3.7.10"
  }
 },
 "nbformat": 4,
 "nbformat_minor": 2
}
