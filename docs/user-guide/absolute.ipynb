{
 "cells": [
  {
   "cell_type": "raw",
   "metadata": {
    "raw_mimetype": "text/restructuredtext"
   },
   "source": [
    ".. _absolute:\n",
    "\n",
    "Absolute Value\n",
    "==============\n",
    "\n",
    "In this example, player 1 secret-shares a vector, and all players compute the absolute values element-wise while preserving privacy:"
   ]
  },
  {
   "cell_type": "code",
   "execution_count": null,
   "metadata": {},
   "outputs": [],
   "source": [
    "\n",
    "import logging\n",
    "\n",
    "import numpy\n",
    "\n",
    "import cicada.additive\n",
    "import cicada.communicator\n",
    "\n",
    "logging.basicConfig(level=logging.INFO)\n",
    "\n",
    "@cicada.communicator.NNGCommunicator.run(world_size=3)\n",
    "def main(communicator):\n",
    "    log = cicada.Logger(logging.getLogger(), communicator)\n",
    "    protocol = cicada.additive.AdditiveProtocol(communicator)\n",
    "    \n",
    "    secret = numpy.array([1, -2, -3.5, 6.7]) if communicator.rank == 1 else None\n",
    "    log.info(f\"Player {communicator.rank} secret: {secret}\", src=1)    \n",
    "    \n",
    "    secret_share = protocol.share(src=1, secret=protocol.encoder.encode(secret), shape=(4,))\n",
    "    absolute_share = protocol.absolute(secret_share)\n",
    "    absolute = protocol.encoder.decode(protocol.reveal(absolute_share))\n",
    "    \n",
    "    log.info(f\"Player {communicator.rank} abs(secret): {absolute}\")\n",
    "\n",
    "main();"
   ]
  },
  {
   "cell_type": "raw",
   "metadata": {
    "raw_mimetype": "text/restructuredtext"
   },
   "source": [
    "Note that :math:`6.69999695` is an approximation to the original value, due to the limited precision of the fixed point encoding.\n",
    "\n",
    ".. seealso:: :ref:`floor`"
   ]
  }
 ],
 "metadata": {
  "celltoolbar": "Raw Cell Format",
  "kernelspec": {
   "display_name": "Python 3",
   "language": "python",
   "name": "python3"
  },
  "language_info": {
   "codemirror_mode": {
    "name": "ipython",
    "version": 3
   },
   "file_extension": ".py",
   "mimetype": "text/x-python",
   "name": "python",
   "nbconvert_exporter": "python",
   "pygments_lexer": "ipython3",
   "version": "3.9.7"
  }
 },
 "nbformat": 4,
 "nbformat_minor": 2
}
