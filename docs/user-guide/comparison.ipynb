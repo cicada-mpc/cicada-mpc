{
 "cells": [
  {
   "cell_type": "raw",
   "metadata": {
    "raw_mimetype": "text/restructuredtext"
   },
   "source": [
    ".. _comparison:\n",
    "\n",
    "Comparison\n",
    "==========\n",
    "\n",
    "Here we demonstrate comparing two secret-shared values to see whether the first is less than the second.  The result of the comparison is itself a secret which must be revealed.  The result of the comparison is \"0\"  (false) or \"1\" (true), and isn't encoded.\n",
    "\n",
    "In this example, we compare :math:`2 < 3.5`, and the revealed result is :math:`1`, indicating that the comparison is, indeed true:"
   ]
  },
  {
   "cell_type": "code",
   "execution_count": 1,
   "metadata": {},
   "outputs": [
    {
     "name": "stderr",
     "output_type": "stream",
     "text": [
      "INFO:cicada.communicator.nng:Player 0 rendezvous with tcp://127.0.0.1:60074 from tcp://127.0.0.1:60074.\n",
      "INFO:cicada.communicator.nng:Player 1 rendezvous with tcp://127.0.0.1:60074 from tcp://127.0.0.1:60075.\n",
      "INFO:cicada.communicator.nng:Player 2 rendezvous with tcp://127.0.0.1:60074 from tcp://127.0.0.1:60076.\n",
      "INFO:cicada.communicator.nng:Comm 'world' player 0 communicator ready.\n",
      "INFO:cicada.communicator.nng:Comm 'world' player 1 communicator ready.\n",
      "INFO:cicada.communicator.nng:Comm 'world' player 2 communicator ready.\n",
      "INFO:root:Player 1 secret: 2\n",
      "INFO:root:Player 2 secret: 3.5\n",
      "INFO:root:Player 0 result: 1\n",
      "INFO:root:Player 1 result: 1\n",
      "INFO:root:Player 2 result: 1\n",
      "INFO:cicada.communicator.nng:Comm 'world' player 1 communicator freed.\n",
      "INFO:cicada.communicator.nng:Comm 'world' player 2 communicator freed.\n",
      "INFO:cicada.communicator.nng:Comm 'world' player 0 communicator freed.\n",
      "INFO:cicada.communicator.nng:Player 0 returned: None\n",
      "INFO:cicada.communicator.nng:Player 1 returned: None\n",
      "INFO:cicada.communicator.nng:Player 2 returned: None\n"
     ]
    }
   ],
   "source": [
    "import logging\n",
    "\n",
    "import numpy\n",
    "\n",
    "import cicada.additive\n",
    "import cicada.communicator\n",
    "\n",
    "logging.basicConfig(level=logging.INFO)\n",
    "\n",
    "@cicada.communicator.NNGCommunicator.run(world_size=3)\n",
    "def main(communicator):\n",
    "    log = cicada.Logger(logging.getLogger(), communicator)\n",
    "    protocol = cicada.additive.AdditiveProtocol(communicator)\n",
    "\n",
    "    a = numpy.array(2) if communicator.rank == 1 else None\n",
    "    b = numpy.array(3.5) if communicator.rank == 2 else None\n",
    "\n",
    "    log.info(f\"Player {communicator.rank} secret: {a}\", src=1)\n",
    "    log.info(f\"Player {communicator.rank} secret: {b}\", src=2)\n",
    "\n",
    "    a_share = protocol.share(src=1, secret=protocol.encoder.encode(a), shape=())\n",
    "    b_share = protocol.share(src=2, secret=protocol.encoder.encode(b), shape=())\n",
    "    \n",
    "    less_than_share = protocol.less(a_share, b_share)\n",
    "    less_than = protocol.reveal(less_than_share)\n",
    "    \n",
    "    log.info(f\"Player {communicator.rank} result: {less_than}\")\n",
    "\n",
    "main();"
   ]
  }
 ],
 "metadata": {
  "celltoolbar": "Raw Cell Format",
  "kernelspec": {
   "display_name": "Python 3",
   "language": "python",
   "name": "python3"
  },
  "language_info": {
   "codemirror_mode": {
    "name": "ipython",
    "version": 3
   },
   "file_extension": ".py",
   "mimetype": "text/x-python",
   "name": "python",
   "nbconvert_exporter": "python",
   "pygments_lexer": "ipython3",
   "version": "3.7.10"
  }
 },
 "nbformat": 4,
 "nbformat_minor": 2
}
