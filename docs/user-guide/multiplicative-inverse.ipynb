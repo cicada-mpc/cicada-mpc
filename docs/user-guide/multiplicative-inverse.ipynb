{
 "cells": [
  {
   "cell_type": "raw",
   "metadata": {
    "raw_mimetype": "text/restructuredtext"
   },
   "source": [
    "Multiplicative Inverse\n",
    "======================\n",
    "\n",
    "In this section we will compute exact multiplicative inverses with respect to the field.  Note that this is not the same as :ref:`division <division>`, which produces approximate results.\n",
    "\n",
    "In this case the multiplicative inverse we are dealing with is associated specifically with the field, and not relative to the encoded or decoded values that we create with our fixed point arithmetic.  Thus, we don't have to deal with encoding or decoding values.\n",
    "\n",
    "In this example, we generate three random field values, reveal them, compute the multiplicative inverses, reveal them, and perform an untruncated multiplication, all of which reveal the value :math:`1`, showing that the inverses are correct for the field."
   ]
  },
  {
   "cell_type": "code",
   "execution_count": 1,
   "metadata": {},
   "outputs": [
    {
     "name": "stderr",
     "output_type": "stream",
     "text": [
      "INFO:cicada.communicator.socket:Comm 'world' player 0 rendezvous with tcp://127.0.0.1:58563 from tcp://127.0.0.1:58563.\n",
      "INFO:cicada.communicator.socket:Comm 'world' player 1 rendezvous with tcp://127.0.0.1:58563 from tcp://127.0.0.1:58564.\n",
      "INFO:cicada.communicator.socket:Comm 'world' player 2 rendezvous with tcp://127.0.0.1:58563 from tcp://127.0.0.1:58566.\n",
      "INFO:cicada.communicator.socket:Comm 'world' player 0 communicator ready.\n",
      "INFO:cicada.communicator.socket:Comm 'world' player 2 communicator ready.\n",
      "INFO:cicada.communicator.socket:Comm 'world' player 1 communicator ready.\n",
      "INFO:root:************************************************************\n",
      "INFO:root:Player 0 random value:           7505148117998384682\n",
      "INFO:root:Player 0 multiplicative inverse: 14166172273060554651\n",
      "INFO:root:Player 0 product:                1\n",
      "INFO:root:************************************************************\n",
      "INFO:root:Player 0 random value:           8609846323491160193\n",
      "INFO:root:Player 0 multiplicative inverse: 1858200814336759742\n",
      "INFO:root:Player 0 product:                1\n",
      "INFO:root:************************************************************\n",
      "INFO:root:Player 0 random value:           3238270173316705111\n",
      "INFO:root:Player 0 multiplicative inverse: 13026943803947525712\n",
      "INFO:root:Player 0 product:                1\n",
      "INFO:cicada.communicator.socket:Comm 'world' player 0 communicator freed.\n",
      "INFO:cicada.communicator.socket:Comm 'world' player 1 communicator freed.\n",
      "INFO:cicada.communicator.socket:Comm 'world' player 2 communicator freed.\n",
      "INFO:cicada.communicator.socket:Player 0 return: None\n",
      "INFO:cicada.communicator.socket:Player 1 return: None\n",
      "INFO:cicada.communicator.socket:Player 2 return: None\n"
     ]
    }
   ],
   "source": [
    "import logging\n",
    "\n",
    "import numpy\n",
    "\n",
    "import cicada.additive\n",
    "from cicada.communicator import SocketCommunicator\n",
    "\n",
    "logging.basicConfig(level=logging.INFO)\n",
    "\n",
    "def main(communicator):\n",
    "    log = cicada.Logger(logging.getLogger(), communicator)\n",
    "    protocol = cicada.additive.AdditiveProtocol(communicator)\n",
    "\n",
    "    for i in range(3):\n",
    "        log.info(f\"*\" * 60, src=0)\n",
    "\n",
    "        random_share = protocol.uniform()\n",
    "        random = protocol.reveal(random_share)\n",
    "        log.info(f\"Player {communicator.rank} random value:           {random}\", src=0)\n",
    "        \n",
    "        inverse_share = protocol.multiplicative_inverse(random_share)\n",
    "        inverse = protocol.reveal(inverse_share)\n",
    "        log.info(f\"Player {communicator.rank} multiplicative inverse: {inverse}\", src=0)\n",
    "\n",
    "        product_share = protocol.untruncated_multiply(random_share, inverse_share)\n",
    "        product = protocol.reveal(product_share)\n",
    "        log.info(f\"Player {communicator.rank} product:                {product}\", src=0)\n",
    "\n",
    "SocketCommunicator.run(world_size=3, fn=main);"
   ]
  }
 ],
 "metadata": {
  "celltoolbar": "Raw Cell Format",
  "kernelspec": {
   "display_name": "Python 3 (ipykernel)",
   "language": "python",
   "name": "python3"
  },
  "language_info": {
   "codemirror_mode": {
    "name": "ipython",
    "version": 3
   },
   "file_extension": ".py",
   "mimetype": "text/x-python",
   "name": "python",
   "nbconvert_exporter": "python",
   "pygments_lexer": "ipython3",
   "version": "3.8.2"
  }
 },
 "nbformat": 4,
 "nbformat_minor": 2
}
