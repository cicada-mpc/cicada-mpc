{
 "cells": [
  {
   "cell_type": "raw",
   "metadata": {
    "raw_mimetype": "text/restructuredtext"
   },
   "source": [
    ".. _floor:\n",
    "\n",
    "Floor\n",
    "=====\n",
    "\n",
    "In this notebook we will generate uniformly random shared secrets, then we will use the *floor* operator to return secrets with the fractional parts removed. We reveal the operands and the results to demonstrate correctness.\n",
    "\n",
    "Note that we are initializing :any:`AdditiveProtocol` with a custom modulus (251) and a reduced number of fractional bits (4) so that the random secrets are small and easy to read in the output.\n",
    "\n",
    "As with all operators in Cicada, *floor* applies element-wise to input arrays of any shape."
   ]
  },
  {
   "cell_type": "code",
   "execution_count": 2,
   "metadata": {},
   "outputs": [
    {
     "name": "stderr",
     "output_type": "stream",
     "text": [
      "INFO:cicada.communicator.nng:Player 0 rendezvous with tcp://127.0.0.1:52399 from tcp://127.0.0.1:52399.\n",
      "INFO:cicada.communicator.nng:Player 1 rendezvous with tcp://127.0.0.1:52399 from tcp://127.0.0.1:52400.\n",
      "INFO:cicada.communicator.nng:Player 2 rendezvous with tcp://127.0.0.1:52399 from tcp://127.0.0.1:52401.\n",
      "INFO:cicada.communicator.nng:Comm 'world' player 0 communicator ready.\n",
      "INFO:cicada.communicator.nng:Comm 'world' player 2 communicator ready.\n",
      "INFO:cicada.communicator.nng:Comm 'world' player 1 communicator ready.\n",
      "100%|████████████████████████████████████████████████████████████████████████████████████████████████████████████████████████████████████████████████████████████████████████| 100/100 [23:16<00:00, 13.96s/it]\n",
      "\n",
      "\n",
      "INFO:root:Player 0 floor reg time: 13.956865284442902s floor fast: 6.975747063159942s\n",
      "INFO:root:Player 1 floor reg time: 13.954211111068725s floor fast: 6.973094670772553s\n",
      "INFO:root:Player 2 floor reg time: 13.952678809165954s floor fast: 6.971563844680786s\n",
      "INFO:cicada.communicator.nng:Comm 'world' player 0 communicator freed.\n",
      "INFO:cicada.communicator.nng:Comm 'world' player 1 communicator freed.\n",
      "INFO:cicada.communicator.nng:Comm 'world' player 2 communicator freed.\n",
      "INFO:cicada.communicator.nng:Player 0 returned: None\n",
      "INFO:cicada.communicator.nng:Player 1 returned: None\n",
      "INFO:cicada.communicator.nng:Player 2 returned: None\n"
     ]
    }
   ],
   "source": [
    "import logging\n",
    "import sys\n",
    "\n",
    "import numpy\n",
    "\n",
    "import cicada.additive\n",
    "import cicada.communicator\n",
    "import time\n",
    "from tqdm import *\n",
    "from statistics import mean, stdev\n",
    "\n",
    "logging.basicConfig(level=logging.INFO)\n",
    "\n",
    "@cicada.communicator.NNGCommunicator.run(world_size=3)\n",
    "def main(communicator):\n",
    "    log = cicada.Logger(logging.getLogger(), communicator)\n",
    "    protocol = cicada.additive.AdditiveProtocol(communicator)#, modulus=251, precision=4)\n",
    "    generator = numpy.random.default_rng(seed=1234)\n",
    "    faster_times = []\n",
    "    reg_times = []\n",
    "    for i in tqdm(range(100)):\n",
    "        #log.info(\"*\" * 40, src=0)\n",
    "        \n",
    "        secret_share = protocol.uniform(generator=generator)\n",
    "        secret = protocol.encoder.decode(protocol.reveal(secret_share))\n",
    "        #log.info(f\"Player {communicator.rank} secret: {secret}\")\n",
    "\n",
    "        t0f = time.time()\n",
    "        floor_share_fast = protocol.floor_faster(secret_share)\n",
    "        faster_times.append(time.time()-t0f)\n",
    "        floor_fast = protocol.encoder.decode(protocol.reveal(floor_share_fast))\n",
    "        \n",
    "        t0r = time.time()\n",
    "        floor_share_reg = protocol.floor_faster(secret_share)\n",
    "        reg_times.append(time.time()-t0f)\n",
    "        floor_reg = protocol.encoder.decode(protocol.reveal(floor_share_reg))\n",
    "        \n",
    "        if floor_reg != floor_fast:\n",
    "            log.info(f\"Player {communicator.rank} floor reg: {floor_reg} floor fast: {floor_fast}\")\n",
    "            \n",
    "    log.info(f\"Player {communicator.rank} floor reg time: {mean(reg_times)}s floor fast: {mean(faster_times)}s\")\n",
    "\n",
    "main();"
   ]
  },
  {
   "cell_type": "raw",
   "metadata": {
    "raw_mimetype": "text/restructuredtext"
   },
   "source": [
    ".. seealso:: :ref:`absolute`"
   ]
  },
  {
   "cell_type": "code",
   "execution_count": null,
   "metadata": {},
   "outputs": [],
   "source": []
  },
  {
   "cell_type": "code",
   "execution_count": null,
   "metadata": {},
   "outputs": [],
   "source": []
  },
  {
   "cell_type": "code",
   "execution_count": null,
   "metadata": {},
   "outputs": [],
   "source": []
  },
  {
   "cell_type": "code",
   "execution_count": null,
   "metadata": {},
   "outputs": [],
   "source": []
  },
  {
   "cell_type": "code",
   "execution_count": null,
   "metadata": {},
   "outputs": [],
   "source": []
  },
  {
   "cell_type": "code",
   "execution_count": null,
   "metadata": {},
   "outputs": [],
   "source": []
  },
  {
   "cell_type": "code",
   "execution_count": null,
   "metadata": {},
   "outputs": [],
   "source": []
  }
 ],
 "metadata": {
  "celltoolbar": "Raw Cell Format",
  "kernelspec": {
   "display_name": "Python 3 (ipykernel)",
   "language": "python",
   "name": "python3"
  },
  "language_info": {
   "codemirror_mode": {
    "name": "ipython",
    "version": 3
   },
   "file_extension": ".py",
   "mimetype": "text/x-python",
   "name": "python",
   "nbconvert_exporter": "python",
   "pygments_lexer": "ipython3",
   "version": "3.8.10"
  }
 },
 "nbformat": 4,
 "nbformat_minor": 2
}
