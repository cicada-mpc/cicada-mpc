{
 "cells": [
  {
   "cell_type": "markdown",
   "metadata": {},
   "source": [
    "# Logical Exclusive Or\n",
    "\n",
    "Here we demonstrate the logical XOR function within cicada. As with the other logical functions, it does not have any connection with the interpretation of field elements as fixed point arithmetic values, only boolean. Use of this function on values that are not either 1 or 0 will have unexpected results. \n",
    "\n",
    "We share two arrays which will allow us to produce a complete and correct truth table for the logical or function in op1 and op2. We reveal one of them for the sake of demonstration and completeness. \n",
    "\n",
    "Following the sharing and revealing we call the logical_xor function on the two arrays, and reveal the result. Do take note that we have not at any point envoked the encode or decode functions. This operates on 1 or 0 in the field only. The returned array contains the elementwise logical or of the array elements from the operands."
   ]
  },
  {
   "cell_type": "code",
   "execution_count": 2,
   "metadata": {},
   "outputs": [],
   "source": [
    "import logging"
   ]
  },
  {
   "cell_type": "code",
   "execution_count": 3,
   "metadata": {},
   "outputs": [],
   "source": [
    "import numpy"
   ]
  },
  {
   "cell_type": "code",
   "execution_count": 4,
   "metadata": {},
   "outputs": [],
   "source": [
    "import cicada.communicator\n",
    "import cicada.encoder\n",
    "import cicada.additive"
   ]
  },
  {
   "cell_type": "code",
   "execution_count": 5,
   "metadata": {},
   "outputs": [],
   "source": [
    "expected = [0,1,1,0]"
   ]
  },
  {
   "cell_type": "code",
   "execution_count": 6,
   "metadata": {},
   "outputs": [],
   "source": [
    "logging.basicConfig(level=logging.INFO)"
   ]
  },
  {
   "cell_type": "code",
   "execution_count": 7,
   "metadata": {},
   "outputs": [],
   "source": [
    "@cicada.communicator.NNGCommunicator.run(world_size=3)\n",
    "def main(communicator):\n",
    "    log = cicada.Logger(logging.getLogger(), communicator)\n",
    "    protocol = cicada.additive.AdditiveProtocol(communicator)\n",
    "    op1 = numpy.array([1, 1, 0, 0], dtype=protocol.encoder.dtype)\n",
    "    op2 = numpy.array([1, 0, 1, 0], dtype=protocol.encoder.dtype)\n",
    "    secret1 = protocol.share(src=0, secret=op1, shape=op1.shape)\n",
    "    secret2 = protocol.share(src=0, secret=op2, shape=op2.shape) \n",
    "    revealedsecret1 = protocol.reveal(secret1) \n",
    "    log.info(f\"Player {communicator.rank} revealed op1: {revealedsecret1} expected: {op1}\")\n",
    "    revealedsecret2 = protocol.reveal(secret2) \n",
    "    log.info(f\"Player {communicator.rank} revealed op2: {revealedsecret2} expected: {op2}\")\n",
    "    secretOrd = protocol.logical_xor(lhs=secret1, rhs=secret2)\n",
    "    revealedSecretOrd = protocol.reveal(secretOrd)\n",
    "    log.info(f\"Player {communicator.rank} revealed op1||op2: {revealedSecretOrd} expected: {expected}\")"
   ]
  },
  {
   "cell_type": "code",
   "execution_count": 8,
   "metadata": {},
   "outputs": [
    {
     "name": "stderr",
     "output_type": "stream",
     "text": [
      "INFO:cicada.communicator.nng:Player 0 rendezvous with tcp://127.0.0.1:49304 from tcp://127.0.0.1:49304.\n",
      "INFO:cicada.communicator.nng:Player 1 rendezvous with tcp://127.0.0.1:49304 from tcp://127.0.0.1:49305.\n",
      "INFO:cicada.communicator.nng:Player 2 rendezvous with tcp://127.0.0.1:49304 from tcp://127.0.0.1:49306.\n",
      "INFO:cicada.communicator.nng:Comm 'world' player 1 communicator ready.\n",
      "INFO:cicada.communicator.nng:Comm 'world' player 0 communicator ready.\n",
      "INFO:cicada.communicator.nng:Comm 'world' player 2 communicator ready.\n",
      "INFO:root:Player 0 revealed op1: [1 1 0 0] expected: [1 1 0 0]\n",
      "INFO:root:Player 1 revealed op1: [1 1 0 0] expected: [1 1 0 0]\n",
      "INFO:root:Player 2 revealed op1: [1 1 0 0] expected: [1 1 0 0]\n",
      "INFO:root:Player 0 revealed op2: [1 0 1 0] expected: [1 0 1 0]\n",
      "INFO:root:Player 1 revealed op2: [1 0 1 0] expected: [1 0 1 0]\n",
      "INFO:root:Player 2 revealed op2: [1 0 1 0] expected: [1 0 1 0]\n",
      "INFO:root:Player 0 revealed op1||op2: [0 1 1 0] expected: [1, 1, 1, 0]\n",
      "INFO:root:Player 1 revealed op1||op2: [0 1 1 0] expected: [1, 1, 1, 0]\n",
      "INFO:root:Player 2 revealed op1||op2: [0 1 1 0] expected: [1, 1, 1, 0]\n",
      "INFO:cicada.communicator.nng:Comm 'world' player 0 communicator freed.\n",
      "INFO:cicada.communicator.nng:Comm 'world' player 1 communicator freed.\n",
      "INFO:cicada.communicator.nng:Comm 'world' player 2 communicator freed.\n",
      "INFO:cicada.communicator.nng:Player 0 returned: None\n",
      "INFO:cicada.communicator.nng:Player 1 returned: None\n",
      "INFO:cicada.communicator.nng:Player 2 returned: None\n"
     ]
    },
    {
     "data": {
      "text/plain": [
       "[None, None, None]"
      ]
     },
     "execution_count": 8,
     "metadata": {},
     "output_type": "execute_result"
    }
   ],
   "source": [
    "main()"
   ]
  }
 ],
 "metadata": {
  "kernelspec": {
   "display_name": "Python 3 (ipykernel)",
   "language": "python",
   "name": "python3"
  },
  "language_info": {
   "codemirror_mode": {
    "name": "ipython",
    "version": 3
   },
   "file_extension": ".py",
   "mimetype": "text/x-python",
   "name": "python",
   "nbconvert_exporter": "python",
   "pygments_lexer": "ipython3",
   "version": "3.8.10"
  }
 },
 "nbformat": 4,
 "nbformat_minor": 2
}
