{
 "cells": [
  {
   "cell_type": "raw",
   "metadata": {
    "raw_mimetype": "text/restructuredtext"
   },
   "source": [
    ".. _division:\n",
    "\n",
    "Division\n",
    "========\n",
    "\n",
    "In this notebook we demonstrate the division functionality available within cicada, by computing :math:`37 / 7 = 5.2857142857`.  As always, the result will be an approximation limited by the precision of the fixed point representation of our operands.\n",
    "\n",
    "Importantly, the following is a `private-public` division: the `dividend` is a secret-shared value, while the `divisor` is a public value known to all players.  The resulting `quotient` will be a secret-shared value, so that the privacy of the dividend is preserved.\n",
    "\n",
    "As with :ref:`multiplication`, the results must be truncated.\n",
    "\n",
    "Unlike most other methods, the divisor is an **unencoded value**:"
   ]
  },
  {
   "cell_type": "code",
   "execution_count": 1,
   "metadata": {},
   "outputs": [
    {
     "name": "stderr",
     "output_type": "stream",
     "text": [
      "INFO:cicada.communicator.nng:Player 0 rendezvous with tcp://127.0.0.1:50900 from tcp://127.0.0.1:50900.\n",
      "INFO:cicada.communicator.nng:Player 1 rendezvous with tcp://127.0.0.1:50900 from tcp://127.0.0.1:50901.\n",
      "INFO:cicada.communicator.nng:Comm 'world' player 0 communicator ready.\n",
      "INFO:cicada.communicator.nng:Comm 'world' player 1 communicator ready.\n",
      "INFO:root:Dividend: 37\n",
      "INFO:root:Divisor: 7\n",
      "INFO:root:Player 0 quotient: 5.285552978515625\n",
      "INFO:root:Player 1 quotient: 5.285552978515625\n",
      "INFO:cicada.communicator.nng:Comm 'world' player 1 communicator freed.\n",
      "INFO:cicada.communicator.nng:Comm 'world' player 0 communicator freed.\n",
      "INFO:cicada.communicator.nng:Player 0 returned: None\n",
      "INFO:cicada.communicator.nng:Player 1 returned: None\n"
     ]
    }
   ],
   "source": [
    "import logging\n",
    "\n",
    "import numpy\n",
    "\n",
    "import cicada.additive\n",
    "import cicada.communicator\n",
    "\n",
    "logging.basicConfig(level=logging.INFO)\n",
    "\n",
    "@cicada.communicator.NNGCommunicator.run(world_size=2)\n",
    "def main(communicator):\n",
    "    log = cicada.Logger(logging.getLogger(), communicator)\n",
    "    protocol = cicada.additive.AdditiveProtocol(communicator)\n",
    "\n",
    "    # Player 0 will provide a secret dividend.\n",
    "    a = numpy.array(37) if communicator.rank == 0 else None\n",
    "    # All players know the divisor.\n",
    "    b = numpy.array(7)\n",
    "    \n",
    "    log.info(f\"Dividend: {a}\", src=0)\n",
    "    log.info(f\"Divisor: {b}\", src=1)\n",
    "\n",
    "    # Compute the quotient\n",
    "    a_share = protocol.share(src=0, secret=protocol.encoder.encode(a), shape=())\n",
    "    quotient_share = protocol.untruncated_private_public_divide(a_share, b)\n",
    "    quotient_share = protocol.truncate(quotient_share)\n",
    "    quotient = protocol.encoder.decode(protocol.reveal(quotient_share))\n",
    "    log.info(f\"Player {communicator.rank} quotient: {quotient}\")\n",
    "\n",
    "main();"
   ]
  },
  {
   "cell_type": "markdown",
   "metadata": {},
   "source": [
    "As you can see, the result revealed to both players is a close approximation to the expected value."
   ]
  }
 ],
 "metadata": {
  "celltoolbar": "Raw Cell Format",
  "kernelspec": {
   "display_name": "Python 3",
   "language": "python",
   "name": "python3"
  },
  "language_info": {
   "codemirror_mode": {
    "name": "ipython",
    "version": 3
   },
   "file_extension": ".py",
   "mimetype": "text/x-python",
   "name": "python",
   "nbconvert_exporter": "python",
   "pygments_lexer": "ipython3",
   "version": "3.7.10"
  }
 },
 "nbformat": 4,
 "nbformat_minor": 2
}
