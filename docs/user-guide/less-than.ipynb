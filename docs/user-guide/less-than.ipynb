{
 "cells": [
  {
   "cell_type": "raw",
   "metadata": {
    "raw_mimetype": "text/restructuredtext"
   },
   "source": [
    ".. _less-than:\n",
    "\n",
    "Less Than Comparison\n",
    "====================\n",
    "\n",
    "Here we demonstrate comparing two secret-shared values to see whether the first is less than the second.  The result of the comparison is itself a secret which can be revealed.  The revealed value will be \"1\"  (true) or \"0\" (false), and does not need to be decoded.\n",
    "\n",
    "As always, this operation will be applied element-wise to array inputs of any shape.\n",
    "\n",
    "In this example, we compare :math:`2 < 3.5`, with the revealed result of \"1\" indicating that the comparison is, indeed true:"
   ]
  },
  {
   "cell_type": "code",
   "execution_count": 1,
   "metadata": {},
   "outputs": [
    {
     "name": "stderr",
     "output_type": "stream",
     "text": [
      "INFO:cicada.communicator.socket:Comm 'world' player 0 rendezvous with tcp://127.0.0.1:57438 from tcp://127.0.0.1:57438.\n",
      "INFO:cicada.communicator.socket:Comm 'world' player 1 rendezvous with tcp://127.0.0.1:57438 from tcp://127.0.0.1:57439.\n",
      "INFO:cicada.communicator.socket:Comm 'world' player 2 rendezvous with tcp://127.0.0.1:57438 from tcp://127.0.0.1:57440.\n",
      "INFO:cicada.communicator.socket:Comm 'world' player 0 communicator ready.\n",
      "INFO:cicada.communicator.socket:Comm 'world' player 1 communicator ready.\n",
      "INFO:cicada.communicator.socket:Comm 'world' player 2 communicator ready.\n",
      "INFO:root:Player 1 secret: 2\n",
      "INFO:root:Player 2 secret: 3.5\n",
      "INFO:root:Player 0 result: 1\n",
      "INFO:root:Player 1 result: 1\n",
      "INFO:root:Player 2 result: 1\n",
      "INFO:cicada.communicator.socket:Comm 'world' player 0 communicator freed.\n",
      "INFO:cicada.communicator.socket:Comm 'world' player 2 communicator freed.\n",
      "INFO:cicada.communicator.socket:Comm 'world' player 1 communicator freed.\n",
      "INFO:cicada.communicator.socket:Player 0 return: None\n",
      "INFO:cicada.communicator.socket:Player 1 return: None\n",
      "INFO:cicada.communicator.socket:Player 2 return: None\n"
     ]
    }
   ],
   "source": [
    "import logging\n",
    "\n",
    "import numpy\n",
    "\n",
    "import cicada.additive\n",
    "from cicada.communicator import SocketCommunicator\n",
    "\n",
    "logging.basicConfig(level=logging.INFO)\n",
    "\n",
    "def main(communicator):\n",
    "    log = cicada.Logger(logging.getLogger(), communicator)\n",
    "    protocol = cicada.additive.AdditiveProtocol(communicator)\n",
    "\n",
    "    a = numpy.array(2) if communicator.rank == 1 else None\n",
    "    b = numpy.array(3.5) if communicator.rank == 2 else None\n",
    "\n",
    "    log.info(f\"Player {communicator.rank} secret: {a}\", src=1)\n",
    "    log.info(f\"Player {communicator.rank} secret: {b}\", src=2)\n",
    "\n",
    "    a_share = protocol.share(src=1, secret=protocol.encoder.encode(a), shape=())\n",
    "    b_share = protocol.share(src=2, secret=protocol.encoder.encode(b), shape=())\n",
    "    \n",
    "    less_than_share = protocol.less(a_share, b_share)\n",
    "    less_than = protocol.reveal(less_than_share)\n",
    "    \n",
    "    log.info(f\"Player {communicator.rank} result: {less_than}\")\n",
    "\n",
    "SocketCommunicator.run(main, world_size=3);\n"
   ]
  },
  {
   "cell_type": "raw",
   "metadata": {
    "raw_mimetype": "text/restructuredtext"
   },
   "source": [
    ".. seealso:: :ref:`equality`, :ref:`less-than-zero`"
   ]
  }
 ],
 "metadata": {
  "celltoolbar": "Raw Cell Format",
  "kernelspec": {
   "display_name": "Python 3 (ipykernel)",
   "language": "python",
   "name": "python3"
  },
  "language_info": {
   "codemirror_mode": {
    "name": "ipython",
    "version": 3
   },
   "file_extension": ".py",
   "mimetype": "text/x-python",
   "name": "python",
   "nbconvert_exporter": "python",
   "pygments_lexer": "ipython3",
   "version": "3.8.2"
  }
 },
 "nbformat": 4,
 "nbformat_minor": 2
}
