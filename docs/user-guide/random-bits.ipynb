{
 "cells": [
  {
   "cell_type": "raw",
   "metadata": {
    "raw_mimetype": "text/restructuredtext"
   },
   "source": [
    ".. _random-bits:\n",
    "\n",
    "Random Bit Generation\n",
    "=====================\n",
    "\n",
    "Here we briefly demonstrate generating arrays of secret shared uniform random bits, a primitive often useful in the construction of more complex protocols.\n",
    "\n",
    "We provide an instance of :class:`numpy.random.Generator` to seed the process along with the required array shape.  The result is a secret shared array containing the requested bits. Since the results are bits instead of an encoded real value, we use the :any:`Bits` encoding to reveal them.\n",
    "\n",
    "In this example we call the function several times using four bits and print the outputs for verification."
   ]
  },
  {
   "cell_type": "code",
   "execution_count": 1,
   "metadata": {},
   "outputs": [
    {
     "name": "stderr",
     "output_type": "stream",
     "text": [
      "INFO:root:****************************************\n",
      "INFO:root:Player 0 bits: [1 1 1 0]\n",
      "INFO:root:Player 1 bits: [1 1 1 0]\n",
      "INFO:root:Player 2 bits: [1 1 1 0]\n",
      "INFO:root:****************************************\n",
      "INFO:root:Player 0 bits: [0 1 0 0]\n",
      "INFO:root:Player 1 bits: [0 1 0 0]\n",
      "INFO:root:Player 2 bits: [0 1 0 0]\n",
      "INFO:root:****************************************\n",
      "INFO:root:Player 0 bits: [0 0 1 0]\n",
      "INFO:root:Player 1 bits: [0 0 1 0]\n",
      "INFO:root:Player 2 bits: [0 0 1 0]\n"
     ]
    }
   ],
   "source": [
    "import logging\n",
    "\n",
    "import numpy\n",
    "\n",
    "from cicada.additive import AdditiveProtocolSuite\n",
    "from cicada.communicator import SocketCommunicator\n",
    "from cicada.encoding import Bits, Identity\n",
    "from cicada.logger import Logger\n",
    "\n",
    "logging.basicConfig(level=logging.INFO)\n",
    "\n",
    "\n",
    "def main(communicator):\n",
    "    log = Logger(logging.getLogger(), communicator)\n",
    "    protocol = AdditiveProtocolSuite(communicator)\n",
    "    generator = numpy.random.default_rng(seed=1234)\n",
    "    \n",
    "    for index in range(3):\n",
    "        log.info(\"*\" * 40, src=0)\n",
    "        \n",
    "        bits_share = protocol.random_bits(generator=generator, shape=4)\n",
    "        bits = protocol.reveal(bits_share, encoding=Bits())\n",
    "        \n",
    "        log.info(f\"Player {communicator.rank} bits: {bits}\")\n",
    "\n",
    "SocketCommunicator.run(world_size=3, fn=main);"
   ]
  },
  {
   "cell_type": "markdown",
   "metadata": {},
   "source": [
    "Note that if you want to convert the bits into values, you can use `bit_compose`."
   ]
  },
  {
   "cell_type": "raw",
   "metadata": {
    "raw_mimetype": "text/restructuredtext"
   },
   "source": [
    ".. seealso:: :ref:`random-numbers`"
   ]
  }
 ],
 "metadata": {
  "celltoolbar": "Raw Cell Format",
  "kernelspec": {
   "display_name": "Python 3 (ipykernel)",
   "language": "python",
   "name": "python3"
  },
  "language_info": {
   "codemirror_mode": {
    "name": "ipython",
    "version": 3
   },
   "file_extension": ".py",
   "mimetype": "text/x-python",
   "name": "python",
   "nbconvert_exporter": "python",
   "pygments_lexer": "ipython3",
   "version": "3.12.2"
  }
 },
 "nbformat": 4,
 "nbformat_minor": 4
}
