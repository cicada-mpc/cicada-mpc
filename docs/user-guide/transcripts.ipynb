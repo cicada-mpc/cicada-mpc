{
 "cells": [
  {
   "cell_type": "raw",
   "id": "715b3105",
   "metadata": {
    "editable": true,
    "raw_mimetype": "text/restructuredtext",
    "slideshow": {
     "slide_type": ""
    },
    "tags": []
   },
   "source": [
    ".. _transcripts:\n",
    "\n",
    "Transcripts\n",
    "==========="
   ]
  },
  {
   "cell_type": "code",
   "execution_count": 1,
   "id": "34be8d1c",
   "metadata": {
    "editable": true,
    "slideshow": {
     "slide_type": ""
    },
    "tags": []
   },
   "outputs": [],
   "source": [
    "import logging\n",
    "logging.basicConfig(level=logging.INFO)"
   ]
  },
  {
   "cell_type": "code",
   "execution_count": 2,
   "id": "d5e1718a-5dc8-4c55-9d89-c4a660062517",
   "metadata": {
    "editable": true,
    "slideshow": {
     "slide_type": ""
    },
    "tags": []
   },
   "outputs": [],
   "source": [
    "from cicada import transcript\n",
    "transcript.enable = True\n",
    "\n",
    "handler = logging.StreamHandler()\n",
    "handler.setFormatter(transcript.Formatter())\n",
    "transcript.logger.addHandler(handler)"
   ]
  },
  {
   "cell_type": "code",
   "execution_count": 3,
   "id": "e747cb20-5293-4211-980b-c87ad4df2e2e",
   "metadata": {
    "editable": true,
    "slideshow": {
     "slide_type": ""
    },
    "tags": []
   },
   "outputs": [
    {
     "name": "stderr",
     "output_type": "stream",
     "text": [
      "Player 0 PRZSProtocol.__init__\n",
      "Player 1 PRZSProtocol.__init__\n",
      "Player 2 PRZSProtocol.__init__\n",
      "Player 0 --> 1 PRZS 375595831273965029\n",
      "Player 1 --> 2 PRZS 6438802620052491809\n",
      "Player 2 --> 0 PRZS 6727779888737909835\n",
      "Player 0 <-- 2 PRZS 6727779888737909835\n",
      "Player 1 <-- 0 PRZS 375595831273965029\n",
      "Player 2 <-- 1 PRZS 6438802620052491809\n",
      "Player 0 Let's share some secrets!\n",
      "Player 1 Let's share some secrets!\n",
      "Player 2 Let's share some secrets!\n",
      "Player 0 AdditiveProtocolSuite.share\n",
      "Player 1 AdditiveProtocolSuite.share\n",
      "Player 2 AdditiveProtocolSuite.share\n",
      "Player 0 FixedPoint.encode\n",
      "Player 1 AdditiveProtocolSuite.share\n",
      "Player 2 AdditiveProtocolSuite.share\n",
      "Player 0 Field.inplace_add\n",
      "Player 1 FixedPoint.encode\n",
      "Player 0 AdditiveProtocolSuite.share\n",
      "Player 1 Field.inplace_add\n",
      "Player 2 Let's add some secrets!\n",
      "Player 2 Field.add\n",
      "Player 0 Let's add some secrets!\n",
      "Player 1 Let's add some secrets!\n",
      "Player 0 Field.add\n",
      "Player 1 Field.add\n",
      "Player 2 Let's reveal the results!\n",
      "Player 2 AdditiveProtocolSuite.reveal\n",
      "Player 0 Let's reveal the results!\n",
      "Player 1 Let's reveal the results!\n",
      "Player 2 --> 0 GATHER 12158542094861109195\n",
      "Player 0 AdditiveProtocolSuite.reveal\n",
      "Player 1 AdditiveProtocolSuite.reveal\n",
      "Player 0 --> 0 GATHER 2505451848030368079\n",
      "Player 1 --> 0 GATHER 3782750130818401963\n",
      "Player 2 --> 1 GATHER 12158542094861109195\n",
      "Player 0 <-- 2 GATHER 12158542094861109195\n",
      "Player 0 <-- 0 GATHER 2505451848030368079\n",
      "Player 1 --> 1 GATHER 3782750130818401963\n",
      "Player 0 <-- 1 GATHER 3782750130818401963\n",
      "Player 2 --> 2 GATHER 12158542094861109195\n",
      "Player 1 <-- 2 GATHER 12158542094861109195\n",
      "Player 0 Field.inplace_add\n",
      "Player 2 <-- 2 GATHER 12158542094861109195\n",
      "Player 1 <-- 1 GATHER 3782750130818401963\n",
      "Player 0 Field.inplace_add\n",
      "Player 0 --> 1 GATHER 2505451848030368079\n",
      "Player 1 <-- 0 GATHER 2505451848030368079\n",
      "Player 0 --> 2 GATHER 2505451848030368079\n",
      "Player 1 Field.inplace_add\n",
      "Player 1 Field.inplace_add\n",
      "Player 2 <-- 0 GATHER 2505451848030368079\n",
      "Player 1 --> 2 GATHER 3782750130818401963\n",
      "Player 2 <-- 1 GATHER 3782750130818401963\n",
      "Player 2 Field.inplace_add\n",
      "Player 2 Field.inplace_add\n"
     ]
    }
   ],
   "source": [
    "import numpy\n",
    "\n",
    "from cicada.additive import AdditiveProtocolSuite\n",
    "from cicada.communicator import SocketCommunicator\n",
    "\n",
    "def main(communicator):\n",
    "    protocol = AdditiveProtocolSuite(communicator)\n",
    "    transcript.log(transcript.Category.APP, \"Let's share some secrets!\", comm=communicator.name, rank=communicator.rank)\n",
    "    a_share = protocol.share(src=0, secret=numpy.array(2), shape=())\n",
    "    b_share = protocol.share(src=1, secret=numpy.array(3), shape=())\n",
    "    transcript.log(transcript.Category.APP, \"Let's add some secrets!\", comm=communicator.name, rank=communicator.rank)\n",
    "    c_share = protocol.add(a_share, b_share)\n",
    "    transcript.log(transcript.Category.APP, \"Let's reveal the results!\", comm=communicator.name, rank=communicator.rank)\n",
    "    c = protocol.reveal(c_share)\n",
    "\n",
    "with transcript.record():\n",
    "    SocketCommunicator.run(fn=main, world_size=3);"
   ]
  },
  {
   "cell_type": "code",
   "execution_count": null,
   "id": "4d4589de-b4ed-4e92-ab99-d94b104241b4",
   "metadata": {},
   "outputs": [],
   "source": []
  }
 ],
 "metadata": {
  "celltoolbar": "Raw Cell Format",
  "kernelspec": {
   "display_name": "Python 3 (ipykernel)",
   "language": "python",
   "name": "python3"
  },
  "language_info": {
   "codemirror_mode": {
    "name": "ipython",
    "version": 3
   },
   "file_extension": ".py",
   "mimetype": "text/x-python",
   "name": "python",
   "nbconvert_exporter": "python",
   "pygments_lexer": "ipython3",
   "version": "3.11.4"
  }
 },
 "nbformat": 4,
 "nbformat_minor": 5
}
