{
 "cells": [
  {
   "cell_type": "raw",
   "id": "715b3105",
   "metadata": {
    "editable": true,
    "raw_mimetype": "text/restructuredtext",
    "slideshow": {
     "slide_type": ""
    },
    "tags": []
   },
   "source": [
    ".. _transcripts:\n",
    "\n",
    "Transcripts\n",
    "===========\n",
    "\n",
    "In this section we extend Cicada's basic :ref:`logging` functionality to support advanced use cases including detailed debugging, function tracing, and zero-knowledge proofs.  We refer to these detailed logs as *transcripts*, and access them using the :mod:`cicada.transcript` module.\n",
    "\n",
    ".. tip::\n",
    "\n",
    "    You'll need a good working knowledge of the Python :mod:`logging` module to fully understand the following examples!\n",
    "\n",
    "As always, you should initialize Python's logging system at the beginning of a Cicada program, even if you don't plan to use :mod:`logging` yourself:"
   ]
  },
  {
   "cell_type": "code",
   "execution_count": 1,
   "id": "f0cd0b2f-dfcd-4938-9878-4115198e3098",
   "metadata": {
    "editable": true,
    "slideshow": {
     "slide_type": ""
    },
    "tags": []
   },
   "outputs": [],
   "source": [
    "import logging\n",
    "logging.basicConfig(level=logging.INFO)"
   ]
  },
  {
   "cell_type": "markdown",
   "id": "db62a8d5-528d-447e-84bc-4a96955db5d4",
   "metadata": {},
   "source": [
    "Throughout this section, we'll be building on the following Cicada program, which adds two numbers using additive secret sharing:"
   ]
  },
  {
   "cell_type": "code",
   "execution_count": 2,
   "id": "f01f1b88-43f9-4e7e-ba4c-a1abcf081d79",
   "metadata": {
    "editable": true,
    "slideshow": {
     "slide_type": ""
    },
    "tags": []
   },
   "outputs": [],
   "source": [
    "import numpy\n",
    "\n",
    "from cicada.additive import AdditiveProtocolSuite\n",
    "from cicada.communicator import SocketCommunicator\n",
    "from cicada.encoding import FixedPoint\n",
    "\n",
    "def main(communicator):\n",
    "    protocol = AdditiveProtocolSuite(communicator, order=127, encoding=FixedPoint(precision=2))\n",
    "    a_share = protocol.share(src=0, secret=numpy.array(2), shape=())\n",
    "    b_share = protocol.share(src=1, secret=numpy.array(3), shape=())\n",
    "    c_share = protocol.add(a_share, b_share)\n",
    "    c = protocol.reveal(c_share)\n",
    "\n",
    "SocketCommunicator.run(fn=main, world_size=3);"
   ]
  },
  {
   "cell_type": "markdown",
   "id": "7fc560ac-b0bb-4d65-9e88-7f0bee15d033",
   "metadata": {},
   "source": [
    "Note that we're using a very small field (`order=127`) and reduced precision encoding (`precision=2`) to keep the output values manageable."
   ]
  },
  {
   "cell_type": "raw",
   "id": "e97445e0-af85-4eae-992e-a19c4e0a490b",
   "metadata": {
    "editable": true,
    "raw_mimetype": "text/restructuredtext",
    "slideshow": {
     "slide_type": ""
    },
    "tags": []
   },
   "source": [
    "Transcript Setup\n",
    "----------------\n",
    "\n",
    "Let's begin by setting-up the special transcript logger provided with Cicada:"
   ]
  },
  {
   "cell_type": "code",
   "execution_count": 3,
   "id": "bc827c1a-e555-4357-b784-f1f306bcae28",
   "metadata": {
    "editable": true,
    "slideshow": {
     "slide_type": ""
    },
    "tags": []
   },
   "outputs": [],
   "source": [
    "from cicada import transcript\n",
    "\n",
    "def main(communicator):\n",
    "    handler = logging.StreamHandler()\n",
    "    handler.setFormatter(transcript.Formatter())\n",
    "    handler.addFilter(transcript.HideAllFunctions())\n",
    "    transcript.logger.addHandler(handler)\n",
    "    \n",
    "    protocol = AdditiveProtocolSuite(communicator, order=127, encoding=FixedPoint(precision=2))\n",
    "    a_share = protocol.share(src=0, secret=numpy.array(2), shape=())\n",
    "    b_share = protocol.share(src=1, secret=numpy.array(3), shape=())\n",
    "    c_share = protocol.add(a_share, b_share)\n",
    "    c = protocol.reveal(c_share)\n",
    "\n",
    "with transcript.record():\n",
    "    SocketCommunicator.run(fn=main, world_size=3);"
   ]
  },
  {
   "cell_type": "raw",
   "id": "0488191e-79f8-453c-9c99-e0473d49380f",
   "metadata": {
    "editable": true,
    "raw_mimetype": "text/restructuredtext",
    "slideshow": {
     "slide_type": ""
    },
    "tags": []
   },
   "source": [
    "First, we add a stream handler to the transcript logger; this will direct the transcript outputs to the console.  Instead of the default formatter provided by Python, we specify a custom :class:`~cicada.transcript.Formatter` provided by Cicada, which knows how to format the wide variety of events that can be transcribed. Note that we call :func:`cicada.transcript.record` before running the rest of the program, to enable transcription.  Finally, because we added the :any:`HideAllFunctions` filter to our handler, the transcript logger doesn't produce any output. To remedy this, let's add some application-specific output to the transcript by calling the transcript logger ourselves:"
   ]
  },
  {
   "cell_type": "code",
   "execution_count": 4,
   "id": "9055c05d",
   "metadata": {
    "editable": true,
    "slideshow": {
     "slide_type": ""
    },
    "tags": []
   },
   "outputs": [
    {
     "name": "stderr",
     "output_type": "stream",
     "text": [
      "Player 0: Let's setup additive sharing!\n",
      "Player 1: Let's setup additive sharing!\n",
      "Player 2: Let's setup additive sharing!\n",
      "Player 0: Let's share some secrets!\n",
      "Player 1: Let's share some secrets!\n",
      "Player 2: Let's share some secrets!\n",
      "Player 0: Let's add some secrets!\n",
      "Player 2: Let's add some secrets!\n",
      "Player 1: Let's add some secrets!\n",
      "Player 0: Let's reveal the results!\n",
      "Player 2: Let's reveal the results!\n",
      "Player 1: Let's reveal the results!\n"
     ]
    }
   ],
   "source": [
    "def main(communicator):\n",
    "    handler = logging.StreamHandler()\n",
    "    handler.setFormatter(transcript.Formatter())\n",
    "    handler.addFilter(transcript.HideAllFunctions())\n",
    "    transcript.logger.addHandler(handler)\n",
    "    \n",
    "    transcript.log(\"Let's setup additive sharing!\")\n",
    "    protocol = AdditiveProtocolSuite(communicator, order=127, encoding=FixedPoint(precision=2))\n",
    "    transcript.log(\"Let's share some secrets!\")\n",
    "    a_share = protocol.share(src=0, secret=numpy.array(2), shape=())\n",
    "    b_share = protocol.share(src=1, secret=numpy.array(3), shape=())\n",
    "    transcript.log(\"Let's add some secrets!\")\n",
    "    c_share = protocol.add(a_share, b_share)\n",
    "    transcript.log(\"Let's reveal the results!\")\n",
    "    c = protocol.reveal(c_share)\n",
    "\n",
    "with transcript.record():\n",
    "    SocketCommunicator.run(fn=main, world_size=3);"
   ]
  },
  {
   "cell_type": "raw",
   "id": "b289d2bf-f306-4cd6-b7e5-27797564f2a8",
   "metadata": {
    "editable": true,
    "raw_mimetype": "text/restructuredtext",
    "slideshow": {
     "slide_type": ""
    },
    "tags": []
   },
   "source": [
    "Now, we see output that originates directly from our script. As we will see, this output can provide valuable context about what the program is doing at a high level, making it much easier to understand the rest of the transcript output."
   ]
  },
  {
   "cell_type": "raw",
   "id": "53e306a2-598f-4314-9168-4e182a41cd80",
   "metadata": {
    "editable": true,
    "raw_mimetype": "text/restructuredtext",
    "slideshow": {
     "slide_type": ""
    },
    "tags": []
   },
   "source": [
    "Message Transcripts\n",
    "-------------------\n",
    "\n",
    "In some situations, you may want a detailed log of every message that Cicada sends over the network at runtime; this functionality is available using a pair of additional logging filters, :any:`ShowSentMessages` and :any:`ShowReceivedMessages`:"
   ]
  },
  {
   "cell_type": "code",
   "execution_count": 5,
   "id": "2f49632a-9277-47cc-947e-c5e88962dec4",
   "metadata": {
    "editable": true,
    "slideshow": {
     "slide_type": ""
    },
    "tags": []
   },
   "outputs": [
    {
     "name": "stderr",
     "output_type": "stream",
     "text": [
      "Player 0: Let's setup additive sharing!\n",
      "Player 1: Let's setup additive sharing!\n",
      "Player 2: Let's setup additive sharing!\n",
      "Player 0: --> 1 PRZS 655078771647630728\n",
      "Player 1: --> 2 PRZS 1602615434282235835\n",
      "Player 2: --> 0 PRZS 5819102715271731377\n",
      "Player 0: <-- 2 PRZS 5819102715271731377\n",
      "Player 1: <-- 0 PRZS 655078771647630728\n",
      "Player 2: <-- 1 PRZS 1602615434282235835\n",
      "Player 1: Let's share some secrets!\n",
      "Player 0: Let's share some secrets!\n",
      "Player 2: Let's share some secrets!\n",
      "Player 1: Let's add some secrets!\n",
      "Player 0: Let's add some secrets!\n",
      "Player 2: Let's add some secrets!\n",
      "Player 1: Let's reveal the results!\n",
      "Player 0: Let's reveal the results!\n",
      "Player 2: Let's reveal the results!\n",
      "Player 1: --> 0 GATHER 11\n",
      "Player 0: --> 0 GATHER 85\n",
      "Player 2: --> 0 GATHER 51\n",
      "Player 1: --> 1 GATHER 11\n",
      "Player 0: <-- 1 GATHER 11\n",
      "Player 2: --> 1 GATHER 51\n",
      "Player 1: <-- 1 GATHER 11\n",
      "Player 0: <-- 0 GATHER 85\n",
      "Player 2: --> 2 GATHER 51\n",
      "Player 1: <-- 2 GATHER 51\n",
      "Player 0: <-- 2 GATHER 51\n",
      "Player 2: <-- 2 GATHER 51\n",
      "Player 0: --> 1 GATHER 85\n",
      "Player 0: --> 2 GATHER 85\n",
      "Player 1: <-- 0 GATHER 85\n",
      "Player 2: <-- 0 GATHER 85\n",
      "Player 1: --> 2 GATHER 11\n",
      "Player 2: <-- 1 GATHER 11\n"
     ]
    }
   ],
   "source": [
    "def main(communicator):\n",
    "    handler = logging.StreamHandler()\n",
    "    handler.setFormatter(transcript.Formatter())\n",
    "    handler.addFilter(transcript.ShowSentMessages())\n",
    "    handler.addFilter(transcript.ShowReceivedMessages())\n",
    "    handler.addFilter(transcript.HideAllFunctions())\n",
    "    transcript.logger.addHandler(handler)\n",
    "\n",
    "    transcript.log(\"Let's setup additive sharing!\")\n",
    "    protocol = AdditiveProtocolSuite(communicator, order=127, encoding=FixedPoint(precision=2))\n",
    "    transcript.log(\"Let's share some secrets!\")\n",
    "    a_share = protocol.share(src=0, secret=numpy.array(2), shape=())\n",
    "    b_share = protocol.share(src=1, secret=numpy.array(3), shape=())\n",
    "    transcript.log(\"Let's add some secrets!\")\n",
    "    c_share = protocol.add(a_share, b_share)\n",
    "    transcript.log(\"Let's reveal the results!\")\n",
    "    c = protocol.reveal(c_share)\n",
    "\n",
    "    handler.close()\n",
    "\n",
    "with transcript.record():\n",
    "    SocketCommunicator.run(fn=main, world_size=3)"
   ]
  },
  {
   "cell_type": "raw",
   "id": "d83befb6-1d60-4977-b356-53bf504ab6a6",
   "metadata": {
    "editable": true,
    "raw_mimetype": "text/restructuredtext",
    "slideshow": {
     "slide_type": ""
    },
    "tags": []
   },
   "source": [
    "If you want to customize the transcript, you can pass a custom format string to :class:`~cicada.transcript.Formatter`, using a rich set of format fields including: `message.arrow` (message direction, relative to the local rank), `message.comm.name` (communicator name), `message.dir` (message direction, relative to the local rank), `message.dst` (message destination), `message.other` (the other player sending or receiving with the local rank), `message.payload` (message payload), `message.comm.rank` (local player), `message.src` (message source), `message.tag` (message type), and `message.verb` (\"send\" or \"receive\", depending on whether the local player is sending or receiving).\n",
    "\n",
    ".. tip::\n",
    "\n",
    "    Because the custom fields used to format the transcript don't exist for other log messages, you'll get exceptions if you try to mix the output from the transcript logger with logging from other modules.  For this reason, the transcript logger has propagation turned-off by default, so transcript output can be managed separately from other logging events.\n",
    "\n",
    "Now, you can change the default formatting to produce more compact output:"
   ]
  },
  {
   "cell_type": "code",
   "execution_count": 6,
   "id": "2c2f8bb4-d83b-4441-9981-1618eae785ee",
   "metadata": {
    "editable": true,
    "slideshow": {
     "slide_type": ""
    },
    "tags": []
   },
   "outputs": [
    {
     "name": "stderr",
     "output_type": "stream",
     "text": [
      "Player 0: Let's setup additive sharing!\n",
      "Player 1: Let's setup additive sharing!\n",
      "Player 2: Let's setup additive sharing!\n",
      "0 > 1 PRZS 3377027160419402451\n",
      "1 > 2 PRZS 5784165695884654387\n",
      "2 > 0 PRZS 6282884237088027925\n",
      "1 < 0 PRZS 3377027160419402451\n",
      "2 < 1 PRZS 5784165695884654387\n",
      "0 < 2 PRZS 6282884237088027925\n",
      "Player 1: Let's share some secrets!\n",
      "Player 0: Let's share some secrets!\n",
      "Player 2: Let's share some secrets!\n",
      "Player 1: Let's add some secrets!\n",
      "Player 2: Let's add some secrets!\n",
      "Player 0: Let's add some secrets!\n",
      "Player 1: Let's reveal the results!\n",
      "Player 2: Let's reveal the results!\n",
      "Player 0: Let's reveal the results!\n",
      "1 > 0 GATHER 105\n",
      "2 > 0 GATHER 45\n",
      "0 > 0 GATHER 124\n",
      "1 > 1 GATHER 105\n",
      "2 > 1 GATHER 45\n",
      "0 < 1 GATHER 105\n",
      "1 < 1 GATHER 105\n",
      "2 > 2 GATHER 45\n",
      "0 < 2 GATHER 45\n",
      "1 < 2 GATHER 45\n",
      "0 < 0 GATHER 124\n",
      "2 < 2 GATHER 45\n",
      "0 > 1 GATHER 124\n",
      "0 > 2 GATHER 124\n",
      "1 < 0 GATHER 124\n",
      "2 < 0 GATHER 124\n",
      "1 > 2 GATHER 105\n",
      "2 < 1 GATHER 105\n"
     ]
    }
   ],
   "source": [
    "def main(communicator):\n",
    "    handler = logging.StreamHandler()\n",
    "    handler.setFormatter(transcript.Formatter(msgfmt=\"{message.comm.rank} {message.dir} {message.other} {message.tag} {message.payload}\"))\n",
    "    handler.addFilter(transcript.ShowSentMessages())\n",
    "    handler.addFilter(transcript.ShowReceivedMessages())\n",
    "    handler.addFilter(transcript.HideAllFunctions())\n",
    "    transcript.logger.addHandler(handler)\n",
    "\n",
    "    transcript.log(\"Let's setup additive sharing!\")\n",
    "    protocol = AdditiveProtocolSuite(communicator, order=127, encoding=FixedPoint(precision=2))\n",
    "    transcript.log(\"Let's share some secrets!\")\n",
    "    a_share = protocol.share(src=0, secret=numpy.array(2), shape=())\n",
    "    b_share = protocol.share(src=1, secret=numpy.array(3), shape=())\n",
    "    transcript.log(\"Let's add some secrets!\")\n",
    "    c_share = protocol.add(a_share, b_share)\n",
    "    transcript.log(\"Let's reveal the results!\")\n",
    "    c = protocol.reveal(c_share)\n",
    "\n",
    "    handler.close()\n",
    "\n",
    "with transcript.record():\n",
    "    SocketCommunicator.run(fn=main, world_size=3)"
   ]
  },
  {
   "cell_type": "markdown",
   "id": "4664661a-06bd-4911-85d8-6d1783521fb8",
   "metadata": {
    "editable": true,
    "slideshow": {
     "slide_type": ""
    },
    "tags": []
   },
   "source": [
    "Note from the log outputs that an entry is generated both when a message is sent *and* when it's received, and that the rank of the  player logging the event is always on the left, whether they are the sender or the receiver.  With the arrows indicating which direction the message is travelling, this is intuitive for a person to understand, but it can make programmatically parsing the transcript needlessly difficult.  As an alternative, you can adjust the format to always put the sender on the left and the recipient on the right, regardless of which player is logging the event:"
   ]
  },
  {
   "cell_type": "code",
   "execution_count": 7,
   "id": "0a195457-ab32-4e27-8bd0-dca6adb448bc",
   "metadata": {
    "editable": true,
    "slideshow": {
     "slide_type": ""
    },
    "tags": []
   },
   "outputs": [
    {
     "name": "stderr",
     "output_type": "stream",
     "text": [
      "Player 0: Let's setup additive sharing!\n",
      "Player 1: Let's setup additive sharing!\n",
      "Player 2: Let's setup additive sharing!\n",
      "send from 0 to 1 PRZS 6745490237216305311\n",
      "send from 1 to 2 PRZS 2702928160479271677\n",
      "send from 2 to 0 PRZS 4033772807337681048\n",
      "send from 0 to 1 PRZS 6745490237216305311\n",
      "send from 1 to 2 PRZS 2702928160479271677\n",
      "send from 2 to 0 PRZS 4033772807337681048\n",
      "Player 1: Let's share some secrets!\n",
      "Player 2: Let's share some secrets!\n",
      "Player 0: Let's share some secrets!\n",
      "Player 1: Let's add some secrets!\n",
      "Player 2: Let's add some secrets!\n",
      "Player 0: Let's add some secrets!\n",
      "Player 1: Let's reveal the results!\n",
      "Player 2: Let's reveal the results!\n",
      "Player 0: Let's reveal the results!\n",
      "send from 1 to 0 GATHER 64\n",
      "send from 2 to 0 GATHER 93\n",
      "send from 0 to 0 GATHER 117\n",
      "send from 1 to 1 GATHER 64\n",
      "send from 2 to 1 GATHER 93\n",
      "send from 1 to 0 GATHER 64\n",
      "send from 1 to 1 GATHER 64\n",
      "send from 2 to 2 GATHER 93\n",
      "send from 2 to 0 GATHER 93\n",
      "send from 2 to 1 GATHER 93\n",
      "send from 0 to 0 GATHER 117\n",
      "send from 2 to 2 GATHER 93\n",
      "send from 0 to 1 GATHER 117\n",
      "send from 0 to 2 GATHER 117\n",
      "send from 0 to 1 GATHER 117\n",
      "send from 0 to 2 GATHER 117\n",
      "send from 1 to 2 GATHER 64\n",
      "send from 1 to 2 GATHER 64\n"
     ]
    }
   ],
   "source": [
    "def main(communicator):\n",
    "    handler = logging.StreamHandler()\n",
    "    handler.setFormatter(transcript.Formatter(msgfmt=\"send from {message.src} to {message.dst} {message.tag} {message.payload}\"))\n",
    "    handler.addFilter(transcript.ShowSentMessages())\n",
    "    handler.addFilter(transcript.ShowReceivedMessages())\n",
    "    handler.addFilter(transcript.HideAllFunctions())\n",
    "    transcript.logger.addHandler(handler)\n",
    "\n",
    "    transcript.log(\"Let's setup additive sharing!\")\n",
    "    protocol = AdditiveProtocolSuite(communicator, order=127, encoding=FixedPoint(precision=2))\n",
    "    transcript.log(\"Let's share some secrets!\")\n",
    "    a_share = protocol.share(src=0, secret=numpy.array(2), shape=())\n",
    "    b_share = protocol.share(src=1, secret=numpy.array(3), shape=())\n",
    "    transcript.log(\"Let's add some secrets!\")\n",
    "    c_share = protocol.add(a_share, b_share)\n",
    "    transcript.log(\"Let's reveal the results!\")\n",
    "    c = protocol.reveal(c_share)\n",
    "\n",
    "    handler.close()\n",
    "\n",
    "with transcript.record():\n",
    "    SocketCommunicator.run(fn=main, world_size=3)"
   ]
  },
  {
   "cell_type": "raw",
   "id": "6e99ddf9-57b4-494a-ad0e-c0b27b8c3dcf",
   "metadata": {
    "editable": true,
    "raw_mimetype": "text/restructuredtext",
    "slideshow": {
     "slide_type": ""
    },
    "tags": []
   },
   "source": [
    "Since this format produces two identical events for each message (once when the message is sent, and once when the message is received), you may wish to eliminate the duplication, e.g. by only logging messages when they're sent. As you can guess, this is simply a matter of removing the :any:`ShowReceivedMessages` filter:"
   ]
  },
  {
   "cell_type": "code",
   "execution_count": 8,
   "id": "21c43469-4a87-4f59-b743-11817752caa8",
   "metadata": {
    "editable": true,
    "slideshow": {
     "slide_type": ""
    },
    "tags": []
   },
   "outputs": [
    {
     "name": "stderr",
     "output_type": "stream",
     "text": [
      "Player 0: Let's setup additive sharing!\n",
      "Player 1: Let's setup additive sharing!\n",
      "Player 2: Let's setup additive sharing!\n",
      "send from 0 to 1 PRZS 1021415905902579016\n",
      "send from 1 to 2 PRZS 1533652120980406225\n",
      "send from 2 to 0 PRZS 6792014956351522475\n",
      "Player 0: Let's share some secrets!\n",
      "Player 1: Let's share some secrets!\n",
      "Player 2: Let's share some secrets!\n",
      "Player 0: Let's add some secrets!\n",
      "Player 1: Let's add some secrets!\n",
      "Player 2: Let's add some secrets!\n",
      "Player 0: Let's reveal the results!\n",
      "Player 1: Let's reveal the results!\n",
      "Player 2: Let's reveal the results!\n",
      "send from 0 to 0 GATHER 99\n",
      "send from 2 to 0 GATHER 37\n",
      "send from 1 to 0 GATHER 11\n",
      "send from 2 to 1 GATHER 37\n",
      "send from 1 to 1 GATHER 11\n",
      "send from 0 to 1 GATHER 99\n",
      "send from 2 to 2 GATHER 37\n",
      "send from 0 to 2 GATHER 99\n",
      "send from 1 to 2 GATHER 11\n"
     ]
    }
   ],
   "source": [
    "def main(communicator):\n",
    "    handler = logging.StreamHandler()\n",
    "    handler.setFormatter(transcript.Formatter(msgfmt=\"send from {message.src} to {message.dst} {message.tag} {message.payload}\"))\n",
    "    handler.addFilter(transcript.ShowSentMessages())\n",
    "    handler.addFilter(transcript.HideAllFunctions())\n",
    "    transcript.logger.addHandler(handler)\n",
    "\n",
    "    transcript.log(\"Let's setup additive sharing!\")\n",
    "    protocol = AdditiveProtocolSuite(communicator, order=127, encoding=FixedPoint(precision=2))\n",
    "    transcript.log(\"Let's share some secrets!\")\n",
    "    a_share = protocol.share(src=0, secret=numpy.array(2), shape=())\n",
    "    b_share = protocol.share(src=1, secret=numpy.array(3), shape=())\n",
    "    transcript.log(\"Let's add some secrets!\")\n",
    "    c_share = protocol.add(a_share, b_share)\n",
    "    transcript.log(\"Let's reveal the results!\")\n",
    "    c = protocol.reveal(c_share)\n",
    "\n",
    "    handler.close()\n",
    "\n",
    "with transcript.record():\n",
    "    SocketCommunicator.run(fn=main, world_size=3)"
   ]
  },
  {
   "cell_type": "raw",
   "id": "f7a1ee7e-8296-48ab-9b1c-0b5aeaafcd8e",
   "metadata": {
    "editable": true,
    "raw_mimetype": "text/restructuredtext",
    "slideshow": {
     "slide_type": ""
    },
    "tags": []
   },
   "source": [
    "Of course, you're free to show just the received messages instead, if you prefer.\n",
    "\n",
    ".. admonition:: How do they do that?\n",
    "\n",
    "   If you're paying attention, you may be surprised to see that there aren't any messages sent when our program generates secret shares. How is this possible? It's because Cicada uses a cool trick - pseudorandom zero sharing - to create additive secret shares without communication.  Communication isn't necessary when adding additive secret shares either, which is why we only need to communicate when we reveal the results.  Now you know!"
   ]
  },
  {
   "cell_type": "raw",
   "id": "8d73bf51-f378-4363-8e53-9fee10efc017",
   "metadata": {
    "editable": true,
    "raw_mimetype": "text/restructuredtext",
    "slideshow": {
     "slide_type": ""
    },
    "tags": []
   },
   "source": [
    "Tracing Function Calls\n",
    "----------------------\n",
    "\n",
    "In addition to logging application and network message events, Cicada's transcription framework can log function calls as they happen.\n",
    "You've no doubt noticed that the preceding examples used the :any:`HideAllFunctions` filter, which is why they didn't include function calls in their output.  However, we need to be cautious if we remove :any:`HideAllFunctions` - with unfiltered tracing enabled, the transcript will contain entries for *every* function call in the entire Cicada library, which could easily swamp our notebook with log output.  Instead, we'll use the :any:`transcript.basic_config` function to replace :any:`HideAllFunctions` with a default set of filters tailored to achieve a reasonable balance between utility and verbosity:"
   ]
  },
  {
   "cell_type": "code",
   "execution_count": 9,
   "id": "a7547efc",
   "metadata": {
    "editable": true,
    "slideshow": {
     "slide_type": ""
    },
    "tags": []
   },
   "outputs": [
    {
     "name": "stderr",
     "output_type": "stream",
     "text": [
      "Player 0: Let's setup additive sharing!\n",
      "Player 1: Let's setup additive sharing!\n",
      "Player 2: Let's setup additive sharing!\n",
      "Player 0: Let's share some secrets!\n",
      "Player 1: Let's share some secrets!\n",
      "Player 2: Let's share some secrets!\n",
      "Player 0: AdditiveProtocolSuite.share(src=0, secret=array(2), shape=(), encoding=None)\n",
      "Player 1: AdditiveProtocolSuite.share(src=0, secret=array(2), shape=(), encoding=None)\n",
      "Player 2: AdditiveProtocolSuite.share(src=0, secret=array(2), shape=(), encoding=None)\n",
      "Player 0:   Field.uniform(size=(), generator=Generator(PCG64) at 0x114968BA0)\n",
      "Player 1:   Field.uniform(size=(), generator=Generator(PCG64) at 0x114968BA0)\n",
      "Player 2:   Field.uniform(size=(), generator=Generator(PCG64) at 0x114968BA0)\n",
      "Player 0:     Field.uniform => 159\n",
      "Player 1:     Field.uniform => 111\n",
      "Player 2:     Field.uniform => 30\n",
      "Player 0:   Field.uniform(size=(), generator=Generator(PCG64) at 0x114968900)\n",
      "Player 1:   Field.uniform(size=(), generator=Generator(PCG64) at 0x114968900)\n",
      "Player 2:   Field.uniform(size=(), generator=Generator(PCG64) at 0x114968900)\n",
      "Player 0:     Field.uniform => 30\n",
      "Player 2:     Field.uniform => 111\n",
      "Player 1:     Field.uniform => 159\n",
      "Player 0:   Field.inplace_subtract(lhs=array(159, dtype=object), rhs=array(30, dtype=object))\n",
      "Player 2:   Field.inplace_subtract(lhs=array(30, dtype=object), rhs=array(111, dtype=object))\n",
      "Player 1:   Field.inplace_subtract(lhs=array(111, dtype=object), rhs=array(159, dtype=object))\n",
      "Player 0:     Field.inplace_subtract => 2\n",
      "Player 2:     Field.inplace_subtract => 46\n",
      "Player 1:     Field.inplace_subtract => 79\n",
      "Player 0:   FixedPoint.encode(array=array(2), field=cicada.arithmetic.Field(order=127))\n",
      "Player 2:   AdditiveProtocolSuite.share => cicada.additive.AdditiveArrayShare(storage=46)\n",
      "Player 1:   AdditiveProtocolSuite.share => cicada.additive.AdditiveArrayShare(storage=79)\n",
      "Player 0:     FixedPoint.encode => 8\n",
      "Player 2: AdditiveProtocolSuite.share(src=1, secret=array(3), shape=(), encoding=None)\n",
      "Player 1: AdditiveProtocolSuite.share(src=1, secret=array(3), shape=(), encoding=None)\n",
      "Player 0:   Field.inplace_add(lhs=array(2, dtype=object), rhs=array(8, dtype=object))\n",
      "Player 2:   Field.uniform(size=(), generator=Generator(PCG64) at 0x114968BA0)\n",
      "Player 1:   Field.uniform(size=(), generator=Generator(PCG64) at 0x114968BA0)\n",
      "Player 0:     Field.inplace_add => 10\n",
      "Player 2:     Field.uniform => 6\n",
      "Player 1:     Field.uniform => 218\n",
      "Player 0:   AdditiveProtocolSuite.share => cicada.additive.AdditiveArrayShare(storage=10)\n",
      "Player 2:   Field.uniform(size=(), generator=Generator(PCG64) at 0x114968900)\n",
      "Player 1:   Field.uniform(size=(), generator=Generator(PCG64) at 0x114968900)\n",
      "Player 0: AdditiveProtocolSuite.share(src=1, secret=array(3), shape=(), encoding=None)\n",
      "Player 2:     Field.uniform => 218\n",
      "Player 0:   Field.uniform(size=(), generator=Generator(PCG64) at 0x114968BA0)\n",
      "Player 1:     Field.uniform => 114\n",
      "Player 2:   Field.inplace_subtract(lhs=array(6, dtype=object), rhs=array(218, dtype=object))\n",
      "Player 0:     Field.uniform => 114\n",
      "Player 1:   Field.inplace_subtract(lhs=array(218, dtype=object), rhs=array(114, dtype=object))\n",
      "Player 2:     Field.inplace_subtract => 42\n",
      "Player 0:   Field.uniform(size=(), generator=Generator(PCG64) at 0x114968900)\n",
      "Player 1:     Field.inplace_subtract => 104\n",
      "Player 2:   AdditiveProtocolSuite.share => cicada.additive.AdditiveArrayShare(storage=42)\n",
      "Player 1:   FixedPoint.encode(array=array(3), field=cicada.arithmetic.Field(order=127))\n",
      "Player 0:     Field.uniform => 6\n",
      "Player 2: Let's add some secrets!\n",
      "Player 0:   Field.inplace_subtract(lhs=array(114, dtype=object), rhs=array(6, dtype=object))\n",
      "Player 1:     FixedPoint.encode => 12\n",
      "Player 2: AdditiveProtocolSuite.add(lhs=cicada.additive.AdditiveArrayShare(storage=46), rhs=cicada.additive.AdditiveArrayShare(storage=42), encoding=None)\n",
      "Player 0:     Field.inplace_subtract => 108\n",
      "Player 1:   Field.inplace_add(lhs=array(104, dtype=object), rhs=array(12, dtype=object))\n",
      "Player 2:   AdditiveProtocolSuite.field_add(lhs=cicada.additive.AdditiveArrayShare(storage=46), rhs=cicada.additive.AdditiveArrayShare(storage=42))\n",
      "Player 0:   AdditiveProtocolSuite.share => cicada.additive.AdditiveArrayShare(storage=108)\n",
      "Player 1:     Field.inplace_add => 116\n",
      "Player 2:     Field.add(lhs=array(46, dtype=object), rhs=array(42, dtype=object))\n",
      "Player 0: Let's add some secrets!\n",
      "Player 1:   AdditiveProtocolSuite.share => cicada.additive.AdditiveArrayShare(storage=116)\n",
      "Player 2:       Field.add => 88\n",
      "Player 0: AdditiveProtocolSuite.add(lhs=cicada.additive.AdditiveArrayShare(storage=10), rhs=cicada.additive.AdditiveArrayShare(storage=108), encoding=None)\n",
      "Player 2:     AdditiveProtocolSuite.field_add => cicada.additive.AdditiveArrayShare(storage=88)\n",
      "Player 1: Let's add some secrets!\n",
      "Player 0:   AdditiveProtocolSuite.field_add(lhs=cicada.additive.AdditiveArrayShare(storage=10), rhs=cicada.additive.AdditiveArrayShare(storage=108))\n",
      "Player 2:   AdditiveProtocolSuite.add => cicada.additive.AdditiveArrayShare(storage=88)\n",
      "Player 1: AdditiveProtocolSuite.add(lhs=cicada.additive.AdditiveArrayShare(storage=79), rhs=cicada.additive.AdditiveArrayShare(storage=116), encoding=None)\n",
      "Player 0:     Field.add(lhs=array(10, dtype=object), rhs=array(108, dtype=object))\n",
      "Player 1:   AdditiveProtocolSuite.field_add(lhs=cicada.additive.AdditiveArrayShare(storage=79), rhs=cicada.additive.AdditiveArrayShare(storage=116))\n",
      "Player 2: Let's reveal the results!\n",
      "Player 0:       Field.add => 118\n",
      "Player 1:     Field.add(lhs=array(79, dtype=object), rhs=array(116, dtype=object))\n",
      "Player 2: AdditiveProtocolSuite.reveal(share=cicada.additive.AdditiveArrayShare(storage=88), dst=None, encoding=None)\n",
      "Player 0:     AdditiveProtocolSuite.field_add => cicada.additive.AdditiveArrayShare(storage=118)\n",
      "Player 1:       Field.add => 68\n",
      "Player 0:   AdditiveProtocolSuite.add => cicada.additive.AdditiveArrayShare(storage=118)\n",
      "Player 1:     AdditiveProtocolSuite.field_add => cicada.additive.AdditiveArrayShare(storage=68)\n",
      "Player 0: Let's reveal the results!\n",
      "Player 1:   AdditiveProtocolSuite.add => cicada.additive.AdditiveArrayShare(storage=68)\n",
      "Player 0: AdditiveProtocolSuite.reveal(share=cicada.additive.AdditiveArrayShare(storage=118), dst=None, encoding=None)\n",
      "Player 1: Let's reveal the results!\n",
      "Player 1: AdditiveProtocolSuite.reveal(share=cicada.additive.AdditiveArrayShare(storage=68), dst=None, encoding=None)\n",
      "Player 0:   Field.inplace_add(lhs=array(118, dtype=object), rhs=array(68, dtype=object))\n",
      "Player 0:     Field.inplace_add => 59\n",
      "Player 0:   Field.inplace_add(lhs=array(59, dtype=object), rhs=array(88, dtype=object))\n",
      "Player 0:     Field.inplace_add => 20\n",
      "Player 0:   FixedPoint.decode(array=array(20, dtype=object), field=cicada.arithmetic.Field(order=127))\n",
      "Player 1:   Field.inplace_add(lhs=array(118, dtype=object), rhs=array(68, dtype=object))\n",
      "Player 0:     FixedPoint.decode => 5.0\n",
      "Player 1:     Field.inplace_add => 59\n",
      "Player 0:   AdditiveProtocolSuite.reveal => 5.0\n",
      "Player 1:   Field.inplace_add(lhs=array(59, dtype=object), rhs=array(88, dtype=object))\n",
      "Player 1:     Field.inplace_add => 20\n",
      "Player 1:   FixedPoint.decode(array=array(20, dtype=object), field=cicada.arithmetic.Field(order=127))\n",
      "Player 2:   Field.inplace_add(lhs=array(118, dtype=object), rhs=array(68, dtype=object))\n",
      "Player 1:     FixedPoint.decode => 5.0\n",
      "Player 2:     Field.inplace_add => 59\n",
      "Player 1:   AdditiveProtocolSuite.reveal => 5.0\n",
      "Player 2:   Field.inplace_add(lhs=array(59, dtype=object), rhs=array(88, dtype=object))\n",
      "Player 2:     Field.inplace_add => 20\n",
      "Player 2:   FixedPoint.decode(array=array(20, dtype=object), field=cicada.arithmetic.Field(order=127))\n",
      "Player 2:     FixedPoint.decode => 5.0\n",
      "Player 2:   AdditiveProtocolSuite.reveal => 5.0\n"
     ]
    }
   ],
   "source": [
    "def main(communicator):\n",
    "    handler = transcript.basic_config(logging.StreamHandler())\n",
    "    transcript.logger.addHandler(handler)\n",
    "\n",
    "    transcript.log(\"Let's setup additive sharing!\")\n",
    "    protocol = AdditiveProtocolSuite(communicator, order=127, encoding=FixedPoint(precision=2))\n",
    "    transcript.log(\"Let's share some secrets!\")\n",
    "    a_share = protocol.share(src=0, secret=numpy.array(2), shape=())\n",
    "    b_share = protocol.share(src=1, secret=numpy.array(3), shape=())\n",
    "    transcript.log(\"Let's add some secrets!\")\n",
    "    c_share = protocol.add(a_share, b_share)\n",
    "    transcript.log(\"Let's reveal the results!\")\n",
    "    c = protocol.reveal(c_share)\n",
    "\n",
    "with transcript.record():\n",
    "    SocketCommunicator.run(fn=main, world_size=3)"
   ]
  },
  {
   "cell_type": "raw",
   "id": "30834509-4d72-4d36-9305-fc189db773f6",
   "metadata": {
    "editable": true,
    "raw_mimetype": "text/restructuredtext",
    "slideshow": {
     "slide_type": ""
    },
    "tags": []
   },
   "source": [
    "Now, the transcript includes every notable function call made during execution of the script, along with every corresponding function return (even for functions that don't return a value).  Each function call includes the function arguments, albeit in arbitrary order and with the `self` arguments of methods omitted.\n",
    "\n",
    "The log entries are indented based on stack depth, but this is difficult to see because the output from all the players is interleaved on-screen. To address this, let's send the players' transcripts to separate files on disk instead:"
   ]
  },
  {
   "cell_type": "code",
   "execution_count": 10,
   "id": "fd94871d-2fad-4ee9-b557-3ef4065d0089",
   "metadata": {
    "editable": true,
    "slideshow": {
     "slide_type": ""
    },
    "tags": []
   },
   "outputs": [],
   "source": [
    "def main(communicator):\n",
    "    handler = transcript.basic_config(logging.FileHandler(f\"player-{communicator.rank}.log\", mode=\"w\"))\n",
    "    transcript.logger.addHandler(handler)\n",
    "\n",
    "    transcript.log(\"Let's setup additive sharing!\")\n",
    "    protocol = AdditiveProtocolSuite(communicator, order=127, encoding=FixedPoint(precision=2))\n",
    "    transcript.log(\"Let's share some secrets!\")\n",
    "    a_share = protocol.share(src=0, secret=numpy.array(2), shape=())\n",
    "    b_share = protocol.share(src=1, secret=numpy.array(3), shape=())\n",
    "    transcript.log(\"Let's add some secrets!\")\n",
    "    c_share = protocol.add(a_share, b_share)\n",
    "    transcript.log(\"Let's reveal the results!\")\n",
    "    c = protocol.reveal(c_share)\n",
    "\n",
    "with transcript.record():\n",
    "    SocketCommunicator.run(fn=main, world_size=3)"
   ]
  },
  {
   "cell_type": "markdown",
   "id": "ded254e4-7eef-48f0-81c1-20cdfbb975e8",
   "metadata": {
    "editable": true,
    "slideshow": {
     "slide_type": ""
    },
    "tags": []
   },
   "source": [
    "Now, we can print the file contents to the screen in rank order:"
   ]
  },
  {
   "cell_type": "code",
   "execution_count": 11,
   "id": "22e639ae-4098-456d-a3c2-f6f6c92dbc98",
   "metadata": {
    "editable": true,
    "slideshow": {
     "slide_type": ""
    },
    "tags": []
   },
   "outputs": [
    {
     "name": "stdout",
     "output_type": "stream",
     "text": [
      "Player 0: Let's setup additive sharing!\n",
      "Player 0: Let's share some secrets!\n",
      "Player 0: AdditiveProtocolSuite.share(src=0, secret=array(2), shape=(), encoding=None)\n",
      "Player 0:   Field.uniform(size=(), generator=Generator(PCG64) at 0x114968D60)\n",
      "Player 0:     Field.uniform => 153\n",
      "Player 0:   Field.uniform(size=(), generator=Generator(PCG64) at 0x1149690E0)\n",
      "Player 0:     Field.uniform => 181\n",
      "Player 0:   Field.inplace_subtract(lhs=array(153, dtype=object), rhs=array(181, dtype=object))\n",
      "Player 0:     Field.inplace_subtract => 99\n",
      "Player 0:   FixedPoint.encode(array=array(2), field=cicada.arithmetic.Field(order=127))\n",
      "Player 0:     FixedPoint.encode => 8\n",
      "Player 0:   Field.inplace_add(lhs=array(99, dtype=object), rhs=array(8, dtype=object))\n",
      "Player 0:     Field.inplace_add => 107\n",
      "Player 0:   AdditiveProtocolSuite.share => cicada.additive.AdditiveArrayShare(storage=107)\n",
      "Player 0: AdditiveProtocolSuite.share(src=1, secret=array(3), shape=(), encoding=None)\n",
      "Player 0:   Field.uniform(size=(), generator=Generator(PCG64) at 0x114968D60)\n",
      "Player 0:     Field.uniform => 135\n",
      "Player 0:   Field.uniform(size=(), generator=Generator(PCG64) at 0x1149690E0)\n",
      "Player 0:     Field.uniform => 10\n",
      "Player 0:   Field.inplace_subtract(lhs=array(135, dtype=object), rhs=array(10, dtype=object))\n",
      "Player 0:     Field.inplace_subtract => 125\n",
      "Player 0:   AdditiveProtocolSuite.share => cicada.additive.AdditiveArrayShare(storage=125)\n",
      "Player 0: Let's add some secrets!\n",
      "Player 0: AdditiveProtocolSuite.add(lhs=cicada.additive.AdditiveArrayShare(storage=107), rhs=cicada.additive.AdditiveArrayShare(storage=125), encoding=None)\n",
      "Player 0:   AdditiveProtocolSuite.field_add(lhs=cicada.additive.AdditiveArrayShare(storage=107), rhs=cicada.additive.AdditiveArrayShare(storage=125))\n",
      "Player 0:     Field.add(lhs=array(107, dtype=object), rhs=array(125, dtype=object))\n",
      "Player 0:       Field.add => 105\n",
      "Player 0:     AdditiveProtocolSuite.field_add => cicada.additive.AdditiveArrayShare(storage=105)\n",
      "Player 0:   AdditiveProtocolSuite.add => cicada.additive.AdditiveArrayShare(storage=105)\n",
      "Player 0: Let's reveal the results!\n",
      "Player 0: AdditiveProtocolSuite.reveal(share=cicada.additive.AdditiveArrayShare(storage=105), dst=None, encoding=None)\n",
      "Player 0:   Field.inplace_add(lhs=array(105, dtype=object), rhs=array(105, dtype=object))\n",
      "Player 0:     Field.inplace_add => 83\n",
      "Player 0:   Field.inplace_add(lhs=array(83, dtype=object), rhs=array(64, dtype=object))\n",
      "Player 0:     Field.inplace_add => 20\n",
      "Player 0:   FixedPoint.decode(array=array(20, dtype=object), field=cicada.arithmetic.Field(order=127))\n",
      "Player 0:     FixedPoint.decode => 5.0\n",
      "Player 0:   AdditiveProtocolSuite.reveal => 5.0\n",
      "\n",
      "\n",
      "\n",
      "\n",
      "Player 1: Let's setup additive sharing!\n",
      "Player 1: Let's share some secrets!\n",
      "Player 1: AdditiveProtocolSuite.share(src=0, secret=array(2), shape=(), encoding=None)\n",
      "Player 1:   Field.uniform(size=(), generator=Generator(PCG64) at 0x114968D60)\n",
      "Player 1:     Field.uniform => 50\n",
      "Player 1:   Field.uniform(size=(), generator=Generator(PCG64) at 0x1149690E0)\n",
      "Player 1:     Field.uniform => 153\n",
      "Player 1:   Field.inplace_subtract(lhs=array(50, dtype=object), rhs=array(153, dtype=object))\n",
      "Player 1:     Field.inplace_subtract => 24\n",
      "Player 1:   AdditiveProtocolSuite.share => cicada.additive.AdditiveArrayShare(storage=24)\n",
      "Player 1: AdditiveProtocolSuite.share(src=1, secret=array(3), shape=(), encoding=None)\n",
      "Player 1:   Field.uniform(size=(), generator=Generator(PCG64) at 0x114968D60)\n",
      "Player 1:     Field.uniform => 204\n",
      "Player 1:   Field.uniform(size=(), generator=Generator(PCG64) at 0x1149690E0)\n",
      "Player 1:     Field.uniform => 135\n",
      "Player 1:   Field.inplace_subtract(lhs=array(204, dtype=object), rhs=array(135, dtype=object))\n",
      "Player 1:     Field.inplace_subtract => 69\n",
      "Player 1:   FixedPoint.encode(array=array(3), field=cicada.arithmetic.Field(order=127))\n",
      "Player 1:     FixedPoint.encode => 12\n",
      "Player 1:   Field.inplace_add(lhs=array(69, dtype=object), rhs=array(12, dtype=object))\n",
      "Player 1:     Field.inplace_add => 81\n",
      "Player 1:   AdditiveProtocolSuite.share => cicada.additive.AdditiveArrayShare(storage=81)\n",
      "Player 1: Let's add some secrets!\n",
      "Player 1: AdditiveProtocolSuite.add(lhs=cicada.additive.AdditiveArrayShare(storage=24), rhs=cicada.additive.AdditiveArrayShare(storage=81), encoding=None)\n",
      "Player 1:   AdditiveProtocolSuite.field_add(lhs=cicada.additive.AdditiveArrayShare(storage=24), rhs=cicada.additive.AdditiveArrayShare(storage=81))\n",
      "Player 1:     Field.add(lhs=array(24, dtype=object), rhs=array(81, dtype=object))\n",
      "Player 1:       Field.add => 105\n",
      "Player 1:     AdditiveProtocolSuite.field_add => cicada.additive.AdditiveArrayShare(storage=105)\n",
      "Player 1:   AdditiveProtocolSuite.add => cicada.additive.AdditiveArrayShare(storage=105)\n",
      "Player 1: Let's reveal the results!\n",
      "Player 1: AdditiveProtocolSuite.reveal(share=cicada.additive.AdditiveArrayShare(storage=105), dst=None, encoding=None)\n",
      "Player 1:   Field.inplace_add(lhs=array(105, dtype=object), rhs=array(105, dtype=object))\n",
      "Player 1:     Field.inplace_add => 83\n",
      "Player 1:   Field.inplace_add(lhs=array(83, dtype=object), rhs=array(64, dtype=object))\n",
      "Player 1:     Field.inplace_add => 20\n",
      "Player 1:   FixedPoint.decode(array=array(20, dtype=object), field=cicada.arithmetic.Field(order=127))\n",
      "Player 1:     FixedPoint.decode => 5.0\n",
      "Player 1:   AdditiveProtocolSuite.reveal => 5.0\n",
      "\n",
      "\n",
      "\n",
      "\n",
      "Player 2: Let's setup additive sharing!\n",
      "Player 2: Let's share some secrets!\n",
      "Player 2: AdditiveProtocolSuite.share(src=0, secret=array(2), shape=(), encoding=None)\n",
      "Player 2:   Field.uniform(size=(), generator=Generator(PCG64) at 0x114968D60)\n",
      "Player 2:     Field.uniform => 181\n",
      "Player 2:   Field.uniform(size=(), generator=Generator(PCG64) at 0x1149690E0)\n",
      "Player 2:     Field.uniform => 50\n",
      "Player 2:   Field.inplace_subtract(lhs=array(181, dtype=object), rhs=array(50, dtype=object))\n",
      "Player 2:     Field.inplace_subtract => 4\n",
      "Player 2:   AdditiveProtocolSuite.share => cicada.additive.AdditiveArrayShare(storage=4)\n",
      "Player 2: AdditiveProtocolSuite.share(src=1, secret=array(3), shape=(), encoding=None)\n",
      "Player 2:   Field.uniform(size=(), generator=Generator(PCG64) at 0x114968D60)\n",
      "Player 2:     Field.uniform => 10\n",
      "Player 2:   Field.uniform(size=(), generator=Generator(PCG64) at 0x1149690E0)\n",
      "Player 2:     Field.uniform => 204\n",
      "Player 2:   Field.inplace_subtract(lhs=array(10, dtype=object), rhs=array(204, dtype=object))\n",
      "Player 2:     Field.inplace_subtract => 60\n",
      "Player 2:   AdditiveProtocolSuite.share => cicada.additive.AdditiveArrayShare(storage=60)\n",
      "Player 2: Let's add some secrets!\n",
      "Player 2: AdditiveProtocolSuite.add(lhs=cicada.additive.AdditiveArrayShare(storage=4), rhs=cicada.additive.AdditiveArrayShare(storage=60), encoding=None)\n",
      "Player 2:   AdditiveProtocolSuite.field_add(lhs=cicada.additive.AdditiveArrayShare(storage=4), rhs=cicada.additive.AdditiveArrayShare(storage=60))\n",
      "Player 2:     Field.add(lhs=array(4, dtype=object), rhs=array(60, dtype=object))\n",
      "Player 2:       Field.add => 64\n",
      "Player 2:     AdditiveProtocolSuite.field_add => cicada.additive.AdditiveArrayShare(storage=64)\n",
      "Player 2:   AdditiveProtocolSuite.add => cicada.additive.AdditiveArrayShare(storage=64)\n",
      "Player 2: Let's reveal the results!\n",
      "Player 2: AdditiveProtocolSuite.reveal(share=cicada.additive.AdditiveArrayShare(storage=64), dst=None, encoding=None)\n",
      "Player 2:   Field.inplace_add(lhs=array(105, dtype=object), rhs=array(105, dtype=object))\n",
      "Player 2:     Field.inplace_add => 83\n",
      "Player 2:   Field.inplace_add(lhs=array(83, dtype=object), rhs=array(64, dtype=object))\n",
      "Player 2:     Field.inplace_add => 20\n",
      "Player 2:   FixedPoint.decode(array=array(20, dtype=object), field=cicada.arithmetic.Field(order=127))\n",
      "Player 2:     FixedPoint.decode => 5.0\n",
      "Player 2:   AdditiveProtocolSuite.reveal => 5.0\n",
      "\n",
      "\n",
      "\n",
      "\n"
     ]
    }
   ],
   "source": [
    "for rank in range(3):\n",
    "    with open(f\"player-{rank}.log\", \"r\") as stream:\n",
    "        print(stream.read())\n",
    "        print(\"\\n\" * 2)"
   ]
  },
  {
   "cell_type": "raw",
   "id": "25a831f8-9ddb-48a5-ac5f-00204ec23e37",
   "metadata": {
    "editable": true,
    "raw_mimetype": "text/restructuredtext",
    "slideshow": {
     "slide_type": ""
    },
    "tags": []
   },
   "source": [
    "With the logs separated, now we can follow each player's progress in detail.  Notice that you can see values as they are generated and manipulated to perform calculations, and that you can see the results, even with functions like :any:`inplace_subtract` that operate inline on their arguments!\n",
    "\n",
    "Let's include message events alongside function calls in our transcripts.  This is as simple as adding the :any:`ShowSentMessages` and :any:`ShowReceivedMessages` filters, but with one caveat - these filters must be added to the handler *before* any other filters, including the filters added by :any:`basic_config`:"
   ]
  },
  {
   "cell_type": "code",
   "execution_count": 12,
   "id": "fcb3f570-85f5-4861-b6e8-50ca084b6ac0",
   "metadata": {
    "editable": true,
    "slideshow": {
     "slide_type": ""
    },
    "tags": []
   },
   "outputs": [
    {
     "name": "stdout",
     "output_type": "stream",
     "text": [
      "Player 0: Let's setup additive sharing!\n",
      "Player 0: --> 1 PRZS 8913583893207653755\n",
      "Player 0: <-- 2 PRZS 3143965874233479688\n",
      "Player 0: Let's share some secrets!\n",
      "Player 0: AdditiveProtocolSuite.share(src=0, secret=array(2), shape=(), encoding=None)\n",
      "Player 0:   Field.uniform(size=(), generator=Generator(PCG64) at 0x114968900)\n",
      "Player 0:     Field.uniform => 137\n",
      "Player 0:   Field.uniform(size=(), generator=Generator(PCG64) at 0x1149690E0)\n",
      "Player 0:     Field.uniform => 97\n",
      "Player 0:   Field.inplace_subtract(lhs=array(137, dtype=object), rhs=array(97, dtype=object))\n",
      "Player 0:     Field.inplace_subtract => 40\n",
      "Player 0:   FixedPoint.encode(array=array(2), field=cicada.arithmetic.Field(order=127))\n",
      "Player 0:     FixedPoint.encode => 8\n",
      "Player 0:   Field.inplace_add(lhs=array(40, dtype=object), rhs=array(8, dtype=object))\n",
      "Player 0:     Field.inplace_add => 48\n",
      "Player 0:   AdditiveProtocolSuite.share => cicada.additive.AdditiveArrayShare(storage=48)\n",
      "Player 0: AdditiveProtocolSuite.share(src=1, secret=array(3), shape=(), encoding=None)\n",
      "Player 0:   Field.uniform(size=(), generator=Generator(PCG64) at 0x114968900)\n",
      "Player 0:     Field.uniform => 144\n",
      "Player 0:   Field.uniform(size=(), generator=Generator(PCG64) at 0x1149690E0)\n",
      "Player 0:     Field.uniform => 94\n",
      "Player 0:   Field.inplace_subtract(lhs=array(144, dtype=object), rhs=array(94, dtype=object))\n",
      "Player 0:     Field.inplace_subtract => 50\n",
      "Player 0:   AdditiveProtocolSuite.share => cicada.additive.AdditiveArrayShare(storage=50)\n",
      "Player 0: Let's add some secrets!\n",
      "Player 0: AdditiveProtocolSuite.add(lhs=cicada.additive.AdditiveArrayShare(storage=48), rhs=cicada.additive.AdditiveArrayShare(storage=50), encoding=None)\n",
      "Player 0:   AdditiveProtocolSuite.field_add(lhs=cicada.additive.AdditiveArrayShare(storage=48), rhs=cicada.additive.AdditiveArrayShare(storage=50))\n",
      "Player 0:     Field.add(lhs=array(48, dtype=object), rhs=array(50, dtype=object))\n",
      "Player 0:       Field.add => 98\n",
      "Player 0:     AdditiveProtocolSuite.field_add => cicada.additive.AdditiveArrayShare(storage=98)\n",
      "Player 0:   AdditiveProtocolSuite.add => cicada.additive.AdditiveArrayShare(storage=98)\n",
      "Player 0: Let's reveal the results!\n",
      "Player 0: AdditiveProtocolSuite.reveal(share=cicada.additive.AdditiveArrayShare(storage=98), dst=None, encoding=None)\n",
      "Player 0: --> 0 GATHER 98\n",
      "Player 0: <-- 0 GATHER 98\n",
      "Player 0: <-- 2 GATHER 126\n",
      "Player 0: <-- 1 GATHER 50\n",
      "Player 0:   Field.inplace_add(lhs=array(98, dtype=object), rhs=array(50, dtype=object))\n",
      "Player 0:     Field.inplace_add => 21\n",
      "Player 0:   Field.inplace_add(lhs=array(21, dtype=object), rhs=array(126, dtype=object))\n",
      "Player 0:     Field.inplace_add => 20\n",
      "Player 0: --> 1 GATHER 98\n",
      "Player 0: --> 2 GATHER 98\n",
      "Player 0:   FixedPoint.decode(array=array(20, dtype=object), field=cicada.arithmetic.Field(order=127))\n",
      "Player 0:     FixedPoint.decode => 5.0\n",
      "Player 0:   AdditiveProtocolSuite.reveal => 5.0\n",
      "\n",
      "\n",
      "\n",
      "\n",
      "Player 1: Let's setup additive sharing!\n",
      "Player 1: --> 2 PRZS 895991759016962164\n",
      "Player 1: <-- 0 PRZS 8913583893207653755\n",
      "Player 1: Let's share some secrets!\n",
      "Player 1: AdditiveProtocolSuite.share(src=0, secret=array(2), shape=(), encoding=None)\n",
      "Player 1:   Field.uniform(size=(), generator=Generator(PCG64) at 0x114968900)\n",
      "Player 1:     Field.uniform => 73\n",
      "Player 1:   Field.uniform(size=(), generator=Generator(PCG64) at 0x1149690E0)\n",
      "Player 1:     Field.uniform => 137\n",
      "Player 1:   Field.inplace_subtract(lhs=array(73, dtype=object), rhs=array(137, dtype=object))\n",
      "Player 1:     Field.inplace_subtract => 63\n",
      "Player 1:   AdditiveProtocolSuite.share => cicada.additive.AdditiveArrayShare(storage=63)\n",
      "Player 1: AdditiveProtocolSuite.share(src=1, secret=array(3), shape=(), encoding=None)\n",
      "Player 1:   Field.uniform(size=(), generator=Generator(PCG64) at 0x114968900)\n",
      "Player 1:     Field.uniform => 246\n",
      "Player 1:   Field.uniform(size=(), generator=Generator(PCG64) at 0x1149690E0)\n",
      "Player 1:     Field.uniform => 144\n",
      "Player 1:   Field.inplace_subtract(lhs=array(246, dtype=object), rhs=array(144, dtype=object))\n",
      "Player 1:     Field.inplace_subtract => 102\n",
      "Player 1:   FixedPoint.encode(array=array(3), field=cicada.arithmetic.Field(order=127))\n",
      "Player 1:     FixedPoint.encode => 12\n",
      "Player 1:   Field.inplace_add(lhs=array(102, dtype=object), rhs=array(12, dtype=object))\n",
      "Player 1:     Field.inplace_add => 114\n",
      "Player 1:   AdditiveProtocolSuite.share => cicada.additive.AdditiveArrayShare(storage=114)\n",
      "Player 1: Let's add some secrets!\n",
      "Player 1: AdditiveProtocolSuite.add(lhs=cicada.additive.AdditiveArrayShare(storage=63), rhs=cicada.additive.AdditiveArrayShare(storage=114), encoding=None)\n",
      "Player 1:   AdditiveProtocolSuite.field_add(lhs=cicada.additive.AdditiveArrayShare(storage=63), rhs=cicada.additive.AdditiveArrayShare(storage=114))\n",
      "Player 1:     Field.add(lhs=array(63, dtype=object), rhs=array(114, dtype=object))\n",
      "Player 1:       Field.add => 50\n",
      "Player 1:     AdditiveProtocolSuite.field_add => cicada.additive.AdditiveArrayShare(storage=50)\n",
      "Player 1:   AdditiveProtocolSuite.add => cicada.additive.AdditiveArrayShare(storage=50)\n",
      "Player 1: Let's reveal the results!\n",
      "Player 1: AdditiveProtocolSuite.reveal(share=cicada.additive.AdditiveArrayShare(storage=50), dst=None, encoding=None)\n",
      "Player 1: --> 0 GATHER 50\n",
      "Player 1: --> 1 GATHER 50\n",
      "Player 1: <-- 1 GATHER 50\n",
      "Player 1: <-- 2 GATHER 126\n",
      "Player 1: <-- 0 GATHER 98\n",
      "Player 1:   Field.inplace_add(lhs=array(98, dtype=object), rhs=array(50, dtype=object))\n",
      "Player 1:     Field.inplace_add => 21\n",
      "Player 1:   Field.inplace_add(lhs=array(21, dtype=object), rhs=array(126, dtype=object))\n",
      "Player 1:     Field.inplace_add => 20\n",
      "Player 1: --> 2 GATHER 50\n",
      "Player 1:   FixedPoint.decode(array=array(20, dtype=object), field=cicada.arithmetic.Field(order=127))\n",
      "Player 1:     FixedPoint.decode => 5.0\n",
      "Player 1:   AdditiveProtocolSuite.reveal => 5.0\n",
      "\n",
      "\n",
      "\n",
      "\n",
      "Player 2: Let's setup additive sharing!\n",
      "Player 2: --> 0 PRZS 3143965874233479688\n",
      "Player 2: <-- 1 PRZS 895991759016962164\n",
      "Player 2: Let's share some secrets!\n",
      "Player 2: AdditiveProtocolSuite.share(src=0, secret=array(2), shape=(), encoding=None)\n",
      "Player 2:   Field.uniform(size=(), generator=Generator(PCG64) at 0x114968900)\n",
      "Player 2:     Field.uniform => 97\n",
      "Player 2:   Field.uniform(size=(), generator=Generator(PCG64) at 0x1149690E0)\n",
      "Player 2:     Field.uniform => 73\n",
      "Player 2:   Field.inplace_subtract(lhs=array(97, dtype=object), rhs=array(73, dtype=object))\n",
      "Player 2:     Field.inplace_subtract => 24\n",
      "Player 2:   AdditiveProtocolSuite.share => cicada.additive.AdditiveArrayShare(storage=24)\n",
      "Player 2: AdditiveProtocolSuite.share(src=1, secret=array(3), shape=(), encoding=None)\n",
      "Player 2:   Field.uniform(size=(), generator=Generator(PCG64) at 0x114968900)\n",
      "Player 2:     Field.uniform => 94\n",
      "Player 2:   Field.uniform(size=(), generator=Generator(PCG64) at 0x1149690E0)\n",
      "Player 2:     Field.uniform => 246\n",
      "Player 2:   Field.inplace_subtract(lhs=array(94, dtype=object), rhs=array(246, dtype=object))\n",
      "Player 2:     Field.inplace_subtract => 102\n",
      "Player 2:   AdditiveProtocolSuite.share => cicada.additive.AdditiveArrayShare(storage=102)\n",
      "Player 2: Let's add some secrets!\n",
      "Player 2: AdditiveProtocolSuite.add(lhs=cicada.additive.AdditiveArrayShare(storage=24), rhs=cicada.additive.AdditiveArrayShare(storage=102), encoding=None)\n",
      "Player 2:   AdditiveProtocolSuite.field_add(lhs=cicada.additive.AdditiveArrayShare(storage=24), rhs=cicada.additive.AdditiveArrayShare(storage=102))\n",
      "Player 2:     Field.add(lhs=array(24, dtype=object), rhs=array(102, dtype=object))\n",
      "Player 2:       Field.add => 126\n",
      "Player 2:     AdditiveProtocolSuite.field_add => cicada.additive.AdditiveArrayShare(storage=126)\n",
      "Player 2:   AdditiveProtocolSuite.add => cicada.additive.AdditiveArrayShare(storage=126)\n",
      "Player 2: Let's reveal the results!\n",
      "Player 2: AdditiveProtocolSuite.reveal(share=cicada.additive.AdditiveArrayShare(storage=126), dst=None, encoding=None)\n",
      "Player 2: --> 0 GATHER 126\n",
      "Player 2: --> 1 GATHER 126\n",
      "Player 2: --> 2 GATHER 126\n",
      "Player 2: <-- 2 GATHER 126\n",
      "Player 2: <-- 0 GATHER 98\n",
      "Player 2: <-- 1 GATHER 50\n",
      "Player 2:   Field.inplace_add(lhs=array(98, dtype=object), rhs=array(50, dtype=object))\n",
      "Player 2:     Field.inplace_add => 21\n",
      "Player 2:   Field.inplace_add(lhs=array(21, dtype=object), rhs=array(126, dtype=object))\n",
      "Player 2:     Field.inplace_add => 20\n",
      "Player 2:   FixedPoint.decode(array=array(20, dtype=object), field=cicada.arithmetic.Field(order=127))\n",
      "Player 2:     FixedPoint.decode => 5.0\n",
      "Player 2:   AdditiveProtocolSuite.reveal => 5.0\n",
      "\n",
      "\n",
      "\n",
      "\n"
     ]
    }
   ],
   "source": [
    "def main(communicator):\n",
    "    handler = logging.FileHandler(f\"player-{communicator.rank}.log\", mode=\"w\")\n",
    "    handler.addFilter(transcript.ShowSentMessages())\n",
    "    handler.addFilter(transcript.ShowReceivedMessages())\n",
    "    handler = transcript.basic_config(handler)\n",
    "    transcript.logger.addHandler(handler)\n",
    "\n",
    "    transcript.log(\"Let's setup additive sharing!\")\n",
    "    protocol = AdditiveProtocolSuite(communicator, order=127, encoding=FixedPoint(precision=2))\n",
    "    transcript.log(\"Let's share some secrets!\")\n",
    "    a_share = protocol.share(src=0, secret=numpy.array(2), shape=())\n",
    "    b_share = protocol.share(src=1, secret=numpy.array(3), shape=())\n",
    "    transcript.log(\"Let's add some secrets!\")\n",
    "    c_share = protocol.add(a_share, b_share)\n",
    "    transcript.log(\"Let's reveal the results!\")\n",
    "    c = protocol.reveal(c_share)\n",
    "\n",
    "with transcript.record():\n",
    "    SocketCommunicator.run(fn=main, world_size=3)\n",
    "\n",
    "for rank in range(3):\n",
    "    with open(f\"player-{rank}.log\", \"r\") as stream:\n",
    "        print(stream.read())\n",
    "        print(\"\\n\" * 2)"
   ]
  },
  {
   "cell_type": "raw",
   "id": "2615d947-50d5-4ed2-b402-808ea72c6932",
   "metadata": {
    "editable": true,
    "raw_mimetype": "text/restructuredtext",
    "slideshow": {
     "slide_type": ""
    },
    "tags": []
   },
   "source": [
    "As expected, we now see a combination of application, message, and function call logging.\n",
    "\n",
    "So far, the default formatting for the transcript is optimized for human viewing, but we might want to generate a transcript for further analysis, such as zero knowledge proofs.  Fortunately, :any:`basic_config` allows us to pass format strings that can generate any output we like.  For example, let's try generating CSV output that's easily machine-parsable:"
   ]
  },
  {
   "cell_type": "code",
   "execution_count": 18,
   "id": "7a895b11-4ca5-4740-a0d7-2337d4da14bd",
   "metadata": {
    "editable": true,
    "slideshow": {
     "slide_type": ""
    },
    "tags": []
   },
   "outputs": [
    {
     "name": "stdout",
     "output_type": "stream",
     "text": [
      "Player 0,app,setup additive sharing\n",
      "Player 0,msg,0,1,PRZS,4136736553842494839\n",
      "Player 0,msg,2,0,PRZS,4854981739833727133\n",
      "Player 0,app,share secret inputs\n",
      "Player 0,push,cicada.additive.AdditiveProtocolSuite.share,{'src': 0, 'secret': array(2), 'shape': (), 'encoding': None}\n",
      "Player 0,push,cicada.arithmetic.Field.uniform,{'size': (), 'generator': Generator(PCG64) at 0x1149689E0}\n",
      "Player 0,pop,cicada.arithmetic.Field.uniform,7\n",
      "Player 0,push,cicada.arithmetic.Field.uniform,{'size': (), 'generator': Generator(PCG64) at 0x1149690E0}\n",
      "Player 0,pop,cicada.arithmetic.Field.uniform,188\n",
      "Player 0,push,cicada.arithmetic.Field.inplace_subtract,{'lhs': array(7, dtype=object), 'rhs': array(188, dtype=object)}\n",
      "Player 0,pop,cicada.arithmetic.Field.inplace_subtract,73\n",
      "Player 0,push,cicada.encoding.FixedPoint.encode,{'array': array(2), 'field': cicada.arithmetic.Field(order=127)}\n",
      "Player 0,pop,cicada.encoding.FixedPoint.encode,8\n",
      "Player 0,push,cicada.arithmetic.Field.inplace_add,{'lhs': array(73, dtype=object), 'rhs': array(8, dtype=object)}\n",
      "Player 0,pop,cicada.arithmetic.Field.inplace_add,81\n",
      "Player 0,pop,cicada.additive.AdditiveProtocolSuite.share,cicada.additive.AdditiveArrayShare(storage=81)\n",
      "Player 0,push,cicada.additive.AdditiveProtocolSuite.share,{'src': 1, 'secret': array(3), 'shape': (), 'encoding': None}\n",
      "Player 0,push,cicada.arithmetic.Field.uniform,{'size': (), 'generator': Generator(PCG64) at 0x1149689E0}\n",
      "Player 0,pop,cicada.arithmetic.Field.uniform,226\n",
      "Player 0,push,cicada.arithmetic.Field.uniform,{'size': (), 'generator': Generator(PCG64) at 0x1149690E0}\n",
      "Player 0,pop,cicada.arithmetic.Field.uniform,234\n",
      "Player 0,push,cicada.arithmetic.Field.inplace_subtract,{'lhs': array(226, dtype=object), 'rhs': array(234, dtype=object)}\n",
      "Player 0,pop,cicada.arithmetic.Field.inplace_subtract,119\n",
      "Player 0,pop,cicada.additive.AdditiveProtocolSuite.share,cicada.additive.AdditiveArrayShare(storage=119)\n",
      "Player 0,app,add secret shares\n",
      "Player 0,push,cicada.additive.AdditiveProtocolSuite.add,{'lhs': cicada.additive.AdditiveArrayShare(storage=81), 'rhs': cicada.additive.AdditiveArrayShare(storage=119), 'encoding': None}\n",
      "Player 0,push,cicada.additive.AdditiveProtocolSuite.field_add,{'lhs': cicada.additive.AdditiveArrayShare(storage=81), 'rhs': cicada.additive.AdditiveArrayShare(storage=119)}\n",
      "Player 0,push,cicada.arithmetic.Field.add,{'lhs': array(81, dtype=object), 'rhs': array(119, dtype=object)}\n",
      "Player 0,pop,cicada.arithmetic.Field.add,73\n",
      "Player 0,pop,cicada.additive.AdditiveProtocolSuite.field_add,cicada.additive.AdditiveArrayShare(storage=73)\n",
      "Player 0,pop,cicada.additive.AdditiveProtocolSuite.add,cicada.additive.AdditiveArrayShare(storage=73)\n",
      "Player 0,app,reveal results\n",
      "Player 0,push,cicada.additive.AdditiveProtocolSuite.reveal,{'share': cicada.additive.AdditiveArrayShare(storage=73), 'dst': None, 'encoding': None}\n",
      "Player 0,msg,0,0,GATHER,73\n",
      "Player 0,msg,0,0,GATHER,73\n",
      "Player 0,msg,1,0,GATHER,60\n",
      "Player 0,msg,2,0,GATHER,14\n",
      "Player 0,push,cicada.arithmetic.Field.inplace_add,{'lhs': array(73, dtype=object), 'rhs': array(60, dtype=object)}\n",
      "Player 0,pop,cicada.arithmetic.Field.inplace_add,6\n",
      "Player 0,push,cicada.arithmetic.Field.inplace_add,{'lhs': array(6, dtype=object), 'rhs': array(14, dtype=object)}\n",
      "Player 0,pop,cicada.arithmetic.Field.inplace_add,20\n",
      "Player 0,msg,0,1,GATHER,73\n",
      "Player 0,msg,0,2,GATHER,73\n",
      "Player 0,push,cicada.encoding.FixedPoint.decode,{'array': array(20, dtype=object), 'field': cicada.arithmetic.Field(order=127)}\n",
      "Player 0,pop,cicada.encoding.FixedPoint.decode,5.0\n",
      "Player 0,pop,cicada.additive.AdditiveProtocolSuite.reveal,5.0\n",
      "\n",
      "\n",
      "\n",
      "\n",
      "Player 1,app,setup additive sharing\n",
      "Player 1,msg,1,2,PRZS,8317408975319994976\n",
      "Player 1,msg,0,1,PRZS,4136736553842494839\n",
      "Player 1,app,share secret inputs\n",
      "Player 1,push,cicada.additive.AdditiveProtocolSuite.share,{'src': 0, 'secret': array(2), 'shape': (), 'encoding': None}\n",
      "Player 1,push,cicada.arithmetic.Field.uniform,{'size': (), 'generator': Generator(PCG64) at 0x1149689E0}\n",
      "Player 1,pop,cicada.arithmetic.Field.uniform,248\n",
      "Player 1,push,cicada.arithmetic.Field.uniform,{'size': (), 'generator': Generator(PCG64) at 0x1149690E0}\n",
      "Player 1,pop,cicada.arithmetic.Field.uniform,7\n",
      "Player 1,push,cicada.arithmetic.Field.inplace_subtract,{'lhs': array(248, dtype=object), 'rhs': array(7, dtype=object)}\n",
      "Player 1,pop,cicada.arithmetic.Field.inplace_subtract,114\n",
      "Player 1,pop,cicada.additive.AdditiveProtocolSuite.share,cicada.additive.AdditiveArrayShare(storage=114)\n",
      "Player 1,push,cicada.additive.AdditiveProtocolSuite.share,{'src': 1, 'secret': array(3), 'shape': (), 'encoding': None}\n",
      "Player 1,push,cicada.arithmetic.Field.uniform,{'size': (), 'generator': Generator(PCG64) at 0x1149689E0}\n",
      "Player 1,pop,cicada.arithmetic.Field.uniform,160\n",
      "Player 1,push,cicada.arithmetic.Field.uniform,{'size': (), 'generator': Generator(PCG64) at 0x1149690E0}\n",
      "Player 1,pop,cicada.arithmetic.Field.uniform,226\n",
      "Player 1,push,cicada.arithmetic.Field.inplace_subtract,{'lhs': array(160, dtype=object), 'rhs': array(226, dtype=object)}\n",
      "Player 1,pop,cicada.arithmetic.Field.inplace_subtract,61\n",
      "Player 1,push,cicada.encoding.FixedPoint.encode,{'array': array(3), 'field': cicada.arithmetic.Field(order=127)}\n",
      "Player 1,pop,cicada.encoding.FixedPoint.encode,12\n",
      "Player 1,push,cicada.arithmetic.Field.inplace_add,{'lhs': array(61, dtype=object), 'rhs': array(12, dtype=object)}\n",
      "Player 1,pop,cicada.arithmetic.Field.inplace_add,73\n",
      "Player 1,pop,cicada.additive.AdditiveProtocolSuite.share,cicada.additive.AdditiveArrayShare(storage=73)\n",
      "Player 1,app,add secret shares\n",
      "Player 1,push,cicada.additive.AdditiveProtocolSuite.add,{'lhs': cicada.additive.AdditiveArrayShare(storage=114), 'rhs': cicada.additive.AdditiveArrayShare(storage=73), 'encoding': None}\n",
      "Player 1,push,cicada.additive.AdditiveProtocolSuite.field_add,{'lhs': cicada.additive.AdditiveArrayShare(storage=114), 'rhs': cicada.additive.AdditiveArrayShare(storage=73)}\n",
      "Player 1,push,cicada.arithmetic.Field.add,{'lhs': array(114, dtype=object), 'rhs': array(73, dtype=object)}\n",
      "Player 1,pop,cicada.arithmetic.Field.add,60\n",
      "Player 1,pop,cicada.additive.AdditiveProtocolSuite.field_add,cicada.additive.AdditiveArrayShare(storage=60)\n",
      "Player 1,pop,cicada.additive.AdditiveProtocolSuite.add,cicada.additive.AdditiveArrayShare(storage=60)\n",
      "Player 1,app,reveal results\n",
      "Player 1,push,cicada.additive.AdditiveProtocolSuite.reveal,{'share': cicada.additive.AdditiveArrayShare(storage=60), 'dst': None, 'encoding': None}\n",
      "Player 1,msg,1,0,GATHER,60\n",
      "Player 1,msg,1,1,GATHER,60\n",
      "Player 1,msg,1,1,GATHER,60\n",
      "Player 1,msg,2,1,GATHER,14\n",
      "Player 1,msg,0,1,GATHER,73\n",
      "Player 1,push,cicada.arithmetic.Field.inplace_add,{'lhs': array(73, dtype=object), 'rhs': array(60, dtype=object)}\n",
      "Player 1,pop,cicada.arithmetic.Field.inplace_add,6\n",
      "Player 1,push,cicada.arithmetic.Field.inplace_add,{'lhs': array(6, dtype=object), 'rhs': array(14, dtype=object)}\n",
      "Player 1,pop,cicada.arithmetic.Field.inplace_add,20\n",
      "Player 1,msg,1,2,GATHER,60\n",
      "Player 1,push,cicada.encoding.FixedPoint.decode,{'array': array(20, dtype=object), 'field': cicada.arithmetic.Field(order=127)}\n",
      "Player 1,pop,cicada.encoding.FixedPoint.decode,5.0\n",
      "Player 1,pop,cicada.additive.AdditiveProtocolSuite.reveal,5.0\n",
      "\n",
      "\n",
      "\n",
      "\n",
      "Player 2,app,setup additive sharing\n",
      "Player 2,msg,2,0,PRZS,4854981739833727133\n",
      "Player 2,msg,1,2,PRZS,8317408975319994976\n",
      "Player 2,app,share secret inputs\n",
      "Player 2,push,cicada.additive.AdditiveProtocolSuite.share,{'src': 0, 'secret': array(2), 'shape': (), 'encoding': None}\n",
      "Player 2,push,cicada.arithmetic.Field.uniform,{'size': (), 'generator': Generator(PCG64) at 0x1149689E0}\n",
      "Player 2,pop,cicada.arithmetic.Field.uniform,188\n",
      "Player 2,push,cicada.arithmetic.Field.uniform,{'size': (), 'generator': Generator(PCG64) at 0x1149690E0}\n",
      "Player 2,pop,cicada.arithmetic.Field.uniform,248\n",
      "Player 2,push,cicada.arithmetic.Field.inplace_subtract,{'lhs': array(188, dtype=object), 'rhs': array(248, dtype=object)}\n",
      "Player 2,pop,cicada.arithmetic.Field.inplace_subtract,67\n",
      "Player 2,pop,cicada.additive.AdditiveProtocolSuite.share,cicada.additive.AdditiveArrayShare(storage=67)\n",
      "Player 2,push,cicada.additive.AdditiveProtocolSuite.share,{'src': 1, 'secret': array(3), 'shape': (), 'encoding': None}\n",
      "Player 2,push,cicada.arithmetic.Field.uniform,{'size': (), 'generator': Generator(PCG64) at 0x1149689E0}\n",
      "Player 2,pop,cicada.arithmetic.Field.uniform,234\n",
      "Player 2,push,cicada.arithmetic.Field.uniform,{'size': (), 'generator': Generator(PCG64) at 0x1149690E0}\n",
      "Player 2,pop,cicada.arithmetic.Field.uniform,160\n",
      "Player 2,push,cicada.arithmetic.Field.inplace_subtract,{'lhs': array(234, dtype=object), 'rhs': array(160, dtype=object)}\n",
      "Player 2,pop,cicada.arithmetic.Field.inplace_subtract,74\n",
      "Player 2,pop,cicada.additive.AdditiveProtocolSuite.share,cicada.additive.AdditiveArrayShare(storage=74)\n",
      "Player 2,app,add secret shares\n",
      "Player 2,push,cicada.additive.AdditiveProtocolSuite.add,{'lhs': cicada.additive.AdditiveArrayShare(storage=67), 'rhs': cicada.additive.AdditiveArrayShare(storage=74), 'encoding': None}\n",
      "Player 2,push,cicada.additive.AdditiveProtocolSuite.field_add,{'lhs': cicada.additive.AdditiveArrayShare(storage=67), 'rhs': cicada.additive.AdditiveArrayShare(storage=74)}\n",
      "Player 2,push,cicada.arithmetic.Field.add,{'lhs': array(67, dtype=object), 'rhs': array(74, dtype=object)}\n",
      "Player 2,pop,cicada.arithmetic.Field.add,14\n",
      "Player 2,pop,cicada.additive.AdditiveProtocolSuite.field_add,cicada.additive.AdditiveArrayShare(storage=14)\n",
      "Player 2,pop,cicada.additive.AdditiveProtocolSuite.add,cicada.additive.AdditiveArrayShare(storage=14)\n",
      "Player 2,app,reveal results\n",
      "Player 2,push,cicada.additive.AdditiveProtocolSuite.reveal,{'share': cicada.additive.AdditiveArrayShare(storage=14), 'dst': None, 'encoding': None}\n",
      "Player 2,msg,2,0,GATHER,14\n",
      "Player 2,msg,2,1,GATHER,14\n",
      "Player 2,msg,2,2,GATHER,14\n",
      "Player 2,msg,2,2,GATHER,14\n",
      "Player 2,msg,0,2,GATHER,73\n",
      "Player 2,msg,1,2,GATHER,60\n",
      "Player 2,push,cicada.arithmetic.Field.inplace_add,{'lhs': array(73, dtype=object), 'rhs': array(60, dtype=object)}\n",
      "Player 2,pop,cicada.arithmetic.Field.inplace_add,6\n",
      "Player 2,push,cicada.arithmetic.Field.inplace_add,{'lhs': array(6, dtype=object), 'rhs': array(14, dtype=object)}\n",
      "Player 2,pop,cicada.arithmetic.Field.inplace_add,20\n",
      "Player 2,push,cicada.encoding.FixedPoint.decode,{'array': array(20, dtype=object), 'field': cicada.arithmetic.Field(order=127)}\n",
      "Player 2,pop,cicada.encoding.FixedPoint.decode,5.0\n",
      "Player 2,pop,cicada.additive.AdditiveProtocolSuite.reveal,5.0\n",
      "\n",
      "\n",
      "\n",
      "\n"
     ]
    }
   ],
   "source": [
    "def main(communicator):\n",
    "    handler = logging.FileHandler(f\"player-{communicator.rank}.log\", mode=\"w\")\n",
    "    handler.addFilter(transcript.ShowSentMessages())\n",
    "    handler.addFilter(transcript.ShowReceivedMessages())\n",
    "    handler = transcript.basic_config(handler,\n",
    "        fmt=\"{processName},app,{msg}\",\n",
    "        msgfmt=\"{processName},msg,{message.src},{message.dst},{message.tag},{message.payload}\",\n",
    "        callfmt=\"{processName},push,{trace.fqname},{trace.locals}\",\n",
    "        retfmt=\"{processName},pop,{trace.fqname},{trace.result}\",\n",
    "        )\n",
    "    transcript.logger.addHandler(handler)\n",
    "\n",
    "    transcript.log(\"setup additive sharing\")\n",
    "    protocol = AdditiveProtocolSuite(communicator, order=127, encoding=FixedPoint(precision=2))\n",
    "    transcript.log(\"share secret inputs\")\n",
    "    a_share = protocol.share(src=0, secret=numpy.array(2), shape=())\n",
    "    b_share = protocol.share(src=1, secret=numpy.array(3), shape=())\n",
    "    transcript.log(\"add secret shares\")\n",
    "    c_share = protocol.add(a_share, b_share)\n",
    "    transcript.log(\"reveal results\")\n",
    "    c = protocol.reveal(c_share)\n",
    "\n",
    "with transcript.record():\n",
    "    SocketCommunicator.run(fn=main, world_size=3)\n",
    "\n",
    "for rank in range(3):\n",
    "    with open(f\"player-{rank}.log\", \"r\") as stream:\n",
    "        print(stream.read())\n",
    "        print(\"\\n\" * 2)"
   ]
  },
  {
   "cell_type": "raw",
   "id": "0ebeadfa-d4eb-4d05-a659-e9cdeea8c56f",
   "metadata": {
    "editable": true,
    "raw_mimetype": "text/restructuredtext",
    "slideshow": {
     "slide_type": ""
    },
    "tags": []
   },
   "source": [
    ".. seealso:: :ref:`logging`"
   ]
  }
 ],
 "metadata": {
  "celltoolbar": "Raw Cell Format",
  "kernelspec": {
   "display_name": "Python 3 (ipykernel)",
   "language": "python",
   "name": "python3"
  },
  "language_info": {
   "codemirror_mode": {
    "name": "ipython",
    "version": 3
   },
   "file_extension": ".py",
   "mimetype": "text/x-python",
   "name": "python",
   "nbconvert_exporter": "python",
   "pygments_lexer": "ipython3",
   "version": "3.11.4"
  }
 },
 "nbformat": 4,
 "nbformat_minor": 5
}
