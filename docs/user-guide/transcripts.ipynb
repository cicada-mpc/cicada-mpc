{
 "cells": [
  {
   "cell_type": "raw",
   "id": "715b3105",
   "metadata": {
    "editable": true,
    "raw_mimetype": "text/restructuredtext",
    "slideshow": {
     "slide_type": ""
    },
    "tags": []
   },
   "source": [
    ".. _transcripts:\n",
    "\n",
    "Transcripts\n",
    "==========="
   ]
  },
  {
   "cell_type": "code",
   "execution_count": 1,
   "id": "34be8d1c",
   "metadata": {
    "editable": true,
    "slideshow": {
     "slide_type": ""
    },
    "tags": []
   },
   "outputs": [],
   "source": [
    "import logging\n",
    "logging.basicConfig(level=logging.INFO)"
   ]
  },
  {
   "cell_type": "code",
   "execution_count": 2,
   "id": "d5e1718a-5dc8-4c55-9d89-c4a660062517",
   "metadata": {
    "editable": true,
    "slideshow": {
     "slide_type": ""
    },
    "tags": []
   },
   "outputs": [],
   "source": [
    "from cicada import transcript\n",
    "\n",
    "handler = logging.StreamHandler()\n",
    "handler.setFormatter(transcript.Formatter())\n",
    "handler.addFilter(transcript.ShowSentMessages())\n",
    "handler.addFilter(transcript.ShowReceivedMessages())\n",
    "handler.addFilter(transcript.HideSpecialFunctions())\n",
    "handler.addFilter(transcript.HideInitFunctions())\n",
    "handler.addFilter(transcript.HidePrivateFunctions())\n",
    "handler.addFilter(transcript.HideDefaultFunctions())\n",
    "handler.addFilter(transcript.HideCommunicationFunctions())\n",
    "handler.addFilter(transcript.HideSelfArguments())\n",
    "transcript.logger.addHandler(handler)"
   ]
  },
  {
   "cell_type": "code",
   "execution_count": 3,
   "id": "e747cb20-5293-4211-980b-c87ad4df2e2e",
   "metadata": {
    "editable": true,
    "slideshow": {
     "slide_type": ""
    },
    "tags": []
   },
   "outputs": [
    {
     "name": "stderr",
     "output_type": "stream",
     "text": [
      "Player 0: Let's share some secrets!\n",
      "Player 1: Let's share some secrets!\n",
      "Player 2: Let's share some secrets!\n",
      "Player 0: comm world player 0: --> 1 PRZS 6867554557087239302\n",
      "Player 1: comm world player 1: --> 2 PRZS 3015974440038153088\n",
      "Player 2: comm world player 2: --> 0 PRZS 2793419647683644018\n",
      "Player 1: comm world player 1: <-- 0 PRZS 6867554557087239302\n",
      "Player 0: comm world player 0: <-- 2 PRZS 2793419647683644018\n",
      "Player 2: comm world player 2: <-- 1 PRZS 3015974440038153088\n",
      "Player 1: cicada.additive.AdditiveProtocolSuite.share({'src': 0, 'secret': array(2), 'shape': (), 'encoding': None})\n",
      "Player 0: cicada.additive.AdditiveProtocolSuite.share({'src': 0, 'secret': array(2), 'shape': (), 'encoding': None})\n",
      "Player 2: cicada.additive.AdditiveProtocolSuite.share({'src': 0, 'secret': array(2), 'shape': (), 'encoding': None})\n",
      "Player 1: cicada.arithmetic.Field.uniform({'size': (), 'generator': Generator(PCG64) at 0x10C47D380})\n",
      "Player 0: cicada.arithmetic.Field.uniform({'size': (), 'generator': Generator(PCG64) at 0x10C47D460})\n",
      "Player 2: cicada.arithmetic.Field.uniform({'size': (), 'generator': Generator(PCG64) at 0x10C47D460})\n",
      "Player 1: cicada.arithmetic.Field.uniform returned 152\n",
      "Player 0: cicada.arithmetic.Field.uniform returned 38\n",
      "Player 2: cicada.arithmetic.Field.uniform returned 78\n",
      "Player 1: cicada.arithmetic.Field.uniform({'size': (), 'generator': Generator(PCG64) at 0x10C47D620})\n",
      "Player 0: cicada.arithmetic.Field.uniform({'size': (), 'generator': Generator(PCG64) at 0x10C47D620})\n",
      "Player 2: cicada.arithmetic.Field.uniform({'size': (), 'generator': Generator(PCG64) at 0x10C47D620})\n",
      "Player 0: cicada.arithmetic.Field.uniform returned 78\n",
      "Player 1: cicada.arithmetic.Field.uniform returned 38\n",
      "Player 2: cicada.arithmetic.Field.uniform returned 152\n",
      "Player 1: cicada.arithmetic.Field.inplace_subtract({'lhs': array(152, dtype=object), 'rhs': array(38, dtype=object)})\n",
      "Player 0: cicada.arithmetic.Field.inplace_subtract({'lhs': array(38, dtype=object), 'rhs': array(78, dtype=object)})\n",
      "Player 2: cicada.arithmetic.Field.inplace_subtract({'lhs': array(78, dtype=object), 'rhs': array(152, dtype=object)})\n",
      "Player 0: cicada.arithmetic.Field.inplace_subtract returned None\n",
      "Player 1: cicada.arithmetic.Field.inplace_subtract returned None\n",
      "Player 2: cicada.arithmetic.Field.inplace_subtract returned None\n",
      "Player 0: cicada.encoding.FixedPoint.encode({'array': array(2), 'field': cicada.arithmetic.Field(order=127)})\n",
      "Player 1: cicada.additive.AdditiveProtocolSuite.share returned cicada.additive.AdditiveArrayShare(storage=114)\n",
      "Player 2: cicada.additive.AdditiveProtocolSuite.share returned cicada.additive.AdditiveArrayShare(storage=53)\n",
      "Player 0: cicada.encoding.FixedPoint.encode returned 8\n",
      "Player 1: cicada.additive.AdditiveProtocolSuite.share({'src': 1, 'secret': array(3), 'shape': (), 'encoding': None})\n",
      "Player 2: cicada.additive.AdditiveProtocolSuite.share({'src': 1, 'secret': array(3), 'shape': (), 'encoding': None})\n",
      "Player 1: cicada.arithmetic.Field.uniform({'size': (), 'generator': Generator(PCG64) at 0x10C47D380})\n",
      "Player 0: cicada.arithmetic.Field.inplace_add({'lhs': array(87, dtype=object), 'rhs': array(8, dtype=object)})\n",
      "Player 2: cicada.arithmetic.Field.uniform({'size': (), 'generator': Generator(PCG64) at 0x10C47D460})\n",
      "Player 0: cicada.arithmetic.Field.inplace_add returned None\n",
      "Player 1: cicada.arithmetic.Field.uniform returned 180\n",
      "Player 2: cicada.arithmetic.Field.uniform returned 142\n",
      "Player 0: cicada.additive.AdditiveProtocolSuite.share returned cicada.additive.AdditiveArrayShare(storage=95)\n",
      "Player 1: cicada.arithmetic.Field.uniform({'size': (), 'generator': Generator(PCG64) at 0x10C47D620})\n",
      "Player 2: cicada.arithmetic.Field.uniform({'size': (), 'generator': Generator(PCG64) at 0x10C47D620})\n",
      "Player 0: cicada.additive.AdditiveProtocolSuite.share({'src': 1, 'secret': array(3), 'shape': (), 'encoding': None})\n",
      "Player 1: cicada.arithmetic.Field.uniform returned 155\n",
      "Player 2: cicada.arithmetic.Field.uniform returned 180\n",
      "Player 1: cicada.arithmetic.Field.inplace_subtract({'lhs': array(180, dtype=object), 'rhs': array(155, dtype=object)})\n",
      "Player 0: cicada.arithmetic.Field.uniform({'size': (), 'generator': Generator(PCG64) at 0x10C47D460})\n",
      "Player 2: cicada.arithmetic.Field.inplace_subtract({'lhs': array(142, dtype=object), 'rhs': array(180, dtype=object)})\n",
      "Player 1: cicada.arithmetic.Field.inplace_subtract returned None\n",
      "Player 0: cicada.arithmetic.Field.uniform returned 155\n",
      "Player 2: cicada.arithmetic.Field.inplace_subtract returned None\n",
      "Player 1: cicada.encoding.FixedPoint.encode({'array': array(3), 'field': cicada.arithmetic.Field(order=127)})\n",
      "Player 0: cicada.arithmetic.Field.uniform({'size': (), 'generator': Generator(PCG64) at 0x10C47D620})\n",
      "Player 2: cicada.additive.AdditiveProtocolSuite.share returned cicada.additive.AdditiveArrayShare(storage=89)\n",
      "Player 0: cicada.arithmetic.Field.uniform returned 142\n",
      "Player 1: cicada.encoding.FixedPoint.encode returned 12\n",
      "Player 0: cicada.arithmetic.Field.inplace_subtract({'lhs': array(155, dtype=object), 'rhs': array(142, dtype=object)})\n",
      "Player 1: cicada.arithmetic.Field.inplace_add({'lhs': array(25, dtype=object), 'rhs': array(12, dtype=object)})\n",
      "Player 0: cicada.arithmetic.Field.inplace_subtract returned None\n",
      "Player 1: cicada.arithmetic.Field.inplace_add returned None\n",
      "Player 1: cicada.additive.AdditiveProtocolSuite.share returned cicada.additive.AdditiveArrayShare(storage=37)\n",
      "Player 0: cicada.additive.AdditiveProtocolSuite.share returned cicada.additive.AdditiveArrayShare(storage=13)\n"
     ]
    }
   ],
   "source": [
    "import numpy\n",
    "\n",
    "from cicada.additive import AdditiveProtocolSuite\n",
    "from cicada.communicator import SocketCommunicator\n",
    "from cicada.encoding import FixedPoint\n",
    "\n",
    "def main(communicator):\n",
    "    transcript.log(\"Let's share some secrets!\", comm=communicator)\n",
    "    protocol = AdditiveProtocolSuite(communicator, order=127, encoding=FixedPoint(precision=2))\n",
    "    a_share = protocol.share(src=0, secret=numpy.array(2), shape=())\n",
    "    b_share = protocol.share(src=1, secret=numpy.array(3), shape=())\n",
    "    # transcript.log(\"Let's add some secrets!\", comm=communicator)\n",
    "    # c_share = protocol.add(a_share, b_share)\n",
    "    # transcript.log(\"Let's reveal the results!\", comm=communicator)\n",
    "    # c = protocol.reveal(c_share)\n",
    "\n",
    "with transcript.record():\n",
    "    SocketCommunicator.run(fn=main, world_size=3);"
   ]
  },
  {
   "cell_type": "code",
   "execution_count": null,
   "id": "38345d33-84f1-4e56-9f39-b37ac95e86c9",
   "metadata": {},
   "outputs": [],
   "source": []
  }
 ],
 "metadata": {
  "celltoolbar": "Raw Cell Format",
  "kernelspec": {
   "display_name": "Python 3 (ipykernel)",
   "language": "python",
   "name": "python3"
  },
  "language_info": {
   "codemirror_mode": {
    "name": "ipython",
    "version": 3
   },
   "file_extension": ".py",
   "mimetype": "text/x-python",
   "name": "python",
   "nbconvert_exporter": "python",
   "pygments_lexer": "ipython3",
   "version": "3.11.4"
  }
 },
 "nbformat": 4,
 "nbformat_minor": 5
}
