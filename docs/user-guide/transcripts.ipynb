{
 "cells": [
  {
   "cell_type": "raw",
   "id": "715b3105",
   "metadata": {
    "editable": true,
    "raw_mimetype": "text/restructuredtext",
    "slideshow": {
     "slide_type": ""
    },
    "tags": []
   },
   "source": [
    ".. _transcripts:\n",
    "\n",
    "Transcripts\n",
    "===========\n",
    "\n",
    "In this section we extend Cicada's basic :ref:`logging` functionality to support advanced use cases including detailed debugging, function tracing, and zero-knowledge proofs.  We refer to these detailed logs as *transcripts*, and access them using the :mod:`cicada.transcript` module.\n",
    "\n",
    ".. tip::\n",
    "\n",
    "    You'll need a good working knowledge of the Python :mod:`logging` module to fully understand the following examples!\n",
    "\n",
    "As always, you should initialize Python's logging system at the beginning of a Cicada program, even if you don't plan to use :mod:`logging` yourself:"
   ]
  },
  {
   "cell_type": "code",
   "execution_count": 1,
   "id": "f0cd0b2f-dfcd-4938-9878-4115198e3098",
   "metadata": {
    "editable": true,
    "slideshow": {
     "slide_type": ""
    },
    "tags": []
   },
   "outputs": [],
   "source": [
    "import logging\n",
    "logging.basicConfig(level=logging.INFO)"
   ]
  },
  {
   "cell_type": "markdown",
   "id": "db62a8d5-528d-447e-84bc-4a96955db5d4",
   "metadata": {},
   "source": [
    "Throughout this section, we'll be building on the following Cicada program, which adds two numbers using additive secret sharing:"
   ]
  },
  {
   "cell_type": "code",
   "execution_count": 2,
   "id": "f01f1b88-43f9-4e7e-ba4c-a1abcf081d79",
   "metadata": {
    "editable": true,
    "slideshow": {
     "slide_type": ""
    },
    "tags": []
   },
   "outputs": [],
   "source": [
    "import numpy\n",
    "\n",
    "from cicada.additive import AdditiveProtocolSuite\n",
    "from cicada.communicator import SocketCommunicator\n",
    "from cicada.encoding import FixedPoint\n",
    "\n",
    "def main(communicator):\n",
    "    protocol = AdditiveProtocolSuite(communicator, order=127, encoding=FixedPoint(precision=2))\n",
    "    a_share = protocol.share(src=0, secret=numpy.array(2), shape=())\n",
    "    b_share = protocol.share(src=1, secret=numpy.array(3), shape=())\n",
    "    c_share = protocol.add(a_share, b_share)\n",
    "    c = protocol.reveal(c_share)\n",
    "\n",
    "SocketCommunicator.run(fn=main, world_size=3);"
   ]
  },
  {
   "cell_type": "markdown",
   "id": "7fc560ac-b0bb-4d65-9e88-7f0bee15d033",
   "metadata": {},
   "source": [
    "Note that we're using a very small field (`order=127`) and reduced precision encoding (`precision=2`) to keep the output values manageable."
   ]
  },
  {
   "cell_type": "raw",
   "id": "e97445e0-af85-4eae-992e-a19c4e0a490b",
   "metadata": {
    "editable": true,
    "raw_mimetype": "text/restructuredtext",
    "slideshow": {
     "slide_type": ""
    },
    "tags": []
   },
   "source": [
    "Transcript Setup\n",
    "----------------\n",
    "\n",
    "First, we'll demonstrate using the special transcript logger provided with Cicada:"
   ]
  },
  {
   "cell_type": "code",
   "execution_count": 3,
   "id": "bc827c1a-e555-4357-b784-f1f306bcae28",
   "metadata": {
    "editable": true,
    "slideshow": {
     "slide_type": ""
    },
    "tags": []
   },
   "outputs": [],
   "source": [
    "from cicada import transcript\n",
    "\n",
    "def main(communicator):\n",
    "    handler = logging.StreamHandler()\n",
    "    handler.setFormatter(transcript.Formatter())\n",
    "    handler.addFilter(transcript.HideAllFunctions())\n",
    "    transcript.logger.addHandler(handler)\n",
    "    \n",
    "    protocol = AdditiveProtocolSuite(communicator, order=127, encoding=FixedPoint(precision=2))\n",
    "    a_share = protocol.share(src=0, secret=numpy.array(2), shape=())\n",
    "    b_share = protocol.share(src=1, secret=numpy.array(3), shape=())\n",
    "    c_share = protocol.add(a_share, b_share)\n",
    "    c = protocol.reveal(c_share)\n",
    "\n",
    "with transcript.record():\n",
    "    SocketCommunicator.run(fn=main, world_size=3);"
   ]
  },
  {
   "cell_type": "raw",
   "id": "0488191e-79f8-453c-9c99-e0473d49380f",
   "metadata": {
    "editable": true,
    "raw_mimetype": "text/restructuredtext",
    "slideshow": {
     "slide_type": ""
    },
    "tags": []
   },
   "source": [
    "First, we add a stream handler to the transcript logger; this will direct the transcript outputs to the console.  Instead of the default formatter provided by Python, we specify the special :class:`~cicada.transcript.Formatter` provided by Cicada, which provides logic to format the wide variety of events that can be transcribed. Note that we call :func:`cicada.transcript.record` before running the rest of the program, to enable transcription.  Finally, because we added the :any:`HideAllFunctions` filter to our handler, the transcript logger doesn't produce any output. To remedy this, let's add some application-specific output to the transcript by calling the transcript logger ourselves:"
   ]
  },
  {
   "cell_type": "code",
   "execution_count": 4,
   "id": "9055c05d",
   "metadata": {
    "editable": true,
    "slideshow": {
     "slide_type": ""
    },
    "tags": []
   },
   "outputs": [
    {
     "name": "stderr",
     "output_type": "stream",
     "text": [
      "Player 0: Let's setup additive sharing!\n",
      "Player 1: Let's setup additive sharing!\n",
      "Player 2: Let's setup additive sharing!\n",
      "Player 0: Let's share some secrets!\n",
      "Player 2: Let's share some secrets!\n",
      "Player 1: Let's share some secrets!\n",
      "Player 2: Let's add some secrets!\n",
      "Player 1: Let's add some secrets!\n",
      "Player 0: Let's add some secrets!\n",
      "Player 2: Let's reveal the results!\n",
      "Player 1: Let's reveal the results!\n",
      "Player 0: Let's reveal the results!\n"
     ]
    }
   ],
   "source": [
    "def main(communicator):\n",
    "    handler = logging.StreamHandler()\n",
    "    handler.setFormatter(transcript.Formatter())\n",
    "    handler.addFilter(transcript.HideAllFunctions())\n",
    "    transcript.logger.addHandler(handler)\n",
    "    \n",
    "    transcript.log(\"Let's setup additive sharing!\")\n",
    "    protocol = AdditiveProtocolSuite(communicator, order=127, encoding=FixedPoint(precision=2))\n",
    "    transcript.log(\"Let's share some secrets!\")\n",
    "    a_share = protocol.share(src=0, secret=numpy.array(2), shape=())\n",
    "    b_share = protocol.share(src=1, secret=numpy.array(3), shape=())\n",
    "    transcript.log(\"Let's add some secrets!\")\n",
    "    c_share = protocol.add(a_share, b_share)\n",
    "    transcript.log(\"Let's reveal the results!\")\n",
    "    c = protocol.reveal(c_share)\n",
    "\n",
    "with transcript.record():\n",
    "    SocketCommunicator.run(fn=main, world_size=3);"
   ]
  },
  {
   "cell_type": "raw",
   "id": "b289d2bf-f306-4cd6-b7e5-27797564f2a8",
   "metadata": {
    "editable": true,
    "raw_mimetype": "text/restructuredtext",
    "slideshow": {
     "slide_type": ""
    },
    "tags": []
   },
   "source": [
    "Now, we see output that originates directly from our script. As we will see, this output can provide valuable context about what the program is doing at a high level, making it much easier to understand the rest of the transcript output."
   ]
  },
  {
   "cell_type": "raw",
   "id": "53e306a2-598f-4314-9168-4e182a41cd80",
   "metadata": {
    "editable": true,
    "raw_mimetype": "text/restructuredtext",
    "slideshow": {
     "slide_type": ""
    },
    "tags": []
   },
   "source": [
    "Message Transcripts\n",
    "-------------------\n",
    "\n",
    "In some situations, you may want a detailed log of every message that Cicada sends over the network at runtime; this functionality is available using a pair of additional logging filters, :any:`ShowSentMessages` and :any:`ShowReceivedMessages`:"
   ]
  },
  {
   "cell_type": "code",
   "execution_count": 5,
   "id": "2f49632a-9277-47cc-947e-c5e88962dec4",
   "metadata": {
    "editable": true,
    "slideshow": {
     "slide_type": ""
    },
    "tags": []
   },
   "outputs": [
    {
     "name": "stderr",
     "output_type": "stream",
     "text": [
      "Player 0: Let's setup additive sharing!\n",
      "Player 1: Let's setup additive sharing!\n",
      "Player 2: Let's setup additive sharing!\n",
      "Player 0: --> 1 PRZS 9058657319882721885\n",
      "Player 1: --> 2 PRZS 5078680220890093857\n",
      "Player 2: --> 0 PRZS 6012564425437213046\n",
      "Player 1: <-- 0 PRZS 9058657319882721885\n",
      "Player 0: <-- 2 PRZS 6012564425437213046\n",
      "Player 2: <-- 1 PRZS 5078680220890093857\n",
      "Player 1: Let's share some secrets!\n",
      "Player 0: Let's share some secrets!\n",
      "Player 2: Let's share some secrets!\n",
      "Player 1: Let's add some secrets!\n",
      "Player 0: Let's add some secrets!\n",
      "Player 2: Let's add some secrets!\n",
      "Player 1: Let's reveal the results!\n",
      "Player 0: Let's reveal the results!\n",
      "Player 2: Let's reveal the results!\n",
      "Player 2: --> 0 GATHER 126\n",
      "Player 0: --> 0 GATHER 100\n",
      "Player 1: --> 0 GATHER 48\n",
      "Player 0: <-- 0 GATHER 100\n",
      "Player 1: --> 1 GATHER 48\n",
      "Player 2: --> 1 GATHER 126\n",
      "Player 0: <-- 2 GATHER 126\n",
      "Player 1: <-- 1 GATHER 48\n",
      "Player 2: --> 2 GATHER 126\n",
      "Player 0: <-- 1 GATHER 48\n",
      "Player 1: <-- 2 GATHER 126\n",
      "Player 2: <-- 2 GATHER 126\n",
      "Player 0: --> 1 GATHER 100\n",
      "Player 0: --> 2 GATHER 100\n",
      "Player 1: <-- 0 GATHER 100\n",
      "Player 2: <-- 0 GATHER 100\n",
      "Player 1: --> 2 GATHER 48\n",
      "Player 2: <-- 1 GATHER 48\n"
     ]
    }
   ],
   "source": [
    "def main(communicator):\n",
    "    handler = logging.StreamHandler()\n",
    "    handler.setFormatter(transcript.Formatter())\n",
    "    handler.addFilter(transcript.ShowSentMessages())\n",
    "    handler.addFilter(transcript.ShowReceivedMessages())\n",
    "    handler.addFilter(transcript.HideAllFunctions())\n",
    "    transcript.logger.addHandler(handler)\n",
    "\n",
    "    transcript.log(\"Let's setup additive sharing!\")\n",
    "    protocol = AdditiveProtocolSuite(communicator, order=127, encoding=FixedPoint(precision=2))\n",
    "    transcript.log(\"Let's share some secrets!\")\n",
    "    a_share = protocol.share(src=0, secret=numpy.array(2), shape=())\n",
    "    b_share = protocol.share(src=1, secret=numpy.array(3), shape=())\n",
    "    transcript.log(\"Let's add some secrets!\")\n",
    "    c_share = protocol.add(a_share, b_share)\n",
    "    transcript.log(\"Let's reveal the results!\")\n",
    "    c = protocol.reveal(c_share)\n",
    "\n",
    "    handler.close()\n",
    "\n",
    "with transcript.record():\n",
    "    SocketCommunicator.run(fn=main, world_size=3)"
   ]
  },
  {
   "cell_type": "raw",
   "id": "d83befb6-1d60-4977-b356-53bf504ab6a6",
   "metadata": {
    "editable": true,
    "raw_mimetype": "text/restructuredtext",
    "slideshow": {
     "slide_type": ""
    },
    "tags": []
   },
   "source": [
    "If you want to customize the transcript, you can pass a custom format string to :class:`~cicada.transcript.Formatter`, using a rich set of format fields including: `message.arrow` (message direction, relative to the local rank), `message.comm.name` (communicator name), `message.dir` (message direction, relative to the local rank), `message.dst` (message destination), `message.other` (the other player sending or receiving with the local rank), `message.payload` (message payload), `message.comm.rank` (local player), `message.src` (message source), `message.tag` (message type), and `message.verb` (\"send\" or \"receive\", depending on whether the local player is sending or receiving).\n",
    "\n",
    ".. tip::\n",
    "\n",
    "    Because the custom fields used to format the transcript don't exist for other log messages, you'll get exceptions if you try to mix the output from the transcript logger with logging from other modules.  For this reason, the transcript logger has propagation turned-off by default, so transcript output can be managed separately from other logging events.\n",
    "\n",
    "Now, you can change the default formatting to produce more compact output:"
   ]
  },
  {
   "cell_type": "code",
   "execution_count": 6,
   "id": "2c2f8bb4-d83b-4441-9981-1618eae785ee",
   "metadata": {
    "editable": true,
    "slideshow": {
     "slide_type": ""
    },
    "tags": []
   },
   "outputs": [
    {
     "name": "stderr",
     "output_type": "stream",
     "text": [
      "Player 0: Let's setup additive sharing!\n",
      "Player 1: Let's setup additive sharing!\n",
      "Player 2: Let's setup additive sharing!\n",
      "0 > 1 PRZS 1784362653799380138\n",
      "1 > 2 PRZS 536884848533061514\n",
      "2 > 0 PRZS 8487418460553309579\n",
      "1 < 0 PRZS 1784362653799380138\n",
      "0 < 2 PRZS 8487418460553309579\n",
      "2 < 1 PRZS 536884848533061514\n",
      "Player 1: Let's share some secrets!\n",
      "Player 0: Let's share some secrets!\n",
      "Player 2: Let's share some secrets!\n",
      "Player 1: Let's add some secrets!\n",
      "Player 2: Let's add some secrets!\n",
      "Player 0: Let's add some secrets!\n",
      "Player 0: Let's reveal the results!\n",
      "Player 2: Let's reveal the results!\n",
      "Player 1: Let's reveal the results!\n",
      "0 > 0 GATHER 93\n",
      "2 > 0 GATHER 103\n",
      "1 > 0 GATHER 78\n",
      "2 > 1 GATHER 103\n",
      "0 < 0 GATHER 93\n",
      "1 > 1 GATHER 78\n",
      "0 < 2 GATHER 103\n",
      "2 > 2 GATHER 103\n",
      "1 < 1 GATHER 78\n",
      "0 < 1 GATHER 78\n",
      "1 < 2 GATHER 103\n",
      "2 < 2 GATHER 103\n",
      "0 > 1 GATHER 93\n",
      "0 > 2 GATHER 93\n",
      "1 < 0 GATHER 93\n",
      "2 < 0 GATHER 93\n",
      "1 > 2 GATHER 78\n",
      "2 < 1 GATHER 78\n"
     ]
    }
   ],
   "source": [
    "def main(communicator):\n",
    "    handler = logging.StreamHandler()\n",
    "    handler.setFormatter(transcript.Formatter(msgfmt=\"{message.comm.rank} {message.dir} {message.other} {message.tag} {message.payload}\"))\n",
    "    handler.addFilter(transcript.ShowSentMessages())\n",
    "    handler.addFilter(transcript.ShowReceivedMessages())\n",
    "    handler.addFilter(transcript.HideAllFunctions())\n",
    "    transcript.logger.addHandler(handler)\n",
    "\n",
    "    transcript.log(\"Let's setup additive sharing!\")\n",
    "    protocol = AdditiveProtocolSuite(communicator, order=127, encoding=FixedPoint(precision=2))\n",
    "    transcript.log(\"Let's share some secrets!\")\n",
    "    a_share = protocol.share(src=0, secret=numpy.array(2), shape=())\n",
    "    b_share = protocol.share(src=1, secret=numpy.array(3), shape=())\n",
    "    transcript.log(\"Let's add some secrets!\")\n",
    "    c_share = protocol.add(a_share, b_share)\n",
    "    transcript.log(\"Let's reveal the results!\")\n",
    "    c = protocol.reveal(c_share)\n",
    "\n",
    "    handler.close()\n",
    "\n",
    "with transcript.record():\n",
    "    SocketCommunicator.run(fn=main, world_size=3)"
   ]
  },
  {
   "cell_type": "markdown",
   "id": "4664661a-06bd-4911-85d8-6d1783521fb8",
   "metadata": {
    "editable": true,
    "slideshow": {
     "slide_type": ""
    },
    "tags": []
   },
   "source": [
    "Note from the log outputs that an entry is generated both when a message is sent *and* when it's received, and that the rank of the  player logging the event is always on the left, whether they are the sender or the receiver.  With the arrows indicating which direction the message is travelling, this is intuitive for a person to understand, but it can make programmatically parsing the transcript needlessly difficult.  As an alternative, you can adjust the format to always put the sender on the left and the recipient on the right, regardless of which player is logging the event:"
   ]
  },
  {
   "cell_type": "code",
   "execution_count": 7,
   "id": "0a195457-ab32-4e27-8bd0-dca6adb448bc",
   "metadata": {
    "editable": true,
    "slideshow": {
     "slide_type": ""
    },
    "tags": []
   },
   "outputs": [
    {
     "name": "stderr",
     "output_type": "stream",
     "text": [
      "Player 0: Let's setup additive sharing!\n",
      "Player 2: Let's setup additive sharing!\n",
      "Player 1: Let's setup additive sharing!\n",
      "send from 0 to 1 PRZS 4521381316237156826\n",
      "send from 2 to 0 PRZS 9107140275150719362\n",
      "send from 1 to 2 PRZS 3839543892411096429\n",
      "send from 2 to 0 PRZS 9107140275150719362\n",
      "send from 1 to 2 PRZS 3839543892411096429\n",
      "send from 0 to 1 PRZS 4521381316237156826\n",
      "Player 0: Let's share some secrets!\n",
      "Player 1: Let's share some secrets!\n",
      "Player 2: Let's share some secrets!\n",
      "Player 2: Let's add some secrets!\n",
      "Player 1: Let's add some secrets!\n",
      "Player 0: Let's add some secrets!\n",
      "Player 1: Let's reveal the results!\n",
      "Player 2: Let's reveal the results!\n",
      "Player 0: Let's reveal the results!\n",
      "send from 0 to 0 GATHER 91\n",
      "send from 1 to 0 GATHER 50\n",
      "send from 2 to 0 GATHER 6\n",
      "send from 1 to 1 GATHER 50\n",
      "send from 2 to 1 GATHER 6\n",
      "send from 0 to 0 GATHER 91\n",
      "send from 1 to 0 GATHER 50\n",
      "send from 2 to 2 GATHER 6\n",
      "send from 1 to 1 GATHER 50\n",
      "send from 2 to 0 GATHER 6\n",
      "send from 2 to 1 GATHER 6\n",
      "send from 2 to 2 GATHER 6\n",
      "send from 0 to 1 GATHER 91\n",
      "send from 0 to 1 GATHER 91\n",
      "send from 0 to 2 GATHER 91\n",
      "send from 0 to 2 GATHER 91\n",
      "send from 1 to 2 GATHER 50\n",
      "send from 1 to 2 GATHER 50\n"
     ]
    }
   ],
   "source": [
    "def main(communicator):\n",
    "    handler = logging.StreamHandler()\n",
    "    handler.setFormatter(transcript.Formatter(msgfmt=\"send from {message.src} to {message.dst} {message.tag} {message.payload}\"))\n",
    "    handler.addFilter(transcript.ShowSentMessages())\n",
    "    handler.addFilter(transcript.ShowReceivedMessages())\n",
    "    handler.addFilter(transcript.HideAllFunctions())\n",
    "    transcript.logger.addHandler(handler)\n",
    "\n",
    "    transcript.log(\"Let's setup additive sharing!\")\n",
    "    protocol = AdditiveProtocolSuite(communicator, order=127, encoding=FixedPoint(precision=2))\n",
    "    transcript.log(\"Let's share some secrets!\")\n",
    "    a_share = protocol.share(src=0, secret=numpy.array(2), shape=())\n",
    "    b_share = protocol.share(src=1, secret=numpy.array(3), shape=())\n",
    "    transcript.log(\"Let's add some secrets!\")\n",
    "    c_share = protocol.add(a_share, b_share)\n",
    "    transcript.log(\"Let's reveal the results!\")\n",
    "    c = protocol.reveal(c_share)\n",
    "\n",
    "    handler.close()\n",
    "\n",
    "with transcript.record():\n",
    "    SocketCommunicator.run(fn=main, world_size=3)"
   ]
  },
  {
   "cell_type": "raw",
   "id": "6e99ddf9-57b4-494a-ad0e-c0b27b8c3dcf",
   "metadata": {
    "editable": true,
    "raw_mimetype": "text/restructuredtext",
    "slideshow": {
     "slide_type": ""
    },
    "tags": []
   },
   "source": [
    "Since this format produces two identical events for each message (once when the message is sent, and once when the message is received), you may wish to eliminate the duplication, e.g. by only logging messages when they're sent. As you can guess, this is simply a matter of removing the :any:`ShowReceivedMessages` filter:"
   ]
  },
  {
   "cell_type": "code",
   "execution_count": 8,
   "id": "21c43469-4a87-4f59-b743-11817752caa8",
   "metadata": {
    "editable": true,
    "slideshow": {
     "slide_type": ""
    },
    "tags": []
   },
   "outputs": [
    {
     "name": "stderr",
     "output_type": "stream",
     "text": [
      "Player 0: Let's setup additive sharing!\n",
      "Player 1: Let's setup additive sharing!\n",
      "Player 2: Let's setup additive sharing!\n",
      "send from 0 to 1 PRZS 2797978244959157213\n",
      "send from 1 to 2 PRZS 9109704083374206616\n",
      "send from 2 to 0 PRZS 4948755585000050858\n",
      "Player 1: Let's share some secrets!\n",
      "Player 0: Let's share some secrets!\n",
      "Player 2: Let's share some secrets!\n",
      "Player 2: Let's add some secrets!\n",
      "Player 1: Let's add some secrets!\n",
      "Player 0: Let's add some secrets!\n",
      "Player 2: Let's reveal the results!\n",
      "Player 1: Let's reveal the results!\n",
      "Player 0: Let's reveal the results!\n",
      "send from 1 to 0 GATHER 0\n",
      "send from 0 to 0 GATHER 40\n",
      "send from 2 to 0 GATHER 107\n",
      "send from 1 to 1 GATHER 0\n",
      "send from 2 to 1 GATHER 107\n",
      "send from 0 to 1 GATHER 40\n",
      "send from 2 to 2 GATHER 107\n",
      "send from 0 to 2 GATHER 40\n",
      "send from 1 to 2 GATHER 0\n"
     ]
    }
   ],
   "source": [
    "def main(communicator):\n",
    "    handler = logging.StreamHandler()\n",
    "    handler.setFormatter(transcript.Formatter(msgfmt=\"send from {message.src} to {message.dst} {message.tag} {message.payload}\"))\n",
    "    handler.addFilter(transcript.ShowSentMessages())\n",
    "    handler.addFilter(transcript.HideAllFunctions())\n",
    "    transcript.logger.addHandler(handler)\n",
    "\n",
    "    transcript.log(\"Let's setup additive sharing!\")\n",
    "    protocol = AdditiveProtocolSuite(communicator, order=127, encoding=FixedPoint(precision=2))\n",
    "    transcript.log(\"Let's share some secrets!\")\n",
    "    a_share = protocol.share(src=0, secret=numpy.array(2), shape=())\n",
    "    b_share = protocol.share(src=1, secret=numpy.array(3), shape=())\n",
    "    transcript.log(\"Let's add some secrets!\")\n",
    "    c_share = protocol.add(a_share, b_share)\n",
    "    transcript.log(\"Let's reveal the results!\")\n",
    "    c = protocol.reveal(c_share)\n",
    "\n",
    "    handler.close()\n",
    "\n",
    "with transcript.record():\n",
    "    SocketCommunicator.run(fn=main, world_size=3)"
   ]
  },
  {
   "cell_type": "raw",
   "id": "f7a1ee7e-8296-48ab-9b1c-0b5aeaafcd8e",
   "metadata": {
    "editable": true,
    "raw_mimetype": "text/restructuredtext",
    "slideshow": {
     "slide_type": ""
    },
    "tags": []
   },
   "source": [
    "Of course, you're free to show just the received messages instead, if you prefer.\n",
    "\n",
    ".. admonition:: How do they do that?\n",
    "\n",
    "   If you're paying attention, you may be surprised to see that there aren't any messages sent when our program generates secret shares. How is this possible? It's because Cicada uses a cool trick - pseudorandom zero sharing - to create additive secret shares without communication.  Note that communication isn't necessary when adding additive secret shares, and we only need to communicate when we reveal the results.  Now you know!"
   ]
  },
  {
   "cell_type": "markdown",
   "id": "5917dd05-7ae2-4fb0-9d3b-b3333d2076f6",
   "metadata": {
    "editable": true,
    "slideshow": {
     "slide_type": ""
    },
    "tags": []
   },
   "source": [
    "## Tracing Function Calls"
   ]
  },
  {
   "cell_type": "code",
   "execution_count": 9,
   "id": "a7547efc",
   "metadata": {
    "editable": true,
    "slideshow": {
     "slide_type": ""
    },
    "tags": []
   },
   "outputs": [],
   "source": [
    "def main(communicator):\n",
    "    handler = logging.FileHandler(f\"player-{communicator.rank}.log\", mode=\"w\")\n",
    "    handler.setFormatter(transcript.Formatter())\n",
    "    handler.addFilter(transcript.ShowSentMessages())\n",
    "    handler.addFilter(transcript.ShowReceivedMessages())\n",
    "    handler.addFilter(transcript.HideSpecialFunctions())\n",
    "    handler.addFilter(transcript.HideInitFunctions())\n",
    "    handler.addFilter(transcript.HidePrivateFunctions())\n",
    "    handler.addFilter(transcript.HideDefaultFunctions())\n",
    "    handler.addFilter(transcript.HideCommunicationFunctions())\n",
    "    handler.addFilter(transcript.HideSelfArguments())\n",
    "    handler.addFilter(transcript.MapInlineResults({\n",
    "        \"cicada.arithmetic.Field.inplace_add\": \"lhs\",\n",
    "        \"cicada.arithmetic.Field.inplace_subtract\": \"lhs\",\n",
    "    }))\n",
    "    transcript.logger.addHandler(handler)\n",
    "\n",
    "    protocol = AdditiveProtocolSuite(communicator, order=127, encoding=FixedPoint(precision=2))\n",
    "    transcript.log(\"Let's share some secrets!\")\n",
    "    a_share = protocol.share(src=0, secret=numpy.array(2), shape=())\n",
    "    b_share = protocol.share(src=1, secret=numpy.array(3), shape=())\n",
    "    transcript.log(\"Let's add some secrets!\")\n",
    "    c_share = protocol.add(a_share, b_share)\n",
    "    transcript.log(\"Let's reveal the results!\")\n",
    "    c = protocol.reveal(c_share)\n",
    "\n",
    "    handler.close()\n",
    "\n",
    "with transcript.record():\n",
    "    SocketCommunicator.run(fn=main, world_size=3)"
   ]
  },
  {
   "cell_type": "code",
   "execution_count": 10,
   "id": "5ba3aacd-3fb8-4086-b71d-1520d2d8beec",
   "metadata": {
    "editable": true,
    "slideshow": {
     "slide_type": ""
    },
    "tags": []
   },
   "outputs": [
    {
     "name": "stdout",
     "output_type": "stream",
     "text": [
      "Player 0: --> 1 PRZS 8405593446333862681\n",
      "Player 0: <-- 2 PRZS 9153506999110928940\n",
      "Player 0: Let's share some secrets!\n",
      "Player 0: AdditiveProtocolSuite.share(src=0, secret=array(2), shape=(), encoding=None)\n",
      "Player 0:   Field.uniform(size=(), generator=Generator(PCG64) at 0x11526C040)\n",
      "Player 0:     Field.uniform => 122\n",
      "Player 0:   Field.uniform(size=(), generator=Generator(PCG64) at 0x11526D2A0)\n",
      "Player 0:     Field.uniform => 185\n",
      "Player 0:   Field.inplace_subtract(lhs=array(122, dtype=object), rhs=array(185, dtype=object))\n",
      "Player 0:     Field.inplace_subtract => 64\n",
      "Player 0:   FixedPoint.encode(array=array(2), field=cicada.arithmetic.Field(order=127))\n",
      "Player 0:     FixedPoint.encode => 8\n",
      "Player 0:   Field.inplace_add(lhs=array(64, dtype=object), rhs=array(8, dtype=object))\n",
      "Player 0:     Field.inplace_add => 72\n",
      "Player 0:   AdditiveProtocolSuite.share => cicada.additive.AdditiveArrayShare(storage=72)\n",
      "Player 0: AdditiveProtocolSuite.share(src=1, secret=array(3), shape=(), encoding=None)\n",
      "Player 0:   Field.uniform(size=(), generator=Generator(PCG64) at 0x11526C040)\n",
      "Player 0:     Field.uniform => 101\n",
      "Player 0:   Field.uniform(size=(), generator=Generator(PCG64) at 0x11526D2A0)\n",
      "Player 0:     Field.uniform => 204\n",
      "Player 0:   Field.inplace_subtract(lhs=array(101, dtype=object), rhs=array(204, dtype=object))\n",
      "Player 0:     Field.inplace_subtract => 24\n",
      "Player 0:   AdditiveProtocolSuite.share => cicada.additive.AdditiveArrayShare(storage=24)\n",
      "Player 0: Let's add some secrets!\n",
      "Player 0: AdditiveProtocolSuite.add(lhs=cicada.additive.AdditiveArrayShare(storage=72), rhs=cicada.additive.AdditiveArrayShare(storage=24), encoding=None)\n",
      "Player 0:   AdditiveProtocolSuite.field_add(lhs=cicada.additive.AdditiveArrayShare(storage=72), rhs=cicada.additive.AdditiveArrayShare(storage=24))\n",
      "Player 0:     Field.add(lhs=array(72, dtype=object), rhs=array(24, dtype=object))\n",
      "Player 0:       Field.add => 96\n",
      "Player 0:     AdditiveProtocolSuite.field_add => cicada.additive.AdditiveArrayShare(storage=96)\n",
      "Player 0:   AdditiveProtocolSuite.add => cicada.additive.AdditiveArrayShare(storage=96)\n",
      "Player 0: Let's reveal the results!\n",
      "Player 0: AdditiveProtocolSuite.reveal(share=cicada.additive.AdditiveArrayShare(storage=96), dst=None, encoding=None)\n",
      "Player 0:   SocketCommunicator.gather(value=array(96, dtype=object), dst=0)\n",
      "Player 0: --> 0 GATHER 96\n",
      "Player 0: <-- 0 GATHER 96\n",
      "Player 0: <-- 2 GATHER 50\n",
      "Player 0: <-- 1 GATHER 1\n",
      "Player 0:     SocketCommunicator.gather => [array(96, dtype=object), array(1, dtype=object), array(50, dtype=object)]\n",
      "Player 0:   Field.inplace_add(lhs=array(96, dtype=object), rhs=array(1, dtype=object))\n",
      "Player 0:     Field.inplace_add => 97\n",
      "Player 0:   Field.inplace_add(lhs=array(97, dtype=object), rhs=array(50, dtype=object))\n",
      "Player 0:     Field.inplace_add => 20\n",
      "Player 0:   SocketCommunicator.gather(value=array(96, dtype=object), dst=1)\n",
      "Player 0: --> 1 GATHER 96\n",
      "Player 0:     SocketCommunicator.gather => None\n",
      "Player 0:   SocketCommunicator.gather(value=array(96, dtype=object), dst=2)\n",
      "Player 0: --> 2 GATHER 96\n",
      "Player 0:     SocketCommunicator.gather => None\n",
      "Player 0:   FixedPoint.decode(array=array(20, dtype=object), field=cicada.arithmetic.Field(order=127))\n",
      "Player 0:     FixedPoint.decode => 5.0\n",
      "Player 0:   AdditiveProtocolSuite.reveal => 5.0\n",
      "\n",
      "\n",
      "\n",
      "\n",
      "\n",
      "\n",
      "\n",
      "Player 1: --> 2 PRZS 4398554922268930910\n",
      "Player 1: <-- 0 PRZS 8405593446333862681\n",
      "Player 1: Let's share some secrets!\n",
      "Player 1: AdditiveProtocolSuite.share(src=0, secret=array(2), shape=(), encoding=None)\n",
      "Player 1:   Field.uniform(size=(), generator=Generator(PCG64) at 0x11526C040)\n",
      "Player 1:     Field.uniform => 66\n",
      "Player 1:   Field.uniform(size=(), generator=Generator(PCG64) at 0x11526D2A0)\n",
      "Player 1:     Field.uniform => 122\n",
      "Player 1:   Field.inplace_subtract(lhs=array(66, dtype=object), rhs=array(122, dtype=object))\n",
      "Player 1:     Field.inplace_subtract => 71\n",
      "Player 1:   AdditiveProtocolSuite.share => cicada.additive.AdditiveArrayShare(storage=71)\n",
      "Player 1: AdditiveProtocolSuite.share(src=1, secret=array(3), shape=(), encoding=None)\n",
      "Player 1:   Field.uniform(size=(), generator=Generator(PCG64) at 0x11526C040)\n",
      "Player 1:     Field.uniform => 19\n",
      "Player 1:   Field.uniform(size=(), generator=Generator(PCG64) at 0x11526D2A0)\n",
      "Player 1:     Field.uniform => 101\n",
      "Player 1:   Field.inplace_subtract(lhs=array(19, dtype=object), rhs=array(101, dtype=object))\n",
      "Player 1:     Field.inplace_subtract => 45\n",
      "Player 1:   FixedPoint.encode(array=array(3), field=cicada.arithmetic.Field(order=127))\n",
      "Player 1:     FixedPoint.encode => 12\n",
      "Player 1:   Field.inplace_add(lhs=array(45, dtype=object), rhs=array(12, dtype=object))\n",
      "Player 1:     Field.inplace_add => 57\n",
      "Player 1:   AdditiveProtocolSuite.share => cicada.additive.AdditiveArrayShare(storage=57)\n",
      "Player 1: Let's add some secrets!\n",
      "Player 1: AdditiveProtocolSuite.add(lhs=cicada.additive.AdditiveArrayShare(storage=71), rhs=cicada.additive.AdditiveArrayShare(storage=57), encoding=None)\n",
      "Player 1:   AdditiveProtocolSuite.field_add(lhs=cicada.additive.AdditiveArrayShare(storage=71), rhs=cicada.additive.AdditiveArrayShare(storage=57))\n",
      "Player 1:     Field.add(lhs=array(71, dtype=object), rhs=array(57, dtype=object))\n",
      "Player 1:       Field.add => 1\n",
      "Player 1:     AdditiveProtocolSuite.field_add => cicada.additive.AdditiveArrayShare(storage=1)\n",
      "Player 1:   AdditiveProtocolSuite.add => cicada.additive.AdditiveArrayShare(storage=1)\n",
      "Player 1: Let's reveal the results!\n",
      "Player 1: AdditiveProtocolSuite.reveal(share=cicada.additive.AdditiveArrayShare(storage=1), dst=None, encoding=None)\n",
      "Player 1:   SocketCommunicator.gather(value=array(1, dtype=object), dst=0)\n",
      "Player 1: --> 0 GATHER 1\n",
      "Player 1:     SocketCommunicator.gather => None\n",
      "Player 1:   SocketCommunicator.gather(value=array(1, dtype=object), dst=1)\n",
      "Player 1: --> 1 GATHER 1\n",
      "Player 1: <-- 2 GATHER 50\n",
      "Player 1: <-- 1 GATHER 1\n",
      "Player 1: <-- 0 GATHER 96\n",
      "Player 1:     SocketCommunicator.gather => [array(96, dtype=object), array(1, dtype=object), array(50, dtype=object)]\n",
      "Player 1:   Field.inplace_add(lhs=array(96, dtype=object), rhs=array(1, dtype=object))\n",
      "Player 1:     Field.inplace_add => 97\n",
      "Player 1:   Field.inplace_add(lhs=array(97, dtype=object), rhs=array(50, dtype=object))\n",
      "Player 1:     Field.inplace_add => 20\n",
      "Player 1:   SocketCommunicator.gather(value=array(1, dtype=object), dst=2)\n",
      "Player 1: --> 2 GATHER 1\n",
      "Player 1:     SocketCommunicator.gather => None\n",
      "Player 1:   FixedPoint.decode(array=array(20, dtype=object), field=cicada.arithmetic.Field(order=127))\n",
      "Player 1:     FixedPoint.decode => 5.0\n",
      "Player 1:   AdditiveProtocolSuite.reveal => 5.0\n",
      "\n",
      "\n",
      "\n",
      "\n",
      "\n",
      "\n",
      "\n",
      "Player 2: --> 0 PRZS 9153506999110928940\n",
      "Player 2: <-- 1 PRZS 4398554922268930910\n",
      "Player 2: Let's share some secrets!\n",
      "Player 2: AdditiveProtocolSuite.share(src=0, secret=array(2), shape=(), encoding=None)\n",
      "Player 2:   Field.uniform(size=(), generator=Generator(PCG64) at 0x11526C040)\n",
      "Player 2:     Field.uniform => 185\n",
      "Player 2:   Field.uniform(size=(), generator=Generator(PCG64) at 0x11526D2A0)\n",
      "Player 2:     Field.uniform => 66\n",
      "Player 2:   Field.inplace_subtract(lhs=array(185, dtype=object), rhs=array(66, dtype=object))\n",
      "Player 2:     Field.inplace_subtract => 119\n",
      "Player 2:   AdditiveProtocolSuite.share => cicada.additive.AdditiveArrayShare(storage=119)\n",
      "Player 2: AdditiveProtocolSuite.share(src=1, secret=array(3), shape=(), encoding=None)\n",
      "Player 2:   Field.uniform(size=(), generator=Generator(PCG64) at 0x11526C040)\n",
      "Player 2:     Field.uniform => 204\n",
      "Player 2:   Field.uniform(size=(), generator=Generator(PCG64) at 0x11526D2A0)\n",
      "Player 2:     Field.uniform => 19\n",
      "Player 2:   Field.inplace_subtract(lhs=array(204, dtype=object), rhs=array(19, dtype=object))\n",
      "Player 2:     Field.inplace_subtract => 58\n",
      "Player 2:   AdditiveProtocolSuite.share => cicada.additive.AdditiveArrayShare(storage=58)\n",
      "Player 2: Let's add some secrets!\n",
      "Player 2: AdditiveProtocolSuite.add(lhs=cicada.additive.AdditiveArrayShare(storage=119), rhs=cicada.additive.AdditiveArrayShare(storage=58), encoding=None)\n",
      "Player 2:   AdditiveProtocolSuite.field_add(lhs=cicada.additive.AdditiveArrayShare(storage=119), rhs=cicada.additive.AdditiveArrayShare(storage=58))\n",
      "Player 2:     Field.add(lhs=array(119, dtype=object), rhs=array(58, dtype=object))\n",
      "Player 2:       Field.add => 50\n",
      "Player 2:     AdditiveProtocolSuite.field_add => cicada.additive.AdditiveArrayShare(storage=50)\n",
      "Player 2:   AdditiveProtocolSuite.add => cicada.additive.AdditiveArrayShare(storage=50)\n",
      "Player 2: Let's reveal the results!\n",
      "Player 2: AdditiveProtocolSuite.reveal(share=cicada.additive.AdditiveArrayShare(storage=50), dst=None, encoding=None)\n",
      "Player 2:   SocketCommunicator.gather(value=array(50, dtype=object), dst=0)\n",
      "Player 2: --> 0 GATHER 50\n",
      "Player 2:     SocketCommunicator.gather => None\n",
      "Player 2:   SocketCommunicator.gather(value=array(50, dtype=object), dst=1)\n",
      "Player 2: --> 1 GATHER 50\n",
      "Player 2:     SocketCommunicator.gather => None\n",
      "Player 2:   SocketCommunicator.gather(value=array(50, dtype=object), dst=2)\n",
      "Player 2: --> 2 GATHER 50\n",
      "Player 2: <-- 2 GATHER 50\n",
      "Player 2: <-- 0 GATHER 96\n",
      "Player 2: <-- 1 GATHER 1\n",
      "Player 2:     SocketCommunicator.gather => [array(96, dtype=object), array(1, dtype=object), array(50, dtype=object)]\n",
      "Player 2:   Field.inplace_add(lhs=array(96, dtype=object), rhs=array(1, dtype=object))\n",
      "Player 2:     Field.inplace_add => 97\n",
      "Player 2:   Field.inplace_add(lhs=array(97, dtype=object), rhs=array(50, dtype=object))\n",
      "Player 2:     Field.inplace_add => 20\n",
      "Player 2:   FixedPoint.decode(array=array(20, dtype=object), field=cicada.arithmetic.Field(order=127))\n",
      "Player 2:     FixedPoint.decode => 5.0\n",
      "Player 2:   AdditiveProtocolSuite.reveal => 5.0\n",
      "\n",
      "\n",
      "\n",
      "\n",
      "\n",
      "\n",
      "\n"
     ]
    }
   ],
   "source": [
    "for rank in range(3):\n",
    "    with open(f\"player-{rank}.log\", \"r\") as stream:\n",
    "        print(stream.read())\n",
    "        print(\"\\n\" * 5)"
   ]
  },
  {
   "cell_type": "raw",
   "id": "0ebeadfa-d4eb-4d05-a659-e9cdeea8c56f",
   "metadata": {
    "editable": true,
    "raw_mimetype": "text/restructuredtext",
    "slideshow": {
     "slide_type": ""
    },
    "tags": []
   },
   "source": [
    ".. seealso:: :ref:`logging`"
   ]
  }
 ],
 "metadata": {
  "celltoolbar": "Raw Cell Format",
  "kernelspec": {
   "display_name": "Python 3 (ipykernel)",
   "language": "python",
   "name": "python3"
  },
  "language_info": {
   "codemirror_mode": {
    "name": "ipython",
    "version": 3
   },
   "file_extension": ".py",
   "mimetype": "text/x-python",
   "name": "python",
   "nbconvert_exporter": "python",
   "pygments_lexer": "ipython3",
   "version": "3.11.4"
  }
 },
 "nbformat": 4,
 "nbformat_minor": 5
}
