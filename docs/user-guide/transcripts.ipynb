{
 "cells": [
  {
   "cell_type": "raw",
   "id": "715b3105",
   "metadata": {
    "editable": true,
    "raw_mimetype": "text/restructuredtext",
    "slideshow": {
     "slide_type": ""
    },
    "tags": []
   },
   "source": [
    ".. _transcripts:\n",
    "\n",
    "Transcripts\n",
    "===========\n",
    "\n",
    "Because it provides an incredible breadth and depth of functionality for managing program output, Cicada uses Python's builtin :mod:`logging` module to report messages from the library. Thus, you should always initialize Python's logging system at the beginning of a Cicada program, even if you don't plan to use :mod:`logging` yourself:"
   ]
  },
  {
   "cell_type": "raw",
   "id": "51bc24fd-1ef7-4392-9994-3966407f5ead",
   "metadata": {
    "editable": true,
    "raw_mimetype": "text/restructuredtext",
    "slideshow": {
     "slide_type": ""
    },
    "tags": []
   },
   "source": [
    "Message Transcripts\n",
    "-------------------\n",
    "\n",
    "In some situations, you may want a detailed log of every message that Cicada sends at runtime; this functionality is available through a specially-named logger provided for the purpose:"
   ]
  },
  {
   "cell_type": "code",
   "execution_count": 1,
   "id": "34be8d1c",
   "metadata": {
    "editable": true,
    "slideshow": {
     "slide_type": ""
    },
    "tags": []
   },
   "outputs": [],
   "source": [
    "import logging\n",
    "logging.basicConfig(level=logging.INFO)"
   ]
  },
  {
   "cell_type": "raw",
   "id": "c7f79e21",
   "metadata": {
    "editable": true,
    "raw_mimetype": "text/restructuredtext",
    "slideshow": {
     "slide_type": ""
    },
    "tags": []
   },
   "source": [
    ".. tip::\n",
    "\n",
    "    We strongly recommend that you get to know the Python :mod:`logging` module, which can benefit all of your programming projects!\n",
    "    \n",
    "By default, Cicada is configured to only log warning messages, so you won't see any output during normal operation:"
   ]
  },
  {
   "cell_type": "code",
   "execution_count": 2,
   "id": "512a415d",
   "metadata": {
    "editable": true,
    "slideshow": {
     "slide_type": ""
    },
    "tags": []
   },
   "outputs": [
    {
     "name": "stdout",
     "output_type": "stream",
     "text": [
      "Hello from player 1!Hello from player 0!\n",
      "\n"
     ]
    }
   ],
   "source": [
    "from cicada.communicator import SocketCommunicator\n",
    "\n",
    "def main(communicator):\n",
    "    print(f\"Hello from player {communicator.rank}!\")\n",
    "\n",
    "SocketCommunicator.run(world_size=2, fn=main);"
   ]
  },
  {
   "cell_type": "code",
   "execution_count": 3,
   "id": "d5e1718a-5dc8-4c55-9d89-c4a660062517",
   "metadata": {
    "editable": true,
    "slideshow": {
     "slide_type": ""
    },
    "tags": []
   },
   "outputs": [],
   "source": [
    "from cicada import transcript\n",
    "transcript.enable = True\n",
    "\n",
    "handler = logging.StreamHandler()\n",
    "handler.setFormatter(transcript.Formatter())\n",
    "transcript.logger.addHandler(handler)"
   ]
  },
  {
   "cell_type": "raw",
   "id": "42628a54-787b-43b4-9eef-1580d1066f9e",
   "metadata": {
    "editable": true,
    "raw_mimetype": "text/restructuredtext",
    "slideshow": {
     "slide_type": ""
    },
    "tags": []
   },
   "source": [
    "Now, when you perform a computation, you can see each individual message that is sent and received, including the message payload:"
   ]
  },
  {
   "cell_type": "code",
   "execution_count": 4,
   "id": "e747cb20-5293-4211-980b-c87ad4df2e2e",
   "metadata": {
    "editable": true,
    "slideshow": {
     "slide_type": ""
    },
    "tags": []
   },
   "outputs": [
    {
     "name": "stderr",
     "output_type": "stream",
     "text": [
      "Player 0 PRZSProtocol __init__\n",
      "Player 1 PRZSProtocol __init__\n",
      "Player 2 PRZSProtocol __init__\n",
      "Player 0 --> 1 PRZS 7343805974754493774\n",
      "Player 1 --> 2 PRZS 5464314533569539861\n",
      "Player 2 --> 0 PRZS 7618675081499959052\n",
      "Player 1 <-- 0 PRZS 7343805974754493774\n",
      "Player 0 <-- 2 PRZS 7618675081499959052\n",
      "Player 2 <-- 1 PRZS 5464314533569539861\n",
      "Player 1 AdditiveProtocolSuite share\n",
      "Player 0 AdditiveProtocolSuite share\n",
      "Player 2 AdditiveProtocolSuite share\n",
      "Player 1 AdditiveProtocolSuite share\n",
      "Player 2 AdditiveProtocolSuite share\n",
      "Player 0 Field inplace_add [18446722102890534953, 131072] 18446722102890666025\n",
      "Player 1 Field inplace_add [10434212987201613578, 196608] 10434212987201810186\n",
      "Player 2 Field add None None\n",
      "Player 0 AdditiveProtocolSuite share\n",
      "Player 1 Field add None None\n",
      "Player 2 AdditiveProtocolSuite reveal\n",
      "Player 0 Field add None None\n",
      "Player 1 AdditiveProtocolSuite reveal\n",
      "Player 2 --> 0 GATHER 16407681753021415492\n",
      "Player 0 AdditiveProtocolSuite reveal\n",
      "Player 1 --> 0 GATHER 4990354836776909419\n",
      "Player 0 --> 0 GATHER 15495451557621105883\n",
      "Player 2 --> 1 GATHER 16407681753021415492\n",
      "Player 1 --> 1 GATHER 4990354836776909419\n",
      "Player 0 <-- 2 GATHER 16407681753021415492\n",
      "Player 2 --> 2 GATHER 16407681753021415492\n",
      "Player 1 <-- 2 GATHER 16407681753021415492\n",
      "Player 0 <-- 1 GATHER 4990354836776909419\n",
      "Player 2 <-- 2 GATHER 16407681753021415492\n",
      "Player 1 <-- 1 GATHER 4990354836776909419\n",
      "Player 0 <-- 0 GATHER 15495451557621105883\n",
      "Player 0 Field inplace_add [15495451557621105883, 4990354836776909419] 2039062320688463745\n",
      "Player 0 Field inplace_add [2039062320688463745, 16407681753021415492] 327680\n",
      "Player 0 --> 1 GATHER 15495451557621105883\n",
      "Player 0 --> 2 GATHER 15495451557621105883\n",
      "Player 1 <-- 0 GATHER 15495451557621105883\n",
      "Player 2 <-- 0 GATHER 15495451557621105883\n",
      "Player 1 Field inplace_add [15495451557621105883, 4990354836776909419] 2039062320688463745\n",
      "Player 1 Field inplace_add [2039062320688463745, 16407681753021415492] 327680\n",
      "Player 1 --> 2 GATHER 4990354836776909419\n",
      "Player 2 <-- 1 GATHER 4990354836776909419\n",
      "Player 2 Field inplace_add [15495451557621105883, 4990354836776909419] 2039062320688463745\n",
      "Player 2 Field inplace_add [2039062320688463745, 16407681753021415492] 327680\n"
     ]
    }
   ],
   "source": [
    "import numpy\n",
    "\n",
    "from cicada.additive import AdditiveProtocolSuite\n",
    "\n",
    "def main(communicator):\n",
    "    protocol = AdditiveProtocolSuite(communicator)\n",
    "#    transcript.log(transcript.Category.APP, \"Share Secrets\", comm=communicator.name, rank=communicator.rank)\n",
    "    a_share = protocol.share(src=0, secret=numpy.array(2), shape=())\n",
    "    b_share = protocol.share(src=1, secret=numpy.array(3), shape=())\n",
    "#    transcript.log(transcript.Category.APP, \"Add Secrets\", comm=communicator.name, rank=communicator.rank)\n",
    "    c_share = protocol.add(a_share, b_share)\n",
    "#    transcript.log(transcript.Category.APP, \"Reveal Result\", comm=communicator.name, rank=communicator.rank)\n",
    "    c = protocol.reveal(c_share)\n",
    "    \n",
    "SocketCommunicator.run(fn=main, world_size=3);"
   ]
  },
  {
   "attachments": {},
   "cell_type": "markdown",
   "id": "90e992a2-62bb-4d6a-b5d2-096e13f8a899",
   "metadata": {
    "editable": true,
    "slideshow": {
     "slide_type": ""
    },
    "tags": []
   },
   "source": [
    "If you want to customize the transcript, you can use a rich set of extra logging fields in your formatting string including: `arrow` (message direction, relative to the local rank), `comm` (communicator name), `dir` (message direction, relative to the local rank), `dst` (message destination), `other` (the other player sending or receiving with the local rank), `payload` (message payload), `rank` (local player), `src` (message source), `tag` (message type), and `verb` (\"send\" or \"receive\", depending on whether the local player is sending or receiving).\n",
    "\n",
    "Because the custom fields used to format the transcript don't exist for other log messages, you'll get exceptions if you try to mix the output from the transcript logger with logging from other modules.  In general, it's a good idea to setup a custom handler for the transcript logger and turn-off propagation, so transcript output can be managed separately from other logging events:"
   ]
  },
  {
   "cell_type": "raw",
   "id": "d9ef2e2c-057d-4dfe-81d7-9764ae74acef",
   "metadata": {
    "editable": true,
    "raw_mimetype": "text/restructuredtext",
    "slideshow": {
     "slide_type": ""
    },
    "tags": []
   },
   "source": [
    ".. note::\n",
    "\n",
    "    You may want to use :class:`logging.FileHandler` to write the transcript to a file, particularly as your message payload sizes grow."
   ]
  },
  {
   "cell_type": "markdown",
   "id": "15529bca-abcd-4b17-89c8-15779c159e35",
   "metadata": {
    "editable": true,
    "slideshow": {
     "slide_type": ""
    },
    "tags": []
   },
   "source": [
    "Now, you can change the default formatting to produce a more compact version of the above:"
   ]
  },
  {
   "cell_type": "raw",
   "id": "21034533-19b3-47b9-a4ae-d693c7578892",
   "metadata": {
    "editable": true,
    "slideshow": {
     "slide_type": ""
    },
    "tags": []
   },
   "source": [
    "handler.setFormatter(logging.Formatter(\"{rank} {dir} {other} {tag} {payload}\", style=\"{\"))\n",
    "\n",
    "SocketCommunicator.run(fn=main, world_size=3);"
   ]
  },
  {
   "cell_type": "markdown",
   "id": "ea97a293-3a2f-4f94-b92b-3f20e3e8c8d4",
   "metadata": {
    "editable": true,
    "raw_mimetype": "",
    "slideshow": {
     "slide_type": ""
    },
    "tags": []
   },
   "source": [
    "Note in the preceeding log outputs that an entry is generated both when a message is sent *and* when it's received, and that the rank of the  player logging the event is always on the left, whether they are the sender or the receiver.  With the arrows indicating which direction the message is travelling, this is easy for a person to understand, but it makes programmatically parsing the transcript needlessly difficult.  As an alternative, you can adjust the format to always put the sender on the left and the recipient on the right, regardless of which player is logging the event:"
   ]
  },
  {
   "cell_type": "raw",
   "id": "35ed296d-6c5b-475a-816d-e5bfae951e7a",
   "metadata": {
    "editable": true,
    "slideshow": {
     "slide_type": ""
    },
    "tags": []
   },
   "source": [
    "handler.setFormatter(logging.Formatter(\"From {src} to {dst} {tag} {payload}\", style=\"{\"))\n",
    "\n",
    "SocketCommunicator.run(fn=main, world_size=3);"
   ]
  },
  {
   "cell_type": "markdown",
   "id": "18309a23-5d03-4427-a9a4-8c734d340461",
   "metadata": {
    "editable": true,
    "slideshow": {
     "slide_type": ""
    },
    "tags": []
   },
   "source": [
    "Since this format produces two identical events for each message (once when the message is sent, and once when the message is received), you may wish to filter the output to eliminate the duplication, e.g. by only logging messages when they're sent:"
   ]
  },
  {
   "cell_type": "raw",
   "id": "577e911c-85e2-496e-87ea-2b0622b7226a",
   "metadata": {
    "editable": true,
    "slideshow": {
     "slide_type": ""
    },
    "tags": []
   },
   "source": [
    "def only_sent(record):\n",
    "    return record.verb == \"send\"\n",
    "\n",
    "handler.addFilter(only_sent)\n",
    "\n",
    "SocketCommunicator.run(fn=main, world_size=3);"
   ]
  }
 ],
 "metadata": {
  "celltoolbar": "Raw Cell Format",
  "kernelspec": {
   "display_name": "Python 3 (ipykernel)",
   "language": "python",
   "name": "python3"
  },
  "language_info": {
   "codemirror_mode": {
    "name": "ipython",
    "version": 3
   },
   "file_extension": ".py",
   "mimetype": "text/x-python",
   "name": "python",
   "nbconvert_exporter": "python",
   "pygments_lexer": "ipython3",
   "version": "3.11.4"
  }
 },
 "nbformat": 4,
 "nbformat_minor": 5
}
