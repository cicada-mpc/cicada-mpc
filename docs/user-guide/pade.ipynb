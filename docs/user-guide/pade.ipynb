{
 "cells": [
  {
   "cell_type": "raw",
   "metadata": {
    "raw_mimetype": "text/restructuredtext"
   },
   "source": [
    ".. _absolute:\n",
    "\n",
    "Absolute Value\n",
    "==============\n",
    "\n",
    "In this example, player 1 secret-shares a vector, and all players compute the absolute values element-wise while preserving privacy:"
   ]
  },
  {
   "cell_type": "code",
   "execution_count": 9,
   "metadata": {},
   "outputs": [
    {
     "name": "stderr",
     "output_type": "stream",
     "text": [
      "INFO:root:Player 1 secret: 1\n",
      "INFO:root:Player 1 pade_tanh(1): 0.7615941505015345 tanh(1): 0.7615941559557649 err%: 7.161596971308217e-07\n",
      "INFO:root:Player 1 pade_tanh(1): 0.0030647480681939756 tanh(1): 0.7615941559557649 err%: 99.59758776452954\n"
     ]
    }
   ],
   "source": [
    "import logging\n",
    "\n",
    "import numpy\n",
    "\n",
    "import cicada\n",
    "from cicada.additive import AdditiveProtocolSuite\n",
    "from cicada.additive import AdditiveArrayShare\n",
    "from cicada.communicator import SocketCommunicator\n",
    "from cicada.encoding import FixedPoint\n",
    "\n",
    "from math import sqrt, tanh\n",
    "from scipy.interpolate import approximate_taylor_polynomial, pade\n",
    "\n",
    "\n",
    "logging.basicConfig(level=logging.INFO)\n",
    "\n",
    "def main(communicator):\n",
    "    log = cicada.Logger(logging.getLogger(), communicator)\n",
    "    p = 323973620284528255071476631394143731453\n",
    "    protocol = AdditiveProtocolSuite(communicator, order=323973620284528255071476631394143731453, encoding=FixedPoint(32))\n",
    "    \n",
    "    secret = 1\n",
    "    secret_share = protocol.share(src=1, secret=numpy.array(secret), shape=())\n",
    "    log.info(f\"Player {communicator.rank} secret: {secret}\", src=1)    \n",
    "    \n",
    "    result = protocol.pade_approx(numpy.tanh, 0, secret_share)\n",
    "\n",
    "    log.info(f\"Player {communicator.rank} pade_tanh({secret}): {result*16285787} tanh({secret}): {numpy.tanh(secret)} err%: {100*(numpy.tanh(secret)-result*16285787)/numpy.tanh(secret)}\", src=1)\n",
    "    log.info(f\"Player {communicator.rank} pade_tanh({secret}): {result*65536} tanh({secret}): {numpy.tanh(secret)} err%: {100*(numpy.tanh(secret)-result*65536)/numpy.tanh(secret)}\", src=1)\n",
    "    \n",
    "    \n",
    "\n",
    "SocketCommunicator.run(world_size=3, fn=main);"
   ]
  },
  {
   "cell_type": "raw",
   "metadata": {
    "raw_mimetype": "text/restructuredtext"
   },
   "source": [
    "Note that :math:`6.69999695` is an approximation to the original value, due to the limited precision of the fixed point encoding.\n",
    "\n",
    ".. seealso:: :ref:`floor`"
   ]
  },
  {
   "cell_type": "code",
   "execution_count": 7,
   "metadata": {},
   "outputs": [
    {
     "name": "stdout",
     "output_type": "stream",
     "text": [
      "16285787.116632244\n"
     ]
    }
   ],
   "source": [
    "print(0.7615941559557649/4.676434430227624e-08)"
   ]
  },
  {
   "cell_type": "code",
   "execution_count": null,
   "metadata": {},
   "outputs": [],
   "source": []
  }
 ],
 "metadata": {
  "celltoolbar": "Raw Cell Format",
  "kernelspec": {
   "display_name": "Python 3 (ipykernel)",
   "language": "python",
   "name": "python3"
  },
  "language_info": {
   "codemirror_mode": {
    "name": "ipython",
    "version": 3
   },
   "file_extension": ".py",
   "mimetype": "text/x-python",
   "name": "python",
   "nbconvert_exporter": "python",
   "pygments_lexer": "ipython3",
   "version": "3.11.3"
  }
 },
 "nbformat": 4,
 "nbformat_minor": 2
}
