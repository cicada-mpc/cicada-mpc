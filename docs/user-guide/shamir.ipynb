{
 "cells": [
  {
   "cell_type": "raw",
   "metadata": {
    "raw_mimetype": "text/restructuredtext"
   },
   "source": [
    ".. _shamir:\n",
    "\n",
    "Shamir Secret Sharing\n",
    "---------------------\n",
    "\n",
    "While :class:`additive secret sharing <cicada.additive.AdditiveProtocol>` is widely used throughout the :ref:`tutorial` and this documentation, it isn't the only secret sharing scheme supported by Cicada: Shamir sharing is implemented too, and supports the same mathematical and logical operations as additive sharing. Unlike additive sharing, Shamir's is a threshold scheme such that for any set of :math:`n` players, a threshold :math:`k` can be specified where any subset of :math:`n` greater-than-or-equal-to :math:`k` can reveal a secret.  To accomplish this, Shamir's scheme is based on creating and evaluating polynomials over an integral field.  To share a secret :math:`s` among :math:`n` parties with threshold :math:`k`, a random polynomial with the following form is generated over the field :math:`\\mathbb{Z}_p`, where the :math:`c` coefficients are all random field elements: \n",
    "\n",
    ".. math::\n",
    "\n",
    "  f(x)=(c_{k-1}x^{k-1}+c_{k-2}x^{k-2}+\\dots+c_{2}x^{2}+c_{1}x+s)\\mod p\n",
    "\n",
    "\n",
    "After construction of the polynomial, the :math:`c` coefficients become the shares that are distributed among players. Reconstruction of the secret is accomplished with straightforward Lagrange interpolation. In the following, :math:`x` and :math:`y` with subscripts have their usual meaning in the context of successive points at which a polynomial is evaluated and the result of that evaluation respectively, and the subscripts denote the position of each within a list of such pairs:\n",
    "\n",
    ".. math::\n",
    "\n",
    "  s= f(0)=\\sum_{j=1}^{n}y_j \\prod_{k=1:k\\neq j}^{n} \\frac{-x_k}{x_j-x_k}\n",
    "\n",
    "Cicada defines two protocols that implement Shamir's scheme: :class:`~cicada.shamir.ShamirBasicProtocol` supports a subset of operations that work with any :math:`k \\leq n`, while :class:`~cicada.shamir.ShamirProtocol` provides the complete set of operations supported by :class:`cicada.additive.AdditiveProtocol`, albeit with the constraint that\n",
    "\n",
    ".. math::\n",
    "\n",
    "  k \\leq \\left\\lfloor\\frac{n}{2}\\right\\rfloor +1\n",
    "\n",
    "Let's consider an example using :class:`~cicada.shamir.ShamirBasicProtocol` that doubles a secret value using addition:"
   ]
  },
  {
   "cell_type": "code",
   "execution_count": 15,
   "metadata": {},
   "outputs": [
    {
     "name": "stderr",
     "output_type": "stream",
     "text": [
      "INFO:root:Player 0 value: 2.5\n",
      "INFO:root:Player 1 value: None\n",
      "INFO:root:Player 2 value: None\n",
      "INFO:root:Player 0 doubled value: 5.0\n",
      "INFO:root:Player 1 doubled value: 5.0\n",
      "INFO:root:Player 2 doubled value: 5.0\n"
     ]
    }
   ],
   "source": [
    "import logging\n",
    "logging.basicConfig(level=logging.INFO)\n",
    "\n",
    "import numpy\n",
    "\n",
    "import cicada.shamir\n",
    "from cicada.communicator import SocketCommunicator\n",
    "\n",
    "def main(communicator):\n",
    "    log = cicada.Logger(logging.getLogger(), communicator)\n",
    "    protocol = cicada.shamir.ShamirBasicProtocol(communicator, threshold=3)\n",
    "\n",
    "    value = numpy.array(2.5) if communicator.rank == 0 else None\n",
    "    log.info(f\"Player {communicator.rank} value: {value}\")\n",
    "    \n",
    "    value_share = protocol.share(secret=protocol.encoder.encode(value), src=0, shape=())\n",
    "    double_share = protocol.add(value_share, value_share)\n",
    "    double = protocol.encoder.decode(protocol.reveal(double_share))\n",
    "\n",
    "    log.info(f\"Player {communicator.rank} doubled value: {double}\")\n",
    "\n",
    "SocketCommunicator.run(world_size=3, fn=main);"
   ]
  },
  {
   "cell_type": "raw",
   "metadata": {
    "raw_mimetype": "text/restructuredtext"
   },
   "source": [
    "Aside from using :class:`~cicada.shamir.ShamirBasicProtocol`, this code is identical to code you would write to perform the same operation using :class:`~cicada.additive.AdditiveProtocol`. \n",
    "\n",
    "To use multiplication or any operation dependent on multiplication, you must use :class:`~cicada.shamir.ShamirProtocol` instead.  But, as we discussed above, it places stronger constraints on :math:`k` ... let's see what happens if we simply substitue :class:`~cicada.shamir.ShamirProtocol` and try to square our secret value using multiplication:"
   ]
  },
  {
   "cell_type": "code",
   "execution_count": 16,
   "metadata": {},
   "outputs": [
    {
     "name": "stderr",
     "output_type": "stream",
     "text": [
      "WARNING:cicada.communicator.socket:Comm world player 0 failed: ValueError('Threshold incompatible with worldsize, multiplications will not be feasible. Multiplications with this threshold would require worldsize at least 5. Increase worldsize or decrease threshold.')\n",
      "WARNING:cicada.communicator.socket:Comm world player 1 failed: ValueError('Threshold incompatible with worldsize, multiplications will not be feasible. Multiplications with this threshold would require worldsize at least 5. Increase worldsize or decrease threshold.')\n",
      "WARNING:cicada.communicator.socket:Comm world player 2 failed: ValueError('Threshold incompatible with worldsize, multiplications will not be feasible. Multiplications with this threshold would require worldsize at least 5. Increase worldsize or decrease threshold.')\n",
      "ERROR:cicada.communicator.socket:********************************************************************************\n",
      "ERROR:cicada.communicator.socket:Comm world player 0 traceback:\n",
      "ERROR:cicada.communicator.socket:Traceback (most recent call last):\n",
      "  File \"/Users/tshead/src/cicada-mpc/cicada/communicator/socket/__init__.py\", line 812, in launch\n",
      "    result = fn(communicator, *args, **kwargs)\n",
      "  File \"/var/folders/yw/yx17h14s5xs8kpsy1dtf8lhm0000gn/T/ipykernel_5343/1850389632.py\", line 3, in main\n",
      "    protocol = cicada.shamir.ShamirProtocol(communicator, threshold=3)\n",
      "  File \"/Users/tshead/src/cicada-mpc/cicada/shamir.py\", line 557, in __init__\n",
      "    raise ValueError(f'Threshold incompatible with worldsize, multiplications will not be feasible. Multiplications with this threshold would require worldsize at least {2*self.d+1}. Increase worldsize or decrease threshold.')\n",
      "ValueError: Threshold incompatible with worldsize, multiplications will not be feasible. Multiplications with this threshold would require worldsize at least 5. Increase worldsize or decrease threshold.\n",
      "\n",
      "ERROR:cicada.communicator.socket:********************************************************************************\n",
      "ERROR:cicada.communicator.socket:Comm world player 1 traceback:\n",
      "ERROR:cicada.communicator.socket:Traceback (most recent call last):\n",
      "  File \"/Users/tshead/src/cicada-mpc/cicada/communicator/socket/__init__.py\", line 812, in launch\n",
      "    result = fn(communicator, *args, **kwargs)\n",
      "  File \"/var/folders/yw/yx17h14s5xs8kpsy1dtf8lhm0000gn/T/ipykernel_5343/1850389632.py\", line 3, in main\n",
      "    protocol = cicada.shamir.ShamirProtocol(communicator, threshold=3)\n",
      "  File \"/Users/tshead/src/cicada-mpc/cicada/shamir.py\", line 557, in __init__\n",
      "    raise ValueError(f'Threshold incompatible with worldsize, multiplications will not be feasible. Multiplications with this threshold would require worldsize at least {2*self.d+1}. Increase worldsize or decrease threshold.')\n",
      "ValueError: Threshold incompatible with worldsize, multiplications will not be feasible. Multiplications with this threshold would require worldsize at least 5. Increase worldsize or decrease threshold.\n",
      "\n",
      "ERROR:cicada.communicator.socket:********************************************************************************\n",
      "ERROR:cicada.communicator.socket:Comm world player 2 traceback:\n",
      "ERROR:cicada.communicator.socket:Traceback (most recent call last):\n",
      "  File \"/Users/tshead/src/cicada-mpc/cicada/communicator/socket/__init__.py\", line 812, in launch\n",
      "    result = fn(communicator, *args, **kwargs)\n",
      "  File \"/var/folders/yw/yx17h14s5xs8kpsy1dtf8lhm0000gn/T/ipykernel_5343/1850389632.py\", line 3, in main\n",
      "    protocol = cicada.shamir.ShamirProtocol(communicator, threshold=3)\n",
      "  File \"/Users/tshead/src/cicada-mpc/cicada/shamir.py\", line 557, in __init__\n",
      "    raise ValueError(f'Threshold incompatible with worldsize, multiplications will not be feasible. Multiplications with this threshold would require worldsize at least {2*self.d+1}. Increase worldsize or decrease threshold.')\n",
      "ValueError: Threshold incompatible with worldsize, multiplications will not be feasible. Multiplications with this threshold would require worldsize at least 5. Increase worldsize or decrease threshold.\n",
      "\n"
     ]
    }
   ],
   "source": [
    "def main(communicator):\n",
    "    log = cicada.Logger(logging.getLogger(), communicator)\n",
    "    protocol = cicada.shamir.ShamirProtocol(communicator, threshold=3)\n",
    "\n",
    "    value = numpy.array(2.5) if communicator.rank == 0 else None\n",
    "    log.info(f\"Player {communicator.rank} value: {value}\")\n",
    "    \n",
    "    value_share = protocol.share(secret=protocol.encoder.encode(value), src=0, shape=())\n",
    "    square_share = protocol.untruncated_multiply(value_share, value_share)\n",
    "    square_share = protocol.truncate(square_share)\n",
    "    square = protocol.encoder.decode(protocol.reveal(square_share))\n",
    "\n",
    "    log.info(f\"Player {communicator.rank} squared value: {square}\")\n",
    "\n",
    "SocketCommunicator.run(world_size=3, fn=main);"
   ]
  },
  {
   "cell_type": "raw",
   "metadata": {
    "raw_mimetype": "text/restructuredtext"
   },
   "source": [
    "... the program raises an exception when constructing the :class:`~cicada.shamir.ShamirProtocol` object, because :math:`k` is too large for the given :math:`n`.  We can solve the problem by making :math:`k` smaller or :math:`n` larger.  Let's try the latter, and re-run the program with five players:"
   ]
  },
  {
   "cell_type": "code",
   "execution_count": 17,
   "metadata": {},
   "outputs": [
    {
     "name": "stderr",
     "output_type": "stream",
     "text": [
      "INFO:root:Player 0 value: 2.5\n",
      "INFO:root:Player 1 value: None\n",
      "INFO:root:Player 2 value: None\n",
      "INFO:root:Player 3 value: None\n",
      "INFO:root:Player 4 value: None\n",
      "INFO:root:Player 0 squared value: 6.25\n",
      "INFO:root:Player 1 squared value: 6.25\n",
      "INFO:root:Player 2 squared value: 6.25\n",
      "INFO:root:Player 3 squared value: 6.25\n",
      "INFO:root:Player 4 squared value: 6.25\n"
     ]
    }
   ],
   "source": [
    "def main(communicator):\n",
    "    log = cicada.Logger(logging.getLogger(), communicator)\n",
    "    protocol = cicada.shamir.ShamirProtocol(communicator, threshold=3)\n",
    "\n",
    "    value = numpy.array(2.5) if communicator.rank == 0 else None\n",
    "    log.info(f\"Player {communicator.rank} value: {value}\")\n",
    "    \n",
    "    value_share = protocol.share(secret=protocol.encoder.encode(value), src=0, shape=())\n",
    "    square_share = protocol.untruncated_multiply(value_share, value_share)\n",
    "    square_share = protocol.truncate(square_share)\n",
    "    square = protocol.encoder.decode(protocol.reveal(square_share))\n",
    "\n",
    "    log.info(f\"Player {communicator.rank} squared value: {square}\")\n",
    "\n",
    "SocketCommunicator.run(world_size=5, fn=main);"
   ]
  },
  {
   "cell_type": "markdown",
   "metadata": {},
   "source": [
    "Thus, Shamir offers straightforward resilience against data loss by allowing a subset of players to reveal data even after some players fail; however, this comes at a cost: it is less resistant to coalitions, since a sufficiently large coalition could reveal a secret that would otherwise remain private using additive sharing. Further, greater care is required to ensure that the number of players and threshold are chosen correctly, depending on the set of operations to be performed."
   ]
  }
 ],
 "metadata": {
  "celltoolbar": "Raw Cell Format",
  "kernelspec": {
   "display_name": "Python 3 (ipykernel)",
   "language": "python",
   "name": "python3"
  },
  "language_info": {
   "codemirror_mode": {
    "name": "ipython",
    "version": 3
   },
   "file_extension": ".py",
   "mimetype": "text/x-python",
   "name": "python",
   "nbconvert_exporter": "python",
   "pygments_lexer": "ipython3",
   "version": "3.8.10"
  }
 },
 "nbformat": 4,
 "nbformat_minor": 2
}
