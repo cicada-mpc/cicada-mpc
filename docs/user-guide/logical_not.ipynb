{
 "cells": [
  {
   "cell_type": "markdown",
   "metadata": {},
   "source": [
    "Copyright 2021 National Technology & Engineering Solutions<br>\n",
    "of Sandia, LLC (NTESS). Under the terms of Contract DE-NA0003525 with NTESS,<br>\n",
    "the U.S. Government retains certain rights in this software.<br>\n",
    "<br>\n",
    "Licensed under the Apache License, Version 2.0 (the \"License\");<br>\n",
    "you may not use this file except in compliance with the License.<br>\n",
    "You may obtain a copy of the License at<br>\n",
    "<br>\n",
    "   http://www.apache.org/licenses/LICENSE-2.0<br>\n",
    "<br>\n",
    "Unless required by applicable law or agreed to in writing, software<br>\n",
    "distributed under the License is distributed on an \"AS IS\" BASIS,<br>\n",
    "WITHOUT WARRANTIES OR CONDITIONS OF ANY KIND, either express or implied.<br>\n",
    "See the License for the specific language governing permissions and<br>\n",
    "limitations under the License."
   ]
  },
  {
   "cell_type": "code",
   "execution_count": 1,
   "metadata": {},
   "outputs": [],
   "source": [
    "import logging"
   ]
  },
  {
   "cell_type": "code",
   "execution_count": 2,
   "metadata": {},
   "outputs": [],
   "source": [
    "import numpy"
   ]
  },
  {
   "cell_type": "code",
   "execution_count": 3,
   "metadata": {},
   "outputs": [],
   "source": [
    "import cicada.additive\n",
    "import cicada.communicator"
   ]
  },
  {
   "cell_type": "code",
   "execution_count": 4,
   "metadata": {},
   "outputs": [],
   "source": [
    "logging.basicConfig(level=logging.INFO)"
   ]
  },
  {
   "cell_type": "code",
   "execution_count": 5,
   "metadata": {},
   "outputs": [],
   "source": [
    "@cicada.communicator.NNGCommunicator.run(world_size=3)\n",
    "def main(communicator):\n",
    "    log = cicada.Logger(logging.getLogger(), communicator)\n",
    "    protocol = cicada.additive.AdditiveProtocol(communicator)\n",
    "    generator = numpy.random.default_rng()\n",
    "    secret_share = protocol.uniform(shape=(2,2))\n",
    "    secret = protocol.encoder.decode(protocol.reveal(secret_share))\n",
    "    log.info(f\"Player {communicator.rank} secret: {secret}\")\n",
    "    ltz_share = protocol.less_than_zero(secret_share)\n",
    "    ltz = protocol.reveal(ltz_share)\n",
    "    log.info(f\"Player {communicator.rank} less_than_zero: \\n{ltz}\")\n",
    "    not_ltz_share = protocol.logical_not(ltz_share)\n",
    "    not_ltz = protocol.reveal(not_ltz_share)\n",
    "    log.info(f\"Player {communicator.rank} not_less_than_zero: \\n{not_ltz}\")"
   ]
  },
  {
   "cell_type": "markdown",
   "metadata": {},
   "source": [
    "In this example, we will generate a small matrix of uniform random field elements which, in the context of our encoding, will be comprised of (probably) both negative and positive values.\n",
    "\n",
    "We then call the less_than_zero function on these values which will return boolean values in the field. Then we logically invert these values. Note that logical_not is well defined only on boolean operands. Calling logical_not on values that are not either 0 or 1, will likely have unexpected results. \n",
    "\n",
    "See below that the results of less_than_zero are indeed logically negated in not_less_than_zero."
   ]
  },
  {
   "cell_type": "code",
   "execution_count": 7,
   "metadata": {},
   "outputs": [
    {
     "name": "stderr",
     "output_type": "stream",
     "text": [
      "INFO:cicada.communicator.nng:Player 0 rendezvous with tcp://127.0.0.1:58149 from tcp://127.0.0.1:58149.\n",
      "INFO:cicada.communicator.nng:Player 1 rendezvous with tcp://127.0.0.1:58149 from tcp://127.0.0.1:58150.\n",
      "INFO:cicada.communicator.nng:Player 2 rendezvous with tcp://127.0.0.1:58149 from tcp://127.0.0.1:58151.\n",
      "INFO:cicada.communicator.nng:Comm 'world' player 0 communicator ready.\n",
      "INFO:cicada.communicator.nng:Comm 'world' player 2 communicator ready.\n",
      "INFO:cicada.communicator.nng:Comm 'world' player 1 communicator ready.\n",
      "INFO:root:Player 0 secret: [[6.76824778e+13 5.36390378e+13]\n",
      " [1.22349172e+14 7.83189011e+13]]\n",
      "INFO:root:Player 1 secret: [[6.76824778e+13 5.36390378e+13]\n",
      " [1.22349172e+14 7.83189011e+13]]\n",
      "INFO:root:Player 2 secret: [[6.76824778e+13 5.36390378e+13]\n",
      " [1.22349172e+14 7.83189011e+13]]\n",
      "INFO:root:Player 0 less_than_zero: \n",
      "[[0 0]\n",
      " [0 0]]\n",
      "INFO:root:Player 1 less_than_zero: \n",
      "[[0 0]\n",
      " [0 0]]\n",
      "INFO:root:Player 2 less_than_zero: \n",
      "[[0 0]\n",
      " [0 0]]\n",
      "INFO:root:Player 0 not_less_than_zero: \n",
      "[[1 1]\n",
      " [1 1]]\n",
      "INFO:root:Player 1 not_less_than_zero: \n",
      "[[1 1]\n",
      " [1 1]]\n",
      "INFO:root:Player 2 not_less_than_zero: \n",
      "[[1 1]\n",
      " [1 1]]\n",
      "INFO:cicada.communicator.nng:Comm 'world' player 0 communicator freed.\n",
      "INFO:cicada.communicator.nng:Comm 'world' player 2 communicator freed.\n",
      "INFO:cicada.communicator.nng:Comm 'world' player 1 communicator freed.\n",
      "INFO:cicada.communicator.nng:Player 0 returned: None\n",
      "INFO:cicada.communicator.nng:Player 1 returned: None\n",
      "INFO:cicada.communicator.nng:Player 2 returned: None\n"
     ]
    },
    {
     "data": {
      "text/plain": [
       "[None, None, None]"
      ]
     },
     "execution_count": 7,
     "metadata": {},
     "output_type": "execute_result"
    }
   ],
   "source": [
    "main()"
   ]
  },
  {
   "cell_type": "code",
   "execution_count": null,
   "metadata": {},
   "outputs": [],
   "source": []
  }
 ],
 "metadata": {
  "kernelspec": {
   "display_name": "Python 3 (ipykernel)",
   "language": "python",
   "name": "python3"
  },
  "language_info": {
   "codemirror_mode": {
    "name": "ipython",
    "version": 3
   },
   "file_extension": ".py",
   "mimetype": "text/x-python",
   "name": "python",
   "nbconvert_exporter": "python",
   "pygments_lexer": "ipython3",
   "version": "3.8.10"
  }
 },
 "nbformat": 4,
 "nbformat_minor": 2
}
