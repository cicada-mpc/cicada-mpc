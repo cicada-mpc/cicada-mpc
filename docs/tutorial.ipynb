{
 "cells": [
  {
   "cell_type": "raw",
   "id": "715b3105",
   "metadata": {
    "raw_mimetype": "text/restructuredtext"
   },
   "source": [
    ".. image:: ../artwork/cicada.png\n",
    "  :width: 200px\n",
    "  :align: right\n",
    "\n",
    "\n",
    ".. _tutorial:\n",
    "\n",
    "Tutorial\n",
    "========\n",
    "\n",
    "The Millionaires' Dilemma\n",
    "-------------------------\n",
    "\n",
    "Imagine a pair of millionaires [*]_ who want to settle a bet over whose fortune is larger, yet neither wants to reveal the size of their fortune to the other, and neither is willing to reveal it to a third party. These may seem like mutually-exclusive goals, yet it turns out that we *can* arrive at a correct answer without revealing the size of either fortune.  Using secure multiparty computation (MPC), the millionaires can cooperatively compute which fortune is larger in such a way that both learn the result, yet neither learns the other's private information. \n",
    "\n",
    "Cicada provides a collection of components that can be combined in flexible ways to create MPC programs.  This tutorial will introduce you to the basic building blocks of a Cicada program, and solve the millionaires' dilemma.  Ready?  Let's get started!\n",
    "\n",
    "The Basics\n",
    "----------\n",
    "\n",
    "An important point to understand fully is that - just as the name says - secure multiparty computation involves multiple cooperating parties, which we will refer to as *players* throughout this documentation. In computer science terms, each player is a separate *process*, typically running on a separate *host*. In other words, you should think of an MPC program as a single set of instructions that run in parallel across multiple computers, communicating and coordinating as they execute.\n",
    "\n",
    "Writing programs this way can feel a little weird until you become accustomed to it.  Fortunately, the high performance computing (HPC) community has been writing programs this way for decades, and Cicada brings that expertise to MPC.  If you're familiar with writing software using popular HPC tools like `MPI <https://en.wikipedia.org/wiki/Message_Passing_Interface>`_, you'll be right at home in Cicada.  If not, don't worry!  We'll explain how it all works as we go. \n",
    "\n",
    "Before we begin, let's setup Python's builtin logging functionality, which Cicada uses to provide feedback from running MPC programs:"
   ]
  },
  {
   "cell_type": "code",
   "execution_count": 1,
   "id": "34be8d1c",
   "metadata": {},
   "outputs": [],
   "source": [
    "import logging\n",
    "logging.basicConfig(level=logging.INFO)"
   ]
  },
  {
   "cell_type": "raw",
   "id": "cb7e07fb",
   "metadata": {
    "raw_mimetype": "text/restructuredtext"
   },
   "source": [
    "Next, we need to create two players. That means we're going to have to start two processes, each running the same program, and the programs will need to communicate with each other.  In Cicada, all communication is handled through *communicators*, which coordinate and pass messages between players.  What this means is that every Cicada program must do (at a minimum) two things:\n",
    "\n",
    "* Start a collection of processes, one per player.\n",
    "* Initialize a communicator for each process.\n",
    "\n",
    "For this tutorial, we'll be using Cicada's :any:`SocketCommunicator`, which uses Python's builtin :mod:`socket` module for communication.\n",
    "\n",
    ".. tip::\n",
    "\n",
    "    Advanced Cicada users can substitute their own custom communicators for use with alternate networking libraries, protocols, and hardware.\n",
    "\n",
    "Cicada provides several methods to simplify an otherwise tricky bootstrapping process.  For example, :any:`SocketCommunicator` can run both processes on the local machine and setup the communicators for us, which is ideal for development. Let's see how that works:"
   ]
  },
  {
   "cell_type": "code",
   "execution_count": 2,
   "id": "2ed5b49a",
   "metadata": {},
   "outputs": [
    {
     "name": "stdout",
     "output_type": "stream",
     "text": [
      "Hello, World!Hello, World!\n",
      "\n"
     ]
    }
   ],
   "source": [
    "from cicada.communicator import SocketCommunicator\n",
    "\n",
    "def main(communicator):\n",
    "    print(\"Hello, World!\")\n",
    "\n",
    "SocketCommunicator.run(world_size=2, fn=main);"
   ]
  },
  {
   "cell_type": "raw",
   "id": "ce91c9f6",
   "metadata": {
    "raw_mimetype": "text/restructuredtext"
   },
   "source": [
    "There's a lot to unpack here, so we'll go over things in detail.  First, we define a function named `main`, which prints a familiar message::\n",
    "\n",
    "    def main(communicator):\n",
    "        print(\"Hello, World!\")\n",
    "    \n",
    "Note that the `main` function takes a single `communicator` argument, which :any:`SocketCommunicator.run` provides for us: it starts two separate processes (specified using the `world_size` parameter), creates a :any:`SocketCommunicator` instance for each, and calls `main` with the communicator as the first argument, for each process.\n",
    "\n",
    "We can watch all of this in greater detail as it happens by re-running our function with increased logging:"
   ]
  },
  {
   "cell_type": "code",
   "execution_count": 3,
   "id": "7632935e",
   "metadata": {},
   "outputs": [
    {
     "name": "stderr",
     "output_type": "stream",
     "text": [
      "INFO:cicada.communicator.socket.connect:Comm world player 0 listening to tcp://127.0.0.1:61481 for connections.\n",
      "INFO:cicada.communicator.socket.connect:Comm world player 1 listening to tcp://127.0.0.1:61483 for connections.\n",
      "INFO:cicada.communicator.socket.connect:Comm world player 0 direct connect with ['tcp://127.0.0.1:61481', 'tcp://127.0.0.1:61483'].\n",
      "INFO:cicada.communicator.socket.connect:Comm world player 1 direct connect with ['tcp://127.0.0.1:61481', 'tcp://127.0.0.1:61483'].\n",
      "INFO:cicada.communicator.socket.connect:Comm world player 0 tcp://127.0.0.1:61481 accepted connection from tcp://127.0.0.1:61487\n",
      "INFO:cicada.communicator.socket.connect:Comm world player 1 tcp://127.0.0.1:61487 connected to player 0 tcp://127.0.0.1:61481\n",
      "INFO:cicada.communicator.socket:Comm world player 0 communicator ready.\n",
      "INFO:cicada.communicator.socket:Comm world player 1 communicator ready.\n"
     ]
    },
    {
     "name": "stdout",
     "output_type": "stream",
     "text": [
      "Hello, World!Hello, World!\n",
      "\n"
     ]
    },
    {
     "name": "stderr",
     "output_type": "stream",
     "text": [
      "INFO:cicada.communicator.socket:Comm world player 1 communicator freed.\n",
      "INFO:cicada.communicator.socket:Comm world player 0 communicator freed.\n",
      "INFO:cicada.communicator.socket:Comm world player 0 result: None\n",
      "INFO:cicada.communicator.socket:Comm world player 1 result: None\n"
     ]
    }
   ],
   "source": [
    "logging.getLogger(\"cicada.communicator\").setLevel(logging.INFO)\n",
    "\n",
    "SocketCommunicator.run(world_size=2, fn=main);"
   ]
  },
  {
   "cell_type": "raw",
   "id": "2139ac7f",
   "metadata": {
    "raw_mimetype": "text/restructuredtext"
   },
   "source": [
    "First, the individual player processes begin listening for connections from each other:\n",
    "\n",
    ".. code-block:: bash\n",
    "\n",
    "    INFO:cicada.communicator.socket.connect:Comm world player 0 listening to ...\n",
    "    INFO:cicada.communicator.socket.connect:Comm world player 1 listening to ...\n",
    "\n",
    "Then, the players begin making connections:\n",
    "\n",
    ".. code-block:: bash\n",
    "\n",
    "    INFO:cicada.communicator.socket.connect:Comm world player 1 direct connect ...\n",
    "    INFO:cicada.communicator.socket.connect:Comm world player 0 direct connect ...\n",
    "\n",
    "Next, we see a confirmation that communications have been established:\n",
    "\n",
    ".. code-block:: bash\n",
    "\n",
    "    INFO:cicada.communicator.socket:Comm world player 0 communicator ready.\n",
    "    INFO:cicada.communicator.socket:Comm world player 1 communicator ready.\n",
    "\n",
    "Then, we see the output from `main` ... in this case, two copies of \"Hello, World!\" (one from each player):\n",
    "\n",
    ".. code-block:: bash\n",
    "\n",
    "    Hello, World!Hello, World!\n",
    "    \n",
    "The outputs appear on the same line because they're being printed by both players at the same time - if you run this notebook yourself, the output may look different, depending on random quirks of timing.  We'll see in a moment how to improve on this.\n",
    "\n",
    "Once `main` ends, the communicators are automatically cleaned-up:\n",
    "\n",
    ".. code-block:: bash\n",
    "\n",
    "    INFO:cicada.communicator.socket:Comm world player 0 communicator freed.\n",
    "    INFO:cicada.communicator.socket:Comm world player 1 communicator freed.\n",
    "\n",
    "Finally, we see the value (if any) returned by each player from `main`:\n",
    "\n",
    ".. code-block:: bash\n",
    "\n",
    "    INFO:cicada.communicator.socket:Player 0 returned: None\n",
    "    INFO:cicada.communicator.socket:Player 1 returned: None\n",
    "    \n",
    "In this case, our `main` function doesn't have a return statement, so the returned value is :any:`None`.  The returned values are also collected and returned by :any:`SocketCommunicator.run`, though we won't be using them for this tutorial.\n",
    "\n",
    "So here's what we've done so far: we defined a function named `main`.  When we pass `main` to :any:`SocketCommunicator.run`, the latter executes it in parallel within separate processes (two in this case), using communicators that it automatically creates for us.  Be sure you understand these steps before proceeding.\n",
    "\n",
    ".. tip::\n",
    "\n",
    "    The name of the function isn't important - you can pass any function that takes a communicator as its first argument to :any:`SocketCommunicator.run`.\n",
    "\n",
    "Before we continue, let's restore our logging output to \"normal\" levels:"
   ]
  },
  {
   "cell_type": "code",
   "execution_count": 4,
   "id": "f3b34ec6",
   "metadata": {},
   "outputs": [],
   "source": [
    "logging.getLogger(\"cicada.communicator\").setLevel(logging.WARNING)"
   ]
  },
  {
   "cell_type": "raw",
   "id": "c7f79e21",
   "metadata": {
    "raw_mimetype": "text/restructuredtext"
   },
   "source": [
    "Logging\n",
    "-------\n",
    "\n",
    "As we saw above, when multiple players print to stdout at the same time, the results can step on each other.  This becomes a significant problem when we start doing real MPC computation and need to debug programs and print results.  Let's add Cicada's :any:`Logger` to the current example to tidy things up:"
   ]
  },
  {
   "cell_type": "code",
   "execution_count": 5,
   "id": "70f5337a",
   "metadata": {},
   "outputs": [
    {
     "name": "stderr",
     "output_type": "stream",
     "text": [
      "INFO:root:Hello, World!\n",
      "INFO:root:Hello, World!\n"
     ]
    }
   ],
   "source": [
    "from cicada.logging import Logger\n",
    "\n",
    "def main(communicator):\n",
    "    log = Logger(logger=logging.getLogger(), communicator=communicator)\n",
    "    log.info(\"Hello, World!\")\n",
    "\n",
    "SocketCommunicator.run(world_size=2, fn=main);"
   ]
  },
  {
   "cell_type": "raw",
   "id": "6cb1ac87",
   "metadata": {
    "raw_mimetype": "text/restructuredtext"
   },
   "source": [
    "Now, the output messages are nicely printed on separate lines. Cicada's :any:`Logger` wraps a standard Python logger, and uses a communicator to coordinate among the players so that only one player generates output at a time.\n",
    "\n",
    "Of course, it would be especially useful to know which message belongs to which player.  In Cicada, each player has a zero-based integer identifier -- its `rank` -- which we can use in our message:"
   ]
  },
  {
   "cell_type": "code",
   "execution_count": 6,
   "id": "d97af7f4",
   "metadata": {},
   "outputs": [
    {
     "name": "stderr",
     "output_type": "stream",
     "text": [
      "INFO:root:Hello from player 0!\n",
      "INFO:root:Hello from player 1!\n"
     ]
    }
   ],
   "source": [
    "def main(communicator):\n",
    "    log = Logger(logger=logging.getLogger(), communicator=communicator)\n",
    "    log.info(f\"Hello from player {communicator.rank}!\")\n",
    "\n",
    "SocketCommunicator.run(world_size=2, fn=main);"
   ]
  },
  {
   "cell_type": "raw",
   "id": "3ec2957d",
   "metadata": {
    "raw_mimetype": "text/restructuredtext"
   },
   "source": [
    "Notice that the player's rank is accessed using the communicator (a concrete example of how communicators provide the organization for a group of players), and that the logger automatically prints messages to the console in rank order.  As you will see in the examples that follow, the player's rank is one of the most-used pieces of information in an MPC program - we will use rank frequently to change a player's behavior based on their identity, including targeting communications and MPC operations to specific players based on their rank.\n",
    "\n",
    "To round things out, a good MPC program should be written in such a way that it can be run using any number of players.  Instead of hard-coding the number of players into your programs, you should use the communicator's `world_size` attribute to determine at runtime how many players are participating in the computation, and adjust player behavior as-needed.  Note that the value of the `world_size` attribute will always match the value of the `world_size` parameter passed to :any:`SocketCommunicator.run`:"
   ]
  },
  {
   "cell_type": "code",
   "execution_count": 7,
   "id": "fae131f7",
   "metadata": {},
   "outputs": [
    {
     "name": "stderr",
     "output_type": "stream",
     "text": [
      "INFO:root:Hello from player 0 of 2!\n",
      "INFO:root:Hello from player 1 of 2!\n"
     ]
    }
   ],
   "source": [
    "def main(communicator):\n",
    "    log = Logger(logger=logging.getLogger(), communicator=communicator)\n",
    "    log.info(f\"Hello from player {communicator.rank} of {communicator.world_size}!\")\n",
    "\n",
    "SocketCommunicator.run(world_size=2, fn=main);"
   ]
  },
  {
   "cell_type": "raw",
   "id": "02704d83",
   "metadata": {
    "raw_mimetype": "text/restructuredtext"
   },
   "source": [
    "Encodings\n",
    "---------\n",
    "\n",
    "One of the trickiest topics when working with MPC is managing *encodings* - as users of MPC, we typically want to perform computation on real numbers, while most MPC protocols require integer operands with special properties - for example, \"only positive integers\", or \"only integers mod :math:`p` where :math:`p` is a prime number\".\n",
    "\n",
    "To manage this, Cicada must convert real numbers between encoded and unencoded representations. While this is normally handled for you automatically, it's good to have an understanding of the process. To see encoding at work, let's create an instance of Cicada's :any:`FixedPoint` encoding:"
   ]
  },
  {
   "cell_type": "code",
   "execution_count": 8,
   "id": "08e7033f",
   "metadata": {},
   "outputs": [
    {
     "data": {
      "text/plain": [
       "cicada.encoding.FixedPoint(precision=16)"
      ]
     },
     "execution_count": 8,
     "metadata": {},
     "output_type": "execute_result"
    }
   ],
   "source": [
    "import cicada.encoding\n",
    "\n",
    "encoding = cicada.encoding.FixedPoint()\n",
    "encoding"
   ]
  },
  {
   "cell_type": "raw",
   "id": "bf9c26eb",
   "metadata": {
    "raw_mimetype": "text/restructuredtext"
   },
   "source": [
    ":any:`FixedPoint` encodes real values as integers by reserving a fixed number of bits (16 by default) to store the fractional part of the original value.  To test it, let's create a real value to encode:"
   ]
  },
  {
   "cell_type": "code",
   "execution_count": 9,
   "id": "f98b131d",
   "metadata": {},
   "outputs": [
    {
     "data": {
      "text/plain": [
       "array(3.14159265)"
      ]
     },
     "execution_count": 9,
     "metadata": {},
     "output_type": "execute_result"
    }
   ],
   "source": [
    "import numpy\n",
    "\n",
    "value = numpy.array(numpy.pi)\n",
    "value"
   ]
  },
  {
   "cell_type": "raw",
   "id": "8e4fc999",
   "metadata": {
    "raw_mimetype": "text/restructuredtext"
   },
   "source": [
    ".. note::\n",
    "\n",
    "    Cicada uses :mod:`numpy` arrays as arguments throughout the API.  This greatly simplifies application and implementation code by eliminating error-prone loops, and provides important speedups.  This is why our value is a :any:`numpy.array` in the example above, despite being a scalar value - you may not have known it, but Numpy treats a scalar as \"just another array\" -- one that has zero dimensions, size equal to `1`, and shape equal to an empty :any:`tuple`. \n",
    "\n",
    "Now that we have a real value and the means to encode it, we need to define how we will store the encoded result. It is extremely common in MPC to perform arithmetic using finite fields:"
   ]
  },
  {
   "cell_type": "code",
   "execution_count": 10,
   "id": "7f742141",
   "metadata": {},
   "outputs": [
    {
     "data": {
      "text/plain": [
       "cicada.arithmetic.Field(order=18446744073709551557)"
      ]
     },
     "execution_count": 10,
     "metadata": {},
     "output_type": "execute_result"
    }
   ],
   "source": [
    "import cicada.arithmetic\n",
    "\n",
    "field = cicada.arithmetic.Field()\n",
    "field"
   ]
  },
  {
   "cell_type": "raw",
   "id": "59f07710",
   "metadata": {
    "raw_mimetype": "text/restructuredtext"
   },
   "source": [
    "In this case the :any:`Field` object defines a finite set of integers (the *order* in the :any:`Field` representation) for which multiplication, addition, subtraction and division are defined and satisfy certain basic rules.  Now, we can encode (convert) our real value to its representation in the field:"
   ]
  },
  {
   "cell_type": "code",
   "execution_count": 11,
   "id": "818c7f9a",
   "metadata": {},
   "outputs": [
    {
     "data": {
      "text/plain": [
       "array(205887, dtype=object)"
      ]
     },
     "execution_count": 11,
     "metadata": {},
     "output_type": "execute_result"
    }
   ],
   "source": [
    "encoded_value = encoding.encode(value, field)\n",
    "encoded_value"
   ]
  },
  {
   "cell_type": "markdown",
   "id": "10ef852b",
   "metadata": {
    "raw_mimetype": "text/restructuredtext"
   },
   "source": [
    "The encoder turns the unencoded array of real values into an array of integers with the same shape that encode the original values.  You may feel that 205887 is an unlikely way to store the value of $\\pi$, but let's try decoding it to see if what we get out matches the original:"
   ]
  },
  {
   "cell_type": "code",
   "execution_count": 12,
   "id": "839f4455",
   "metadata": {},
   "outputs": [
    {
     "data": {
      "text/plain": [
       "array(3.1415863)"
      ]
     },
     "execution_count": 12,
     "metadata": {},
     "output_type": "execute_result"
    }
   ],
   "source": [
    "decoded_value = encoding.decode(encoded_value, field)\n",
    "decoded_value"
   ]
  },
  {
   "cell_type": "markdown",
   "id": "f925d3d7",
   "metadata": {
    "raw_mimetype": "text/restructuredtext"
   },
   "source": [
    "You can see that the result is a value that's *pretty close* to the original, but not an exact match.  This is because the default 16 bits of precision used by the FixedPoint encoding to represent fractions can only approximate some values (of course, the original value was itself a finite approximation of $\\pi$, so this shouldn't bother you too much).  For many computations 16 bits of fractional precision is more than enough, but if you need more (or less) precision, you can arrange to do so. Furthermore, Cicada provides special encodings for working with bits and boolean values, which we'll see shortly."
   ]
  },
  {
   "cell_type": "raw",
   "id": "dc2dacff",
   "metadata": {
    "raw_mimetype": "text/restructuredtext"
   },
   "source": [
    "Secure Multiparty Computation (MPC)\n",
    "-----------------------------------\n",
    "\n",
    "OK, with the preliminaries out of the way, let's do some MPC!  Recall that we have two players (the millionaires), that each has a secret (their fortune), and that they wish to identify which secret is larger, but without revealing the secret values to each other.\n",
    "\n",
    "The key technique provided by MPC to accomplish this is *secret sharing*, where each secret is split into pieces called *secret shares*, and the shares are distributed to the other players.  Because MPC provides *protocols* that allow players to collaboratively perform mathematical operations on shares, and because it's provably impossible to reconstruct a secret unless a player has obtained all of the necessary shares, the players in our computation can perform arithmetic and logical operations on values without knowing what those values are!\n",
    "\n",
    "There is more than one way to generate secret shares, and there are many protocols that have been developed to manipulate them.  For this tutorial we're going to focus on *additive secret sharing*, where the shares of a secret are randomly-chosen numbers that reveal the secret value when summed. Thus, a player can only learn (or reveal) the value of a secret if they have access to every share, in order to add them all together.\n",
    "\n",
    "Let's see what this looks like in Cicada.  To create and manipulate additive secret shares, we need an instance of :any:`AdditiveProtocolSuite`.  In the following example, we create the protocol suite, and use it to create a set of secret shares that are distributed to all players:"
   ]
  },
  {
   "cell_type": "code",
   "execution_count": 13,
   "id": "b46a71f5",
   "metadata": {},
   "outputs": [
    {
     "name": "stderr",
     "output_type": "stream",
     "text": [
      "INFO:root:Player 0 secret: 3.141592653589793\n",
      "INFO:root:Player 1 secret: None\n",
      "INFO:root:Player 0 share: cicada.additive.AdditiveArrayShare(storage=8875355198802812926)\n",
      "INFO:root:Player 1 share: cicada.additive.AdditiveArrayShare(storage=9571388874906944518)\n"
     ]
    }
   ],
   "source": [
    "import cicada.additive\n",
    "\n",
    "def main(communicator):\n",
    "    log = Logger(logger=logging.getLogger(), communicator=communicator)\n",
    "    protocol = cicada.additive.AdditiveProtocolSuite(communicator=communicator)\n",
    "    \n",
    "    secret = numpy.array(numpy.pi) if communicator.rank == 0 else None\n",
    "    log.info(f\"Player {communicator.rank} secret: {secret}\")\n",
    "    \n",
    "    share = protocol.share(src=0, secret=secret, shape=())\n",
    "    log.info(f\"Player {communicator.rank} share: {share}\")\n",
    "\n",
    "SocketCommunicator.run(world_size=2, fn=main);"
   ]
  },
  {
   "cell_type": "raw",
   "id": "7991c904",
   "metadata": {
    "raw_mimetype": "text/restructuredtext"
   },
   "source": [
    "Let's dig into this.  First, we create the protocol suite::\n",
    "\n",
    "    import cicada.additive\n",
    "    ...\n",
    "    protocol = cicada.additive.AdditiveProtocolSuite(communicator=communicator)\n",
    "    \n",
    "Much like the :any:`Logger` object created previously, we pass the communicator to the protocol suite because it needs to communicate among players to implement its functionality.\n",
    "\n",
    "Next, we initialize a secret value known only to player 0::\n",
    "\n",
    "    secret = numpy.array(numpy.pi) if communicator.rank == 0 else None\n",
    "    \n",
    "Note that, as we described earlier, we're using the player rank to change the behavior of our program depending on which player is executing it.  In this case, player 0 sets the value of the `secret` variable to :math:`\\pi` while the other player leaves it uninitialized.\n",
    "\n",
    ".. note::\n",
    "\n",
    "    \"But wait!\" you may be thinking ... how is this value a \"secret\" if every player is executing the same code!?  The other player may not be initializing the variable, but the code is the same everywhere, isn't it?  Doesn't that mean that every player \"knows\" the secret?\n",
    "    \n",
    "    You are absolutely correct. In this example the secret is embedded into the program code as a literal value, which means it isn't really a secret.  We do this often to keep our examples succinct. Whenever you see examples that embed literal secrets into code, you should keep in mind that a \"real\" program with \"real\" secrets would supply them in a privacy-preserving way, by loading data from a player-specific file or database, reading a sensor that only that player has access to, prompting a human to enter a value on a secure terminal, or similar.\n",
    "    \n",
    "    The same goes for the log output ... in real life we wouldn't log secret values to stdout where anyone can see them! We do it here for strictly pedagogical purposes.\n",
    "\n",
    "Our log output confirms that the secret value is only defined for player 0:\n",
    "\n",
    ".. code-block:: bash\n",
    "\n",
    "    INFO:root:Player 0 secret: 3.141592653589793\n",
    "    INFO:root:Player 1 secret: None\n",
    "    \n",
    "Next, player 0 shares the secret value with the other player using additive secret sharing::\n",
    "\n",
    "    share = protocol.share(src=0, secret=secret, shape=())\n",
    "    \n",
    "Again, there's a lot of detail here to unpack.  Remember that every player is running the code in parallel - :any:`AdditiveProtocolSuite.share` is an example of a *collective operation*, one that **must** be called by every player and, except for the values of the `secret` argument, must be called with the same arguments by every player.  This is a common pattern throughout Cicada (and MPI, if you're familiar with HPC programming).  In this case, the arguments indicate that the actual secret value will be provided by player 0 (`src=0`), and that the secret is a scalar value (`shape=()` ... remember that Cicada can work with arrays of any shape as secrets).  Every player has to provide *some* value for `secret` because the Python language  requires it, but only the value provided by the player matching `src` matters.\n",
    "    \n",
    "The protocol object takes the secret provided by player 0, creates secret shares, and distributes them to all players, where they become the return value from :any:`AdditiveProtocolSuite.share`.\n",
    "\n",
    ".. note::\n",
    "    \n",
    "    The protocol suite provides default field and encoding objects that are used to encode secrets when they're shared, and decode them when they're revealed.\n",
    "\n",
    "Note from the log output that *both* players receive a share of the secret, including the player that provided it:\n",
    "\n",
    ".. code-block:: bash\n",
    "\n",
    "    INFO:root:Player 0 share: cicada.additive.AdditiveArrayShare(storage=...)\n",
    "    INFO:root:Player 1 share: cicada.additive.AdditiveArrayShare(storage=...)\n",
    "    \n",
    "The values of the shares are random numbers from the protocol object's field that when summed using field arithmetic will equal the encoded representation of the original secret. To see that this is so, let's re-run the experiment with a final step where the players cooperatively combine their shares to reveal the original secret:"
   ]
  },
  {
   "cell_type": "code",
   "execution_count": 14,
   "id": "36748eeb",
   "metadata": {},
   "outputs": [
    {
     "name": "stderr",
     "output_type": "stream",
     "text": [
      "INFO:root:Player 0 secret: 3.141592653589793\n",
      "INFO:root:Player 1 secret: None\n",
      "INFO:root:Player 0 share: cicada.additive.AdditiveArrayShare(storage=16993927038499601873)\n",
      "INFO:root:Player 1 share: cicada.additive.AdditiveArrayShare(storage=1452817035210155571)\n",
      "INFO:root:Player 0 revealed: 3.1415863037109375\n",
      "INFO:root:Player 1 revealed: 3.1415863037109375\n"
     ]
    }
   ],
   "source": [
    "def main(communicator):\n",
    "    log = Logger(logger=logging.getLogger(), communicator=communicator)\n",
    "    protocol = cicada.additive.AdditiveProtocolSuite(communicator=communicator, seed=1234)\n",
    "    \n",
    "    secret = numpy.array(numpy.pi) if communicator.rank == 0 else None\n",
    "    log.info(f\"Player {communicator.rank} secret: {secret}\")\n",
    "    \n",
    "    share = protocol.share(src=0, secret=secret, shape=())\n",
    "    log.info(f\"Player {communicator.rank} share: {share}\")\n",
    "\n",
    "    revealed = protocol.reveal(share)\n",
    "    log.info(f\"Player {communicator.rank} revealed: {revealed}\")\n",
    "    \n",
    "SocketCommunicator.run(world_size=2, fn=main);"
   ]
  },
  {
   "cell_type": "raw",
   "id": "b635522c",
   "metadata": {
    "raw_mimetype": "text/restructuredtext"
   },
   "source": [
    "Now, when every player passes their share of the secret to :any:`AdditiveProtocolSuite.reveal` (which is also a collective operation) the result is the original secret:\n",
    "\n",
    ".. code-block:: bash\n",
    "\n",
    "    INFO:root:Player 0 revealed: 3.1415863037109375\n",
    "    INFO:root:Player 1 revealed: 3.1415863037109375\n",
    "    \n",
    "(Remember that the value isn't an exact match because the encoding-decoding round trip is lossy.)\n",
    "\n",
    "Now that we know how to share and reveal secrets, we're finally ready to do some computation.  Let's get our millionaires a solution for their dilemma. The trick is that, in addition to using :any:`AdditiveProtocolSuite` to create and reveal shares, we can use it to perform mathematical operations on shares, which return shares of the result.  For example, we can perform a less-than comparison on secret-shared values, which returns a share of the answer.  If we only reveal *that* to the players, then they will know which of the two fortunes is larger, without knowing the value of either. Let's see what it looks like:"
   ]
  },
  {
   "cell_type": "code",
   "execution_count": 15,
   "id": "b2c9249c",
   "metadata": {},
   "outputs": [
    {
     "name": "stderr",
     "output_type": "stream",
     "text": [
      "INFO:root:Player 0 fortune: 10000000\n",
      "INFO:root:Player 1 fortune: 12000000\n",
      "INFO:root:Winner revealed to player 0: 1\n",
      "INFO:root:Winner revealed to player 1: 1\n"
     ]
    }
   ],
   "source": [
    "def main(communicator):\n",
    "    log = Logger(logger=logging.getLogger(), communicator=communicator)\n",
    "    protocol = cicada.additive.AdditiveProtocolSuite(communicator=communicator)\n",
    "    \n",
    "    if communicator.rank == 0:\n",
    "        fortune = numpy.array(10000000)\n",
    "    elif communicator.rank == 1:\n",
    "        fortune = numpy.array(12000000)\n",
    "    log.info(f\"Player {communicator.rank} fortune: {fortune}\")\n",
    " \n",
    "    share0 = protocol.share(src=0, secret=fortune, shape=())\n",
    "    share1 = protocol.share(src=1, secret=fortune, shape=())\n",
    "\n",
    "    if protocol.reveal(protocol.less(share0, share1), encoding=cicada.encoding.Boolean()):\n",
    "        winner = 1\n",
    "    else:\n",
    "        winner = 0\n",
    "    \n",
    "    log.info(f\"Winner revealed to player {communicator.rank}: {winner}\")\n",
    "    \n",
    "SocketCommunicator.run(world_size=2, fn=main);"
   ]
  },
  {
   "cell_type": "raw",
   "id": "d005412f",
   "metadata": {
    "raw_mimetype": "text/restructuredtext"
   },
   "source": [
    "Note that both players provide a secret now, not just player 0, so that the `fortune` variable contains a different value for each process.  Also, the same `fortune` variable is passed as the secret value to :any:`AdditiveProtocolSuite.share` twice, once for each player.  This works because :any:`AdditiveProtocolSuite.share` only uses the value supplied by the player specified in the `src` parameter.\n",
    "\n",
    "We use :any:`AdditiveProtocolSuite.less` to compare the shares of the two values, which returns a share of the result - either a share of 0 if the comparison is false, or a share of 1 if it is true.  Because these are boolean field values rather then real numbers, we pass the :any:`Boolean` encoding to reveal them.\n",
    "\n",
    "Looking at the results, we can verify that player 1 does have the largest fortune, so our millionaires finally have their answer!\n",
    "\n",
    "Although this program works, it *is* hardcoded in such a way that it will *only* work with two players.  As we mentioned above, it's usually a good idea to write MPC programs to work with any number of players - in addition to being more flexible, this approach can often make code more compact and easier to understand. Let's rewrite our example to be agnostic about the number of players, and while we're at it, let's have every player get their input from a file, so that we're no longer embedding secrets in the code as literals:"
   ]
  },
  {
   "cell_type": "code",
   "execution_count": 16,
   "id": "2b7f1777",
   "metadata": {},
   "outputs": [
    {
     "name": "stderr",
     "output_type": "stream",
     "text": [
      "INFO:root:Winner revealed to player 0: 2\n",
      "INFO:root:Winner revealed to player 1: 2\n",
      "INFO:root:Winner revealed to player 2: 2\n",
      "INFO:root:Winner revealed to player 3: 2\n"
     ]
    }
   ],
   "source": [
    "def main(communicator):\n",
    "    log = Logger(logger=logging.getLogger(), communicator=communicator)\n",
    "    protocol = cicada.additive.AdditiveProtocolSuite(communicator=communicator, seed=1234)\n",
    "\n",
    "    fortune = numpy.loadtxt(f\"millionaire-{communicator.rank}.txt\")\n",
    "\n",
    "    winner = None\n",
    "    winning_share = protocol.share(src=0, secret=numpy.array(0), shape=())\n",
    "    for rank in communicator.ranks:\n",
    "        fortune_share = protocol.share(src=rank, secret=fortune, shape=())\n",
    "        less_share = protocol.less(fortune_share, winning_share)\n",
    "        less = protocol.reveal(less_share, encoding=cicada.encoding.Boolean())\n",
    "        if not less:\n",
    "            winner = rank\n",
    "            winning_share = fortune_share\n",
    "\n",
    "    log.info(f\"Winner revealed to player {communicator.rank}: {winner}\")\n",
    "    \n",
    "SocketCommunicator.run(world_size=4, fn=main);"
   ]
  },
  {
   "cell_type": "markdown",
   "id": "c9918962",
   "metadata": {},
   "source": [
    "In this version of the program, we set aside storage for a *winning share* that starts with a value of zero.  Then, we loop over all of the players, comparing each player's shared secret with the winning share and updating it if the player's secret is larger.\n",
    "\n",
    "If we examine the contents of the individual players' files, we see that player 2's fortune is the largest, so the choice of winner is correct:"
   ]
  },
  {
   "cell_type": "code",
   "execution_count": 17,
   "id": "45fb65b5",
   "metadata": {},
   "outputs": [
    {
     "name": "stdout",
     "output_type": "stream",
     "text": [
      "Player 0 fortune: 10000000.0\n",
      "Player 1 fortune:  9000000.0\n",
      "Player 2 fortune: 11000000.0\n",
      "Player 3 fortune:  8500000.0\n"
     ]
    }
   ],
   "source": [
    "for rank in range(4):\n",
    "    fortune = numpy.loadtxt(f\"millionaire-{rank}.txt\")\n",
    "    print(f\"Player {rank} fortune: {fortune:>10}\")"
   ]
  },
  {
   "cell_type": "raw",
   "id": "b562db05",
   "metadata": {
    "raw_mimetype": "text/restructuredtext"
   },
   "source": [
    ".. note::\n",
    "\n",
    "   You may be questioning whether the data in the player files is truly \"secret\" - couldn't any of the players cheat by reading the other players' secrets from their files?  Once again, you're absolutely right: when all four players are running as the same user on the same machine, they all have access to the same resources, including files on the filesystem.  This highlights the fact that, to be *truly* secure, an MPC program *must* be run on separate machines *that are under the sole control of their players* - only then can we guarantee that player secrets will remain truly private."
   ]
  },
  {
   "cell_type": "raw",
   "id": "029adbc0",
   "metadata": {
    "raw_mimetype": "text/restructuredtext"
   },
   "source": [
    "That's it for this tutorial!  Of course, real computation requires more than just comparisons - see the :doc:`user-guide` for individual articles with detailed topics describing how to use Cicada to perform a whole host of mathematical operations.\n",
    "\n",
    ".. rubric:: Footnotes\n",
    "\n",
    ".. [*] In today's environment, they'd be billionaires."
   ]
  }
 ],
 "metadata": {
  "celltoolbar": "Raw Cell Format",
  "kernelspec": {
   "display_name": "Python 3 (ipykernel)",
   "language": "python",
   "name": "python3"
  },
  "language_info": {
   "codemirror_mode": {
    "name": "ipython",
    "version": 3
   },
   "file_extension": ".py",
   "mimetype": "text/x-python",
   "name": "python",
   "nbconvert_exporter": "python",
   "pygments_lexer": "ipython3",
   "version": "3.11.4"
  }
 },
 "nbformat": 4,
 "nbformat_minor": 5
}
