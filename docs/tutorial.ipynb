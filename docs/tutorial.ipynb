{
 "cells": [
  {
   "cell_type": "raw",
   "id": "d0f5be83",
   "metadata": {
    "raw_mimetype": "text/restructuredtext"
   },
   "source": [
    ".. image:: ../artwork/cicada.png\n",
    "  :width: 200px\n",
    "  :align: right\n",
    "\n",
    "\n",
    ".. _tutorial:\n",
    "\n",
    "Tutorial\n",
    "========\n",
    "\n",
    "The Millionaires' Dilemma\n",
    "-------------------------\n",
    "\n",
    "Imagine a pair of millionaires who want to know which has the biggest fortune, but don't want to reveal the exact size of their fortune to the other. This may seem like an impossible task, yet it turns out that we can arrive at the correct answer without revealing either of the millionaires' secrets.  Using secure multiparty computation (MPC), the millionaires can cooperatively compute which fortune is largest in such a way that both learn the result, yet neither learns the other's private information. \n",
    "\n",
    "Cicada provides a collection of components that can be combined in flexible ways to create MPC programs.  This tutorial will introduce you to the basic building blocks of a Cicada program, and solve the millionaires' dilemma.  Ready?  Let's get started!\n",
    "\n",
    "The Basics\n",
    "----------\n",
    "\n",
    "An important point to understand fully is that - just as the name says - secure multiparty computation involves multiple cooperating parties, which we will refer to as *players* throughout this documentation. In computer science terms, each player is a separate *process*, typically running on a separate *host*. In other words, you should think of an MPC program as a single set of instructions that run in parallel across multiple computers, communicating and coordinating as they execute.\n",
    "\n",
    "Writing programs this way can feel a little weird until you become accustomed to it.  Fortunately, the high performance computing (HPC) community has been writing programs this way for decades, and Cicada brings that expertise to MPC.  If you're familiar with writing software using popular HPC tools like `MPI <https://en.wikipedia.org/wiki/Message_Passing_Interface>`_, you'll be right at home in Cicada.  If not, don't worry!  We'll explain how it all works as we go. \n",
    "\n",
    "Before we begin, we'll setup Python's builtin logging functionality, since Cicada uses it to provide feedback when our programs run:"
   ]
  },
  {
   "cell_type": "code",
   "execution_count": 1,
   "id": "d277bad8",
   "metadata": {},
   "outputs": [],
   "source": [
    "import logging\n",
    "logging.basicConfig(level=logging.INFO)"
   ]
  },
  {
   "cell_type": "raw",
   "id": "551fcfe6",
   "metadata": {
    "raw_mimetype": "text/restructuredtext"
   },
   "source": [
    "Next, we need to setup two players. That means we're going to have to start two processes, each running the same program, and the processes will need to communicate with each other.  In Cicada, all communication is handled through *communicators*, which coordinate and pass messages between players.\n",
    "\n",
    "What this means is that every Cicada program must do (at a minimum) two things:\n",
    "\n",
    "* Start a collection of processes, one per player.\n",
    "* Create and initialize a communicator.\n",
    "\n",
    "For this tutorial, we'll be using :any:`NNGCommunicator`, which uses the Python `pynng <https://pynng.readthedocs.io>`_ module and TCP networking for communication.\n",
    "\n",
    ".. note::\n",
    "\n",
    "    Advanced Cicada users can create their own custom communicators for use with alternate networking libraries or hardware.\n",
    "\n",
    "Cicada provides several means to simplify an otherwise tricky bootstrapping process.  For example, :any:`NNGCommunicator` can run both processes on the local machine and setup the communicator for us, which is ideal for development. Let's see how it works:"
   ]
  },
  {
   "cell_type": "code",
   "execution_count": 2,
   "id": "4f5b8a76",
   "metadata": {},
   "outputs": [
    {
     "name": "stderr",
     "output_type": "stream",
     "text": [
      "INFO:cicada.communicator.nng:Player 0 rendezvous with tcp://127.0.0.1:57246 from tcp://127.0.0.1:57246.\n",
      "INFO:cicada.communicator.nng:Player 1 rendezvous with tcp://127.0.0.1:57246 from tcp://127.0.0.1:57247.\n",
      "INFO:cicada.communicator.nng:Comm 'world' player 0 communicator ready.\n",
      "INFO:cicada.communicator.nng:Comm 'world' player 1 communicator ready.\n"
     ]
    },
    {
     "name": "stdout",
     "output_type": "stream",
     "text": [
      "Hello, World!Hello, World!\n",
      "\n"
     ]
    },
    {
     "name": "stderr",
     "output_type": "stream",
     "text": [
      "INFO:cicada.communicator.nng:Comm 'world' player 0 communicator freed.\n",
      "INFO:cicada.communicator.nng:Comm 'world' player 1 communicator freed.\n",
      "INFO:cicada.communicator.nng:Player 0 returned: None\n",
      "INFO:cicada.communicator.nng:Player 1 returned: None\n"
     ]
    },
    {
     "data": {
      "text/plain": [
       "[None, None]"
      ]
     },
     "execution_count": 2,
     "metadata": {},
     "output_type": "execute_result"
    }
   ],
   "source": [
    "import cicada.communicator\n",
    "\n",
    "@cicada.communicator.NNGCommunicator.run(world_size=2)\n",
    "def main(communicator):\n",
    "    print(\"Hello, World!\")\n",
    "\n",
    "main()"
   ]
  },
  {
   "cell_type": "raw",
   "id": "d9ad54c1",
   "metadata": {
    "raw_mimetype": "text/restructuredtext"
   },
   "source": [
    "There's a lot to unpack here, so we'll go over things in detail.  First, we define a function named `main`, which prints a familiar message::\n",
    "\n",
    "    def main(communicator):\n",
    "        print(\"Hello, World!\")\n",
    "    \n",
    "Note that `main` takes a single `communicator` argument, yet we aren't providing one when we call it::\n",
    "\n",
    "    main()\n",
    "    \n",
    "Where does the communicator come from?  That's the job of the :any:`NNGCommunicator.run` decorator::\n",
    "\n",
    "    @cicada.communicator.NNGCommunicator.run(world_size=2)\n",
    "\n",
    "If you aren't familiar, a Python decorator is a function that \"wraps\" another function, altering the wrapped function's behavior when called.  In this case, :any:`NNGCommunicator.run` is doing a lot of work for us: it starts two separate processes (specified using the decorator's `world_size` parameter), sets-up an instance of :any:`NNGCommunicator`, and passes the communicator as the first argument to `main`.\n",
    "\n",
    "We can see all of this as it happens by examining the log output.  First, the individual player processes wait to establish communications with each other:\n",
    "\n",
    ".. code-block:: bash\n",
    "\n",
    "    INFO:cicada.communicator.nng:Player 0 rendezvous with tcp://127.0.0.1:65257 from tcp://127.0.0.1:65257.\n",
    "    INFO:cicada.communicator.nng:Player 1 rendezvous with tcp://127.0.0.1:65257 from tcp://127.0.0.1:65258.\n",
    "    \n",
    "Next, we see a confirmation that communications have been established:\n",
    "\n",
    ".. code-block:: bash\n",
    "\n",
    "    INFO:cicada.communicator.nng:Comm 'world' player 0 communicator ready.\n",
    "    INFO:cicada.communicator.nng:Comm 'world' player 1 communicator ready.\n",
    "\n",
    "Then, we see the output from the decorated function ... in this case, two copies of \"Hello, World!\" (one from each player):\n",
    "\n",
    ".. code-block:: bash\n",
    "\n",
    "    Hello, World!Hello, World!\n",
    "    \n",
    "The outputs are interleaved because they're printed by two separate processes running at the same time - if you run this notebook yourself, the output may interleave in different ways.  We'll see in a moment how to prevent processes from stepping on each others' outputs.\n",
    "\n",
    "Once the decorated function ends, the communicators are automatically cleaned-up:\n",
    "\n",
    ".. code-block:: bash\n",
    "\n",
    "    INFO:cicada.communicator.nng:Comm 'world' player 0 communicator freed.\n",
    "    INFO:cicada.communicator.nng:Comm 'world' player 1 communicator freed.\n",
    "\n",
    "Finally, we see the value (if any) returned by each player from the decorated function:\n",
    "\n",
    ".. code-block:: bash\n",
    "\n",
    "    INFO:cicada.communicator.nng:Player 0 returned: None\n",
    "    INFO:cicada.communicator.nng:Player 1 returned: None\n",
    "    \n",
    "Since our `main` function doesn't have a return statement, the returned value is :any:`None`.\n",
    "\n",
    "So here's what we've done so far: we defined a function named `main` (the name isn't actually important).  Because we wrapped our function using the decorator provided by :any:`NNGCommunicator`, calling the function causes the function body to be run multiple times in separate processes (two in this case), using a communicator automatically created for us.  Be sure you understand these steps before proceeding."
   ]
  },
  {
   "cell_type": "raw",
   "id": "ed29d49c",
   "metadata": {
    "raw_mimetype": "text/restructuredtext"
   },
   "source": [
    "Logging\n",
    "-------\n",
    "\n",
    "As we saw above, when multiple processes print to stdout at the same time, the results can step on each other.  This is a significant problem when we start doing real MPC computation and need to debug programs and print results.  Let's add Cicada's :any:`Logger` to the current example to tidy things up:"
   ]
  },
  {
   "cell_type": "code",
   "execution_count": 3,
   "id": "779fa8c9",
   "metadata": {},
   "outputs": [
    {
     "name": "stderr",
     "output_type": "stream",
     "text": [
      "INFO:cicada.communicator.nng:Player 0 rendezvous with tcp://127.0.0.1:57263 from tcp://127.0.0.1:57263.\n",
      "INFO:cicada.communicator.nng:Player 1 rendezvous with tcp://127.0.0.1:57263 from tcp://127.0.0.1:57264.\n",
      "INFO:cicada.communicator.nng:Comm 'world' player 0 communicator ready.\n",
      "INFO:cicada.communicator.nng:Comm 'world' player 1 communicator ready.\n",
      "INFO:root:Hello, World!\n",
      "INFO:root:Hello, World!\n",
      "INFO:cicada.communicator.nng:Comm 'world' player 0 communicator freed.\n",
      "INFO:cicada.communicator.nng:Comm 'world' player 1 communicator freed.\n",
      "INFO:cicada.communicator.nng:Player 0 returned: None\n",
      "INFO:cicada.communicator.nng:Player 1 returned: None\n"
     ]
    },
    {
     "data": {
      "text/plain": [
       "[None, None]"
      ]
     },
     "execution_count": 3,
     "metadata": {},
     "output_type": "execute_result"
    }
   ],
   "source": [
    "import cicada.logging\n",
    "\n",
    "@cicada.communicator.NNGCommunicator.run(world_size=2)\n",
    "def main(communicator):\n",
    "    log = cicada.logging.Logger(logger=logging.getLogger(), communicator=communicator)\n",
    "    log.info(\"Hello, World!\")\n",
    "\n",
    "main()"
   ]
  },
  {
   "cell_type": "raw",
   "id": "cda7c11a",
   "metadata": {
    "raw_mimetype": "text/restructuredtext"
   },
   "source": [
    "Now, the output messages are nicely printed on separate lines. Cicada's :any:`Logger` wraps a standard Python logger with a communicator, using the latter to coordinate among the players so that only one player generates output at a time.\n",
    "\n",
    "Next, it would be especially useful to know which message belongs to which player.  In Cicada, each player has a zero-based integer identifier referred to as its `rank`, which we can use in our message:"
   ]
  },
  {
   "cell_type": "code",
   "execution_count": 4,
   "id": "11e4484a",
   "metadata": {},
   "outputs": [
    {
     "name": "stderr",
     "output_type": "stream",
     "text": [
      "INFO:cicada.communicator.nng:Player 0 rendezvous with tcp://127.0.0.1:57279 from tcp://127.0.0.1:57279.\n",
      "INFO:cicada.communicator.nng:Player 1 rendezvous with tcp://127.0.0.1:57279 from tcp://127.0.0.1:57280.\n",
      "INFO:cicada.communicator.nng:Comm 'world' player 0 communicator ready.\n",
      "INFO:cicada.communicator.nng:Comm 'world' player 1 communicator ready.\n",
      "INFO:root:Hello from player 0!\n",
      "INFO:root:Hello from player 1!\n",
      "INFO:cicada.communicator.nng:Comm 'world' player 0 communicator freed.\n",
      "INFO:cicada.communicator.nng:Comm 'world' player 1 communicator freed.\n",
      "INFO:cicada.communicator.nng:Player 0 returned: None\n",
      "INFO:cicada.communicator.nng:Player 1 returned: None\n"
     ]
    },
    {
     "data": {
      "text/plain": [
       "[None, None]"
      ]
     },
     "execution_count": 4,
     "metadata": {},
     "output_type": "execute_result"
    }
   ],
   "source": [
    "@cicada.communicator.NNGCommunicator.run(world_size=2)\n",
    "def main(communicator):\n",
    "    log = cicada.logging.Logger(logger=logging.getLogger(), communicator=communicator)\n",
    "    log.info(f\"Hello from player {communicator.rank}!\")\n",
    "\n",
    "main()"
   ]
  },
  {
   "cell_type": "raw",
   "id": "9d7fb143",
   "metadata": {
    "raw_mimetype": "text/restructuredtext"
   },
   "source": [
    "Notice that the player's rank is accessed using the communicator (a concrete example of how communicators provide the organization for a group of players), and that the logger prints messages to the console in rank order.  As you will see in the examples that follow, the player's rank is one of the most-used pieces of information in an MPC program - we will use rank extensively to change the players' behavior based on their identity, including targeting communications and MPC operations to specific players based on their rank.\n",
    "\n",
    "To round things out, a good MPC program should be written in such a way that it can be run using any number of players.  Instead of hard-coding the number of players in your programs, you should use the communicator's `world_size` attribute to know how many players are participating in the computation, and adjust player behavior as-needed.  Note that the value of the `world_size` attribute will always match the value of the `world_size` parameter to :any:`NNGCommunicator.run`:"
   ]
  },
  {
   "cell_type": "code",
   "execution_count": 5,
   "id": "681af487",
   "metadata": {},
   "outputs": [
    {
     "name": "stderr",
     "output_type": "stream",
     "text": [
      "INFO:cicada.communicator.nng:Player 0 rendezvous with tcp://127.0.0.1:57294 from tcp://127.0.0.1:57294.\n",
      "INFO:cicada.communicator.nng:Player 1 rendezvous with tcp://127.0.0.1:57294 from tcp://127.0.0.1:57295.\n",
      "INFO:cicada.communicator.nng:Comm 'world' player 0 communicator ready.\n",
      "INFO:cicada.communicator.nng:Comm 'world' player 1 communicator ready.\n",
      "INFO:root:Hello from player 0 of 2!\n",
      "INFO:root:Hello from player 1 of 2!\n",
      "INFO:cicada.communicator.nng:Comm 'world' player 0 communicator freed.\n",
      "INFO:cicada.communicator.nng:Comm 'world' player 1 communicator freed.\n",
      "INFO:cicada.communicator.nng:Player 0 returned: None\n",
      "INFO:cicada.communicator.nng:Player 1 returned: None\n"
     ]
    },
    {
     "data": {
      "text/plain": [
       "[None, None]"
      ]
     },
     "execution_count": 5,
     "metadata": {},
     "output_type": "execute_result"
    }
   ],
   "source": [
    "@cicada.communicator.NNGCommunicator.run(world_size=2)\n",
    "def main(communicator):\n",
    "    log = cicada.logging.Logger(logger=logging.getLogger(), communicator=communicator)\n",
    "    log.info(f\"Hello from player {communicator.rank} of {communicator.world_size}!\")\n",
    "\n",
    "main()"
   ]
  },
  {
   "cell_type": "raw",
   "id": "2c776511",
   "metadata": {
    "raw_mimetype": "text/restructuredtext"
   },
   "source": [
    "Encoders\n",
    "--------\n",
    "\n",
    "One of the trickiest topics when working with MPC is managing *encodings* - as users of MPC, we typically want to perform computation on real numbers, but most MPC protocols require integer operands with special properties - for example, \"only positive integers\", or \"only integers within a field that uses modulo arithmetic\".\n",
    "\n",
    "To manage this, Cicada provides *encoders*, which are objects that convert real numbers between encoded and unencoded representations.  Every encoder has, at a minimum, a method called `encode` and a method called `decode` (encoders typically have additional attributes and operations that are encoding-specific).  To see how they work, let's start by creating an instance of :any:`FixedFieldEncoder` (note that we don't need separate processes or a communicator to work with encoders):"
   ]
  },
  {
   "cell_type": "code",
   "execution_count": 6,
   "id": "ab366e91",
   "metadata": {},
   "outputs": [
    {
     "data": {
      "text/plain": [
       "cicada.encoder.FixedFieldEncoder(modulus=18446744073709551557, precision=16)"
      ]
     },
     "execution_count": 6,
     "metadata": {},
     "output_type": "execute_result"
    }
   ],
   "source": [
    "import cicada.encoder\n",
    "\n",
    "encoder = cicada.encoder.FixedFieldEncoder()\n",
    "encoder"
   ]
  },
  {
   "cell_type": "raw",
   "id": "f6c4a5b4",
   "metadata": {
    "raw_mimetype": "text/restructuredtext"
   },
   "source": [
    ":any:`FixedFieldEncoder` encodes real values as integers in a field by reserving a fixed number of bits (16 bits by default) to store the fractional part of the original value.  Now we'll create a real value to encode:"
   ]
  },
  {
   "cell_type": "code",
   "execution_count": 7,
   "id": "5817df1d",
   "metadata": {},
   "outputs": [
    {
     "data": {
      "text/plain": [
       "array(3.14159265)"
      ]
     },
     "execution_count": 7,
     "metadata": {},
     "output_type": "execute_result"
    }
   ],
   "source": [
    "import numpy\n",
    "\n",
    "value = numpy.array(numpy.pi)\n",
    "value"
   ]
  },
  {
   "cell_type": "raw",
   "id": "b37a1267",
   "metadata": {
    "raw_mimetype": "text/restructuredtext"
   },
   "source": [
    ".. note::\n",
    "\n",
    "    Cicada requires numpy arrays as arguments throughout the API.  This greatly simplifies application and implementation code by eliminating error-prone loops, and provides important speedups.  This is why we initialized our value using :any:`numpy.array` in the example above, even though it's a scalar value - you may not have known that numpy treats a scalar as \"just another array\", albeit one with zero dimensions, size equal to `1`, and shape equal to an empty :any:`tuple`. \n",
    "\n",
    "With our value initialized, we can encode it:"
   ]
  },
  {
   "cell_type": "code",
   "execution_count": 8,
   "id": "9025ae01",
   "metadata": {},
   "outputs": [
    {
     "data": {
      "text/plain": [
       "array(205887, dtype=object)"
      ]
     },
     "execution_count": 8,
     "metadata": {},
     "output_type": "execute_result"
    }
   ],
   "source": [
    "encoded_value = encoder.encode(value)\n",
    "encoded_value"
   ]
  },
  {
   "cell_type": "markdown",
   "id": "31b83192",
   "metadata": {
    "raw_mimetype": "text/restructuredtext"
   },
   "source": [
    "The encoder turns the unencoded array of real values into an array of integers with the same shape that encode the original values.  205887 may seem like an unlikely way to store the value of $\\pi$, so let's decode it and see if the decoded value matches the original:"
   ]
  },
  {
   "cell_type": "code",
   "execution_count": 9,
   "id": "45d07022",
   "metadata": {},
   "outputs": [
    {
     "data": {
      "text/plain": [
       "array(3.1415863)"
      ]
     },
     "execution_count": 9,
     "metadata": {},
     "output_type": "execute_result"
    }
   ],
   "source": [
    "decoded_value = encoder.decode(encoded_value)\n",
    "decoded_value"
   ]
  },
  {
   "cell_type": "markdown",
   "id": "ef8d1e9c",
   "metadata": {
    "raw_mimetype": "text/restructuredtext"
   },
   "source": [
    "You can see that the result is a value that's *close* to the original, but not an exact match.  This is because the default 16 bits of precision used by FixedFieldEncoder to represent fractions can only approximate some values (of course, the original value was also a finite approximation of $\\pi$, so this shouldn't bother you too much).  For many computations 16 bits of fractional precision is more than enough, but if you need more (or less) precision, you can create an encoder with custom parameters.  For example, if we double the number of fractional bits:"
   ]
  },
  {
   "cell_type": "code",
   "execution_count": 10,
   "id": "8eb94a11",
   "metadata": {},
   "outputs": [
    {
     "data": {
      "text/plain": [
       "array(3.14159265)"
      ]
     },
     "execution_count": 10,
     "metadata": {},
     "output_type": "execute_result"
    }
   ],
   "source": [
    "encoder = cicada.encoder.FixedFieldEncoder(precision=32)\n",
    "encoder.decode(encoder.encode(value))"
   ]
  },
  {
   "cell_type": "markdown",
   "id": "88cddda8",
   "metadata": {},
   "source": [
    "... we get a much closer match to the original value."
   ]
  },
  {
   "cell_type": "raw",
   "id": "3f409faa",
   "metadata": {
    "raw_mimetype": "text/restructuredtext"
   },
   "source": [
    "Secure Multiparty Computation (MPC)\n",
    "-----------------------------------\n",
    "\n",
    "OK, with the preliminaries out of the way, let's do some MPC!  Recall that we have two players (the millionaires), that each has a secret (their fortune), and they wish to identify which secret is the largest, but without revealing the secrets to each other.\n",
    "\n",
    "The key technique provided by MPC to accomplish this is *secret sharing*, where each secret is split into pieces called *secret shares*, and the shares are distributed to the other players.  Because MPC provides *protocols* that allow players to collaboratively perform mathematical operations on shares, and because it is provably impossible to reconstruct a secret unless a player has obtained all of the necessary shares, the players in our computation can perform arithmetic and logical operations on values without knowing what they are!\n",
    "\n",
    "There is more than one way to generate secret shares, and there are many protocols that have been developed to manipulate them.  As a simple starting exercise, we are going to focus on *additive secret sharing*, where the shares of a secret are randomly-chosen numbers that reveal the secret value when summed. Thus, a player can only learn (or reveal) the value of a secret if they have access to every share, in order to sum them.\n",
    "\n",
    "Let's see what this looks like in Cicada.  To create and manipulate additive secret shares, we will create an instance of :any:`AdditiveProtocol`.  In the following example, we create the protocol, and use it to create a set of secret shares that are distributed to all players:"
   ]
  },
  {
   "cell_type": "code",
   "execution_count": 11,
   "id": "7c8ee6e2",
   "metadata": {},
   "outputs": [
    {
     "name": "stderr",
     "output_type": "stream",
     "text": [
      "INFO:cicada.communicator.nng:Player 0 rendezvous with tcp://127.0.0.1:57309 from tcp://127.0.0.1:57309.\n",
      "INFO:cicada.communicator.nng:Player 1 rendezvous with tcp://127.0.0.1:57309 from tcp://127.0.0.1:57310.\n",
      "INFO:cicada.communicator.nng:Comm 'world' player 0 communicator ready.\n",
      "INFO:cicada.communicator.nng:Comm 'world' player 1 communicator ready.\n",
      "INFO:root:Player 0 secret: 3.141592653589793\n",
      "INFO:root:Player 1 secret: None\n",
      "INFO:root:Player 0 share: cicada.additive.AdditiveArrayShare(storage=16993927038499601873)\n",
      "INFO:root:Player 1 share: cicada.additive.AdditiveArrayShare(storage=1452817035210155571)\n",
      "INFO:cicada.communicator.nng:Comm 'world' player 0 communicator freed.\n",
      "INFO:cicada.communicator.nng:Comm 'world' player 1 communicator freed.\n",
      "INFO:cicada.communicator.nng:Player 0 returned: None\n",
      "INFO:cicada.communicator.nng:Player 1 returned: None\n"
     ]
    },
    {
     "data": {
      "text/plain": [
       "[None, None]"
      ]
     },
     "execution_count": 11,
     "metadata": {},
     "output_type": "execute_result"
    }
   ],
   "source": [
    "import cicada.additive\n",
    "\n",
    "@cicada.communicator.NNGCommunicator.run(world_size=2)\n",
    "def main(communicator):\n",
    "    log = cicada.logging.Logger(logger=logging.getLogger(), communicator=communicator)\n",
    "    protocol = cicada.additive.AdditiveProtocol(communicator=communicator, seed=1234)\n",
    "    \n",
    "    secret = numpy.array(numpy.pi) if communicator.rank == 0 else None\n",
    "    log.info(f\"Player {communicator.rank} secret: {secret}\")\n",
    "    \n",
    "    share = protocol.share(src=0, secret=protocol.encoder.encode(secret), shape=())\n",
    "    log.info(f\"Player {communicator.rank} share: {share}\")\n",
    "\n",
    "main()"
   ]
  },
  {
   "cell_type": "raw",
   "id": "00354461",
   "metadata": {
    "raw_mimetype": "text/restructuredtext"
   },
   "source": [
    "Let's dig into this.  The first addition to the prior example is the creation of the protocol::\n",
    "\n",
    "    import cicada.additive\n",
    "    ...\n",
    "    protocol = cicada.additive.AdditiveProtocol(communicator=communicator, seed=1234)\n",
    "    \n",
    "Much like the :any:`Logger` object created previously, we pass the communicator to our protocol object because it needs to communicate among players to implement its functionality.\n",
    "\n",
    "Next, we initialize a secret value known only to player 0::\n",
    "\n",
    "    secret = numpy.array(numpy.pi) if communicator.rank == 0 else None\n",
    "    \n",
    "Note that, as we mentioned earlier, we're using the player rank to change the behavior of our program depending on which player is executing it.  In this case, player 0 sets the value of the `secret` variable to :math:`\\pi` while the other player leaves it uninitialized.\n",
    "\n",
    ".. note::\n",
    "\n",
    "    \"But wait!\" you may be thinking ... how is this value a \"secret\" if every player is executing the same code!?  The other players may not be initializing the variable, but the code is the same everywhere, isn't it?  Doesn't that mean that on some level every player \"knows\" the secret?\n",
    "    \n",
    "    You are absolutely correct. In this example the secret is embedded into the program code as a literal value, which means it isn't really a secret.  We do this frequently to keep these examples succinct. Whenever you see code like this that embeds a secret into code, you should have it in the back of your mind that a \"real\" program with \"real\" secrets would supply them in a privacy-preserving way, whether by prompting a human to enter a secret value, loading data from a player-specific file or database, reading a sensor that only that player has access to, etc.\n",
    "    \n",
    "    The same goes for our logging output ... in real life, we wouldn't log secret values to stdout, where anyone can see them! In this case, we do it for strictly pedagogical purposes.\n",
    "\n",
    "We can see from the log output that only player 0 is supplying a secret value:\n",
    "\n",
    ".. code-block:: bash\n",
    "\n",
    "    INFO:root:Player 0 secret: 3.141592653589793\n",
    "    INFO:root:Player 1 secret: None\n",
    "    \n",
    "Next, player 0 shares the secret value with the other player using additive secret sharing::\n",
    "\n",
    "    share = protocol.share(src=0, secret=protocol.encoder.encode(secret), shape=())\n",
    "    \n",
    "Again, there's a lot to unpack.  Remember that every player is running the code in parallel - :any:`AdditiveProtocol.share` is an example of a *collective operation*, one that **must** be called by every player and, except for the `secret` argument, must be called with the same arguments by every player.  This is a common pattern in Cicada (and MPI, if you're familiar with HPC programming).  In this case, the arguments indicate that player 0 will provide the secret (`src=0`), and that the secret is a scalar value (`shape=()` ... remember that Cicada can work with arrays of any shape as secrets).  Note that the secret is encoded using an encoder provided by the protocol.  The protocol object takes the encoded secret provided by player 0, creates secret shares, and distributes them to all players, where they become the return value from :any:`AdditiveProtocol.share`.  Note in the log output that *both* players receive a share of the secret, even the player that provided it:\n",
    "\n",
    ".. code-block:: bash\n",
    "\n",
    "    INFO:root:Player 0 share: cicada.additive.AdditiveArrayShare(storage=5819376713855054490)\n",
    "    INFO:root:Player 1 share: cicada.additive.AdditiveArrayShare(storage=1452817035210155571)\n",
    "    \n",
    "The values of the shares are random numbers from the encoder's field that when summed with the encoder's modulo arithmetic will equal the encoded representation of the original secret.\n",
    "\n",
    "To see that this is so, let's re-run the experiment, but add a final step where the players combine their shares to reveal the original secret:"
   ]
  },
  {
   "cell_type": "code",
   "execution_count": 12,
   "id": "aa4bac3d",
   "metadata": {},
   "outputs": [
    {
     "name": "stderr",
     "output_type": "stream",
     "text": [
      "INFO:cicada.communicator.nng:Player 0 rendezvous with tcp://127.0.0.1:57326 from tcp://127.0.0.1:57326.\n",
      "INFO:cicada.communicator.nng:Player 1 rendezvous with tcp://127.0.0.1:57326 from tcp://127.0.0.1:57327.\n",
      "INFO:cicada.communicator.nng:Comm 'world' player 0 communicator ready.\n",
      "INFO:cicada.communicator.nng:Comm 'world' player 1 communicator ready.\n",
      "INFO:root:Player 0 secret: 3.141592653589793\n",
      "INFO:root:Player 1 secret: None\n",
      "INFO:root:Player 0 share: cicada.additive.AdditiveArrayShare(storage=16993927038499601873)\n",
      "INFO:root:Player 1 share: cicada.additive.AdditiveArrayShare(storage=1452817035210155571)\n",
      "INFO:root:Player 0 revealed: 3.1415863037109375\n",
      "INFO:root:Player 1 revealed: 3.1415863037109375\n",
      "INFO:cicada.communicator.nng:Comm 'world' player 1 communicator freed.\n",
      "INFO:cicada.communicator.nng:Comm 'world' player 0 communicator freed.\n",
      "INFO:cicada.communicator.nng:Player 0 returned: None\n",
      "INFO:cicada.communicator.nng:Player 1 returned: None\n"
     ]
    },
    {
     "data": {
      "text/plain": [
       "[None, None]"
      ]
     },
     "execution_count": 12,
     "metadata": {},
     "output_type": "execute_result"
    }
   ],
   "source": [
    "@cicada.communicator.NNGCommunicator.run(world_size=2)\n",
    "def main(communicator):\n",
    "    log = cicada.logging.Logger(logger=logging.getLogger(), communicator=communicator)\n",
    "    protocol = cicada.additive.AdditiveProtocol(communicator=communicator, seed=1234)\n",
    "    \n",
    "    secret = numpy.array(numpy.pi) if communicator.rank == 0 else None\n",
    "    log.info(f\"Player {communicator.rank} secret: {secret}\")\n",
    "    \n",
    "    share = protocol.share(src=0, secret=protocol.encoder.encode(secret), shape=())\n",
    "    log.info(f\"Player {communicator.rank} share: {share}\")\n",
    "\n",
    "    revealed = protocol.encoder.decode(protocol.reveal(share))\n",
    "    log.info(f\"Player {communicator.rank} revealed: {revealed}\")\n",
    "    \n",
    "main()"
   ]
  },
  {
   "cell_type": "raw",
   "id": "a3537259",
   "metadata": {
    "raw_mimetype": "text/restructuredtext"
   },
   "source": [
    "Now, when every player passes their share of the secret to :any:`AdditiveProtocol.reveal` (which is another collective operation) the result is the encoded representation of the original secret.  When we decode it using the encoder that the protocol object provides, we get the expected result:\n",
    "\n",
    ".. code-block:: bash\n",
    "\n",
    "    INFO:root:Player 0 revealed: 3.1415863037109375\n",
    "    INFO:root:Player 1 revealed: 3.1415863037109375\n",
    "    \n",
    "(Remember that the value isn't an exact match because the encoding-decoding round trip is lossy.)\n",
    "\n",
    "Now that we know how to share and reveal secrets, we're finally ready to do some computation.  Let's get our millionaires an answer to their question. The trick is that, in addition to using :any:`AdditiveProtocol` to create and reveal shares, we can use it to perform mathematical operations.  For example, we can perform a less-than comparison on secret-shared values, and when we do so, we get back a share of the result.  If we reveal *that* to the players, then they will know which fortune is larger, without knowing the fortunes themselves.  Let's see what it looks like:"
   ]
  },
  {
   "cell_type": "code",
   "execution_count": 13,
   "id": "8095c108",
   "metadata": {},
   "outputs": [
    {
     "name": "stderr",
     "output_type": "stream",
     "text": [
      "INFO:cicada.communicator.nng:Player 0 rendezvous with tcp://127.0.0.1:57345 from tcp://127.0.0.1:57345.\n",
      "INFO:cicada.communicator.nng:Player 1 rendezvous with tcp://127.0.0.1:57345 from tcp://127.0.0.1:57346.\n",
      "INFO:cicada.communicator.nng:Comm 'world' player 0 communicator ready.\n",
      "INFO:cicada.communicator.nng:Comm 'world' player 1 communicator ready.\n",
      "INFO:root:Player 0 fortune: 10000000\n",
      "INFO:root:Player 1 fortune: 12000000\n",
      "INFO:root:Player 0 winner: 1\n",
      "INFO:root:Player 1 winner: 1\n",
      "INFO:cicada.communicator.nng:Comm 'world' player 0 communicator freed.\n",
      "INFO:cicada.communicator.nng:Comm 'world' player 1 communicator freed.\n",
      "INFO:cicada.communicator.nng:Player 0 returned: None\n",
      "INFO:cicada.communicator.nng:Player 1 returned: None\n"
     ]
    },
    {
     "data": {
      "text/plain": [
       "[None, None]"
      ]
     },
     "execution_count": 13,
     "metadata": {},
     "output_type": "execute_result"
    }
   ],
   "source": [
    "@cicada.communicator.NNGCommunicator.run(world_size=2)\n",
    "def main(communicator):\n",
    "    log = cicada.logging.Logger(logger=logging.getLogger(), communicator=communicator)\n",
    "    protocol = cicada.additive.AdditiveProtocol(communicator=communicator, seed=1234)\n",
    "    \n",
    "    if communicator.rank == 0:\n",
    "        fortune = numpy.array(10000000)\n",
    "    elif communicator.rank == 1:\n",
    "        fortune = numpy.array(12000000)\n",
    "    log.info(f\"Player {communicator.rank} fortune: {fortune}\")\n",
    " \n",
    "    fortune = protocol.encoder.encode(fortune)\n",
    "\n",
    "    share0 = protocol.share(src=0, secret=fortune, shape=())\n",
    "    share1 = protocol.share(src=1, secret=fortune, shape=())\n",
    "\n",
    "    winner = 0\n",
    "    winning_share = share0\n",
    "    \n",
    "    if not protocol.reveal(protocol.less(share1, winning_share)):\n",
    "        winner = 1\n",
    "        winning_share = share1\n",
    "    \n",
    "    log.info(f\"Player {communicator.rank} winner: {winner}\")\n",
    "    \n",
    "main()"
   ]
  },
  {
   "cell_type": "raw",
   "id": "12e0ca9e",
   "metadata": {
    "raw_mimetype": "text/restructuredtext"
   },
   "source": [
    "Note that both players provide a secret now, not just player 0, so that the `fortune` variable contains a different value for each process.  Also, the same `fortune` variable is passed as the secret value to :any:`AdditiveProtocol.share` twice, once for each player.  This works because the secret value is ignored by all players except the player specified in the `src` parameter. \n",
    "\n",
    "We use :any:`AdditiveProtocol.less_than` to compare the shares of two values, which returns a share of the result.  Looking at the results, we can verify that player 1 does have the largest fortune, so our millionaires finally have their answer!\n",
    "\n",
    "Although this program works fine, it *is* hardcoded in such a way that it will *only* work with two players.  As we mentioned above, it's usually a good idea to write MPC programs to work with any number of players - in addition to being more flexible, this approach can often make the code more compact. Let's rewrite our example to be agnostic about the number of players, and while we're at it, let's have every player get their input from a file, so the secrets are truly *secret*:"
   ]
  },
  {
   "cell_type": "code",
   "execution_count": 14,
   "id": "759764d6",
   "metadata": {},
   "outputs": [
    {
     "name": "stderr",
     "output_type": "stream",
     "text": [
      "INFO:cicada.communicator.nng:Player 0 rendezvous with tcp://127.0.0.1:57362 from tcp://127.0.0.1:57362.\n",
      "INFO:cicada.communicator.nng:Player 1 rendezvous with tcp://127.0.0.1:57362 from tcp://127.0.0.1:57363.\n",
      "INFO:cicada.communicator.nng:Player 2 rendezvous with tcp://127.0.0.1:57362 from tcp://127.0.0.1:57364.\n",
      "INFO:cicada.communicator.nng:Player 3 rendezvous with tcp://127.0.0.1:57362 from tcp://127.0.0.1:57365.\n",
      "INFO:cicada.communicator.nng:Comm 'world' player 0 communicator ready.\n",
      "INFO:cicada.communicator.nng:Comm 'world' player 1 communicator ready.\n",
      "INFO:cicada.communicator.nng:Comm 'world' player 3 communicator ready.\n",
      "INFO:cicada.communicator.nng:Comm 'world' player 2 communicator ready.\n",
      "INFO:root:Player 0 winner: 2\n",
      "INFO:root:Player 1 winner: 2\n",
      "INFO:root:Player 2 winner: 2\n",
      "INFO:root:Player 3 winner: 2\n",
      "INFO:cicada.communicator.nng:Comm 'world' player 1 communicator freed.\n",
      "INFO:cicada.communicator.nng:Comm 'world' player 0 communicator freed.\n",
      "INFO:cicada.communicator.nng:Comm 'world' player 2 communicator freed.\n",
      "INFO:cicada.communicator.nng:Comm 'world' player 3 communicator freed.\n",
      "INFO:cicada.communicator.nng:Player 0 returned: None\n",
      "INFO:cicada.communicator.nng:Player 1 returned: None\n",
      "INFO:cicada.communicator.nng:Player 2 returned: None\n",
      "INFO:cicada.communicator.nng:Player 3 returned: None\n"
     ]
    },
    {
     "data": {
      "text/plain": [
       "[None, None, None, None]"
      ]
     },
     "execution_count": 14,
     "metadata": {},
     "output_type": "execute_result"
    }
   ],
   "source": [
    "@cicada.communicator.NNGCommunicator.run(world_size=4)\n",
    "def main(communicator):\n",
    "    log = cicada.logging.Logger(logger=logging.getLogger(), communicator=communicator)\n",
    "    protocol = cicada.additive.AdditiveProtocol(communicator=communicator, seed=1234)\n",
    "\n",
    "    fortune = numpy.loadtxt(f\"../examples/millionaire-{communicator.rank}.txt\")\n",
    "\n",
    "    winner = None\n",
    "    winning_share = protocol.share(src=0, secret=protocol.encoder.zeros(shape=()), shape=())\n",
    "    for rank in communicator.ranks:\n",
    "        fortune_share = protocol.share(src=rank, secret=protocol.encoder.encode(fortune), shape=())\n",
    "        less_share = protocol.less(fortune_share, winning_share)\n",
    "        less = protocol.reveal(less_share)\n",
    "        if not less:\n",
    "            winner = rank\n",
    "            winning_share = fortune_share\n",
    "\n",
    "    log.info(f\"Player {communicator.rank} winner: {winner}\")\n",
    "    \n",
    "main()"
   ]
  },
  {
   "cell_type": "markdown",
   "id": "d11a3f83",
   "metadata": {},
   "source": [
    "If we examine the contents of the individual players' files, we see that the choice of winner is correct:"
   ]
  },
  {
   "cell_type": "code",
   "execution_count": 15,
   "id": "b8d92357",
   "metadata": {},
   "outputs": [
    {
     "name": "stdout",
     "output_type": "stream",
     "text": [
      "Player 0 fortune: 10000000.0\n",
      "Player 1 fortune:  9000000.0\n",
      "Player 2 fortune: 11000000.0\n",
      "Player 3 fortune:  8500000.0\n"
     ]
    }
   ],
   "source": [
    "fortunes = []\n",
    "for rank in range(4):\n",
    "    fortunes.append(numpy.loadtxt(f\"../examples/millionaire-{rank}.txt\"))\n",
    "\n",
    "for rank, fortune in enumerate(fortunes):\n",
    "    print(f\"Player {rank} fortune: {fortune:>10}\")"
   ]
  },
  {
   "cell_type": "raw",
   "id": "76a3edf7",
   "metadata": {
    "raw_mimetype": "text/restructuredtext"
   },
   "source": [
    ".. note::\n",
    "\n",
    "   Once again, you may be questioning how \"secret\" these files are - couldn't any of the players read the other players' secrets from the files?  That's certainly true in this case, where all four players are running on the same machine.  Just keep in mind that to be truly secure, an MPC program needs to be run by  individual players on individual machines *that only those players control* - which is the only way to guarantee that those secrets remain truly private."
   ]
  },
  {
   "cell_type": "raw",
   "id": "6db7791d",
   "metadata": {
    "raw_mimetype": "text/restructuredtext"
   },
   "source": [
    "That's it for this tutorial!  Of course, real computation requires more than just comparisons - see the :ref:`user-guide` for individual articles with detailed topics on how to use Cicada for addition, multiplication, and more."
   ]
  }
 ],
 "metadata": {
  "celltoolbar": "Raw Cell Format",
  "kernelspec": {
   "display_name": "Python 3",
   "language": "python",
   "name": "python3"
  },
  "language_info": {
   "codemirror_mode": {
    "name": "ipython",
    "version": 3
   },
   "file_extension": ".py",
   "mimetype": "text/x-python",
   "name": "python",
   "nbconvert_exporter": "python",
   "pygments_lexer": "ipython3",
   "version": "3.8.10"
  }
 },
 "nbformat": 4,
 "nbformat_minor": 5
}
